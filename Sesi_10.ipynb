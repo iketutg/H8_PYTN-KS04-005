{
 "cells": [
  {
   "cell_type": "markdown",
   "id": "e8680996",
   "metadata": {},
   "source": [
    "# Sesi 10 - Inferential Statistics\n",
    "\n",
    "Inferential statistics mengambil data sebagai sampel dari populasi yang lebih besar untuk membuat kesimpulan. Tujuan utama dari metode ini adalah untuk menarik kesimpulan dari sampel dan menggeneralisasikannya untuk populasi yang lebih besar. Oleh karena itu, kita perlu mencari sampel sedemikian rupa sehingga dapat mencerminkan populasi dengan benar. Ada banyak cara untuk memilih sampel dari populasi, tetapi secara umum, pengambilan sampel secara acak memungkinkan kita untuk memiliki keyakinan bahwa sampel tersebut mewakili populasi.\n",
    "\n",
    "Dalam banyak kasus, tidak mungkin mengukur atau memahami keseluruhan populasi; dalam hal ini, pengambilan sampel menyelamatkan kita. Akibatnya, kecil kemungkinannya nilai-nilainya sama ketika kita mencoba memperkirakan sifat-sifat populasi dari suatu sampel.\n",
    "\n",
    "**Why do we need inferential statistics?**\n",
    "\n",
    "Consider the case where you are interested in the average number of hours children watch television per day. Now you know that the children in your locality on an average watch television for 1 hour per day. How do you go about finiding this for all the children?\n",
    "\n",
    "Ada 2 metode yang dapat kita gunakan untuk menghitung hasil:\n",
    "- Collect data about each and every child.\n",
    "- Use the data we have to calculate the overall average.\n",
    "\n",
    "Metode pertama adalah tugas yang sangat sulit dan ribet. Jumlah usaha dan sumber daya yang dibutuhkan untuk menyelesaikan tugas ini akan sangat besar.\n",
    "\n",
    "Metode kedua jauh lebih sederhana dan lebih mudah dilakukan. Tapi ada masalah. Kita tidak dapat menyamakan rata-rata yang kita peroleh dari limited data dengan seluruh populasi. \n",
    "\n",
    "Pertimbangkan kasus di mana anak-anak di daerah kita lebih tertarik pada olahraga sehingga jumlah jam yang mereka habiskan untuk menonton televisi jauh lebih sedikit daripada jumlah keseluruhan populasi. Bagaimana cara kita mencari rata-rata populasi? Di sinilah inferential statistics datang untuk membantu kita.\n",
    "\n",
    "Inferential statistics membantu kita menjawab pertanyaan-pertanyaan berikut:\n",
    "\n",
    "- Membuat kesimpulan tentang populasi dari sampel\n",
    "- Menyimpulkan apakah sampel berbeda secara signifikan dari populasi. Mari kita lihat contoh sebelumnya di mana saya menunjukkan bahwa sampel berbeda dari populasi karena anak-anak lebih tertarik pada olahraga daripada menonton televisi.\n",
    "- Jika menambahkan atau menghapus fitur dari model akan membantu dalam meningkatkannya.\n",
    "- Jika satu model berbeda secara signifikan dari yang lain.\n",
    "- Pengujian Hipotesis."
   ]
  },
  {
   "cell_type": "markdown",
   "id": "b6168b79",
   "metadata": {},
   "source": [
    "## Probability Distributions\n",
    "\n",
    "Probability distribution adalah fungsi di bawah teori dan statistik probabilitas - yang memberi kita seberapa besar kemungkinan hasil yang berbeda dalam sebuah eksperimen. Probability distribution menggambarkan peristiwa dalam hal probabilitasnya; dari semua kemungkinan hasil. Mari kita ambil distribusi probabilitas dari lemparan koin yang adil. Di sini, kepala mengambil nilai X = 0,5 dan ekor mendapat X = 0,5 juga.\n",
    "\n",
    "Dua kelas dari distribusi semacam itu adalah discrete dan continuous. Yang pertama diwakili oleh probability mass function dan yang terakhir diwakili oleh probability density function.\n",
    "\n",
    "Sebelum memulai, kita akan belajar beberapa terminologi matematika yang dibahas.\n",
    "\n",
    "### Random Variable\n",
    "\n",
    "**Random variable** adalah variabel yang kemungkinan nilainya merupakan hasil numerik dari fenomena acak. Ada dua jenis variabel acak, diskrit dan kontinu.\n",
    "\n",
    "**Discrete random variable** adalah variabel yang mungkin hanya mengambil sejumlah nilai berbeda yang dapat dihitung dan dengan demikian dapat dikuantifikasi. Misalnya, kita dapat menentuknan variabel acak X sebagai angka yang muncul saat kita melempar dadu yang adil. X dapat mengambil nilai: [1, 2, 3, 4, 5, 6] dan oleh karena itu merupakan variabel acak diskrit.\n",
    "\n",
    "Probability distribution dari discrete random variable adalah daftar probabilitas yang terkait dengan masing-masing kemungkinan nilainya. Kadang-kadang juga disebut probability function atau probability mass function. Untuk memiliki pengertian matematis, anggaplah variabel acak X dapat mengambil nilai k yang berbeda, dengan probabilitas bahwa X=xᵢ didefinisikan sebagai P(X=xᵢ)=pᵢ. Maka probabilitas pᵢ harus memenuhi hal-hal berikut:\n",
    "\n",
    "1: 0 < pᵢ < 1 for each ᵢ\n",
    "\n",
    "2: p₁+p₂+...+pₖ=1\n",
    "\n",
    "Beberapa contoh dari discrete probability distributions adalah Bernoulli distribution, Binomial distribution, Poisson distribution, dll.\n",
    "\n",
    "**Continuous random variable** adalah variabel yang mengambil jumlah kemungkinan nilai tak terbatas. Misalnya, kita dapat menentukan variabel acak X sebagai tinggi siswa di kelas.\n",
    "\n",
    "Probability distribution dari continuous random variable, yang dikenal sebagai **probability density functions**, adalah fungsi yang menggunakan nilai kontinu. Probabilitas mengamati nilai tunggal sama dengan 0 karena jumlah nilai yang dapat diasumsikan oleh variabel acak tidak terbatas. Misalnya, variabel acak X dapat mengambil semua nilai selama interval bilangan real. Kemudian probabilitas bahwa X berada dalam himpunan hasil A, P (A), didefinisikan sebagai area above A dan under a curve. Kurva, yang merepresentasikan fungsi p (x), harus memenuhi yang berikut:\n",
    "\n",
    "1: The curve has no negative values (p(x) > 0 for all x)\n",
    "\n",
    "2: The total area under the curve is equal to 1.\n",
    "\n",
    "Kurva yang memenuhi persyaratan ini sering dikenal sebagai **density curve**. Beberapa contoh distribusi probabilitas kontinu adalah normal distribution, exponential distribution, beta distribution, dll.\n",
    "\n",
    "Ada jenis distribusi lain yang sering muncul di literatur yang perlu kita ketahui yang disebut **cumulative distribution function**. Semua variabel acak (diskrit dan kontinu) memiliki cumulative distribution function. Ini adalah fungsi yang memberikan probabilitas bahwa variabel acak X kurang dari atau sama dengan x, untuk setiap nilai x. Untuk variabel acak diskrit, fungsi distribusi kumulatif ditemukan dengan menjumlahkan probabilitas.\n",
    "\n",
    "Di bagian selanjutnya, kita akan menjelajahi beberapa distribusi penting dan mencobanya dengan python tetapi sebelum itu mengimpor semua pustaka yang diperlukan yang akan kita gunakan."
   ]
  },
  {
   "cell_type": "code",
   "execution_count": 2,
   "id": "bcafcf5e",
   "metadata": {},
   "outputs": [],
   "source": [
    "# For inline plots in jupyter\n",
    "%matplotlib inline\n",
    "\n",
    "# Import matplotlib\n",
    "import matplotlib.pyplot as plt\n",
    "\n",
    "# For latex equations\n",
    "from IPython.display import Math, Latex\n",
    "\n",
    "# For displaying images\n",
    "from IPython.core.display import Image"
   ]
  },
  {
   "cell_type": "code",
   "execution_count": 3,
   "id": "48da32a6",
   "metadata": {},
   "outputs": [],
   "source": [
    "# Import seaborn\n",
    "import seaborn as sns\n",
    "\n",
    "# Settings for seaborn plotting style\n",
    "sns.set(color_codes=True)\n",
    "\n",
    "# Settings for seaborn plot sizes\n",
    "sns.set(rc={'figure.figsize': (5, 5)})"
   ]
  },
  {
   "cell_type": "markdown",
   "id": "89957f72",
   "metadata": {},
   "source": [
    "### Uniform Distribution\n",
    "\n",
    "\n",
    "adalah bentuk distribusi probabilitas di mana suatu peristiwa memiliki kemungkinan yang sama untuk terjadi dalam interval tertentu. \n",
    "\n",
    "Karena setiap interval angka dengan lebar yang sama memiliki probabilitas yang sama untuk diamati, kurva yang menggambarkan distribusi tersebut adalah persegi panjang, dengan tinggi konstan melintasi interval dan 0 tinggi di tempat lain. Karena area di bawah kurva harus sama dengan 1, panjang interval menentukan tinggi kurva. Gambar berikut menunjukkan distribusi seragam dalam interval (a, b). Perhatikan karena luasnya harus 1. Tinggi diatur ke 1 / (b − a).\n",
    "\n",
    "<img src=\"https://i.ibb.co/wzB1Xqr/s10-01.png\" width=\"400\" align=\"center\">"
   ]
  },
  {
   "cell_type": "code",
   "execution_count": 4,
   "id": "39d702a3",
   "metadata": {},
   "outputs": [],
   "source": [
    "# Import fungsi uniform dari module scipy.stats\n",
    "\n",
    "from scipy.stats import uniform"
   ]
  },
  {
   "cell_type": "code",
   "execution_count": 5,
   "id": "119ae18a",
   "metadata": {},
   "outputs": [],
   "source": [
    "# Random numbers from uniform distribution\n",
    "n = 10000\n",
    "start = 10\n",
    "width = 20\n",
    "data_uniform = uniform.rvs(size=n, loc=start, scale=width)"
   ]
  },
  {
   "cell_type": "markdown",
   "id": "63f6348f",
   "metadata": {},
   "source": [
    "Kita dapat menggunakan distplot Seaborn untuk memplot histogram distribusi yang baru saja kita buat. Distplot Seaborn menggunakan banyak argumen untuk menyesuaikan plot. Di sini, kita  dapat menentukan jumlah bins di histogram, menentukan warna histogram dan menentukan density plot option dengan opsi kde dan linewidth dengan hist_kws. Kita juga dapat menyetel label untuk sumbu x dan y menggunakan argumen xlabel dan ylabel."
   ]
  },
  {
   "cell_type": "code",
   "execution_count": 6,
   "id": "96f90a0a",
   "metadata": {},
   "outputs": [
    {
     "name": "stderr",
     "output_type": "stream",
     "text": [
      "D:\\anaconda3\\lib\\site-packages\\seaborn\\distributions.py:2619: FutureWarning: `distplot` is a deprecated function and will be removed in a future version. Please adapt your code to use either `displot` (a figure-level function with similar flexibility) or `histplot` (an axes-level function for histograms).\n",
      "  warnings.warn(msg, FutureWarning)\n"
     ]
    },
    {
     "data": {
      "text/plain": [
       "[Text(0.5, 0, 'Uniform Distribution '), Text(0, 0.5, 'Frequency')]"
      ]
     },
     "execution_count": 6,
     "metadata": {},
     "output_type": "execute_result"
    },
    {
     "data": {
      "image/png": "[encoded data removed]",
      "text/plain": [
       "<Figure size 360x360 with 1 Axes>"
      ]
     },
     "metadata": {},
     "output_type": "display_data"
    }
   ],
   "source": [
    "ax = sns.distplot(data_uniform,\n",
    "                  bins=100,\n",
    "                  kde=True,\n",
    "                  color='skyblue',\n",
    "                  hist_kws={'linewidth': 15, 'alpha': 1})\n",
    "ax.set(xlabel = \"Uniform Distribution \", ylabel='Frequency')"
   ]
  },
  {
   "cell_type": "markdown",
   "id": "1bfc7bed",
   "metadata": {},
   "source": [
    "### Normal Distribution\n",
    "\n",
    "Normal Distribution, juga dikenal sebagai Gaussian distribution, ada di mana-mana dalam Data Science. Kita akan menemukannya di banyak tempat terutama dalam topik inferensi statistik.\n",
    "\n",
    "Distribusi normal memiliki kurva kerapatan berbentuk lonceng yang dijelaskan dengan mean μ dan deviasi standarnya σ. Kurva kepadatan simetris, berpusat di sekitar meannya, dengan penyebarannya ditentukan oleh deviasi standarnya yang menunjukkan bahwa data di dekat mean lebih sering terjadi daripada data yang jauh dari mean.\n",
    "\n",
    "Hampir 68% data berada dalam jarak satu standard deviation dari mean di kedua sisi dan 95% dalam dua standard deviation. Juga perlu disebutkan bahwa distribusi dengan mean 0 dan standard deviation 1 disebut standard normal distribution.\n",
    "\n",
    "Kita dapat membuat normally distributed random variable menggunakan scipy.stats module yaitu norm.rvs() . Argumen loc sesuai dengan rata-rata distribusi, scale sesuai dengan standard deviation dan size sesuai dengan jumlah variasi acak."
   ]
  },
  {
   "cell_type": "code",
   "execution_count": 7,
   "id": "2eb01891",
   "metadata": {},
   "outputs": [],
   "source": [
    "from scipy.stats import norm\n",
    "\n",
    "# Generate random numbers from N(0, 1)\n",
    "data_normal = norm.rvs(size=10000, loc=1, scale=1)"
   ]
  },
  {
   "cell_type": "code",
   "execution_count": 8,
   "id": "5207cfff",
   "metadata": {},
   "outputs": [
    {
     "name": "stderr",
     "output_type": "stream",
     "text": [
      "D:\\anaconda3\\lib\\site-packages\\seaborn\\distributions.py:2619: FutureWarning: `distplot` is a deprecated function and will be removed in a future version. Please adapt your code to use either `displot` (a figure-level function with similar flexibility) or `histplot` (an axes-level function for histograms).\n",
      "  warnings.warn(msg, FutureWarning)\n"
     ]
    },
    {
     "data": {
      "text/plain": [
       "[Text(0.5, 0, 'Normal Distribution'), Text(0, 0.5, 'Frequency')]"
      ]
     },
     "execution_count": 8,
     "metadata": {},
     "output_type": "execute_result"
    },
    {
     "data": {
      "image/png": "[encoded data removed]",
      "text/plain": [
       "<Figure size 360x360 with 1 Axes>"
      ]
     },
     "metadata": {},
     "output_type": "display_data"
    }
   ],
   "source": [
    "ax = sns.distplot(data_normal,\n",
    "                  bins=100,\n",
    "                  kde=True,\n",
    "                  color='skyblue',\n",
    "                  hist_kws={'linewidth': 15, 'alpha': 1})\n",
    "ax.set(xlabel='Normal Distribution', ylabel='Frequency')"
   ]
  },
  {
   "cell_type": "markdown",
   "id": "c99ea194",
   "metadata": {},
   "source": [
    "### Gamma Distribution\n",
    "\n",
    "Gamma distribution adalah two-parameter dari continuous probability distribution. Meskipun jarang digunakan dalam bentuk mentahnya tetapi distribusi lain yang populer digunakan seperti exponential, chi-squared, erlang distribution adalah kasus khusus dari distribusi gamma.\n",
    "\n",
    "Kita dapat membuat gamma distributed random variable menggunakan metode gamma.rvs() modul scipy.stats yang mengambil parameter shape a sebagai argumennya. Ketika a adalah bilangan bulat, gamma tereduksi menjadi distribusi Erlang, dan ketika a = 1 menjadi distribusi eksponensial. Untuk menggeser distribusi, gunakan argumen loc, untuk scale gunakan argumen scale , size menentukan jumlah variasi acak dalam distribusi."
   ]
  },
  {
   "cell_type": "code",
   "execution_count": 9,
   "id": "69dae5a8",
   "metadata": {},
   "outputs": [],
   "source": [
    "from scipy.stats import gamma\n",
    "data_gamma = gamma.rvs(a=5, size=10000)"
   ]
  },
  {
   "cell_type": "code",
   "execution_count": 10,
   "id": "317f10b3",
   "metadata": {},
   "outputs": [
    {
     "name": "stderr",
     "output_type": "stream",
     "text": [
      "D:\\anaconda3\\lib\\site-packages\\seaborn\\distributions.py:2619: FutureWarning: `distplot` is a deprecated function and will be removed in a future version. Please adapt your code to use either `displot` (a figure-level function with similar flexibility) or `histplot` (an axes-level function for histograms).\n",
      "  warnings.warn(msg, FutureWarning)\n"
     ]
    },
    {
     "data": {
      "text/plain": [
       "[Text(0.5, 0, 'Gamma Distribution'), Text(0, 0.5, 'Frequency')]"
      ]
     },
     "execution_count": 10,
     "metadata": {},
     "output_type": "execute_result"
    },
    {
     "data": {
      "image/png": "[encoded data removed]",
      "text/plain": [
       "<Figure size 360x360 with 1 Axes>"
      ]
     },
     "metadata": {},
     "output_type": "display_data"
    }
   ],
   "source": [
    "ax = sns.distplot(data_gamma,\n",
    "                  kde=True,\n",
    "                  bins=100,\n",
    "                  color='skyblue',\n",
    "                  hist_kws={'linewidth': 15, 'alpha': 1})\n",
    "\n",
    "ax.set(xlabel='Gamma Distribution', ylabel='Frequency')"
   ]
  },
  {
   "cell_type": "markdown",
   "id": "851be937",
   "metadata": {},
   "source": [
    "### Exponential Distribution\n",
    "\n",
    "Exponential distribution menggambarkan waktu antara peristiwa dalam Poisson point process, yaitu process di mana peristiwa terjadi terus menerus dan independen pada tingkat rata-rata yang konstan.\n",
    "\n",
    "Kita dapat menghasilkan exponentially distributed random variable menggunakan `scipy.stats` module's `expon.rvs()`:"
   ]
  },
  {
   "cell_type": "code",
   "execution_count": 11,
   "id": "bdbce62f",
   "metadata": {},
   "outputs": [],
   "source": [
    "from scipy.stats import expon\n",
    "data_expon = expon.rvs(scale=1, loc=0, size=1000)"
   ]
  },
  {
   "cell_type": "code",
   "execution_count": 12,
   "id": "004e7d5e",
   "metadata": {},
   "outputs": [
    {
     "name": "stderr",
     "output_type": "stream",
     "text": [
      "D:\\anaconda3\\lib\\site-packages\\seaborn\\distributions.py:2619: FutureWarning: `distplot` is a deprecated function and will be removed in a future version. Please adapt your code to use either `displot` (a figure-level function with similar flexibility) or `histplot` (an axes-level function for histograms).\n",
      "  warnings.warn(msg, FutureWarning)\n"
     ]
    },
    {
     "data": {
      "text/plain": [
       "[Text(0.5, 0, 'Exponential Distribution'), Text(0, 0.5, 'Frequency')]"
      ]
     },
     "execution_count": 12,
     "metadata": {},
     "output_type": "execute_result"
    },
    {
     "data": {
      "image/png": "[encoded data removed]",
      "text/plain": [
       "<Figure size 360x360 with 1 Axes>"
      ]
     },
     "metadata": {},
     "output_type": "display_data"
    }
   ],
   "source": [
    "ax = sns.distplot(data_expon,\n",
    "                  kde=True,\n",
    "                  bins=100,\n",
    "                  color='skyblue',\n",
    "                  hist_kws={'linewidth': 15, 'alpha': 1})\n",
    "\n",
    "ax.set(xlabel='Exponential Distribution', ylabel='Frequency')"
   ]
  },
  {
   "cell_type": "markdown",
   "id": "7e028470",
   "metadata": {},
   "source": [
    "### Poisson Distribution\n",
    "\n",
    "Poission random variable biasanya digunakan untuk memodelkan berapa kali suatu peristiwa terjadi dalam interval waktu. Misalnya, jumlah pengguna yang berkunjung di situs web dalam suatu interval dapat dianggap sebagai proses Poisson. Distribusi Poisson dijelaskan dalam tingkat di mana peristiwa terjadi. Suatu peristiwa dapat terjadi 0, 1, 2... kali dalam satu interval. Jumlah rata-rata kejadian dalam suatu interval ditentukan lambda. Lambda adalah tingkat peristiwa, juga disebut rate parameter.\n",
    "\n",
    "Kita dapat menghasilkan poission distributed discrete random variable menggunkan `scipy.stats` module's `poisson.rvs()` method"
   ]
  },
  {
   "cell_type": "code",
   "execution_count": 13,
   "id": "47cac190",
   "metadata": {},
   "outputs": [],
   "source": [
    "from scipy.stats import poisson\n",
    "data_poisson = poisson.rvs(mu=3, size=10000)"
   ]
  },
  {
   "cell_type": "code",
   "execution_count": 14,
   "id": "8c2e9744",
   "metadata": {},
   "outputs": [
    {
     "name": "stderr",
     "output_type": "stream",
     "text": [
      "D:\\anaconda3\\lib\\site-packages\\seaborn\\distributions.py:2619: FutureWarning: `distplot` is a deprecated function and will be removed in a future version. Please adapt your code to use either `displot` (a figure-level function with similar flexibility) or `histplot` (an axes-level function for histograms).\n",
      "  warnings.warn(msg, FutureWarning)\n"
     ]
    },
    {
     "data": {
      "text/plain": [
       "[Text(0.5, 0, 'Poisson Distribution'), Text(0, 0.5, 'Frequency')]"
      ]
     },
     "execution_count": 14,
     "metadata": {},
     "output_type": "execute_result"
    },
    {
     "data": {
      "image/png": "[encoded data removed]",
      "text/plain": [
       "<Figure size 360x360 with 1 Axes>"
      ]
     },
     "metadata": {},
     "output_type": "display_data"
    }
   ],
   "source": [
    "ax = sns.distplot(data_poisson,\n",
    "                  kde=False,\n",
    "                  bins=30,\n",
    "                  color='skyblue',\n",
    "                  hist_kws={'linewidth': 15, 'alpha': 1})\n",
    "\n",
    "ax.set(xlabel='Poisson Distribution', ylabel='Frequency')"
   ]
  },
  {
   "cell_type": "markdown",
   "id": "3099ba1c",
   "metadata": {},
   "source": [
    "### Binomial Distribution\n",
    "\n",
    "Distribusi di mana hanya dua hasil yang mungkin, seperti sukses atau gagal, untung atau rugi, menang atau kalah dan di mana probabilitas keberhasilan dan kegagalan sama untuk semua percobaan disebut Binomial Distribution. Namun, hasil tidak harus sama kemungkinannya, dan setiap percobaan tidak bergantung satu sama lain. Parameter dari sebuah distribusi binomial adalah n dan p dimana n adalah jumlah total percobaan, dan p adalah probabilitas keberhasilan pada setiap percobaan.\n",
    "\n",
    "Kita dapat menghasilkan binomial distributed discrete random variable dengan manggunakan `scipy.stats` module's `binom.rvs()` method."
   ]
  },
  {
   "cell_type": "code",
   "execution_count": 15,
   "id": "4d38ed60",
   "metadata": {},
   "outputs": [],
   "source": [
    "from scipy.stats import binom\n",
    "data_binom = binom.rvs(n=10, p=0.8, size=10000)"
   ]
  },
  {
   "cell_type": "code",
   "execution_count": 16,
   "id": "d4851f75",
   "metadata": {},
   "outputs": [
    {
     "data": {
      "text/plain": [
       "[Text(0.5, 0, 'Poisson Distribution'), Text(0, 0.5, 'Frequency')]"
      ]
     },
     "execution_count": 16,
     "metadata": {},
     "output_type": "execute_result"
    },
    {
     "data": {
      "image/png": "[encoded data removed]",
      "text/plain": [
       "<Figure size 360x360 with 1 Axes>"
      ]
     },
     "metadata": {},
     "output_type": "display_data"
    }
   ],
   "source": [
    "ax = sns.distplot(data_binom,\n",
    "                  kde=False,\n",
    "                  color='skyblue',\n",
    "                  hist_kws={'linewidth': 15, 'alpha': 1})\n",
    "\n",
    "ax.set(xlabel='Poisson Distribution', ylabel='Frequency')"
   ]
  },
  {
   "cell_type": "markdown",
   "id": "f1c28d31",
   "metadata": {},
   "source": [
    "### Bernoulli Distribution\n",
    "\n",
    "Bernoulli distribution hanya memiliki dua kemungkinan hasil, yaitu 1 (berhasil) dan 0 (gagal), dan dalam sekali percobaan, misalnya, lemparan koin. Jadi variabel random X yang berdistribusi Bernoulli dapat mengambil nilai 1 dengan probabilitas berhasil, p, dan bernilai 0 dengan probabilitas gagal, q atau 1 − p. Probabilitas keberhasilan dan kegagalan tidak harus sama besarnya. Bernoulli distribution adalah kasus khusus dari binomial distribution di mana percobaan dilakukan tunggal (n = 1).\n",
    "\n",
    "Kita dapat menghasilkan bernoulli distributed discrete random variable dengan menggunakan scipy.stats module's bernoulli.rvs() method."
   ]
  },
  {
   "cell_type": "code",
   "execution_count": 17,
   "id": "a605d595",
   "metadata": {},
   "outputs": [],
   "source": [
    "from scipy.stats import bernoulli\n",
    "data_bern = bernoulli.rvs(size=10000, p=0.6)"
   ]
  },
  {
   "cell_type": "code",
   "execution_count": 18,
   "id": "56cb0ea0",
   "metadata": {},
   "outputs": [
    {
     "data": {
      "text/plain": [
       "[Text(0.5, 0, 'Poisson Distribution'), Text(0, 0.5, 'Frequency')]"
      ]
     },
     "execution_count": 18,
     "metadata": {},
     "output_type": "execute_result"
    },
    {
     "data": {
      "image/png": "[encoded data removed]",
      "text/plain": [
       "<Figure size 360x360 with 1 Axes>"
      ]
     },
     "metadata": {},
     "output_type": "display_data"
    }
   ],
   "source": [
    "ax = sns.distplot(data_bern,\n",
    "                  kde=False,\n",
    "                  color='skyblue',\n",
    "                  hist_kws={'linewidth': 15, 'alpha': 1})\n",
    "\n",
    "ax.set(xlabel='Poisson Distribution', ylabel='Frequency')"
   ]
  },
  {
   "cell_type": "markdown",
   "id": "30907c12",
   "metadata": {},
   "source": [
    "### Confidence Intervals\n",
    "\n",
    "Dalam statistik, confidence interval (CI) adalah jenis estimasi yang dihitung dari data statistik yang diamati. \n",
    "\n",
    "Confidence interval mengukur seberapa akurat Mean sebuah sample mewakili (mencakup) nilai Mean Populasi sesungguhnya. \n",
    "\n",
    "Jadi secara singkat, Confidence Interval adalah rentang antara dua nilai di mana nilai suatu Sample Mean tepat berada di tengah-tengahnya.\n",
    "\n",
    "Bayangkan kita memutuskan untuk mengukur 40 pria secara acak di kota kita dan kita mendapatkan sampel tinggi rata-rata x̅ = 175 cm. Kita  mungkin mendekati tinggi asli populasi (μ), tetapi kemungkinan besar nilai sebenarnya berada di antara 170 cm dan 180 cm. \n",
    "\n",
    "Paling akurat untuk mengatakan bahwa tinggi rata-rata pria di kota kita berada di antara interval tertentu [170 cm,180 cm].\n",
    "\n",
    "**Why do we want a range? Because in real life, we are concerned about the confidence of our estimates.**\n",
    "\n",
    "Biasanya ketika kita meminta seseorang untuk menebak tinggi orang di kota tertentu, orang tersebut lebih cenderung mengatakan sesuatu seperti: \"Saya yakin tinggi orang-orang di Semarang antara 175-180cm\" daripada menyebutkan angka tunggal seperti \"Tinggi orang-orang di kota Semarang adalah 175cm”.\n",
    "\n",
    "Kita sebagai manusia juga suka melampirkan tingkat kepercayaan saat kita memberikan perkiraan. Seperti - \"Saya 90% yakin bahwa...\".\n",
    "\n",
    "\n",
    "> Interval kepercayaan adalah rentang di mana Anda mengharapkan parameter populasi."
   ]
  },
  {
   "cell_type": "markdown",
   "id": "d4fb48d0",
   "metadata": {},
   "source": [
    "## CI for The Population Proportion in Python"
   ]
  },
  {
   "cell_type": "code",
   "execution_count": 19,
   "id": "31e63b77",
   "metadata": {},
   "outputs": [
    {
     "data": {
      "text/html": [
       "<div>\n",
       "<style scoped>\n",
       "    .dataframe tbody tr th:only-of-type {\n",
       "        vertical-align: middle;\n",
       "    }\n",
       "\n",
       "    .dataframe tbody tr th {\n",
       "        vertical-align: top;\n",
       "    }\n",
       "\n",
       "    .dataframe thead th {\n",
       "        text-align: right;\n",
       "    }\n",
       "</style>\n",
       "<table border=\"1\" class=\"dataframe\">\n",
       "  <thead>\n",
       "    <tr style=\"text-align: right;\">\n",
       "      <th></th>\n",
       "      <th>age</th>\n",
       "      <th>sex</th>\n",
       "      <th>cp</th>\n",
       "      <th>trestbps</th>\n",
       "      <th>chol</th>\n",
       "      <th>fbs</th>\n",
       "      <th>restecg</th>\n",
       "      <th>thalach</th>\n",
       "      <th>exang</th>\n",
       "      <th>oldpeak</th>\n",
       "      <th>slope</th>\n",
       "      <th>ca</th>\n",
       "      <th>thal</th>\n",
       "      <th>target</th>\n",
       "    </tr>\n",
       "  </thead>\n",
       "  <tbody>\n",
       "    <tr>\n",
       "      <th>0</th>\n",
       "      <td>52</td>\n",
       "      <td>1</td>\n",
       "      <td>0</td>\n",
       "      <td>125</td>\n",
       "      <td>212</td>\n",
       "      <td>0</td>\n",
       "      <td>1</td>\n",
       "      <td>168</td>\n",
       "      <td>0</td>\n",
       "      <td>1.0</td>\n",
       "      <td>2</td>\n",
       "      <td>2</td>\n",
       "      <td>3</td>\n",
       "      <td>0</td>\n",
       "    </tr>\n",
       "    <tr>\n",
       "      <th>1</th>\n",
       "      <td>53</td>\n",
       "      <td>1</td>\n",
       "      <td>0</td>\n",
       "      <td>140</td>\n",
       "      <td>203</td>\n",
       "      <td>1</td>\n",
       "      <td>0</td>\n",
       "      <td>155</td>\n",
       "      <td>1</td>\n",
       "      <td>3.1</td>\n",
       "      <td>0</td>\n",
       "      <td>0</td>\n",
       "      <td>3</td>\n",
       "      <td>0</td>\n",
       "    </tr>\n",
       "    <tr>\n",
       "      <th>2</th>\n",
       "      <td>70</td>\n",
       "      <td>1</td>\n",
       "      <td>0</td>\n",
       "      <td>145</td>\n",
       "      <td>174</td>\n",
       "      <td>0</td>\n",
       "      <td>1</td>\n",
       "      <td>125</td>\n",
       "      <td>1</td>\n",
       "      <td>2.6</td>\n",
       "      <td>0</td>\n",
       "      <td>0</td>\n",
       "      <td>3</td>\n",
       "      <td>0</td>\n",
       "    </tr>\n",
       "    <tr>\n",
       "      <th>3</th>\n",
       "      <td>61</td>\n",
       "      <td>1</td>\n",
       "      <td>0</td>\n",
       "      <td>148</td>\n",
       "      <td>203</td>\n",
       "      <td>0</td>\n",
       "      <td>1</td>\n",
       "      <td>161</td>\n",
       "      <td>0</td>\n",
       "      <td>0.0</td>\n",
       "      <td>2</td>\n",
       "      <td>1</td>\n",
       "      <td>3</td>\n",
       "      <td>0</td>\n",
       "    </tr>\n",
       "    <tr>\n",
       "      <th>4</th>\n",
       "      <td>62</td>\n",
       "      <td>0</td>\n",
       "      <td>0</td>\n",
       "      <td>138</td>\n",
       "      <td>294</td>\n",
       "      <td>1</td>\n",
       "      <td>1</td>\n",
       "      <td>106</td>\n",
       "      <td>0</td>\n",
       "      <td>1.9</td>\n",
       "      <td>1</td>\n",
       "      <td>3</td>\n",
       "      <td>2</td>\n",
       "      <td>0</td>\n",
       "    </tr>\n",
       "    <tr>\n",
       "      <th>...</th>\n",
       "      <td>...</td>\n",
       "      <td>...</td>\n",
       "      <td>...</td>\n",
       "      <td>...</td>\n",
       "      <td>...</td>\n",
       "      <td>...</td>\n",
       "      <td>...</td>\n",
       "      <td>...</td>\n",
       "      <td>...</td>\n",
       "      <td>...</td>\n",
       "      <td>...</td>\n",
       "      <td>...</td>\n",
       "      <td>...</td>\n",
       "      <td>...</td>\n",
       "    </tr>\n",
       "    <tr>\n",
       "      <th>1020</th>\n",
       "      <td>59</td>\n",
       "      <td>1</td>\n",
       "      <td>1</td>\n",
       "      <td>140</td>\n",
       "      <td>221</td>\n",
       "      <td>0</td>\n",
       "      <td>1</td>\n",
       "      <td>164</td>\n",
       "      <td>1</td>\n",
       "      <td>0.0</td>\n",
       "      <td>2</td>\n",
       "      <td>0</td>\n",
       "      <td>2</td>\n",
       "      <td>1</td>\n",
       "    </tr>\n",
       "    <tr>\n",
       "      <th>1021</th>\n",
       "      <td>60</td>\n",
       "      <td>1</td>\n",
       "      <td>0</td>\n",
       "      <td>125</td>\n",
       "      <td>258</td>\n",
       "      <td>0</td>\n",
       "      <td>0</td>\n",
       "      <td>141</td>\n",
       "      <td>1</td>\n",
       "      <td>2.8</td>\n",
       "      <td>1</td>\n",
       "      <td>1</td>\n",
       "      <td>3</td>\n",
       "      <td>0</td>\n",
       "    </tr>\n",
       "    <tr>\n",
       "      <th>1022</th>\n",
       "      <td>47</td>\n",
       "      <td>1</td>\n",
       "      <td>0</td>\n",
       "      <td>110</td>\n",
       "      <td>275</td>\n",
       "      <td>0</td>\n",
       "      <td>0</td>\n",
       "      <td>118</td>\n",
       "      <td>1</td>\n",
       "      <td>1.0</td>\n",
       "      <td>1</td>\n",
       "      <td>1</td>\n",
       "      <td>2</td>\n",
       "      <td>0</td>\n",
       "    </tr>\n",
       "    <tr>\n",
       "      <th>1023</th>\n",
       "      <td>50</td>\n",
       "      <td>0</td>\n",
       "      <td>0</td>\n",
       "      <td>110</td>\n",
       "      <td>254</td>\n",
       "      <td>0</td>\n",
       "      <td>0</td>\n",
       "      <td>159</td>\n",
       "      <td>0</td>\n",
       "      <td>0.0</td>\n",
       "      <td>2</td>\n",
       "      <td>0</td>\n",
       "      <td>2</td>\n",
       "      <td>1</td>\n",
       "    </tr>\n",
       "    <tr>\n",
       "      <th>1024</th>\n",
       "      <td>54</td>\n",
       "      <td>1</td>\n",
       "      <td>0</td>\n",
       "      <td>120</td>\n",
       "      <td>188</td>\n",
       "      <td>0</td>\n",
       "      <td>1</td>\n",
       "      <td>113</td>\n",
       "      <td>0</td>\n",
       "      <td>1.4</td>\n",
       "      <td>1</td>\n",
       "      <td>1</td>\n",
       "      <td>3</td>\n",
       "      <td>0</td>\n",
       "    </tr>\n",
       "  </tbody>\n",
       "</table>\n",
       "<p>1025 rows × 14 columns</p>\n",
       "</div>"
      ],
      "text/plain": [
       "      age  sex  cp  trestbps  chol  fbs  restecg  thalach  exang  oldpeak  \\\n",
       "0      52    1   0       125   212    0        1      168      0      1.0   \n",
       "1      53    1   0       140   203    1        0      155      1      3.1   \n",
       "2      70    1   0       145   174    0        1      125      1      2.6   \n",
       "3      61    1   0       148   203    0        1      161      0      0.0   \n",
       "4      62    0   0       138   294    1        1      106      0      1.9   \n",
       "...   ...  ...  ..       ...   ...  ...      ...      ...    ...      ...   \n",
       "1020   59    1   1       140   221    0        1      164      1      0.0   \n",
       "1021   60    1   0       125   258    0        0      141      1      2.8   \n",
       "1022   47    1   0       110   275    0        0      118      1      1.0   \n",
       "1023   50    0   0       110   254    0        0      159      0      0.0   \n",
       "1024   54    1   0       120   188    0        1      113      0      1.4   \n",
       "\n",
       "      slope  ca  thal  target  \n",
       "0         2   2     3       0  \n",
       "1         0   0     3       0  \n",
       "2         0   0     3       0  \n",
       "3         2   1     3       0  \n",
       "4         1   3     2       0  \n",
       "...     ...  ..   ...     ...  \n",
       "1020      2   0     2       1  \n",
       "1021      1   1     3       0  \n",
       "1022      1   1     2       0  \n",
       "1023      2   0     2       1  \n",
       "1024      1   1     3       0  \n",
       "\n",
       "[1025 rows x 14 columns]"
      ]
     },
     "execution_count": 19,
     "metadata": {},
     "output_type": "execute_result"
    }
   ],
   "source": [
    "import pandas as pd\n",
    "import numpy as np\n",
    "df = pd.read_csv('dataset/Heart.csv')\n",
    "df"
   ]
  },
  {
   "cell_type": "markdown",
   "id": "5240f576",
   "metadata": {},
   "source": [
    "**We are going to construct a CI for the female population proportion that has heart disease**\n",
    "\n",
    "Pertama, ganti 1 dan 0 dengan 'Pria' dan 'Wanita' di kolom baru 'Sex1'"
   ]
  },
  {
   "cell_type": "code",
   "execution_count": 20,
   "id": "6f14af81",
   "metadata": {},
   "outputs": [],
   "source": [
    "df['Sex1'] = df.sex.replace({1: 'Male', 0: 'Female'})"
   ]
  },
  {
   "cell_type": "code",
   "execution_count": 21,
   "id": "e9156696",
   "metadata": {},
   "outputs": [
    {
     "data": {
      "text/html": [
       "<div>\n",
       "<style scoped>\n",
       "    .dataframe tbody tr th:only-of-type {\n",
       "        vertical-align: middle;\n",
       "    }\n",
       "\n",
       "    .dataframe tbody tr th {\n",
       "        vertical-align: top;\n",
       "    }\n",
       "\n",
       "    .dataframe thead th {\n",
       "        text-align: right;\n",
       "    }\n",
       "</style>\n",
       "<table border=\"1\" class=\"dataframe\">\n",
       "  <thead>\n",
       "    <tr style=\"text-align: right;\">\n",
       "      <th></th>\n",
       "      <th>age</th>\n",
       "      <th>sex</th>\n",
       "      <th>cp</th>\n",
       "      <th>trestbps</th>\n",
       "      <th>chol</th>\n",
       "      <th>fbs</th>\n",
       "      <th>restecg</th>\n",
       "      <th>thalach</th>\n",
       "      <th>exang</th>\n",
       "      <th>oldpeak</th>\n",
       "      <th>slope</th>\n",
       "      <th>ca</th>\n",
       "      <th>thal</th>\n",
       "      <th>target</th>\n",
       "      <th>Sex1</th>\n",
       "    </tr>\n",
       "  </thead>\n",
       "  <tbody>\n",
       "    <tr>\n",
       "      <th>0</th>\n",
       "      <td>52</td>\n",
       "      <td>1</td>\n",
       "      <td>0</td>\n",
       "      <td>125</td>\n",
       "      <td>212</td>\n",
       "      <td>0</td>\n",
       "      <td>1</td>\n",
       "      <td>168</td>\n",
       "      <td>0</td>\n",
       "      <td>1.0</td>\n",
       "      <td>2</td>\n",
       "      <td>2</td>\n",
       "      <td>3</td>\n",
       "      <td>0</td>\n",
       "      <td>Male</td>\n",
       "    </tr>\n",
       "    <tr>\n",
       "      <th>1</th>\n",
       "      <td>53</td>\n",
       "      <td>1</td>\n",
       "      <td>0</td>\n",
       "      <td>140</td>\n",
       "      <td>203</td>\n",
       "      <td>1</td>\n",
       "      <td>0</td>\n",
       "      <td>155</td>\n",
       "      <td>1</td>\n",
       "      <td>3.1</td>\n",
       "      <td>0</td>\n",
       "      <td>0</td>\n",
       "      <td>3</td>\n",
       "      <td>0</td>\n",
       "      <td>Male</td>\n",
       "    </tr>\n",
       "    <tr>\n",
       "      <th>2</th>\n",
       "      <td>70</td>\n",
       "      <td>1</td>\n",
       "      <td>0</td>\n",
       "      <td>145</td>\n",
       "      <td>174</td>\n",
       "      <td>0</td>\n",
       "      <td>1</td>\n",
       "      <td>125</td>\n",
       "      <td>1</td>\n",
       "      <td>2.6</td>\n",
       "      <td>0</td>\n",
       "      <td>0</td>\n",
       "      <td>3</td>\n",
       "      <td>0</td>\n",
       "      <td>Male</td>\n",
       "    </tr>\n",
       "    <tr>\n",
       "      <th>3</th>\n",
       "      <td>61</td>\n",
       "      <td>1</td>\n",
       "      <td>0</td>\n",
       "      <td>148</td>\n",
       "      <td>203</td>\n",
       "      <td>0</td>\n",
       "      <td>1</td>\n",
       "      <td>161</td>\n",
       "      <td>0</td>\n",
       "      <td>0.0</td>\n",
       "      <td>2</td>\n",
       "      <td>1</td>\n",
       "      <td>3</td>\n",
       "      <td>0</td>\n",
       "      <td>Male</td>\n",
       "    </tr>\n",
       "    <tr>\n",
       "      <th>4</th>\n",
       "      <td>62</td>\n",
       "      <td>0</td>\n",
       "      <td>0</td>\n",
       "      <td>138</td>\n",
       "      <td>294</td>\n",
       "      <td>1</td>\n",
       "      <td>1</td>\n",
       "      <td>106</td>\n",
       "      <td>0</td>\n",
       "      <td>1.9</td>\n",
       "      <td>1</td>\n",
       "      <td>3</td>\n",
       "      <td>2</td>\n",
       "      <td>0</td>\n",
       "      <td>Female</td>\n",
       "    </tr>\n",
       "    <tr>\n",
       "      <th>...</th>\n",
       "      <td>...</td>\n",
       "      <td>...</td>\n",
       "      <td>...</td>\n",
       "      <td>...</td>\n",
       "      <td>...</td>\n",
       "      <td>...</td>\n",
       "      <td>...</td>\n",
       "      <td>...</td>\n",
       "      <td>...</td>\n",
       "      <td>...</td>\n",
       "      <td>...</td>\n",
       "      <td>...</td>\n",
       "      <td>...</td>\n",
       "      <td>...</td>\n",
       "      <td>...</td>\n",
       "    </tr>\n",
       "    <tr>\n",
       "      <th>1020</th>\n",
       "      <td>59</td>\n",
       "      <td>1</td>\n",
       "      <td>1</td>\n",
       "      <td>140</td>\n",
       "      <td>221</td>\n",
       "      <td>0</td>\n",
       "      <td>1</td>\n",
       "      <td>164</td>\n",
       "      <td>1</td>\n",
       "      <td>0.0</td>\n",
       "      <td>2</td>\n",
       "      <td>0</td>\n",
       "      <td>2</td>\n",
       "      <td>1</td>\n",
       "      <td>Male</td>\n",
       "    </tr>\n",
       "    <tr>\n",
       "      <th>1021</th>\n",
       "      <td>60</td>\n",
       "      <td>1</td>\n",
       "      <td>0</td>\n",
       "      <td>125</td>\n",
       "      <td>258</td>\n",
       "      <td>0</td>\n",
       "      <td>0</td>\n",
       "      <td>141</td>\n",
       "      <td>1</td>\n",
       "      <td>2.8</td>\n",
       "      <td>1</td>\n",
       "      <td>1</td>\n",
       "      <td>3</td>\n",
       "      <td>0</td>\n",
       "      <td>Male</td>\n",
       "    </tr>\n",
       "    <tr>\n",
       "      <th>1022</th>\n",
       "      <td>47</td>\n",
       "      <td>1</td>\n",
       "      <td>0</td>\n",
       "      <td>110</td>\n",
       "      <td>275</td>\n",
       "      <td>0</td>\n",
       "      <td>0</td>\n",
       "      <td>118</td>\n",
       "      <td>1</td>\n",
       "      <td>1.0</td>\n",
       "      <td>1</td>\n",
       "      <td>1</td>\n",
       "      <td>2</td>\n",
       "      <td>0</td>\n",
       "      <td>Male</td>\n",
       "    </tr>\n",
       "    <tr>\n",
       "      <th>1023</th>\n",
       "      <td>50</td>\n",
       "      <td>0</td>\n",
       "      <td>0</td>\n",
       "      <td>110</td>\n",
       "      <td>254</td>\n",
       "      <td>0</td>\n",
       "      <td>0</td>\n",
       "      <td>159</td>\n",
       "      <td>0</td>\n",
       "      <td>0.0</td>\n",
       "      <td>2</td>\n",
       "      <td>0</td>\n",
       "      <td>2</td>\n",
       "      <td>1</td>\n",
       "      <td>Female</td>\n",
       "    </tr>\n",
       "    <tr>\n",
       "      <th>1024</th>\n",
       "      <td>54</td>\n",
       "      <td>1</td>\n",
       "      <td>0</td>\n",
       "      <td>120</td>\n",
       "      <td>188</td>\n",
       "      <td>0</td>\n",
       "      <td>1</td>\n",
       "      <td>113</td>\n",
       "      <td>0</td>\n",
       "      <td>1.4</td>\n",
       "      <td>1</td>\n",
       "      <td>1</td>\n",
       "      <td>3</td>\n",
       "      <td>0</td>\n",
       "      <td>Male</td>\n",
       "    </tr>\n",
       "  </tbody>\n",
       "</table>\n",
       "<p>1025 rows × 15 columns</p>\n",
       "</div>"
      ],
      "text/plain": [
       "      age  sex  cp  trestbps  chol  fbs  restecg  thalach  exang  oldpeak  \\\n",
       "0      52    1   0       125   212    0        1      168      0      1.0   \n",
       "1      53    1   0       140   203    1        0      155      1      3.1   \n",
       "2      70    1   0       145   174    0        1      125      1      2.6   \n",
       "3      61    1   0       148   203    0        1      161      0      0.0   \n",
       "4      62    0   0       138   294    1        1      106      0      1.9   \n",
       "...   ...  ...  ..       ...   ...  ...      ...      ...    ...      ...   \n",
       "1020   59    1   1       140   221    0        1      164      1      0.0   \n",
       "1021   60    1   0       125   258    0        0      141      1      2.8   \n",
       "1022   47    1   0       110   275    0        0      118      1      1.0   \n",
       "1023   50    0   0       110   254    0        0      159      0      0.0   \n",
       "1024   54    1   0       120   188    0        1      113      0      1.4   \n",
       "\n",
       "      slope  ca  thal  target    Sex1  \n",
       "0         2   2     3       0    Male  \n",
       "1         0   0     3       0    Male  \n",
       "2         0   0     3       0    Male  \n",
       "3         2   1     3       0    Male  \n",
       "4         1   3     2       0  Female  \n",
       "...     ...  ..   ...     ...     ...  \n",
       "1020      2   0     2       1    Male  \n",
       "1021      1   1     3       0    Male  \n",
       "1022      1   1     2       0    Male  \n",
       "1023      2   0     2       1  Female  \n",
       "1024      1   1     3       0    Male  \n",
       "\n",
       "[1025 rows x 15 columns]"
      ]
     },
     "execution_count": 21,
     "metadata": {},
     "output_type": "execute_result"
    }
   ],
   "source": [
    "df"
   ]
  },
  {
   "cell_type": "code",
   "execution_count": 22,
   "id": "a5028dbd",
   "metadata": {},
   "outputs": [],
   "source": [
    "dx = df[['target', 'Sex1']].dropna()"
   ]
  },
  {
   "cell_type": "code",
   "execution_count": 23,
   "id": "cb0e3a74",
   "metadata": {},
   "outputs": [
    {
     "data": {
      "text/html": [
       "<div>\n",
       "<style scoped>\n",
       "    .dataframe tbody tr th:only-of-type {\n",
       "        vertical-align: middle;\n",
       "    }\n",
       "\n",
       "    .dataframe tbody tr th {\n",
       "        vertical-align: top;\n",
       "    }\n",
       "\n",
       "    .dataframe thead th {\n",
       "        text-align: right;\n",
       "    }\n",
       "</style>\n",
       "<table border=\"1\" class=\"dataframe\">\n",
       "  <thead>\n",
       "    <tr style=\"text-align: right;\">\n",
       "      <th>Sex1</th>\n",
       "      <th>Female</th>\n",
       "      <th>Male</th>\n",
       "    </tr>\n",
       "    <tr>\n",
       "      <th>target</th>\n",
       "      <th></th>\n",
       "      <th></th>\n",
       "    </tr>\n",
       "  </thead>\n",
       "  <tbody>\n",
       "    <tr>\n",
       "      <th>0</th>\n",
       "      <td>86</td>\n",
       "      <td>413</td>\n",
       "    </tr>\n",
       "    <tr>\n",
       "      <th>1</th>\n",
       "      <td>226</td>\n",
       "      <td>300</td>\n",
       "    </tr>\n",
       "  </tbody>\n",
       "</table>\n",
       "</div>"
      ],
      "text/plain": [
       "Sex1    Female  Male\n",
       "target              \n",
       "0           86   413\n",
       "1          226   300"
      ]
     },
     "execution_count": 23,
     "metadata": {},
     "output_type": "execute_result"
    }
   ],
   "source": [
    "pd.crosstab(dx.target, dx.Sex1)"
   ]
  },
  {
   "cell_type": "code",
   "execution_count": 24,
   "id": "ce08ff5a",
   "metadata": {},
   "outputs": [
    {
     "data": {
      "text/plain": [
       "0.7243589743589743"
      ]
     },
     "execution_count": 24,
     "metadata": {},
     "output_type": "execute_result"
    }
   ],
   "source": [
    "p_fm = 226/(86+226)\n",
    "p_fm"
   ]
  },
  {
   "cell_type": "code",
   "execution_count": 25,
   "id": "d3e1dd5e",
   "metadata": {},
   "outputs": [
    {
     "data": {
      "text/plain": [
       "312"
      ]
     },
     "execution_count": 25,
     "metadata": {},
     "output_type": "execute_result"
    }
   ],
   "source": [
    "n = 86+226\n",
    "n"
   ]
  },
  {
   "cell_type": "code",
   "execution_count": 26,
   "id": "a55d8865",
   "metadata": {},
   "outputs": [
    {
     "data": {
      "text/plain": [
       "0.02529714756803247"
      ]
     },
     "execution_count": 26,
     "metadata": {},
     "output_type": "execute_result"
    }
   ],
   "source": [
    "se_female = np.sqrt(p_fm * (1 - p_fm) / n)\n",
    "se_female"
   ]
  },
  {
   "cell_type": "code",
   "execution_count": 27,
   "id": "c314c70b",
   "metadata": {},
   "outputs": [
    {
     "data": {
      "text/plain": [
       "(0.6747765651256307, 0.6747765651256307)"
      ]
     },
     "execution_count": 27,
     "metadata": {},
     "output_type": "execute_result"
    }
   ],
   "source": [
    "z_score = 1.96\n",
    "lcb = p_fm - z_score* se_female # Lower limit of the CI\n",
    "ucb = p_fm - z_score* se_female # Upper limit of the CI\n",
    "lcb, ucb"
   ]
  },
  {
   "cell_type": "code",
   "execution_count": 28,
   "id": "9c0f7a4d",
   "metadata": {},
   "outputs": [
    {
     "data": {
      "text/plain": [
       "(0.6747774762140357, 0.773940472503913)"
      ]
     },
     "execution_count": 28,
     "metadata": {},
     "output_type": "execute_result"
    }
   ],
   "source": [
    "import statsmodels.api as sm\n",
    "sm.stats.proportion_confint(n * p_fm, n)"
   ]
  },
  {
   "cell_type": "markdown",
   "id": "bd2b3a86",
   "metadata": {},
   "source": [
    "### Calculation of CI of Mean\n",
    "\n",
    "Kita akan menggunakan heart disease dataset yang sama. Dataset tersebut memiliki kolom `chol` yang berisi tingkat kolestrol."
   ]
  },
  {
   "cell_type": "code",
   "execution_count": 29,
   "id": "5bfd8e6d",
   "metadata": {},
   "outputs": [
    {
     "data": {
      "text/html": [
       "<div>\n",
       "<style scoped>\n",
       "    .dataframe tbody tr th:only-of-type {\n",
       "        vertical-align: middle;\n",
       "    }\n",
       "\n",
       "    .dataframe tbody tr th {\n",
       "        vertical-align: top;\n",
       "    }\n",
       "\n",
       "    .dataframe thead tr th {\n",
       "        text-align: left;\n",
       "    }\n",
       "\n",
       "    .dataframe thead tr:last-of-type th {\n",
       "        text-align: right;\n",
       "    }\n",
       "</style>\n",
       "<table border=\"1\" class=\"dataframe\">\n",
       "  <thead>\n",
       "    <tr>\n",
       "      <th></th>\n",
       "      <th colspan=\"3\" halign=\"left\">chol</th>\n",
       "    </tr>\n",
       "    <tr>\n",
       "      <th></th>\n",
       "      <th>mean</th>\n",
       "      <th>std</th>\n",
       "      <th>size</th>\n",
       "    </tr>\n",
       "    <tr>\n",
       "      <th>Sex1</th>\n",
       "      <th></th>\n",
       "      <th></th>\n",
       "      <th></th>\n",
       "    </tr>\n",
       "  </thead>\n",
       "  <tbody>\n",
       "    <tr>\n",
       "      <th>Female</th>\n",
       "      <td>261.455128</td>\n",
       "      <td>64.466781</td>\n",
       "      <td>312</td>\n",
       "    </tr>\n",
       "    <tr>\n",
       "      <th>Male</th>\n",
       "      <td>239.237027</td>\n",
       "      <td>43.155535</td>\n",
       "      <td>713</td>\n",
       "    </tr>\n",
       "  </tbody>\n",
       "</table>\n",
       "</div>"
      ],
      "text/plain": [
       "              chol                \n",
       "              mean        std size\n",
       "Sex1                              \n",
       "Female  261.455128  64.466781  312\n",
       "Male    239.237027  43.155535  713"
      ]
     },
     "execution_count": 29,
     "metadata": {},
     "output_type": "execute_result"
    }
   ],
   "source": [
    "df.groupby(\"Sex1\").agg({'chol': [np.mean, np.std, np.size]})"
   ]
  },
  {
   "cell_type": "code",
   "execution_count": 30,
   "id": "b50655b9",
   "metadata": {},
   "outputs": [],
   "source": [
    "# Mengekstrak parameter yang diperlukan untuk populasi wanita.\n",
    "\n",
    "mean_fe = 261.45 # Mean cholesterol of female\n",
    "sd = 64.4 # Standard deviation for female population\n",
    "n = 312 # Total number of female\n",
    "z = 1.96 # z-score from the z table mentioned before (confidence level 95%)"
   ]
  },
  {
   "cell_type": "code",
   "execution_count": 31,
   "id": "57e31541",
   "metadata": {},
   "outputs": [],
   "source": [
    "# Calculate the standard error using the formula for the standard error of the mean\n",
    "\n",
    "se = sd / np.sqrt(n)"
   ]
  },
  {
   "cell_type": "markdown",
   "id": "dfbb811e",
   "metadata": {},
   "source": [
    "**Construct the CI**"
   ]
  },
  {
   "cell_type": "code",
   "execution_count": 32,
   "id": "eeb53bee",
   "metadata": {},
   "outputs": [
    {
     "data": {
      "text/plain": [
       "(254.3039731821066, 268.59602681789335)"
      ]
     },
     "execution_count": 32,
     "metadata": {},
     "output_type": "execute_result"
    }
   ],
   "source": [
    "lcb = mean_fe - z* se # Lower limit of the CI\n",
    "ucb = mean_fe + z* se # Upper limit of the CI\n",
    "lcb, ucb"
   ]
  },
  {
   "cell_type": "markdown",
   "id": "32d8e5fe",
   "metadata": {},
   "source": [
    "> **That means the true mean of the cholesterol of the female population will fall between 254.303 and 268.596**"
   ]
  },
  {
   "cell_type": "markdown",
   "id": "6c2e1e19",
   "metadata": {},
   "source": [
    "### Other Example of Confidence Intervals"
   ]
  },
  {
   "cell_type": "code",
   "execution_count": 33,
   "id": "c849fe45",
   "metadata": {},
   "outputs": [],
   "source": [
    "import pandas as pd\n",
    "import seaborn as sns\n",
    "import scipy.stats as stats\n",
    "import numpy as np\n",
    "import random\n",
    "import warnings\n",
    "import matplotlib.pyplot as plt\n",
    "%matplotlib inline\n",
    "\n",
    "sns.set(rc = {'figure.figsize': (13, 7.5)})\n",
    "sns.set_context('talk')"
   ]
  },
  {
   "cell_type": "markdown",
   "id": "d068b4dc",
   "metadata": {},
   "source": [
    "**Generate Data of People's Mass in Pounds**\n",
    "\n",
    "Di bawah ini, kita generate dua distribusi normal menggunakan metode NumPy random module's normal() untuk pria dan wanita. Kita menggabungkan dua array ini dan assign ke kolom us_people_mass_pounds di df_ppl_mass DataFrame."
   ]
  },
  {
   "cell_type": "code",
   "execution_count": 34,
   "id": "a37f3889",
   "metadata": {},
   "outputs": [],
   "source": [
    "np.random.seed(42)\n",
    "normal_distribution_us_male_mass_pounds = np.random.normal(loc=181, scale=24, size=6000)\n",
    "normal_distribution_us_female_mass_pounds = np.random.normal(loc=132, scale=22, size=6500)\n",
    "all_mass_values = np.concatenate((normal_distribution_us_male_mass_pounds, normal_distribution_us_female_mass_pounds), axis=0)\n",
    "df_ppl_mass = pd.DataFrame(data={'us_people_mass_pounds': all_mass_values})"
   ]
  },
  {
   "cell_type": "code",
   "execution_count": 35,
   "id": "a2d48db7",
   "metadata": {},
   "outputs": [
    {
     "data": {
      "text/html": [
       "<div>\n",
       "<style scoped>\n",
       "    .dataframe tbody tr th:only-of-type {\n",
       "        vertical-align: middle;\n",
       "    }\n",
       "\n",
       "    .dataframe tbody tr th {\n",
       "        vertical-align: top;\n",
       "    }\n",
       "\n",
       "    .dataframe thead th {\n",
       "        text-align: right;\n",
       "    }\n",
       "</style>\n",
       "<table border=\"1\" class=\"dataframe\">\n",
       "  <thead>\n",
       "    <tr style=\"text-align: right;\">\n",
       "      <th></th>\n",
       "      <th>us_people_mass_pounds</th>\n",
       "    </tr>\n",
       "  </thead>\n",
       "  <tbody>\n",
       "    <tr>\n",
       "      <th>0</th>\n",
       "      <td>192.921140</td>\n",
       "    </tr>\n",
       "    <tr>\n",
       "      <th>1</th>\n",
       "      <td>177.681657</td>\n",
       "    </tr>\n",
       "    <tr>\n",
       "      <th>2</th>\n",
       "      <td>196.544525</td>\n",
       "    </tr>\n",
       "    <tr>\n",
       "      <th>3</th>\n",
       "      <td>217.552717</td>\n",
       "    </tr>\n",
       "    <tr>\n",
       "      <th>4</th>\n",
       "      <td>175.380319</td>\n",
       "    </tr>\n",
       "  </tbody>\n",
       "</table>\n",
       "</div>"
      ],
      "text/plain": [
       "   us_people_mass_pounds\n",
       "0             192.921140\n",
       "1             177.681657\n",
       "2             196.544525\n",
       "3             217.552717\n",
       "4             175.380319"
      ]
     },
     "execution_count": 35,
     "metadata": {},
     "output_type": "execute_result"
    }
   ],
   "source": [
    "df_ppl_mass.head()"
   ]
  },
  {
   "cell_type": "markdown",
   "id": "df55e3eb",
   "metadata": {},
   "source": [
    "**View Distribution of U.S. People's Mass*\n",
    "\n",
    "Gunakan metode seaborn distplot() untuk membuat histogram di kolom us_people_mass_pounds"
   ]
  },
  {
   "cell_type": "code",
   "execution_count": 36,
   "id": "a0523de1",
   "metadata": {},
   "outputs": [
    {
     "name": "stderr",
     "output_type": "stream",
     "text": [
      "D:\\anaconda3\\lib\\site-packages\\seaborn\\distributions.py:2619: FutureWarning: `distplot` is a deprecated function and will be removed in a future version. Please adapt your code to use either `displot` (a figure-level function with similar flexibility) or `histplot` (an axes-level function for histograms).\n",
      "  warnings.warn(msg, FutureWarning)\n"
     ]
    },
    {
     "data": {
      "text/plain": [
       "Text(0.5, 1.015, 'Distribution of Mass of People in U.S.')"
      ]
     },
     "execution_count": 36,
     "metadata": {},
     "output_type": "execute_result"
    },
    {
     "data": {
      "image/png": "[encoded data removed]",
      "text/plain": [
       "<Figure size 936x540 with 1 Axes>"
      ]
     },
     "metadata": {},
     "output_type": "display_data"
    }
   ],
   "source": [
    "sns.distplot(df_ppl_mass['us_people_mass_pounds'], color='darkslategrey')\n",
    "plt.xlabel('mass[pounds]', labelpad=14)\n",
    "plt.ylabel('probability of occurence', labelpad=14)\n",
    "plt.title('Distribution of Mass of People in U.S.', y=1.015, fontsize=20)"
   ]
  },
  {
   "cell_type": "markdown",
   "id": "d1e9de54",
   "metadata": {},
   "source": [
    "Sulit untuk mengkarakterisasi distribusi ini. Distribusi tersebut memiliki satu puncak di sekitar 140 pounds, dan itu bukan distribusi normal karena tidak ada simetri di sekitar nilai pusat."
   ]
  },
  {
   "cell_type": "code",
   "execution_count": 37,
   "id": "f41cb072",
   "metadata": {},
   "outputs": [
    {
     "data": {
      "text/plain": [
       "155.4232805942338"
      ]
     },
     "execution_count": 37,
     "metadata": {},
     "output_type": "execute_result"
    }
   ],
   "source": [
    "# Calculation Population Mean\n",
    "pop_mean_mass = df_ppl_mass['us_people_mass_pounds'].mean()\n",
    "pop_mean_mass"
   ]
  },
  {
   "cell_type": "code",
   "execution_count": 38,
   "id": "cddf2564",
   "metadata": {},
   "outputs": [
    {
     "data": {
      "text/plain": [
       "33.585190883958624"
      ]
     },
     "execution_count": 38,
     "metadata": {},
     "output_type": "execute_result"
    }
   ],
   "source": [
    "# Calculate Population Standard Deviation\n",
    "pop_std_dev_mass = df_ppl_mass['us_people_mass_pounds'].std()\n",
    "pop_std_dev_mass"
   ]
  },
  {
   "cell_type": "markdown",
   "id": "8de6949d",
   "metadata": {},
   "source": [
    "Kita akan mengambil 300 sampel masing-masing dari 25 nilai acak. Untuk setiap sampel, kita akan menghitung rata-rata sampel. Kita menyimpan semua sample means tersebut dalam list `sample_means`."
   ]
  },
  {
   "cell_type": "code",
   "execution_count": 39,
   "id": "aeb2343f",
   "metadata": {},
   "outputs": [],
   "source": [
    "sample_means = []\n",
    "n = 25\n",
    "for sample in range(0, 300):\n",
    "    # Random sampling done with replacement\n",
    "    sample_values = np.random.choice(a=df_ppl_mass['us_people_mass_pounds'], size=n)\n",
    "    sample_mean = np.mean(sample_values)\n",
    "    sample_means.append(sample_mean)"
   ]
  },
  {
   "cell_type": "code",
   "execution_count": 40,
   "id": "c45919ec",
   "metadata": {},
   "outputs": [
    {
     "name": "stderr",
     "output_type": "stream",
     "text": [
      "D:\\anaconda3\\lib\\site-packages\\seaborn\\distributions.py:2619: FutureWarning: `distplot` is a deprecated function and will be removed in a future version. Please adapt your code to use either `displot` (a figure-level function with similar flexibility) or `histplot` (an axes-level function for histograms).\n",
      "  warnings.warn(msg, FutureWarning)\n"
     ]
    },
    {
     "data": {
      "text/plain": [
       "Text(0, 0.5, 'frequency of occurence')"
      ]
     },
     "execution_count": 40,
     "metadata": {},
     "output_type": "execute_result"
    },
    {
     "data": {
      "image/png": "[encoded data removed]",
      "text/plain": [
       "<Figure size 936x540 with 1 Axes>"
      ]
     },
     "metadata": {},
     "output_type": "display_data"
    }
   ],
   "source": [
    "# View Distribution of Sample Means (Otherwise, called Sampling Distribution)\n",
    "\n",
    "sns.distplot(sample_means)\n",
    "plt.title(\"Distribution of Sample Means ($n=25$) of People's Mass in Pounds\", y=1.015, fontsize=20)\n",
    "plt.xlabel('sample mean mass[pounds]', labelpad=14)\n",
    "plt.ylabel('frequency of occurence', labelpad=14)"
   ]
  },
  {
   "cell_type": "markdown",
   "id": "681d9c52",
   "metadata": {},
   "source": [
    "Distribusi sample artinya terlihat normal. Kurva cukup simetris di sekitar nilai tengah dadn median kira-kira setara dengan mean. Berdasarkan central limit theorem, pengambilan sampel dalam jumlah yang cukup dengan ukuran yang memadai akan menghasilkan distribusi sample means yang normal.\n",
    "\n",
    "**Calculate Sampling Distribution (n=25) Summary Statistics**"
   ]
  },
  {
   "cell_type": "code",
   "execution_count": 41,
   "id": "e6806f24",
   "metadata": {},
   "outputs": [
    {
     "data": {
      "text/plain": [
       "155.3008268518431"
      ]
     },
     "execution_count": 41,
     "metadata": {},
     "output_type": "execute_result"
    }
   ],
   "source": [
    "# Calculate Median of Sample Means\n",
    "median_of_sample_means = np.median(sample_means)\n",
    "median_of_sample_means"
   ]
  },
  {
   "cell_type": "code",
   "execution_count": 42,
   "id": "d3794f82",
   "metadata": {},
   "outputs": [
    {
     "data": {
      "text/plain": [
       "155.12418330193915"
      ]
     },
     "execution_count": 42,
     "metadata": {},
     "output_type": "execute_result"
    }
   ],
   "source": [
    "# Calculate Mean of Sample Means\n",
    "mean_of_sample_means = np.mean(sample_means)\n",
    "mean_of_sample_means"
   ]
  },
  {
   "cell_type": "code",
   "execution_count": 43,
   "id": "87623490",
   "metadata": {},
   "outputs": [
    {
     "data": {
      "text/plain": [
       "155.4232805942338"
      ]
     },
     "execution_count": 43,
     "metadata": {},
     "output_type": "execute_result"
    }
   ],
   "source": [
    "pop_mean_mass"
   ]
  },
  {
   "cell_type": "markdown",
   "id": "a80956e7",
   "metadata": {},
   "source": [
    "Nilai mean_of_sample_means ini kira-kira sama dengan nilai **population mean** kita yang ditetapkan ke variabel pop_mean_mass. Berdasarkan **central limit theorem**, hal ini akan selalu terjadi."
   ]
  },
  {
   "cell_type": "code",
   "execution_count": 44,
   "id": "6b62dfd6",
   "metadata": {},
   "outputs": [
    {
     "data": {
      "text/plain": [
       "6.734407481483423"
      ]
     },
     "execution_count": 44,
     "metadata": {},
     "output_type": "execute_result"
    }
   ],
   "source": [
    "# Calculate standard deviation of sample means\n",
    "std_dev_of_sample_means = np.std(sample_means)\n",
    "std_dev_of_sample_means"
   ]
  },
  {
   "cell_type": "markdown",
   "id": "74b796e3",
   "metadata": {},
   "source": [
    "**Equation for Standard Deviation of Sampling Distribution**\n",
    "\n",
    "Standard deviation dari sample means lebih sering disebut standard error (SE). Persamaan untuk standard error adalah:\n",
    "\n",
    "SE=σ/√n\n",
    "\n",
    "σ is population standard deviation\n",
    "\n",
    "n is sample size"
   ]
  },
  {
   "cell_type": "code",
   "execution_count": 45,
   "id": "7bbfa232",
   "metadata": {},
   "outputs": [
    {
     "data": {
      "text/plain": [
       "6.717038176791725"
      ]
     },
     "execution_count": 45,
     "metadata": {},
     "output_type": "execute_result"
    }
   ],
   "source": [
    "standard_error = pop_std_dev_mass/np.sqrt(n)\n",
    "standard_error"
   ]
  },
  {
   "cell_type": "code",
   "execution_count": 46,
   "id": "03e14eef",
   "metadata": {},
   "outputs": [
    {
     "data": {
      "text/plain": [
       "6.734407481483423"
      ]
     },
     "execution_count": 46,
     "metadata": {},
     "output_type": "execute_result"
    }
   ],
   "source": [
    "std_dev_of_sample_means"
   ]
  },
  {
   "cell_type": "markdown",
   "id": "4e422e35",
   "metadata": {},
   "source": [
    "*Nilai standard error ini sama dengan nilai yang dihitung di atas untuk std_dev_of_sampple_means*.\n",
    "\n",
    "**Critical Z-Scores**\n",
    "\n",
    "Kira-kira 95% nilai akan berada dalam 2 standard errors dari mean. Mari kita hitung nilai z-score tepat yang mengikat 95% data. Kita tahu bahwa ekor pada setiap ujung harus 2.5% atau 0.025 dari total area under the curve dari sampling distribution.\n",
    "\n",
    "Di bawah ini kita menggunakan z-score 1.96 untuk menghitung ekor 0.025."
   ]
  },
  {
   "cell_type": "code",
   "execution_count": 47,
   "id": "ee62b2db",
   "metadata": {},
   "outputs": [
    {
     "data": {
      "text/plain": [
       "0.024997895148220484"
      ]
     },
     "execution_count": 47,
     "metadata": {},
     "output_type": "execute_result"
    }
   ],
   "source": [
    "tail = 1 - stats.norm.cdf(1.96)\n",
    "tail"
   ]
  },
  {
   "cell_type": "code",
   "execution_count": 48,
   "id": "262884ef",
   "metadata": {},
   "outputs": [
    {
     "data": {
      "text/plain": [
       "0.950004209703559"
      ]
     },
     "execution_count": 48,
     "metadata": {},
     "output_type": "execute_result"
    }
   ],
   "source": [
    "# The area under the curve between the z-critical scores is approximately 0.95\n",
    "1 - (tail * 2)"
   ]
  },
  {
   "cell_type": "code",
   "execution_count": 49,
   "id": "b7403eac",
   "metadata": {},
   "outputs": [
    {
     "data": {
      "text/plain": [
       "141.95878847542738"
      ]
     },
     "execution_count": 49,
     "metadata": {},
     "output_type": "execute_result"
    }
   ],
   "source": [
    "lower_95_perc_bound = mean_of_sample_means - 1.96*standard_error\n",
    "lower_95_perc_bound"
   ]
  },
  {
   "cell_type": "code",
   "execution_count": 50,
   "id": "dc7c48d3",
   "metadata": {},
   "outputs": [
    {
     "data": {
      "text/plain": [
       "168.28957812845093"
      ]
     },
     "execution_count": 50,
     "metadata": {},
     "output_type": "execute_result"
    }
   ],
   "source": [
    "upper_95_perc_bound = mean_of_sample_means + 1.96*standard_error\n",
    "upper_95_perc_bound"
   ]
  },
  {
   "cell_type": "code",
   "execution_count": 51,
   "id": "a7740809",
   "metadata": {},
   "outputs": [
    {
     "data": {
      "text/plain": [
       "Text(0, 0.5, 'frequency of occurence')"
      ]
     },
     "execution_count": 51,
     "metadata": {},
     "output_type": "execute_result"
    },
    {
     "data": {
      "image/png": "[encoded data removed]",
      "text/plain": [
       "<Figure size 936x540 with 1 Axes>"
      ]
     },
     "metadata": {},
     "output_type": "display_data"
    }
   ],
   "source": [
    "kde = stats.gaussian_kde(sample_means)\n",
    "pos = np.linspace(np.min(sample_means), np.max(sample_means), 10000)\n",
    "plt.plot(pos, kde(pos), color='teal')\n",
    "shade = np.linspace(lower_95_perc_bound, upper_95_perc_bound, 300)\n",
    "plt.fill_between(shade, kde(shade), alpha=0.45, color='teal')\n",
    "plt.text(x=154, y=.01, horizontalalignment='center', fontsize=17,\n",
    "         s='95% of sample means fall within\\nThis shaded area of plus or minus\\n1.96 z-scores from the mean',\n",
    "         bbox=dict(facecolor='whitesmoke', boxstyle='round, pad=0.1'))\n",
    "plt.title(\"Distribution of Sample Means ($n=25$) of People's Mass in Pounds\", y=1.015, fontsize=20)\n",
    "plt.xlabel('sample mean mass [pounds]', labelpad=14)\n",
    "plt.ylabel('frequency of occurence', labelpad=14)"
   ]
  },
  {
   "cell_type": "markdown",
   "id": "0d7b2256",
   "metadata": {},
   "source": [
    "## Hypothesis Testing\n",
    "\n",
    "Hipotesis adalah anggapan dasar adalah jawaban sementara terhadap masalah yang masih bersifat praduga karena masih harus dibuktikan kebenarannya. Hipotesis harus dapat diuji, baik dengan eksperimen atau observasi. Sebagai contoh:\n",
    "\n",
    "* A new medicine you think might work.\n",
    "* A way of teaching you think might be better.\n",
    "* A possible location of new species.\n",
    "* A fairer way to administer standardized tests.\n",
    "\n",
    "**What is a Hypothesis Statement?**\n",
    "\n",
    "Jika kita akan mengajukan hipotesis, biasanya pernyataan dibuat. Pernyataan kita akan terlihat seperti ini: “Jika saya… (melakukan A pada variabel independen)…. Kemudian (B akan terjadi pada variabel dependen).” Sebagai contoh:\n",
    "\n",
    "* If I (decrease the amount of water given to herbs) then (the herbs will increase in size).\n",
    "* If I (give patients counseling in addition to medication) then (their overall depression scale will decrease).\n",
    "* If I (give exams at noon instead of 7) then (student test scores will improve).\n",
    "* If I (look in this certain location) then (I am more likely to find new species).\n",
    "\n",
    "Pernyataan hipotesis yang baik harus:\n",
    "\n",
    "* Include an “if” and “then” statement (according to the University of California).\n",
    "* Include both the independent and dependent variables.\n",
    "* Be testable by experiment, survey or other scientifically sound technique.\n",
    "* Be based on information in prior research (either yours or someone else’s).\n",
    "* Have design criteria (for engineering or programming projects).\n",
    "\n",
    "### What is Hypothesis Testing\n",
    "\n",
    "Hypothesis testing dalam statistik adalah cara kita menguji hasil survei atau eksperimen untuk melihat apakah kita memiliki hasil yang bermakna. Kita pada dasarnya menguji apakah hasil kita valid dengan mencari tahu kemungkinan bahwa hasil kita terjadi secara kebetulan. Jika hasil kita mungkin terjadi secara kebetulan, eksperimen tidak akan dapat diulang sehingga hanya sedikit berguna.\n",
    "\n",
    "Pengujian hipotesis dapat menjadi salah satu aspek yang paling membingungkan bagi siswa, terutama karena sebelum kita dapat melakukan pengujian, kita harus mengetahui apa null hypothesis kita. Seringkali, masalah kata rumit yang kita hadapi sulit untuk diuraikan. Tapi itu lebih mudah dari yang kita pikirkan; yang perlu kita lakukan adalah:\n",
    "\n",
    "* Figure out your null hypothesis,\n",
    "* State your null hypothesis,\n",
    "* Choose what kind of test you need to perform,\n",
    "* Either support or reject the null hypothesis.\n",
    "\n",
    "### What is the Null Hypothesis?\n",
    "\n",
    "Null hypothesis selalu merupakan fakta yang diterima. Contoh sederhana null hypothesis yang secara umum diterima sebagai benar adalah:\n",
    "\n",
    "* DNA is shaped like a double helix.\n",
    "* There are 8 planets in the solar system (excluding Pluto).\n",
    "* Taking Vioxx can increase your risk of heart problems (a drug now taken off the market).\n",
    "\n",
    "**Hypothesis Testing Examples: Basic Example**\n",
    "\n",
    "Researcher berpendapat bahwa jika pasien operasi lutut menjalani terapi fisik dua kali seminggu (bukan 3 kali), masa pemulihannya akan lebih lama. Waktu pemulihan rata-rata untuk pasien operasi lutut adalah 8.2 minggu.\n",
    "\n",
    "Hypothesis statement dalam pertanyaan ini adalah bahwa researcher percaya waktu pemulihan rata-rata lebih dari 8.2 minggu. Ini dapat ditulis dalam istilah matematika sebagai: H1: μ> 8.2\n",
    "\n",
    "Selanjutnya, kita harus menyatakan null hypothesis, yang akan terjadi jika researcher salah. Pada contoh di atas, jika peneliti salah maka waktu pemulihan kurang dari atau sama dengan 8,2 minggu. Dalam matematika, yaitu: H0 μ ≤ 8.2\n",
    "\n",
    "### Statistical Test Interpretation\n",
    "\n",
    "Hasil uji hipotesis statistik harus diinterpretasikan agar kita dapat mulai membuat klaim.\n",
    "\n",
    "Ada dua bentuk umum yang dapat diambil oleh statistical hypothesis test, dan harus ditafsirkan dengan cara yang berbeda. Dua bentuk tersebut adalah adalah p-value and critical values.\n",
    "\n",
    "**Interpret the p-value**\n",
    "\n",
    "Kita menggambarkan temuan sebagai statistically significant dengan menafsirkan p-value.\n",
    "\n",
    "Statistical hypothesis test dapat mengembalikan nilai yang disebut p atau p-value. Ini adalah kuantitas yang dapat kita gunakan untuk menafsirkan atau mengukur hasil tes: reject or fail to reject the null hypothesis. Ini dilakukan dengan membandingkan p-value dengan nilai ambang yang dipilih sebelumnya yang disebut significance level.\n",
    "\n",
    "Significance level sering kali disebut dengan Greek lower case letter - alpha.\n",
    "\n",
    "Nilai umum yang digunakan untuk alpha adalah 5% atau 0,05. Alpha value yang lebih kecil menunjukkan interpretasi yang lebih kuat dari null hypothesis, seperti 1% atau 0,1%.\n",
    "\n",
    "p-value dibandingkan dengan alpha value yang dipilih sebelumnya. Hasil signifikan secara statistik saat p-value is less than alpha. Ini menandakan bahwa: default hypothesis dapat ditolak.\n",
    "\n",
    "* **If p-value > alpha: Fail to reject the null hypothesis (i.e. not signifiant result).**\n",
    "* **If p-value <= alpha: Reject the null hypothesis (i.e. significant result).**\n",
    "\n",
    "_For example, if we were performing a test of whether a data sample was normal and we calculated a p-value of .07, we could state something like:_\n",
    "\n",
    "_The test found that the data sample was normal, failing to reject the null hypothesis at a 5% significance level._"
   ]
  },
  {
   "cell_type": "code",
   "execution_count": 52,
   "id": "55cd4ece",
   "metadata": {},
   "outputs": [],
   "source": [
    "import statsmodels.api as sm\n",
    "import numpy as np\n",
    "import matplotlib.pyplot as plt\n",
    "import pandas as pd"
   ]
  },
  {
   "cell_type": "markdown",
   "id": "17ddfee7",
   "metadata": {},
   "source": [
    "### One Population Proportion\n",
    "\n",
    "**Research Question**\n",
    "\n",
    "Pada tahun-tahun sebelumnya, 52% orang tua percaya bahwa elektronik dan media sosial adalah penyebab kurang tidur remaja mereka. Apakah saat ini semakin banyak orang tua yang percaya bahwa kurang tidur remaja mereka disebabkan oleh elektronik dan media sosial?\n",
    "\n",
    "Population: Orang tua dengan remaja (usia 13-18)\n",
    "Parameter of Interest: p\n",
    "\n",
    "Null Hypothesis: p = 0.52\n",
    "Alternative Hypthosis: p > 0.52 (note that this is a one-sided test)\n",
    "\n",
    "Data: 1018 orang disurvei. 56% dari mereka yang disurvei percaya bahwa kurang tidur remaja mereka disebabkan oleh elektronik dan media sosial.\n",
    "\n",
    "**Use of proportions_ztest() from statsmodels**\n",
    "\n",
    "Perhatikan argumen alternative = \"larger\" yang menunjukkan one-sided test. Fungsi ini mengembalikan dua nilai - z-statistic dan p-value yang sesuai."
   ]
  },
  {
   "cell_type": "code",
   "execution_count": 55,
   "id": "80f928f7",
   "metadata": {},
   "outputs": [],
   "source": [
    "n = 1018\n",
    "pnull = .52\n",
    "phat = .56"
   ]
  },
  {
   "cell_type": "code",
   "execution_count": 56,
   "id": "c4b1a50c",
   "metadata": {},
   "outputs": [
    {
     "data": {
      "text/plain": [
       "(2.571067795759113, 0.005069273865860533)"
      ]
     },
     "execution_count": 56,
     "metadata": {},
     "output_type": "execute_result"
    }
   ],
   "source": [
    "sm.stats.proportions_ztest(phat * n, n, pnull, alternative='larger')"
   ]
  },
  {
   "cell_type": "markdown",
   "id": "d7038338",
   "metadata": {},
   "source": [
    "**Conclusion of the hypothesis test**\n",
    "\n",
    "Karena nilai p-value dari z-test cukup kecil, kita dapat reject the Null hypothesis bahwa persentase orang tua yang percaya bahwa kurang tidur remaja mereka disebabkan oleh elektronik dan media sosial sama dengan tahun-tahun sebelumnya. Perkiraan yaitu 52%.\n",
    "\n",
    "Meskipun, kita tidak menerima hipotesis alternatif, secara informal berarti bahwa ada kemungkinan besar proporsi ini lebih dari 52%.\n",
    "\n",
    "### Difference in Population Means\n",
    "**Research Question**\n",
    "\n",
    "Dengan mempertimbangkan data NHANES, apakah pria memiliki Body Mass Index rata-rata yang lebih tinggi secara signifikan daripada wanita?\n",
    "\n",
    "Population: Adults in the NHANES data.\n",
    "Parameter of Interest: μ1−μ2, Body Mass Index.\n",
    "\n",
    "Null Hypothesis: μ1=μ2\n",
    "Alternative Hypthosis: μ1≠μ2\n",
    "\n",
    "Data:\n",
    "\n",
    "2976 Females\n",
    "\n",
    "μ1=29.94\n",
    "\n",
    "σ1=7.75\n",
    "\n",
    "\n",
    "2759 Male Adults\n",
    "\n",
    "μ2=28.78\n",
    "\n",
    "σ2=6.25\n",
    "\n",
    "\n",
    "μ1−μ2=1.16"
   ]
  },
  {
   "cell_type": "code",
   "execution_count": 57,
   "id": "3857ec9d",
   "metadata": {},
   "outputs": [
    {
     "data": {
      "text/html": [
       "<div>\n",
       "<style scoped>\n",
       "    .dataframe tbody tr th:only-of-type {\n",
       "        vertical-align: middle;\n",
       "    }\n",
       "\n",
       "    .dataframe tbody tr th {\n",
       "        vertical-align: top;\n",
       "    }\n",
       "\n",
       "    .dataframe thead th {\n",
       "        text-align: right;\n",
       "    }\n",
       "</style>\n",
       "<table border=\"1\" class=\"dataframe\">\n",
       "  <thead>\n",
       "    <tr style=\"text-align: right;\">\n",
       "      <th></th>\n",
       "      <th>SEQN</th>\n",
       "      <th>ALQ101</th>\n",
       "      <th>ALQ110</th>\n",
       "      <th>ALQ130</th>\n",
       "      <th>SMQ020</th>\n",
       "      <th>RIAGENDR</th>\n",
       "      <th>RIDAGEYR</th>\n",
       "      <th>RIDRETH1</th>\n",
       "      <th>DMDCITZN</th>\n",
       "      <th>DMDEDUC2</th>\n",
       "      <th>...</th>\n",
       "      <th>BPXSY2</th>\n",
       "      <th>BPXDI2</th>\n",
       "      <th>BMXWT</th>\n",
       "      <th>BMXHT</th>\n",
       "      <th>BMXBMI</th>\n",
       "      <th>BMXLEG</th>\n",
       "      <th>BMXARML</th>\n",
       "      <th>BMXARMC</th>\n",
       "      <th>BMXWAIST</th>\n",
       "      <th>HIQ210</th>\n",
       "    </tr>\n",
       "  </thead>\n",
       "  <tbody>\n",
       "    <tr>\n",
       "      <th>0</th>\n",
       "      <td>83732</td>\n",
       "      <td>1.0</td>\n",
       "      <td>NaN</td>\n",
       "      <td>1.0</td>\n",
       "      <td>1</td>\n",
       "      <td>1</td>\n",
       "      <td>62</td>\n",
       "      <td>3</td>\n",
       "      <td>1.0</td>\n",
       "      <td>5.0</td>\n",
       "      <td>...</td>\n",
       "      <td>124.0</td>\n",
       "      <td>64.0</td>\n",
       "      <td>94.8</td>\n",
       "      <td>184.5</td>\n",
       "      <td>27.8</td>\n",
       "      <td>43.3</td>\n",
       "      <td>43.6</td>\n",
       "      <td>35.9</td>\n",
       "      <td>101.1</td>\n",
       "      <td>2.0</td>\n",
       "    </tr>\n",
       "    <tr>\n",
       "      <th>1</th>\n",
       "      <td>83733</td>\n",
       "      <td>1.0</td>\n",
       "      <td>NaN</td>\n",
       "      <td>6.0</td>\n",
       "      <td>1</td>\n",
       "      <td>1</td>\n",
       "      <td>53</td>\n",
       "      <td>3</td>\n",
       "      <td>2.0</td>\n",
       "      <td>3.0</td>\n",
       "      <td>...</td>\n",
       "      <td>140.0</td>\n",
       "      <td>88.0</td>\n",
       "      <td>90.4</td>\n",
       "      <td>171.4</td>\n",
       "      <td>30.8</td>\n",
       "      <td>38.0</td>\n",
       "      <td>40.0</td>\n",
       "      <td>33.2</td>\n",
       "      <td>107.9</td>\n",
       "      <td>NaN</td>\n",
       "    </tr>\n",
       "    <tr>\n",
       "      <th>2</th>\n",
       "      <td>83734</td>\n",
       "      <td>1.0</td>\n",
       "      <td>NaN</td>\n",
       "      <td>NaN</td>\n",
       "      <td>1</td>\n",
       "      <td>1</td>\n",
       "      <td>78</td>\n",
       "      <td>3</td>\n",
       "      <td>1.0</td>\n",
       "      <td>3.0</td>\n",
       "      <td>...</td>\n",
       "      <td>132.0</td>\n",
       "      <td>44.0</td>\n",
       "      <td>83.4</td>\n",
       "      <td>170.1</td>\n",
       "      <td>28.8</td>\n",
       "      <td>35.6</td>\n",
       "      <td>37.0</td>\n",
       "      <td>31.0</td>\n",
       "      <td>116.5</td>\n",
       "      <td>2.0</td>\n",
       "    </tr>\n",
       "    <tr>\n",
       "      <th>3</th>\n",
       "      <td>83735</td>\n",
       "      <td>2.0</td>\n",
       "      <td>1.0</td>\n",
       "      <td>1.0</td>\n",
       "      <td>2</td>\n",
       "      <td>2</td>\n",
       "      <td>56</td>\n",
       "      <td>3</td>\n",
       "      <td>1.0</td>\n",
       "      <td>5.0</td>\n",
       "      <td>...</td>\n",
       "      <td>134.0</td>\n",
       "      <td>68.0</td>\n",
       "      <td>109.8</td>\n",
       "      <td>160.9</td>\n",
       "      <td>42.4</td>\n",
       "      <td>38.5</td>\n",
       "      <td>37.7</td>\n",
       "      <td>38.3</td>\n",
       "      <td>110.1</td>\n",
       "      <td>2.0</td>\n",
       "    </tr>\n",
       "    <tr>\n",
       "      <th>4</th>\n",
       "      <td>83736</td>\n",
       "      <td>2.0</td>\n",
       "      <td>1.0</td>\n",
       "      <td>1.0</td>\n",
       "      <td>2</td>\n",
       "      <td>2</td>\n",
       "      <td>42</td>\n",
       "      <td>4</td>\n",
       "      <td>1.0</td>\n",
       "      <td>4.0</td>\n",
       "      <td>...</td>\n",
       "      <td>114.0</td>\n",
       "      <td>54.0</td>\n",
       "      <td>55.2</td>\n",
       "      <td>164.9</td>\n",
       "      <td>20.3</td>\n",
       "      <td>37.4</td>\n",
       "      <td>36.0</td>\n",
       "      <td>27.2</td>\n",
       "      <td>80.4</td>\n",
       "      <td>2.0</td>\n",
       "    </tr>\n",
       "  </tbody>\n",
       "</table>\n",
       "<p>5 rows × 28 columns</p>\n",
       "</div>"
      ],
      "text/plain": [
       "    SEQN  ALQ101  ALQ110  ALQ130  SMQ020  RIAGENDR  RIDAGEYR  RIDRETH1  \\\n",
       "0  83732     1.0     NaN     1.0       1         1        62         3   \n",
       "1  83733     1.0     NaN     6.0       1         1        53         3   \n",
       "2  83734     1.0     NaN     NaN       1         1        78         3   \n",
       "3  83735     2.0     1.0     1.0       2         2        56         3   \n",
       "4  83736     2.0     1.0     1.0       2         2        42         4   \n",
       "\n",
       "   DMDCITZN  DMDEDUC2  ...  BPXSY2  BPXDI2  BMXWT  BMXHT  BMXBMI  BMXLEG  \\\n",
       "0       1.0       5.0  ...   124.0    64.0   94.8  184.5    27.8    43.3   \n",
       "1       2.0       3.0  ...   140.0    88.0   90.4  171.4    30.8    38.0   \n",
       "2       1.0       3.0  ...   132.0    44.0   83.4  170.1    28.8    35.6   \n",
       "3       1.0       5.0  ...   134.0    68.0  109.8  160.9    42.4    38.5   \n",
       "4       1.0       4.0  ...   114.0    54.0   55.2  164.9    20.3    37.4   \n",
       "\n",
       "   BMXARML  BMXARMC  BMXWAIST  HIQ210  \n",
       "0     43.6     35.9     101.1     2.0  \n",
       "1     40.0     33.2     107.9     NaN  \n",
       "2     37.0     31.0     116.5     2.0  \n",
       "3     37.7     38.3     110.1     2.0  \n",
       "4     36.0     27.2      80.4     2.0  \n",
       "\n",
       "[5 rows x 28 columns]"
      ]
     },
     "execution_count": 57,
     "metadata": {},
     "output_type": "execute_result"
    }
   ],
   "source": [
    "url = ('https://raw.githubusercontent.com/ardhiraka/PFDS_sources/master/nhanes_2015_2016.csv')\n",
    "da = pd.read_csv(url)\n",
    "da.head()"
   ]
  },
  {
   "cell_type": "code",
   "execution_count": 58,
   "id": "4aca2997",
   "metadata": {},
   "outputs": [],
   "source": [
    "females = da[da[\"RIAGENDR\"] == 2]\n",
    "male = da[da[\"RIAGENDR\"] == 1]"
   ]
  },
  {
   "cell_type": "code",
   "execution_count": 59,
   "id": "94995314",
   "metadata": {},
   "outputs": [
    {
     "data": {
      "text/plain": [
       "(2976, 29.939945652173996, 7.75331880954568)"
      ]
     },
     "execution_count": 59,
     "metadata": {},
     "output_type": "execute_result"
    }
   ],
   "source": [
    "n1 = len(females)\n",
    "mu1 = females['BMXBMI'].mean()\n",
    "sd1 = females['BMXBMI'].std()\n",
    "\n",
    "(n1, mu1, sd1)"
   ]
  },
  {
   "cell_type": "code",
   "execution_count": 60,
   "id": "05d977bf",
   "metadata": {},
   "outputs": [
    {
     "data": {
      "text/plain": [
       "(6.1755933531383205, 6.591544431126401e-10)"
      ]
     },
     "execution_count": 60,
     "metadata": {},
     "output_type": "execute_result"
    }
   ],
   "source": [
    "sm.stats.ztest(females['BMXBMI'].dropna(),\n",
    "               male['BMXBMI'].dropna(), alternative='two-sided')"
   ]
  },
  {
   "cell_type": "markdown",
   "id": "e5787a60",
   "metadata": {},
   "source": [
    "**Conclusion of The Hypothesis Test**\n",
    "\n",
    "Karena p-value (6.59e - 10) sangat kecil, kita dapat **reject the Null hypothesis** bahwa rata-rata BMI laki-laki sama dengan perempuan. Catatan, kita menggunakan `alternative = 'two-sided'` dalam z-test karena di sini kita memeriksa ketidaksamaan.\n",
    "\n",
    "Kita juga dapat memplot histogram dari data untuk memeriksa apakah kira-kira distribusinya mengikuti distribusi Normal."
   ]
  },
  {
   "cell_type": "code",
   "execution_count": 61,
   "id": "4c29d661",
   "metadata": {},
   "outputs": [
    {
     "data": {
      "image/png": "[encoded data removed]",
      "text/plain": [
       "<Figure size 504x288 with 1 Axes>"
      ]
     },
     "metadata": {},
     "output_type": "display_data"
    },
    {
     "data": {
      "image/png": "[encoded data removed]",
      "text/plain": [
       "<Figure size 504x288 with 1 Axes>"
      ]
     },
     "metadata": {},
     "output_type": "display_data"
    }
   ],
   "source": [
    "plt.figure(figsize=(7, 4))\n",
    "plt.title('Female BMI Histogram', fontsize=16)\n",
    "plt.hist(females['BMXBMI'].dropna(), edgecolor='k', color='pink', bins=25)\n",
    "plt.show()\n",
    "\n",
    "plt.figure(figsize=(7, 4))\n",
    "plt.title('Male BMI Histogram', fontsize=16)\n",
    "plt.hist(females['BMXBMI'].dropna(), edgecolor='k', color='blue', bins=25)\n",
    "plt.show()"
   ]
  },
  {
   "cell_type": "markdown",
   "id": "3524a2e2",
   "metadata": {},
   "source": [
    "### Hypothesis Testing for One Proportion"
   ]
  },
  {
   "cell_type": "code",
   "execution_count": 62,
   "id": "7c54f886",
   "metadata": {},
   "outputs": [
    {
     "data": {
      "text/html": [
       "<div>\n",
       "<style scoped>\n",
       "    .dataframe tbody tr th:only-of-type {\n",
       "        vertical-align: middle;\n",
       "    }\n",
       "\n",
       "    .dataframe tbody tr th {\n",
       "        vertical-align: top;\n",
       "    }\n",
       "\n",
       "    .dataframe thead th {\n",
       "        text-align: right;\n",
       "    }\n",
       "</style>\n",
       "<table border=\"1\" class=\"dataframe\">\n",
       "  <thead>\n",
       "    <tr style=\"text-align: right;\">\n",
       "      <th></th>\n",
       "      <th>age</th>\n",
       "      <th>sex</th>\n",
       "      <th>cp</th>\n",
       "      <th>trestbps</th>\n",
       "      <th>chol</th>\n",
       "      <th>fbs</th>\n",
       "      <th>restecg</th>\n",
       "      <th>thalach</th>\n",
       "      <th>exang</th>\n",
       "      <th>oldpeak</th>\n",
       "      <th>slope</th>\n",
       "      <th>ca</th>\n",
       "      <th>thal</th>\n",
       "      <th>target</th>\n",
       "    </tr>\n",
       "  </thead>\n",
       "  <tbody>\n",
       "    <tr>\n",
       "      <th>0</th>\n",
       "      <td>52</td>\n",
       "      <td>1</td>\n",
       "      <td>0</td>\n",
       "      <td>125</td>\n",
       "      <td>212</td>\n",
       "      <td>0</td>\n",
       "      <td>1</td>\n",
       "      <td>168</td>\n",
       "      <td>0</td>\n",
       "      <td>1.0</td>\n",
       "      <td>2</td>\n",
       "      <td>2</td>\n",
       "      <td>3</td>\n",
       "      <td>0</td>\n",
       "    </tr>\n",
       "    <tr>\n",
       "      <th>1</th>\n",
       "      <td>53</td>\n",
       "      <td>1</td>\n",
       "      <td>0</td>\n",
       "      <td>140</td>\n",
       "      <td>203</td>\n",
       "      <td>1</td>\n",
       "      <td>0</td>\n",
       "      <td>155</td>\n",
       "      <td>1</td>\n",
       "      <td>3.1</td>\n",
       "      <td>0</td>\n",
       "      <td>0</td>\n",
       "      <td>3</td>\n",
       "      <td>0</td>\n",
       "    </tr>\n",
       "    <tr>\n",
       "      <th>2</th>\n",
       "      <td>70</td>\n",
       "      <td>1</td>\n",
       "      <td>0</td>\n",
       "      <td>145</td>\n",
       "      <td>174</td>\n",
       "      <td>0</td>\n",
       "      <td>1</td>\n",
       "      <td>125</td>\n",
       "      <td>1</td>\n",
       "      <td>2.6</td>\n",
       "      <td>0</td>\n",
       "      <td>0</td>\n",
       "      <td>3</td>\n",
       "      <td>0</td>\n",
       "    </tr>\n",
       "    <tr>\n",
       "      <th>3</th>\n",
       "      <td>61</td>\n",
       "      <td>1</td>\n",
       "      <td>0</td>\n",
       "      <td>148</td>\n",
       "      <td>203</td>\n",
       "      <td>0</td>\n",
       "      <td>1</td>\n",
       "      <td>161</td>\n",
       "      <td>0</td>\n",
       "      <td>0.0</td>\n",
       "      <td>2</td>\n",
       "      <td>1</td>\n",
       "      <td>3</td>\n",
       "      <td>0</td>\n",
       "    </tr>\n",
       "    <tr>\n",
       "      <th>4</th>\n",
       "      <td>62</td>\n",
       "      <td>0</td>\n",
       "      <td>0</td>\n",
       "      <td>138</td>\n",
       "      <td>294</td>\n",
       "      <td>1</td>\n",
       "      <td>1</td>\n",
       "      <td>106</td>\n",
       "      <td>0</td>\n",
       "      <td>1.9</td>\n",
       "      <td>1</td>\n",
       "      <td>3</td>\n",
       "      <td>2</td>\n",
       "      <td>0</td>\n",
       "    </tr>\n",
       "  </tbody>\n",
       "</table>\n",
       "</div>"
      ],
      "text/plain": [
       "   age  sex  cp  trestbps  chol  fbs  restecg  thalach  exang  oldpeak  slope  \\\n",
       "0   52    1   0       125   212    0        1      168      0      1.0      2   \n",
       "1   53    1   0       140   203    1        0      155      1      3.1      0   \n",
       "2   70    1   0       145   174    0        1      125      1      2.6      0   \n",
       "3   61    1   0       148   203    0        1      161      0      0.0      2   \n",
       "4   62    0   0       138   294    1        1      106      0      1.9      1   \n",
       "\n",
       "   ca  thal  target  \n",
       "0   2     3       0  \n",
       "1   0     3       0  \n",
       "2   0     3       0  \n",
       "3   1     3       0  \n",
       "4   3     2       0  "
      ]
     },
     "execution_count": 62,
     "metadata": {},
     "output_type": "execute_result"
    }
   ],
   "source": [
    "import pandas as pd\n",
    "import numpy as np\n",
    "import statsmodels.api as sm\n",
    "import scipy.stats.distributions as dist\n",
    "\n",
    "df = pd.read_csv('dataset/heart.csv')\n",
    "df.head()"
   ]
  },
  {
   "cell_type": "markdown",
   "id": "aa8bd909",
   "metadata": {},
   "source": [
    "Kolom terakhir dari data adalah 'target'. Menandakan jika seseorang menderita penyakit jantung atau tidak. Pertanyaan penelitiannya adalah, **\"The population proportion of Ireland having heart disease is 42%. Are more people suffering from heart disease in the US?\"**\n",
    "\n",
    "Sekarang, temukan jawaban atas pertanyaan penelitian ini selangkah demi selangkah.\n",
    "\n",
    "**Step 1**: Define the null hypothesis and alternative hypothesis\n",
    "\n",
    "Dalam permasalahan ini, null hypothesis adalah population proportion yang menderita penyakit jantung di AS kurang dari atau sama dengan 42%.\n",
    "\n",
    "Dan alternative hypothesis-nya adalah proporsi penduduk AS yang menderita penyakit jantung lebih dari 42%.\n",
    "\n",
    "`Ho: p0 = 0.42 # Null hypothesis`\n",
    "\n",
    "`Ha: p > 0.42 # Alternative Hypothesis`\n",
    "\n",
    "**Step 2**: Assume that the dataset above is a representative sample from the population of the US. So, calculate the population proportion of the US having heart disease."
   ]
  },
  {
   "cell_type": "code",
   "execution_count": 69,
   "id": "1399ed86",
   "metadata": {},
   "outputs": [
    {
     "data": {
      "text/plain": [
       "0.0"
      ]
     },
     "execution_count": 69,
     "metadata": {},
     "output_type": "execute_result"
    }
   ],
   "source": [
    "p_us = len(df[df['target'] == '1']) / len(df)\n",
    "p_us"
   ]
  },
  {
   "cell_type": "markdown",
   "id": "03735da9",
   "metadata": {},
   "source": [
    "Population proportion sampel yang mengalami penyakit jantung adalah 0.51 atau 51%. Persentase ini lebih dari null hypothesis, yaitu 42%.\n",
    "\n",
    "Tetapi pertanyaannya adalah apakah secara signifikan lebih dari 42%. Jika kita mengambil sampel acak yang berbeda, proporsi populasi yang diamati saat ini (51%) bisa berbeda.\n",
    "\n",
    "Untuk mengetahui apakah population proportion yang diamati secara signifikan lebih dari null hypothesis, lakukan hypothesis test.\n",
    "\n",
    "**Step 3**: Calculate the Test Statistic:"
   ]
  },
  {
   "cell_type": "code",
   "execution_count": 70,
   "id": "a8b4ef90",
   "metadata": {},
   "outputs": [
    {
     "data": {
      "text/plain": [
       "0.015416177755376521"
      ]
     },
     "execution_count": 70,
     "metadata": {},
     "output_type": "execute_result"
    }
   ],
   "source": [
    "se = np.sqrt(0.42 * (1 - 0.42) / len(df))\n",
    "se"
   ]
  },
  {
   "cell_type": "code",
   "execution_count": 66,
   "id": "83a4db8d",
   "metadata": {},
   "outputs": [
    {
     "data": {
      "text/plain": [
       "-27.244107240105055"
      ]
     },
     "execution_count": 66,
     "metadata": {},
     "output_type": "execute_result"
    }
   ],
   "source": [
    "# Best Estimate\n",
    "be = p_us\n",
    "\n",
    "# Hypothesized Estimate\n",
    "he = 0.42\n",
    "test_stat = (be - he) / se\n",
    "test_stat"
   ]
  },
  {
   "cell_type": "markdown",
   "id": "346384df",
   "metadata": {},
   "source": [
    "**Step 4**: Calculate the p-value\n",
    "\n",
    "Test statistic ini juga disebut z-score. Kita dapat menemukan p-value dari z_table atau kita dapat menemukan p-value dari rumus ini dengan Python."
   ]
  },
  {
   "cell_type": "code",
   "execution_count": 68,
   "id": "7f1e52eb",
   "metadata": {},
   "outputs": [
    {
     "data": {
      "text/plain": [
       "1.9517162972676465e-163"
      ]
     },
     "execution_count": 68,
     "metadata": {},
     "output_type": "execute_result"
    }
   ],
   "source": [
    "pvalue = 2*dist.norm.cdf(-np.abs(test_stat))\n",
    "pvalue"
   ]
  },
  {
   "cell_type": "markdown",
   "id": "f929698d",
   "metadata": {},
   "source": [
    "**Step 5**: Infer the conclusin from the p-value\n",
    "\n",
    "Pertimbangkan significance level alpha adalah 5% atau 0.05. Tingkat signifikansi 5% atau kurang berarti ada kemungkinan 95% atau lebih besar bahwa hasilnya tidak acak.\n",
    "\n",
    "Di sini p-value lebih rendah dari significance level yang kita tentukan yaitu 0.05. Jadi, kita reject the null hypothesis. Artinya, terdapat perbedaan yang signifikan dalam proporsi penduduk yang menderita penyakit jantung di Irlandia dan US.\n",
    "\n",
    "## Statistical Hypothesis Test Cheat sheet (Optional)\n",
    "\n",
    "### Normality Tests\n",
    "\n",
    "Bagian ini mencantumkan uji statistik yang dapat Anda gunakan untuk memeriksa apakah data Anda memiliki distribusi Gaussian.\n",
    "\n",
    "Menguji apakah sampel data memiliki distribusi Gaussian.\n",
    "\n",
    "**Assumption** \n",
    "\n",
    "- Pengamatan pada setiap sampel bersifat independen dan terdistribusi secara identik (iid).\n",
    "\n",
    "**Interpretation**\n",
    "\n",
    "- H0: sampel memiliki distribusi Gaussian.\n",
    "- H1 : sampel tidak berdistribusi Gaussian.\n",
    "\n",
    "#### Shapiro-Wilk Test"
   ]
  },
  {
   "cell_type": "code",
   "execution_count": 72,
   "id": "1d1a8c0a",
   "metadata": {},
   "outputs": [
    {
     "name": "stdout",
     "output_type": "stream",
     "text": [
      "stat=0.895, p=0.193\n",
      "Probably Gaussian\n"
     ]
    }
   ],
   "source": [
    "# Example of The Shapiro-Wilk Normality Test\n",
    "\n",
    "from scipy.stats import shapiro\n",
    "data = [0.873, 2.817, 0.121, -0.945, -0.055, -1.436, 0.360, -1.478, -1.637, -1.869]\n",
    "stat, p = shapiro(data)\n",
    "print('stat=%.3f, p=%.3f' % (stat, p))\n",
    "\n",
    "if(p > 0.05):\n",
    "    print('Probably Gaussian')\n",
    "else:\n",
    "    print('Probably not Gaussian')"
   ]
  },
  {
   "cell_type": "markdown",
   "id": "3e1aa861",
   "metadata": {},
   "source": [
    "#### Anderson-Darling Test"
   ]
  },
  {
   "cell_type": "code",
   "execution_count": 77,
   "id": "f1002b00",
   "metadata": {},
   "outputs": [
    {
     "name": "stdout",
     "output_type": "stream",
     "text": [
      "stat=0.424\n",
      "Probably Gaussian at the 15.0% level\n",
      "Probably Gaussian at the 10.0% level\n",
      "Probably Gaussian at the 5.0% level\n",
      "Probably Gaussian at the 2.5% level\n",
      "Probably Gaussian at the 1.0% level\n"
     ]
    }
   ],
   "source": [
    "# Example of The Anderson-Darling Normality Test\n",
    "\n",
    "from scipy.stats import anderson\n",
    "data = [0.873, 2.817, 0.121, -0.945, -0.055, -1.436, 0.360, -1.478, -1.637, -1.869]\n",
    "result = anderson(data)\n",
    "print('stat=%.3f' % (result.statistic))\n",
    "for i in range(len(result.critical_values)):\n",
    "    sl, cv = result.significance_level[i], result.critical_values[i]\n",
    "    if (result.statistic < cv):\n",
    "        print('Probably Gaussian at the %.1f%% level' % (sl))\n",
    "    else:\n",
    "        print('Probably not Gaussian at the %.1f%% level' % (sl))"
   ]
  },
  {
   "cell_type": "markdown",
   "id": "f128296a",
   "metadata": {},
   "source": [
    "### Correlation Tests\n",
    "\n",
    "This section lists statistical tests that you can use to check if two samples are related.\n",
    "\n",
    "#### Pearson's Correlation Coefficient\n",
    "\n",
    "Tests whether two samples have a linear relationship.\n",
    "\n",
    "**Assumptions**\n",
    "- Observations in each sample are independent and identically distributed (iid).\n",
    "- Observations in each sample are normally distributed.\n",
    "- Observations \n",
    "\n",
    "**Interpretation**\n",
    "- H0: The two samples are independent.\n",
    "- H1: There is a dependency between the samples."
   ]
  },
  {
   "cell_type": "code",
   "execution_count": 78,
   "id": "d2db804d",
   "metadata": {},
   "outputs": [
    {
     "name": "stdout",
     "output_type": "stream",
     "text": [
      "stat=0.688, p=0.028\n",
      "Probably dependent\n"
     ]
    }
   ],
   "source": [
    "# Example of The Pearson's Correlation Test\n",
    "from scipy.stats import pearsonr\n",
    "data1 = [0.873, 2.817, 0.121, -0.945, -0.055, -1.436, 0.360, -1.478, -1.637, -1.869]\n",
    "data2 = [0.353, 3.517, 0.125, -7.545, -0.555, -1.536, 3.350, -1.578, -3.537, -1.579]\n",
    "\n",
    "stat, p = pearsonr(data1, data2)\n",
    "print('stat=%.3f, p=%.3f' % (stat, p))\n",
    "if (p > 0.05):\n",
    "    print('Probably independent')\n",
    "else:\n",
    "    print('Probably dependent')"
   ]
  },
  {
   "cell_type": "markdown",
   "id": "5f7aa9f1",
   "metadata": {},
   "source": [
    "#### Spearman's Rank Correlation\n",
    "\n",
    "Tests whether two samples have monotonic relationship.\n",
    "\n",
    "**Assumptions**\n",
    "\n",
    "Observations in each sample are independent and identically distributed (iid). Observations in each sample can be ranked.\n",
    "\n",
    "**Interpretation**\n",
    "\n",
    "- H0: The two samples are independent.\n",
    "- H1: There is a dependency between the samples."
   ]
  },
  {
   "cell_type": "code",
   "execution_count": 81,
   "id": "33e1f8be",
   "metadata": {},
   "outputs": [
    {
     "name": "stdout",
     "output_type": "stream",
     "text": [
      "stat=0.855, p=0.002\n",
      "Probably dependent\n"
     ]
    }
   ],
   "source": [
    "# Example of the Spearman's Rank Correlation Test\n",
    "from scipy.stats import spearmanr\n",
    "data1 = [0.873, 2.817, 0.121, -0.945, -0.055, -1.436, 0.360, -1.478, -1.637, -1.869]\n",
    "data2 = [0.353, 3.517, 0.125, -7.545, -0.555, -1.536, 3.350, -1.578, -3.537, -1.579]\n",
    "\n",
    "stat, p = spearmanr(data1, data2)\n",
    "print('stat=%.3f, p=%.3f' % (stat, p))\n",
    "if (p > 0.05):\n",
    "    print('Probably independent')\n",
    "else:\n",
    "    print('Probably dependent')"
   ]
  },
  {
   "cell_type": "markdown",
   "id": "625b9956",
   "metadata": {},
   "source": [
    "#### Kendall's Rank Correlation\n",
    "\n",
    "Tests whether two samples have monotonic relationship.\n",
    "\n",
    "**Assumptions**\n",
    "\n",
    "- Observations in each sample are independent and identically distributed (iid).\n",
    "- Observations in each sample can be ranked.\n",
    "\n",
    "**Interpretation**\n",
    "\n",
    "- H0: The two samples are independent.\n",
    "- H1: There is a dependency between the samples."
   ]
  },
  {
   "cell_type": "code",
   "execution_count": 82,
   "id": "b66a8b53",
   "metadata": {},
   "outputs": [
    {
     "name": "stdout",
     "output_type": "stream",
     "text": [
      "stat=0.733, p=0.002\n",
      "Probably dependent\n"
     ]
    }
   ],
   "source": [
    "# Example of the Kendall's Rank Correlation Test\n",
    "from scipy.stats import kendalltau\n",
    "data1 = [0.873, 2.817, 0.121, -0.945, -0.055, -1.436, 0.360, -1.478, -1.637, -1.869]\n",
    "data2 = [0.353, 3.517, 0.125, -7.545, -0.555, -1.536, 3.350, -1.578, -3.537, -1.579]\n",
    "\n",
    "stat, p = kendalltau(data1, data2)\n",
    "print('stat=%.3f, p=%.3f' % (stat, p))\n",
    "if (p > 0.05):\n",
    "    print('Probably independent')\n",
    "else:\n",
    "    print('Probably dependent')"
   ]
  },
  {
   "cell_type": "markdown",
   "id": "8caed95b",
   "metadata": {},
   "source": [
    "#### Chi-Squared Test\n",
    "\n",
    "Tests whether two categorical variables are related or independent\n",
    "\n",
    "**Assumptions**\n",
    "- Observations used in the calculation of the contigency table are independent\n",
    "\n",
    "**Interpretation**\n",
    "- H0: The two samples are independent\n",
    "- H1: There is a dependency between the samples."
   ]
  },
  {
   "cell_type": "code",
   "execution_count": 83,
   "id": "d6cb3970",
   "metadata": {},
   "outputs": [
    {
     "name": "stdout",
     "output_type": "stream",
     "text": [
      "stat=0.272, p=0.873\n",
      "Probably independent\n"
     ]
    }
   ],
   "source": [
    "# Example of the Chi-Squared Test\n",
    "from scipy.stats import chi2_contingency\n",
    "table = [[10, 20, 30], [6, 9, 17]]\n",
    "stat, p, dof, expected = chi2_contingency(table)\n",
    "print('stat=%.3f, p=%.3f' % (stat, p))\n",
    "if (p > 0.05):\n",
    "    print('Probably independent')\n",
    "else:\n",
    "    print('Probably dependent')"
   ]
  },
  {
   "cell_type": "markdown",
   "id": "88833d34",
   "metadata": {},
   "source": [
    "### Stationary Tests\n",
    "\n",
    "This section lists statistical tests that you can use to check if a time series is stationary or not.\n",
    "\n",
    "#### Augmented Dickey-Fuller Unit Root Test\n",
    "\n",
    "Tests whether a time serires has a unit root, e.g. has a trend or more generally is autoregressive.\n",
    "\n",
    "**Assumptions**\n",
    "Observations in are temporally ordered.\n",
    "\n",
    "**Interpretation**\n",
    "- H0: A unit root is present (series is non-stationary)\n",
    "- H1: A unit root is not present (series is stationary)"
   ]
  },
  {
   "cell_type": "code",
   "execution_count": 84,
   "id": "368acfe2",
   "metadata": {},
   "outputs": [
    {
     "name": "stdout",
     "output_type": "stream",
     "text": [
      "stat=0.992, p=0.994\n",
      "Probably not stationary\n"
     ]
    }
   ],
   "source": [
    "# Example of The Augmented Dickey-Fuller unit root test\n",
    "from statsmodels.tsa.stattools import adfuller\n",
    "data = [0, 1, 2, 3, 4, 5, 6, 7, 8, 9]\n",
    "stat, p, lags, obs, crit, t = adfuller(data)\n",
    "print('stat=%.3f, p=%.3f' % (stat, p))\n",
    "\n",
    "if (p > 0.05):\n",
    "    print('Probably not stationary')\n",
    "else:\n",
    "    print('Probably stationary')"
   ]
  },
  {
   "cell_type": "markdown",
   "id": "489df9d1",
   "metadata": {},
   "source": [
    "#### Kwiatkowski-Phillips-Schmidt-Shin\n",
    "\n",
    "Tests whether a time series is trend stationary or not.\n",
    "\n",
    "**Assumptions**\n",
    "Observations in are temporarily ordered.\n",
    "\n",
    "**Interpretation**\n",
    "- H0: The time series is not trend-stationary.\n",
    "- H1: The time series is trend-stationary."
   ]
  },
  {
   "cell_type": "code",
   "execution_count": 85,
   "id": "9e3b8dd5",
   "metadata": {},
   "outputs": [
    {
     "name": "stdout",
     "output_type": "stream",
     "text": [
      "stat=0.410, p=0.073\n",
      "Probably not Stationary\n"
     ]
    },
    {
     "name": "stderr",
     "output_type": "stream",
     "text": [
      "D:\\anaconda3\\lib\\site-packages\\statsmodels\\tsa\\stattools.py:1875: FutureWarning: The behavior of using nlags=None will change in release 0.13.Currently nlags=None is the same as nlags=\"legacy\", and so a sample-size lag length is used. After the next release, the default will change to be the same as nlags=\"auto\" which uses an automatic lag length selection method. To silence this warning, either use \"auto\" or \"legacy\"\n",
      "  warnings.warn(msg, FutureWarning)\n"
     ]
    }
   ],
   "source": [
    "# Example of the Kwiatkowski-Phillips-Schmidt-Shin test\n",
    "from statsmodels.tsa.stattools import kpss\n",
    "data = [0, 1, 2, 3, 4, 5, 6, 7, 8, 9]\n",
    "stat, p, lags, crit = kpss(data)\n",
    "print('stat=%.3f, p=%.3f' % (stat, p))\n",
    "if (p > 0.05):\n",
    "    print('Probably not Stationary')\n",
    "else:\n",
    "    print('Probably Stationary')"
   ]
  },
  {
   "cell_type": "markdown",
   "id": "03e13ab2",
   "metadata": {},
   "source": [
    "### Parametric Statistical Hypothesis Tests\n",
    "\n",
    "This section lists statistical tests that you can use to compare data samples.\n",
    "\n",
    "#### Student's t-test\n",
    "\n",
    "Tests whether the means of two independent samples are significantly different.\n",
    "\n",
    "**Assumptions**\n",
    "- Observations in each sample are independent and identically distributed (iid).\n",
    "- Observations in each sample are normally distributed.\n",
    "- Observations in each sample have the same variance.\n",
    "\n",
    "**Interpretation**\n",
    "- H0: The means of the samples are equal.\n",
    "- H1: The means of the samples are unequal."
   ]
  },
  {
   "cell_type": "code",
   "execution_count": 86,
   "id": "0e459b24",
   "metadata": {},
   "outputs": [
    {
     "name": "stdout",
     "output_type": "stream",
     "text": [
      "stat=0.515, p=0.613\n",
      "Probably the same distribution\n"
     ]
    }
   ],
   "source": [
    "# Example of the Student's t-test\n",
    "from scipy.stats import ttest_ind\n",
    "data1 = [0.873, 2.817, 0.121, -0.945, -0.055, -1.436, 0.360, -1.478, -1.637, -1.869]\n",
    "data2 = [0.353, 3.517, 0.125, -7.545, -0.555, -1.536, 3.350, -1.578, -3.537, -1.579]\n",
    "\n",
    "stat, p = ttest_ind(data1, data2)\n",
    "print('stat=%.3f, p=%.3f' % (stat, p))\n",
    "if (p > 0.05):\n",
    "    print('Probably the same distribution')\n",
    "else:\n",
    "    print('Probably different distribution')"
   ]
  },
  {
   "cell_type": "markdown",
   "id": "f37c8528",
   "metadata": {},
   "source": [
    "#### Paired Student's t-test\n",
    "\n",
    "Tests whether the means of two paired samples are significantly different.\n",
    "\n",
    "**Assumptions**\n",
    "- Observations in each sample are independent and identically distributed (iid),\n",
    "- Observations in each sample are normally distributed.\n",
    "- Observations in each sample have the same variance.\n",
    "- Observations across each sample are paired.\n",
    "\n",
    "**Interpretation**\n",
    "- H0: The means of the samples are equal.\n",
    "- H1: The means of the samples are unequal."
   ]
  },
  {
   "cell_type": "code",
   "execution_count": 88,
   "id": "d3531ee5",
   "metadata": {},
   "outputs": [
    {
     "name": "stdout",
     "output_type": "stream",
     "text": [
      "stat=-0.138, p=0.893\n",
      "Probably the same distribution\n"
     ]
    }
   ],
   "source": [
    "# Example of the Paired's Student's t-test\n",
    "\n",
    "from scipy.stats import ttest_rel\n",
    "data1 = [0.873, 2.817, 0.121, -0.945, -0.055, -1.436, 0.360, -1.478, -1.637, -1.869]\n",
    "data2 = [1.142, -0.432, -0.938, -0.729, -0.846, -0.157, -0.500, 1.183, -1.075, -0.169]\n",
    "\n",
    "stat, p = ttest_rel(data1, data2)\n",
    "print('stat=%.3f, p=%.3f' % (stat, p))\n",
    "if (p > 0.05):\n",
    "    print('Probably the same distribution')\n",
    "else:\n",
    "    print('Probably different distribution')"
   ]
  },
  {
   "cell_type": "markdown",
   "id": "d544fa0b",
   "metadata": {},
   "source": [
    "#### Analysis of Variance Test (ANOVA)\n",
    "\n",
    "Tests whether the means of two or more independent samples are significantly different.\n",
    "\n",
    "**Assumptions**\n",
    "- Observations in each sample are independent and identically distributed (iid).\n",
    "- Observations in each sample are normally distributed.\n",
    "- Observations in each sample have the same variance.\n",
    "\n",
    "**Interpretation**\n",
    "- H0: The means of the samples are equal.\n",
    "- H1: One or more of the means of the samples are unequal."
   ]
  },
  {
   "cell_type": "code",
   "execution_count": 90,
   "id": "29e6cab5",
   "metadata": {},
   "outputs": [
    {
     "name": "stdout",
     "output_type": "stream",
     "text": [
      "stat=0.080, p=0.923\n",
      "Probably the same distribution\n"
     ]
    }
   ],
   "source": [
    "from scipy.stats import f_oneway\n",
    "data1 = [0.873, 2.817, 0.121, -0.945, -0.055, -1.436, 0.360, -1.478, -1.637, -1.869]\n",
    "data2 = [1.142, -0.432, -0.938, -0.729, -0.846, -0.157, -0.500, 1.183, -1.075, -0.169]\n",
    "data3 = [-0.208, 0.696, 0.928, -1.148, -0.213, 0.229, 0.137, 0.269, -0.870, -1.204]\n",
    "\n",
    "stat, p = f_oneway(data1, data2, data3)\n",
    "print('stat=%.3f, p=%.3f' % (stat, p))\n",
    "if (p > 0.05):\n",
    "    print('Probably the same distribution')\n",
    "else:\n",
    "    print('Probably different distribution')"
   ]
  },
  {
   "cell_type": "markdown",
   "id": "317b9235",
   "metadata": {},
   "source": [
    "#### Mann-Whitney U Test\n",
    "\n",
    "Tests whether the distribution of two independent samples are equal or not.\n",
    "\n",
    "**Assumptions**\n",
    "- Observations in each sample are independent and identically distributed (iid).\n",
    "- Observations in each sample can be ranked.\n",
    "\n",
    "**Interpretation**\n",
    "- H0: The distributions of both samples are equal.\n",
    "- H1: The distributions of both samples are not equal"
   ]
  },
  {
   "cell_type": "code",
   "execution_count": 91,
   "id": "91876aa2",
   "metadata": {},
   "outputs": [
    {
     "name": "stdout",
     "output_type": "stream",
     "text": [
      "stat=43.000, p=0.623\n",
      "Probably the same distribution\n"
     ]
    }
   ],
   "source": [
    "from scipy.stats import mannwhitneyu\n",
    "data1 = [0.873, 2.817, 0.121, -0.945, -0.055, -1.436, 0.360, -1.478, -1.637, -1.869]\n",
    "data2 = [1.142, -0.432, -0.938, -0.729, -0.846, -0.157, -0.500, 1.183, -1.075, -0.169]\n",
    "\n",
    "stat, p = mannwhitneyu(data1, data2)\n",
    "print('stat=%.3f, p=%.3f' % (stat, p))\n",
    "if (p > 0.05):\n",
    "    print('Probably the same distribution')\n",
    "else:\n",
    "    print('Probably different distribution')"
   ]
  },
  {
   "cell_type": "markdown",
   "id": "97433779",
   "metadata": {},
   "source": [
    "#### Wilcoxon Signed-Rank Test\n",
    "\n",
    "Tests whether the distribution of two paired samples are equal or not.\n",
    "\n",
    "**Assumptions**\n",
    "- Observations in each sample are independent and identically distributed (iid).\n",
    "- Observations in each sample can be ranked.\n",
    "- Observations across each sample are paired.\n",
    "\n",
    "**Interpretation**\n",
    "- H0: The distributions of both samples are equal.\n",
    "- H1: The distributions of both samples are not equal"
   ]
  },
  {
   "cell_type": "code",
   "execution_count": 92,
   "id": "0ea25146",
   "metadata": {},
   "outputs": [
    {
     "name": "stdout",
     "output_type": "stream",
     "text": [
      "stat=25.000, p=0.846\n",
      "Probably the same distribution\n"
     ]
    }
   ],
   "source": [
    "# Example of The Wilcoxon Signed-Rank Test\n",
    "\n",
    "from scipy.stats import wilcoxon\n",
    "data1 = [0.873, 2.817, 0.121, -0.945, -0.055, -1.436, 0.360, -1.478, -1.637, -1.869]\n",
    "data2 = [1.142, -0.432, -0.938, -0.729, -0.846, -0.157, -0.500, 1.183, -1.075, -0.169]\n",
    "\n",
    "stat, p = wilcoxon(data1, data2)\n",
    "print('stat=%.3f, p=%.3f' % (stat, p))\n",
    "if (p > 0.05):\n",
    "    print('Probably the same distribution')\n",
    "else:\n",
    "    print('Probably different distribution')"
   ]
  },
  {
   "cell_type": "markdown",
   "id": "0f92208e",
   "metadata": {},
   "source": [
    "#### Kruskal-Wallis H Test\n",
    "\n",
    "Tests whether the distribution of two independent samples are equal or not.\n",
    "\n",
    "**Assumptions**\n",
    "- Observations in each sample are independent and identically distributed (iid).\n",
    "- Observations in each sample can be ranked.\n",
    "\n",
    "**Interpretation**\n",
    "- H0: The distributions of both samples are equal.\n",
    "- H1: The distributions of both samples are not equal"
   ]
  },
  {
   "cell_type": "code",
   "execution_count": 93,
   "id": "859520ea",
   "metadata": {},
   "outputs": [
    {
     "name": "stdout",
     "output_type": "stream",
     "text": [
      "stat=0.280, p=0.597\n",
      "Probably the same distribution\n"
     ]
    }
   ],
   "source": [
    "# Example of The Kruskal-Wallis H Test\n",
    "\n",
    "from scipy.stats import kruskal\n",
    "data1 = [0.873, 2.817, 0.121, -0.945, -0.055, -1.436, 0.360, -1.478, -1.637, -1.869]\n",
    "data2 = [1.142, -0.432, -0.938, -0.729, -0.846, -0.157, -0.500, 1.183, -1.075, -0.169]\n",
    "\n",
    "stat, p = kruskal(data1, data2)\n",
    "print('stat=%.3f, p=%.3f' % (stat, p))\n",
    "if (p > 0.05):\n",
    "    print('Probably the same distribution')\n",
    "else:\n",
    "    print('Probably different distribution')"
   ]
  },
  {
   "cell_type": "markdown",
   "id": "bd3be1b0",
   "metadata": {},
   "source": [
    "#### Wilcoxon Signed-Rank Test\n",
    "\n",
    "Tests whether the distribution of two or more paired samples are equal or not.\n",
    "\n",
    "**Assumptions**\n",
    "- Observations in each sample are independent and identically distributed (iid).\n",
    "- Observations in each sample can be ranked.\n",
    "- Observations across each sample are paired.\n",
    "\n",
    "**Interpretation**\n",
    "- H0: The distributions of both samples are equal.\n",
    "- H1: The distributions of both samples are not equal"
   ]
  },
  {
   "cell_type": "code",
   "execution_count": 94,
   "id": "dfa56b14",
   "metadata": {},
   "outputs": [
    {
     "name": "stdout",
     "output_type": "stream",
     "text": [
      "stat=0.200, p=0.905\n",
      "Probably the same distribution\n"
     ]
    }
   ],
   "source": [
    "# Example of the Friedman Test\n",
    "\n",
    "from scipy.stats import friedmanchisquare\n",
    "data1 = [0.873, 2.817, 0.121, -0.945, -0.055, -1.436, 0.360, -1.478, -1.637, -1.869]\n",
    "data2 = [1.142, -0.432, -0.938, -0.729, -0.846, -0.157, -0.500, 1.183, -1.075, -0.169]\n",
    "data3 = [-0.208, 0.696, 0.928, -1.148, -0.213, 0.229, 0.137, 0.269, -0.870, -1.204]\n",
    "\n",
    "stat, p = friedmanchisquare(data1, data2, data3)\n",
    "print('stat=%.3f, p=%.3f' % (stat, p))\n",
    "if (p > 0.05):\n",
    "    print('Probably the same distribution')\n",
    "else:\n",
    "    print('Probably different distribution')"
   ]
  }
 ],
 "metadata": {
  "kernelspec": {
   "display_name": "Python 3 (ipykernel)",
   "language": "python",
   "name": "python3"
  },
  "language_info": {
   "codemirror_mode": {
    "name": "ipython",
    "version": 3
   },
   "file_extension": ".py",
   "mimetype": "text/x-python",
   "name": "python",
   "nbconvert_exporter": "python",
   "pygments_lexer": "ipython3",
   "version": "3.9.7"
  },
  "toc": {
   "base_numbering": 1,
   "nav_menu": {},
   "number_sections": true,
   "sideBar": true,
   "skip_h1_title": false,
   "title_cell": "Table of Contents",
   "title_sidebar": "Contents",
   "toc_cell": false,
   "toc_position": {},
   "toc_section_display": true,
   "toc_window_display": true
  }
 },
 "nbformat": 4,
 "nbformat_minor": 5
}
