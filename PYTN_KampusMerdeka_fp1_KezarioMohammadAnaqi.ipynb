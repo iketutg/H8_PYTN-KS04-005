{
 "cells": [
  {
   "cell_type": "markdown",
   "metadata": {
    "id": "Xk-QK40z1Dz-"
   },
   "source": [
    "# FINAL PROJECT 1 KAMPUS MERDEKA HACKTIV8\n",
    "Nama Kelompok :\n",
    "- Kezario Muhammad Anaqi (PYTN-KS04-005)\n",
    "- Helmi Saifullah Mansur (PYTN-KS04-010)"
   ]
  },
  {
   "cell_type": "markdown",
   "metadata": {
    "id": "KJH5zhpS1D0L"
   },
   "source": [
    "## 1. Overview (Perkenalan)\n",
    "#### **Latar Belakang**\n",
    "Perkembangan teknologi semakin hari semakin tinggi seimbang dengan mobilitas manusia. Manusia melakukan perpindahan dari sutu tempat ke tempat lain dengan menggunakan kendaraan baik motor atau mobil. Dengan adanya perkembangan teknologi hal itu dapat diatasi salah satunya dengan adanya taksi online, dimana customer dapat memesan taksi dengan jenis yang diinginkan secara mudah dan praktis.\n",
    "\n",
    "Namun tingginya permintaan taksi online menyebabkan banyak perusahaan berlomba untuk dapat memberikan pelayanan yang memuaskan. Dengan adanya data yang tersimpan, dapat dilakukan prediksi seperti tarif taksi berdasarkan pengaruh - pengaruhya berdasarkan data histori pemesanan.\n",
    "\n",
    "#### **Dataset**\n",
    "Dataset yang digunakan pada analisis ini yaitu Uber vs Lyft Dataset yang diunduh dari kaggle melalui [link berikut](https://www.kaggle.com/datasets/brllrb/uber-and-lyft-dataset-boston-ma)\n",
    "\n",
    "Dataset ini berisikan data pemesanan taksi online yang dilengkapi dengan 57 atribut dengan 693071 rows. Atribut yang menjadi target yaitu atribut Price/Tarif, sedangkan atribut lainnya merupakan prediktor.\n",
    "\n",
    "#### **Objective yang ingin dicapai**\n",
    "Objective yang ingin dicapai dalam analisis ini yaitu:\n",
    "\n",
    "- Memahami konsep regression dengan linear regression serta mempersiapkan data untuk digunakan dalam model linear regression\n",
    "\n",
    "- Dapat mengimplementasikan linear regression untuk membuat prediksi tarif harga taksi berdasarkan faktor signifikan yang mempengaruhinya\n",
    "\n",
    "- Mengetahui faktor-faktor yang berpengaruh signifikan dalam memprediksi tarif harga Taksi "
   ]
  },
  {
   "cell_type": "markdown",
   "metadata": {
    "id": "JN8JiZKK1D0N"
   },
   "source": [
    "## 2. Import Pustaka yang Dibutuhkan"
   ]
  },
  {
   "cell_type": "code",
   "execution_count": 1,
   "metadata": {
    "id": "YHA0KN-j1lUP"
   },
   "outputs": [],
   "source": [
    "# import linrary (blm semuanya)\n",
    "%matplotlib inline\n",
    "import pandas as pd\n",
    "import numpy as np\n",
    "import matplotlib.pyplot as plt\n",
    "import seaborn as sns\n",
    "from sklearn.preprocessing import LabelEncoder\n",
    "from sklearn.preprocessing import StandardScaler\n",
    "from sklearn import linear_model\n",
    "from sklearn.linear_model import LinearRegression\n",
    "from sklearn.model_selection import train_test_split\n",
    "from mlxtend.feature_selection import SequentialFeatureSelector\n",
    "from sklearn.feature_selection import SelectKBest\n",
    "from sklearn.feature_selection import f_regression\n",
    "from sklearn.pipeline import Pipeline\n",
    "from sklearn.pipeline import make_pipeline\n",
    "from sklearn.metrics import r2_score\n",
    "from sklearn.metrics import mean_squared_error\n",
    "import statsmodels.api as sm\n",
    "from scipy import stats\n",
    "from sklearn.ensemble import RandomForestRegressor\n",
    "import pickle"
   ]
  },
  {
   "cell_type": "markdown",
   "metadata": {
    "id": "K3Na9VE71D0P"
   },
   "source": [
    "## 3. Data Loading\n",
    "Bagian ini berisi proses data loading yang kemudian dilanjutkan dengan\n",
    "explorasi data secara sederhana.\n",
    "\n",
    "a. Melakukan loading data dengan menggunakan pandas\n",
    "\n"
   ]
  },
  {
   "cell_type": "code",
   "execution_count": 2,
   "metadata": {
    "id": "fz0bylGw4szU"
   },
   "outputs": [],
   "source": [
    "df = pd.read_csv('dataset/rideshare_kaggle.csv')"
   ]
  },
  {
   "cell_type": "markdown",
   "metadata": {
    "id": "PEteYQ6g6bWO"
   },
   "source": [
    "b. Melakukan setting untuk menampilkan semua kolom pada dataframe "
   ]
  },
  {
   "cell_type": "code",
   "execution_count": 3,
   "metadata": {
    "id": "tVByoEa06RGc"
   },
   "outputs": [],
   "source": [
    "pd.set_option(\"display.max_columns\", None)"
   ]
  },
  {
   "cell_type": "markdown",
   "metadata": {
    "id": "fTDeBA_S7r8h"
   },
   "source": [
    "c. Melihat 5 baris teratas pada dataset"
   ]
  },
  {
   "cell_type": "code",
   "execution_count": 4,
   "metadata": {
    "colab": {
     "base_uri": "https://localhost:8080/",
     "height": 531
    },
    "id": "NeoeVTon7ypp",
    "outputId": "675c2054-f0d8-4b66-bcd6-01d685641abb"
   },
   "outputs": [
    {
     "data": {
      "text/html": [
       "<div>\n",
       "<style scoped>\n",
       "    .dataframe tbody tr th:only-of-type {\n",
       "        vertical-align: middle;\n",
       "    }\n",
       "\n",
       "    .dataframe tbody tr th {\n",
       "        vertical-align: top;\n",
       "    }\n",
       "\n",
       "    .dataframe thead th {\n",
       "        text-align: right;\n",
       "    }\n",
       "</style>\n",
       "<table border=\"1\" class=\"dataframe\">\n",
       "  <thead>\n",
       "    <tr style=\"text-align: right;\">\n",
       "      <th></th>\n",
       "      <th>id</th>\n",
       "      <th>timestamp</th>\n",
       "      <th>hour</th>\n",
       "      <th>day</th>\n",
       "      <th>month</th>\n",
       "      <th>datetime</th>\n",
       "      <th>timezone</th>\n",
       "      <th>source</th>\n",
       "      <th>destination</th>\n",
       "      <th>cab_type</th>\n",
       "      <th>product_id</th>\n",
       "      <th>name</th>\n",
       "      <th>price</th>\n",
       "      <th>distance</th>\n",
       "      <th>surge_multiplier</th>\n",
       "      <th>latitude</th>\n",
       "      <th>longitude</th>\n",
       "      <th>temperature</th>\n",
       "      <th>apparentTemperature</th>\n",
       "      <th>short_summary</th>\n",
       "      <th>long_summary</th>\n",
       "      <th>precipIntensity</th>\n",
       "      <th>precipProbability</th>\n",
       "      <th>humidity</th>\n",
       "      <th>windSpeed</th>\n",
       "      <th>windGust</th>\n",
       "      <th>windGustTime</th>\n",
       "      <th>visibility</th>\n",
       "      <th>temperatureHigh</th>\n",
       "      <th>temperatureHighTime</th>\n",
       "      <th>temperatureLow</th>\n",
       "      <th>temperatureLowTime</th>\n",
       "      <th>apparentTemperatureHigh</th>\n",
       "      <th>apparentTemperatureHighTime</th>\n",
       "      <th>apparentTemperatureLow</th>\n",
       "      <th>apparentTemperatureLowTime</th>\n",
       "      <th>icon</th>\n",
       "      <th>dewPoint</th>\n",
       "      <th>pressure</th>\n",
       "      <th>windBearing</th>\n",
       "      <th>cloudCover</th>\n",
       "      <th>uvIndex</th>\n",
       "      <th>visibility.1</th>\n",
       "      <th>ozone</th>\n",
       "      <th>sunriseTime</th>\n",
       "      <th>sunsetTime</th>\n",
       "      <th>moonPhase</th>\n",
       "      <th>precipIntensityMax</th>\n",
       "      <th>uvIndexTime</th>\n",
       "      <th>temperatureMin</th>\n",
       "      <th>temperatureMinTime</th>\n",
       "      <th>temperatureMax</th>\n",
       "      <th>temperatureMaxTime</th>\n",
       "      <th>apparentTemperatureMin</th>\n",
       "      <th>apparentTemperatureMinTime</th>\n",
       "      <th>apparentTemperatureMax</th>\n",
       "      <th>apparentTemperatureMaxTime</th>\n",
       "    </tr>\n",
       "  </thead>\n",
       "  <tbody>\n",
       "    <tr>\n",
       "      <th>0</th>\n",
       "      <td>424553bb-7174-41ea-aeb4-fe06d4f4b9d7</td>\n",
       "      <td>1.544953e+09</td>\n",
       "      <td>9</td>\n",
       "      <td>16</td>\n",
       "      <td>12</td>\n",
       "      <td>2018-12-16 09:30:07</td>\n",
       "      <td>America/New_York</td>\n",
       "      <td>Haymarket Square</td>\n",
       "      <td>North Station</td>\n",
       "      <td>Lyft</td>\n",
       "      <td>lyft_line</td>\n",
       "      <td>Shared</td>\n",
       "      <td>5.0</td>\n",
       "      <td>0.44</td>\n",
       "      <td>1.0</td>\n",
       "      <td>42.2148</td>\n",
       "      <td>-71.033</td>\n",
       "      <td>42.34</td>\n",
       "      <td>37.12</td>\n",
       "      <td>Mostly Cloudy</td>\n",
       "      <td>Rain throughout the day.</td>\n",
       "      <td>0.0000</td>\n",
       "      <td>0.0</td>\n",
       "      <td>0.68</td>\n",
       "      <td>8.66</td>\n",
       "      <td>9.17</td>\n",
       "      <td>1545015600</td>\n",
       "      <td>10.000</td>\n",
       "      <td>43.68</td>\n",
       "      <td>1544968800</td>\n",
       "      <td>34.19</td>\n",
       "      <td>1545048000</td>\n",
       "      <td>37.95</td>\n",
       "      <td>1544968800</td>\n",
       "      <td>27.39</td>\n",
       "      <td>1545044400</td>\n",
       "      <td>partly-cloudy-night</td>\n",
       "      <td>32.70</td>\n",
       "      <td>1021.98</td>\n",
       "      <td>57</td>\n",
       "      <td>0.72</td>\n",
       "      <td>0</td>\n",
       "      <td>10.000</td>\n",
       "      <td>303.8</td>\n",
       "      <td>1544962084</td>\n",
       "      <td>1544994864</td>\n",
       "      <td>0.30</td>\n",
       "      <td>0.1276</td>\n",
       "      <td>1544979600</td>\n",
       "      <td>39.89</td>\n",
       "      <td>1545012000</td>\n",
       "      <td>43.68</td>\n",
       "      <td>1544968800</td>\n",
       "      <td>33.73</td>\n",
       "      <td>1545012000</td>\n",
       "      <td>38.07</td>\n",
       "      <td>1544958000</td>\n",
       "    </tr>\n",
       "    <tr>\n",
       "      <th>1</th>\n",
       "      <td>4bd23055-6827-41c6-b23b-3c491f24e74d</td>\n",
       "      <td>1.543284e+09</td>\n",
       "      <td>2</td>\n",
       "      <td>27</td>\n",
       "      <td>11</td>\n",
       "      <td>2018-11-27 02:00:23</td>\n",
       "      <td>America/New_York</td>\n",
       "      <td>Haymarket Square</td>\n",
       "      <td>North Station</td>\n",
       "      <td>Lyft</td>\n",
       "      <td>lyft_premier</td>\n",
       "      <td>Lux</td>\n",
       "      <td>11.0</td>\n",
       "      <td>0.44</td>\n",
       "      <td>1.0</td>\n",
       "      <td>42.2148</td>\n",
       "      <td>-71.033</td>\n",
       "      <td>43.58</td>\n",
       "      <td>37.35</td>\n",
       "      <td>Rain</td>\n",
       "      <td>Rain until morning, starting again in the eve...</td>\n",
       "      <td>0.1299</td>\n",
       "      <td>1.0</td>\n",
       "      <td>0.94</td>\n",
       "      <td>11.98</td>\n",
       "      <td>11.98</td>\n",
       "      <td>1543291200</td>\n",
       "      <td>4.786</td>\n",
       "      <td>47.30</td>\n",
       "      <td>1543251600</td>\n",
       "      <td>42.10</td>\n",
       "      <td>1543298400</td>\n",
       "      <td>43.92</td>\n",
       "      <td>1543251600</td>\n",
       "      <td>36.20</td>\n",
       "      <td>1543291200</td>\n",
       "      <td>rain</td>\n",
       "      <td>41.83</td>\n",
       "      <td>1003.97</td>\n",
       "      <td>90</td>\n",
       "      <td>1.00</td>\n",
       "      <td>0</td>\n",
       "      <td>4.786</td>\n",
       "      <td>291.1</td>\n",
       "      <td>1543232969</td>\n",
       "      <td>1543266992</td>\n",
       "      <td>0.64</td>\n",
       "      <td>0.1300</td>\n",
       "      <td>1543251600</td>\n",
       "      <td>40.49</td>\n",
       "      <td>1543233600</td>\n",
       "      <td>47.30</td>\n",
       "      <td>1543251600</td>\n",
       "      <td>36.20</td>\n",
       "      <td>1543291200</td>\n",
       "      <td>43.92</td>\n",
       "      <td>1543251600</td>\n",
       "    </tr>\n",
       "    <tr>\n",
       "      <th>2</th>\n",
       "      <td>981a3613-77af-4620-a42a-0c0866077d1e</td>\n",
       "      <td>1.543367e+09</td>\n",
       "      <td>1</td>\n",
       "      <td>28</td>\n",
       "      <td>11</td>\n",
       "      <td>2018-11-28 01:00:22</td>\n",
       "      <td>America/New_York</td>\n",
       "      <td>Haymarket Square</td>\n",
       "      <td>North Station</td>\n",
       "      <td>Lyft</td>\n",
       "      <td>lyft</td>\n",
       "      <td>Lyft</td>\n",
       "      <td>7.0</td>\n",
       "      <td>0.44</td>\n",
       "      <td>1.0</td>\n",
       "      <td>42.2148</td>\n",
       "      <td>-71.033</td>\n",
       "      <td>38.33</td>\n",
       "      <td>32.93</td>\n",
       "      <td>Clear</td>\n",
       "      <td>Light rain in the morning.</td>\n",
       "      <td>0.0000</td>\n",
       "      <td>0.0</td>\n",
       "      <td>0.75</td>\n",
       "      <td>7.33</td>\n",
       "      <td>7.33</td>\n",
       "      <td>1543334400</td>\n",
       "      <td>10.000</td>\n",
       "      <td>47.55</td>\n",
       "      <td>1543320000</td>\n",
       "      <td>33.10</td>\n",
       "      <td>1543402800</td>\n",
       "      <td>44.12</td>\n",
       "      <td>1543320000</td>\n",
       "      <td>29.11</td>\n",
       "      <td>1543392000</td>\n",
       "      <td>clear-night</td>\n",
       "      <td>31.10</td>\n",
       "      <td>992.28</td>\n",
       "      <td>240</td>\n",
       "      <td>0.03</td>\n",
       "      <td>0</td>\n",
       "      <td>10.000</td>\n",
       "      <td>315.7</td>\n",
       "      <td>1543319437</td>\n",
       "      <td>1543353364</td>\n",
       "      <td>0.68</td>\n",
       "      <td>0.1064</td>\n",
       "      <td>1543338000</td>\n",
       "      <td>35.36</td>\n",
       "      <td>1543377600</td>\n",
       "      <td>47.55</td>\n",
       "      <td>1543320000</td>\n",
       "      <td>31.04</td>\n",
       "      <td>1543377600</td>\n",
       "      <td>44.12</td>\n",
       "      <td>1543320000</td>\n",
       "    </tr>\n",
       "    <tr>\n",
       "      <th>3</th>\n",
       "      <td>c2d88af2-d278-4bfd-a8d0-29ca77cc5512</td>\n",
       "      <td>1.543554e+09</td>\n",
       "      <td>4</td>\n",
       "      <td>30</td>\n",
       "      <td>11</td>\n",
       "      <td>2018-11-30 04:53:02</td>\n",
       "      <td>America/New_York</td>\n",
       "      <td>Haymarket Square</td>\n",
       "      <td>North Station</td>\n",
       "      <td>Lyft</td>\n",
       "      <td>lyft_luxsuv</td>\n",
       "      <td>Lux Black XL</td>\n",
       "      <td>26.0</td>\n",
       "      <td>0.44</td>\n",
       "      <td>1.0</td>\n",
       "      <td>42.2148</td>\n",
       "      <td>-71.033</td>\n",
       "      <td>34.38</td>\n",
       "      <td>29.63</td>\n",
       "      <td>Clear</td>\n",
       "      <td>Partly cloudy throughout the day.</td>\n",
       "      <td>0.0000</td>\n",
       "      <td>0.0</td>\n",
       "      <td>0.73</td>\n",
       "      <td>5.28</td>\n",
       "      <td>5.28</td>\n",
       "      <td>1543514400</td>\n",
       "      <td>10.000</td>\n",
       "      <td>45.03</td>\n",
       "      <td>1543510800</td>\n",
       "      <td>28.90</td>\n",
       "      <td>1543579200</td>\n",
       "      <td>38.53</td>\n",
       "      <td>1543510800</td>\n",
       "      <td>26.20</td>\n",
       "      <td>1543575600</td>\n",
       "      <td>clear-night</td>\n",
       "      <td>26.64</td>\n",
       "      <td>1013.73</td>\n",
       "      <td>310</td>\n",
       "      <td>0.00</td>\n",
       "      <td>0</td>\n",
       "      <td>10.000</td>\n",
       "      <td>291.1</td>\n",
       "      <td>1543492370</td>\n",
       "      <td>1543526114</td>\n",
       "      <td>0.75</td>\n",
       "      <td>0.0000</td>\n",
       "      <td>1543507200</td>\n",
       "      <td>34.67</td>\n",
       "      <td>1543550400</td>\n",
       "      <td>45.03</td>\n",
       "      <td>1543510800</td>\n",
       "      <td>30.30</td>\n",
       "      <td>1543550400</td>\n",
       "      <td>38.53</td>\n",
       "      <td>1543510800</td>\n",
       "    </tr>\n",
       "    <tr>\n",
       "      <th>4</th>\n",
       "      <td>e0126e1f-8ca9-4f2e-82b3-50505a09db9a</td>\n",
       "      <td>1.543463e+09</td>\n",
       "      <td>3</td>\n",
       "      <td>29</td>\n",
       "      <td>11</td>\n",
       "      <td>2018-11-29 03:49:20</td>\n",
       "      <td>America/New_York</td>\n",
       "      <td>Haymarket Square</td>\n",
       "      <td>North Station</td>\n",
       "      <td>Lyft</td>\n",
       "      <td>lyft_plus</td>\n",
       "      <td>Lyft XL</td>\n",
       "      <td>9.0</td>\n",
       "      <td>0.44</td>\n",
       "      <td>1.0</td>\n",
       "      <td>42.2148</td>\n",
       "      <td>-71.033</td>\n",
       "      <td>37.44</td>\n",
       "      <td>30.88</td>\n",
       "      <td>Partly Cloudy</td>\n",
       "      <td>Mostly cloudy throughout the day.</td>\n",
       "      <td>0.0000</td>\n",
       "      <td>0.0</td>\n",
       "      <td>0.70</td>\n",
       "      <td>9.14</td>\n",
       "      <td>9.14</td>\n",
       "      <td>1543446000</td>\n",
       "      <td>10.000</td>\n",
       "      <td>42.18</td>\n",
       "      <td>1543420800</td>\n",
       "      <td>36.71</td>\n",
       "      <td>1543478400</td>\n",
       "      <td>35.75</td>\n",
       "      <td>1543420800</td>\n",
       "      <td>30.29</td>\n",
       "      <td>1543460400</td>\n",
       "      <td>partly-cloudy-night</td>\n",
       "      <td>28.61</td>\n",
       "      <td>998.36</td>\n",
       "      <td>303</td>\n",
       "      <td>0.44</td>\n",
       "      <td>0</td>\n",
       "      <td>10.000</td>\n",
       "      <td>347.7</td>\n",
       "      <td>1543405904</td>\n",
       "      <td>1543439738</td>\n",
       "      <td>0.72</td>\n",
       "      <td>0.0001</td>\n",
       "      <td>1543420800</td>\n",
       "      <td>33.10</td>\n",
       "      <td>1543402800</td>\n",
       "      <td>42.18</td>\n",
       "      <td>1543420800</td>\n",
       "      <td>29.11</td>\n",
       "      <td>1543392000</td>\n",
       "      <td>35.75</td>\n",
       "      <td>1543420800</td>\n",
       "    </tr>\n",
       "  </tbody>\n",
       "</table>\n",
       "</div>"
      ],
      "text/plain": [
       "                                     id     timestamp  hour  day  month  \\\n",
       "0  424553bb-7174-41ea-aeb4-fe06d4f4b9d7  1.544953e+09     9   16     12   \n",
       "1  4bd23055-6827-41c6-b23b-3c491f24e74d  1.543284e+09     2   27     11   \n",
       "2  981a3613-77af-4620-a42a-0c0866077d1e  1.543367e+09     1   28     11   \n",
       "3  c2d88af2-d278-4bfd-a8d0-29ca77cc5512  1.543554e+09     4   30     11   \n",
       "4  e0126e1f-8ca9-4f2e-82b3-50505a09db9a  1.543463e+09     3   29     11   \n",
       "\n",
       "              datetime          timezone            source    destination  \\\n",
       "0  2018-12-16 09:30:07  America/New_York  Haymarket Square  North Station   \n",
       "1  2018-11-27 02:00:23  America/New_York  Haymarket Square  North Station   \n",
       "2  2018-11-28 01:00:22  America/New_York  Haymarket Square  North Station   \n",
       "3  2018-11-30 04:53:02  America/New_York  Haymarket Square  North Station   \n",
       "4  2018-11-29 03:49:20  America/New_York  Haymarket Square  North Station   \n",
       "\n",
       "  cab_type    product_id          name  price  distance  surge_multiplier  \\\n",
       "0     Lyft     lyft_line        Shared    5.0      0.44               1.0   \n",
       "1     Lyft  lyft_premier           Lux   11.0      0.44               1.0   \n",
       "2     Lyft          lyft          Lyft    7.0      0.44               1.0   \n",
       "3     Lyft   lyft_luxsuv  Lux Black XL   26.0      0.44               1.0   \n",
       "4     Lyft     lyft_plus       Lyft XL    9.0      0.44               1.0   \n",
       "\n",
       "   latitude  longitude  temperature  apparentTemperature    short_summary  \\\n",
       "0   42.2148    -71.033        42.34                37.12   Mostly Cloudy    \n",
       "1   42.2148    -71.033        43.58                37.35            Rain    \n",
       "2   42.2148    -71.033        38.33                32.93           Clear    \n",
       "3   42.2148    -71.033        34.38                29.63           Clear    \n",
       "4   42.2148    -71.033        37.44                30.88   Partly Cloudy    \n",
       "\n",
       "                                        long_summary  precipIntensity  \\\n",
       "0                          Rain throughout the day.            0.0000   \n",
       "1   Rain until morning, starting again in the eve...           0.1299   \n",
       "2                        Light rain in the morning.            0.0000   \n",
       "3                 Partly cloudy throughout the day.            0.0000   \n",
       "4                 Mostly cloudy throughout the day.            0.0000   \n",
       "\n",
       "   precipProbability  humidity  windSpeed  windGust  windGustTime  visibility  \\\n",
       "0                0.0      0.68       8.66      9.17    1545015600      10.000   \n",
       "1                1.0      0.94      11.98     11.98    1543291200       4.786   \n",
       "2                0.0      0.75       7.33      7.33    1543334400      10.000   \n",
       "3                0.0      0.73       5.28      5.28    1543514400      10.000   \n",
       "4                0.0      0.70       9.14      9.14    1543446000      10.000   \n",
       "\n",
       "   temperatureHigh  temperatureHighTime  temperatureLow  temperatureLowTime  \\\n",
       "0            43.68           1544968800           34.19          1545048000   \n",
       "1            47.30           1543251600           42.10          1543298400   \n",
       "2            47.55           1543320000           33.10          1543402800   \n",
       "3            45.03           1543510800           28.90          1543579200   \n",
       "4            42.18           1543420800           36.71          1543478400   \n",
       "\n",
       "   apparentTemperatureHigh  apparentTemperatureHighTime  \\\n",
       "0                    37.95                   1544968800   \n",
       "1                    43.92                   1543251600   \n",
       "2                    44.12                   1543320000   \n",
       "3                    38.53                   1543510800   \n",
       "4                    35.75                   1543420800   \n",
       "\n",
       "   apparentTemperatureLow  apparentTemperatureLowTime                   icon  \\\n",
       "0                   27.39                  1545044400   partly-cloudy-night    \n",
       "1                   36.20                  1543291200                  rain    \n",
       "2                   29.11                  1543392000           clear-night    \n",
       "3                   26.20                  1543575600           clear-night    \n",
       "4                   30.29                  1543460400   partly-cloudy-night    \n",
       "\n",
       "   dewPoint  pressure  windBearing  cloudCover  uvIndex  visibility.1  ozone  \\\n",
       "0     32.70   1021.98           57        0.72        0        10.000  303.8   \n",
       "1     41.83   1003.97           90        1.00        0         4.786  291.1   \n",
       "2     31.10    992.28          240        0.03        0        10.000  315.7   \n",
       "3     26.64   1013.73          310        0.00        0        10.000  291.1   \n",
       "4     28.61    998.36          303        0.44        0        10.000  347.7   \n",
       "\n",
       "   sunriseTime  sunsetTime  moonPhase  precipIntensityMax  uvIndexTime  \\\n",
       "0   1544962084  1544994864       0.30              0.1276   1544979600   \n",
       "1   1543232969  1543266992       0.64              0.1300   1543251600   \n",
       "2   1543319437  1543353364       0.68              0.1064   1543338000   \n",
       "3   1543492370  1543526114       0.75              0.0000   1543507200   \n",
       "4   1543405904  1543439738       0.72              0.0001   1543420800   \n",
       "\n",
       "   temperatureMin  temperatureMinTime  temperatureMax  temperatureMaxTime  \\\n",
       "0           39.89          1545012000           43.68          1544968800   \n",
       "1           40.49          1543233600           47.30          1543251600   \n",
       "2           35.36          1543377600           47.55          1543320000   \n",
       "3           34.67          1543550400           45.03          1543510800   \n",
       "4           33.10          1543402800           42.18          1543420800   \n",
       "\n",
       "   apparentTemperatureMin  apparentTemperatureMinTime  apparentTemperatureMax  \\\n",
       "0                   33.73                  1545012000                   38.07   \n",
       "1                   36.20                  1543291200                   43.92   \n",
       "2                   31.04                  1543377600                   44.12   \n",
       "3                   30.30                  1543550400                   38.53   \n",
       "4                   29.11                  1543392000                   35.75   \n",
       "\n",
       "   apparentTemperatureMaxTime  \n",
       "0                  1544958000  \n",
       "1                  1543251600  \n",
       "2                  1543320000  \n",
       "3                  1543510800  \n",
       "4                  1543420800  "
      ]
     },
     "execution_count": 4,
     "metadata": {},
     "output_type": "execute_result"
    }
   ],
   "source": [
    "df.head()"
   ]
  },
  {
   "cell_type": "markdown",
   "metadata": {
    "id": "RRzkszS274nw"
   },
   "source": [
    "d. Melihat 5 baris terbawah dari dataset"
   ]
  },
  {
   "cell_type": "code",
   "execution_count": 5,
   "metadata": {
    "colab": {
     "base_uri": "https://localhost:8080/",
     "height": 531
    },
    "id": "PjTt5uam8AaK",
    "outputId": "04b67026-58ee-4113-a870-8a33ffe4ca0f"
   },
   "outputs": [
    {
     "data": {
      "text/html": [
       "<div>\n",
       "<style scoped>\n",
       "    .dataframe tbody tr th:only-of-type {\n",
       "        vertical-align: middle;\n",
       "    }\n",
       "\n",
       "    .dataframe tbody tr th {\n",
       "        vertical-align: top;\n",
       "    }\n",
       "\n",
       "    .dataframe thead th {\n",
       "        text-align: right;\n",
       "    }\n",
       "</style>\n",
       "<table border=\"1\" class=\"dataframe\">\n",
       "  <thead>\n",
       "    <tr style=\"text-align: right;\">\n",
       "      <th></th>\n",
       "      <th>id</th>\n",
       "      <th>timestamp</th>\n",
       "      <th>hour</th>\n",
       "      <th>day</th>\n",
       "      <th>month</th>\n",
       "      <th>datetime</th>\n",
       "      <th>timezone</th>\n",
       "      <th>source</th>\n",
       "      <th>destination</th>\n",
       "      <th>cab_type</th>\n",
       "      <th>product_id</th>\n",
       "      <th>name</th>\n",
       "      <th>price</th>\n",
       "      <th>distance</th>\n",
       "      <th>surge_multiplier</th>\n",
       "      <th>latitude</th>\n",
       "      <th>longitude</th>\n",
       "      <th>temperature</th>\n",
       "      <th>apparentTemperature</th>\n",
       "      <th>short_summary</th>\n",
       "      <th>long_summary</th>\n",
       "      <th>precipIntensity</th>\n",
       "      <th>precipProbability</th>\n",
       "      <th>humidity</th>\n",
       "      <th>windSpeed</th>\n",
       "      <th>windGust</th>\n",
       "      <th>windGustTime</th>\n",
       "      <th>visibility</th>\n",
       "      <th>temperatureHigh</th>\n",
       "      <th>temperatureHighTime</th>\n",
       "      <th>temperatureLow</th>\n",
       "      <th>temperatureLowTime</th>\n",
       "      <th>apparentTemperatureHigh</th>\n",
       "      <th>apparentTemperatureHighTime</th>\n",
       "      <th>apparentTemperatureLow</th>\n",
       "      <th>apparentTemperatureLowTime</th>\n",
       "      <th>icon</th>\n",
       "      <th>dewPoint</th>\n",
       "      <th>pressure</th>\n",
       "      <th>windBearing</th>\n",
       "      <th>cloudCover</th>\n",
       "      <th>uvIndex</th>\n",
       "      <th>visibility.1</th>\n",
       "      <th>ozone</th>\n",
       "      <th>sunriseTime</th>\n",
       "      <th>sunsetTime</th>\n",
       "      <th>moonPhase</th>\n",
       "      <th>precipIntensityMax</th>\n",
       "      <th>uvIndexTime</th>\n",
       "      <th>temperatureMin</th>\n",
       "      <th>temperatureMinTime</th>\n",
       "      <th>temperatureMax</th>\n",
       "      <th>temperatureMaxTime</th>\n",
       "      <th>apparentTemperatureMin</th>\n",
       "      <th>apparentTemperatureMinTime</th>\n",
       "      <th>apparentTemperatureMax</th>\n",
       "      <th>apparentTemperatureMaxTime</th>\n",
       "    </tr>\n",
       "  </thead>\n",
       "  <tbody>\n",
       "    <tr>\n",
       "      <th>693066</th>\n",
       "      <td>616d3611-1820-450a-9845-a9ff304a4842</td>\n",
       "      <td>1.543708e+09</td>\n",
       "      <td>23</td>\n",
       "      <td>1</td>\n",
       "      <td>12</td>\n",
       "      <td>2018-12-01 23:53:05</td>\n",
       "      <td>America/New_York</td>\n",
       "      <td>West End</td>\n",
       "      <td>North End</td>\n",
       "      <td>Uber</td>\n",
       "      <td>6f72dfc5-27f1-42e8-84db-ccc7a75f6969</td>\n",
       "      <td>UberXL</td>\n",
       "      <td>13.0</td>\n",
       "      <td>1.0</td>\n",
       "      <td>1.0</td>\n",
       "      <td>42.3519</td>\n",
       "      <td>-71.0643</td>\n",
       "      <td>37.05</td>\n",
       "      <td>37.05</td>\n",
       "      <td>Partly Cloudy</td>\n",
       "      <td>Light rain in the morning and overnight.</td>\n",
       "      <td>0.0</td>\n",
       "      <td>0.0</td>\n",
       "      <td>0.74</td>\n",
       "      <td>2.34</td>\n",
       "      <td>2.87</td>\n",
       "      <td>1543672800</td>\n",
       "      <td>9.785</td>\n",
       "      <td>44.76</td>\n",
       "      <td>1543690800</td>\n",
       "      <td>34.83</td>\n",
       "      <td>1543712400</td>\n",
       "      <td>44.09</td>\n",
       "      <td>1543690800</td>\n",
       "      <td>35.48</td>\n",
       "      <td>1543712400</td>\n",
       "      <td>partly-cloudy-night</td>\n",
       "      <td>29.65</td>\n",
       "      <td>1023.57</td>\n",
       "      <td>133</td>\n",
       "      <td>0.31</td>\n",
       "      <td>0</td>\n",
       "      <td>9.785</td>\n",
       "      <td>271.5</td>\n",
       "      <td>1543665331</td>\n",
       "      <td>1543698855</td>\n",
       "      <td>0.82</td>\n",
       "      <td>0.0</td>\n",
       "      <td>1543683600</td>\n",
       "      <td>31.42</td>\n",
       "      <td>1543658400</td>\n",
       "      <td>44.76</td>\n",
       "      <td>1543690800</td>\n",
       "      <td>27.77</td>\n",
       "      <td>1543658400</td>\n",
       "      <td>44.09</td>\n",
       "      <td>1543690800</td>\n",
       "    </tr>\n",
       "    <tr>\n",
       "      <th>693067</th>\n",
       "      <td>633a3fc3-1f86-4b9e-9d48-2b7132112341</td>\n",
       "      <td>1.543708e+09</td>\n",
       "      <td>23</td>\n",
       "      <td>1</td>\n",
       "      <td>12</td>\n",
       "      <td>2018-12-01 23:53:05</td>\n",
       "      <td>America/New_York</td>\n",
       "      <td>West End</td>\n",
       "      <td>North End</td>\n",
       "      <td>Uber</td>\n",
       "      <td>55c66225-fbe7-4fd5-9072-eab1ece5e23e</td>\n",
       "      <td>UberX</td>\n",
       "      <td>9.5</td>\n",
       "      <td>1.0</td>\n",
       "      <td>1.0</td>\n",
       "      <td>42.3519</td>\n",
       "      <td>-71.0643</td>\n",
       "      <td>37.05</td>\n",
       "      <td>37.05</td>\n",
       "      <td>Partly Cloudy</td>\n",
       "      <td>Light rain in the morning and overnight.</td>\n",
       "      <td>0.0</td>\n",
       "      <td>0.0</td>\n",
       "      <td>0.74</td>\n",
       "      <td>2.34</td>\n",
       "      <td>2.87</td>\n",
       "      <td>1543672800</td>\n",
       "      <td>9.785</td>\n",
       "      <td>44.76</td>\n",
       "      <td>1543690800</td>\n",
       "      <td>34.83</td>\n",
       "      <td>1543712400</td>\n",
       "      <td>44.09</td>\n",
       "      <td>1543690800</td>\n",
       "      <td>35.48</td>\n",
       "      <td>1543712400</td>\n",
       "      <td>partly-cloudy-night</td>\n",
       "      <td>29.65</td>\n",
       "      <td>1023.57</td>\n",
       "      <td>133</td>\n",
       "      <td>0.31</td>\n",
       "      <td>0</td>\n",
       "      <td>9.785</td>\n",
       "      <td>271.5</td>\n",
       "      <td>1543665331</td>\n",
       "      <td>1543698855</td>\n",
       "      <td>0.82</td>\n",
       "      <td>0.0</td>\n",
       "      <td>1543683600</td>\n",
       "      <td>31.42</td>\n",
       "      <td>1543658400</td>\n",
       "      <td>44.76</td>\n",
       "      <td>1543690800</td>\n",
       "      <td>27.77</td>\n",
       "      <td>1543658400</td>\n",
       "      <td>44.09</td>\n",
       "      <td>1543690800</td>\n",
       "    </tr>\n",
       "    <tr>\n",
       "      <th>693068</th>\n",
       "      <td>64d451d0-639f-47a4-9b7c-6fd92fbd264f</td>\n",
       "      <td>1.543708e+09</td>\n",
       "      <td>23</td>\n",
       "      <td>1</td>\n",
       "      <td>12</td>\n",
       "      <td>2018-12-01 23:53:05</td>\n",
       "      <td>America/New_York</td>\n",
       "      <td>West End</td>\n",
       "      <td>North End</td>\n",
       "      <td>Uber</td>\n",
       "      <td>8cf7e821-f0d3-49c6-8eba-e679c0ebcf6a</td>\n",
       "      <td>Taxi</td>\n",
       "      <td>NaN</td>\n",
       "      <td>1.0</td>\n",
       "      <td>1.0</td>\n",
       "      <td>42.3519</td>\n",
       "      <td>-71.0643</td>\n",
       "      <td>37.05</td>\n",
       "      <td>37.05</td>\n",
       "      <td>Partly Cloudy</td>\n",
       "      <td>Light rain in the morning and overnight.</td>\n",
       "      <td>0.0</td>\n",
       "      <td>0.0</td>\n",
       "      <td>0.74</td>\n",
       "      <td>2.34</td>\n",
       "      <td>2.87</td>\n",
       "      <td>1543672800</td>\n",
       "      <td>9.785</td>\n",
       "      <td>44.76</td>\n",
       "      <td>1543690800</td>\n",
       "      <td>34.83</td>\n",
       "      <td>1543712400</td>\n",
       "      <td>44.09</td>\n",
       "      <td>1543690800</td>\n",
       "      <td>35.48</td>\n",
       "      <td>1543712400</td>\n",
       "      <td>partly-cloudy-night</td>\n",
       "      <td>29.65</td>\n",
       "      <td>1023.57</td>\n",
       "      <td>133</td>\n",
       "      <td>0.31</td>\n",
       "      <td>0</td>\n",
       "      <td>9.785</td>\n",
       "      <td>271.5</td>\n",
       "      <td>1543665331</td>\n",
       "      <td>1543698855</td>\n",
       "      <td>0.82</td>\n",
       "      <td>0.0</td>\n",
       "      <td>1543683600</td>\n",
       "      <td>31.42</td>\n",
       "      <td>1543658400</td>\n",
       "      <td>44.76</td>\n",
       "      <td>1543690800</td>\n",
       "      <td>27.77</td>\n",
       "      <td>1543658400</td>\n",
       "      <td>44.09</td>\n",
       "      <td>1543690800</td>\n",
       "    </tr>\n",
       "    <tr>\n",
       "      <th>693069</th>\n",
       "      <td>727e5f07-a96b-4ad1-a2c7-9abc3ad55b4e</td>\n",
       "      <td>1.543708e+09</td>\n",
       "      <td>23</td>\n",
       "      <td>1</td>\n",
       "      <td>12</td>\n",
       "      <td>2018-12-01 23:53:05</td>\n",
       "      <td>America/New_York</td>\n",
       "      <td>West End</td>\n",
       "      <td>North End</td>\n",
       "      <td>Uber</td>\n",
       "      <td>6d318bcc-22a3-4af6-bddd-b409bfce1546</td>\n",
       "      <td>Black SUV</td>\n",
       "      <td>27.0</td>\n",
       "      <td>1.0</td>\n",
       "      <td>1.0</td>\n",
       "      <td>42.3519</td>\n",
       "      <td>-71.0643</td>\n",
       "      <td>37.05</td>\n",
       "      <td>37.05</td>\n",
       "      <td>Partly Cloudy</td>\n",
       "      <td>Light rain in the morning and overnight.</td>\n",
       "      <td>0.0</td>\n",
       "      <td>0.0</td>\n",
       "      <td>0.74</td>\n",
       "      <td>2.34</td>\n",
       "      <td>2.87</td>\n",
       "      <td>1543672800</td>\n",
       "      <td>9.785</td>\n",
       "      <td>44.76</td>\n",
       "      <td>1543690800</td>\n",
       "      <td>34.83</td>\n",
       "      <td>1543712400</td>\n",
       "      <td>44.09</td>\n",
       "      <td>1543690800</td>\n",
       "      <td>35.48</td>\n",
       "      <td>1543712400</td>\n",
       "      <td>partly-cloudy-night</td>\n",
       "      <td>29.65</td>\n",
       "      <td>1023.57</td>\n",
       "      <td>133</td>\n",
       "      <td>0.31</td>\n",
       "      <td>0</td>\n",
       "      <td>9.785</td>\n",
       "      <td>271.5</td>\n",
       "      <td>1543665331</td>\n",
       "      <td>1543698855</td>\n",
       "      <td>0.82</td>\n",
       "      <td>0.0</td>\n",
       "      <td>1543683600</td>\n",
       "      <td>31.42</td>\n",
       "      <td>1543658400</td>\n",
       "      <td>44.76</td>\n",
       "      <td>1543690800</td>\n",
       "      <td>27.77</td>\n",
       "      <td>1543658400</td>\n",
       "      <td>44.09</td>\n",
       "      <td>1543690800</td>\n",
       "    </tr>\n",
       "    <tr>\n",
       "      <th>693070</th>\n",
       "      <td>e7fdc087-fe86-40a5-a3c3-3b2a8badcbda</td>\n",
       "      <td>1.543708e+09</td>\n",
       "      <td>23</td>\n",
       "      <td>1</td>\n",
       "      <td>12</td>\n",
       "      <td>2018-12-01 23:53:05</td>\n",
       "      <td>America/New_York</td>\n",
       "      <td>West End</td>\n",
       "      <td>North End</td>\n",
       "      <td>Uber</td>\n",
       "      <td>997acbb5-e102-41e1-b155-9df7de0a73f2</td>\n",
       "      <td>UberPool</td>\n",
       "      <td>10.0</td>\n",
       "      <td>1.0</td>\n",
       "      <td>1.0</td>\n",
       "      <td>42.3519</td>\n",
       "      <td>-71.0643</td>\n",
       "      <td>37.05</td>\n",
       "      <td>37.05</td>\n",
       "      <td>Partly Cloudy</td>\n",
       "      <td>Light rain in the morning and overnight.</td>\n",
       "      <td>0.0</td>\n",
       "      <td>0.0</td>\n",
       "      <td>0.74</td>\n",
       "      <td>2.34</td>\n",
       "      <td>2.87</td>\n",
       "      <td>1543672800</td>\n",
       "      <td>9.785</td>\n",
       "      <td>44.76</td>\n",
       "      <td>1543690800</td>\n",
       "      <td>34.83</td>\n",
       "      <td>1543712400</td>\n",
       "      <td>44.09</td>\n",
       "      <td>1543690800</td>\n",
       "      <td>35.48</td>\n",
       "      <td>1543712400</td>\n",
       "      <td>partly-cloudy-night</td>\n",
       "      <td>29.65</td>\n",
       "      <td>1023.57</td>\n",
       "      <td>133</td>\n",
       "      <td>0.31</td>\n",
       "      <td>0</td>\n",
       "      <td>9.785</td>\n",
       "      <td>271.5</td>\n",
       "      <td>1543665331</td>\n",
       "      <td>1543698855</td>\n",
       "      <td>0.82</td>\n",
       "      <td>0.0</td>\n",
       "      <td>1543683600</td>\n",
       "      <td>31.42</td>\n",
       "      <td>1543658400</td>\n",
       "      <td>44.76</td>\n",
       "      <td>1543690800</td>\n",
       "      <td>27.77</td>\n",
       "      <td>1543658400</td>\n",
       "      <td>44.09</td>\n",
       "      <td>1543690800</td>\n",
       "    </tr>\n",
       "  </tbody>\n",
       "</table>\n",
       "</div>"
      ],
      "text/plain": [
       "                                          id     timestamp  hour  day  month  \\\n",
       "693066  616d3611-1820-450a-9845-a9ff304a4842  1.543708e+09    23    1     12   \n",
       "693067  633a3fc3-1f86-4b9e-9d48-2b7132112341  1.543708e+09    23    1     12   \n",
       "693068  64d451d0-639f-47a4-9b7c-6fd92fbd264f  1.543708e+09    23    1     12   \n",
       "693069  727e5f07-a96b-4ad1-a2c7-9abc3ad55b4e  1.543708e+09    23    1     12   \n",
       "693070  e7fdc087-fe86-40a5-a3c3-3b2a8badcbda  1.543708e+09    23    1     12   \n",
       "\n",
       "                   datetime          timezone    source destination cab_type  \\\n",
       "693066  2018-12-01 23:53:05  America/New_York  West End   North End     Uber   \n",
       "693067  2018-12-01 23:53:05  America/New_York  West End   North End     Uber   \n",
       "693068  2018-12-01 23:53:05  America/New_York  West End   North End     Uber   \n",
       "693069  2018-12-01 23:53:05  America/New_York  West End   North End     Uber   \n",
       "693070  2018-12-01 23:53:05  America/New_York  West End   North End     Uber   \n",
       "\n",
       "                                  product_id       name  price  distance  \\\n",
       "693066  6f72dfc5-27f1-42e8-84db-ccc7a75f6969     UberXL   13.0       1.0   \n",
       "693067  55c66225-fbe7-4fd5-9072-eab1ece5e23e      UberX    9.5       1.0   \n",
       "693068  8cf7e821-f0d3-49c6-8eba-e679c0ebcf6a       Taxi    NaN       1.0   \n",
       "693069  6d318bcc-22a3-4af6-bddd-b409bfce1546  Black SUV   27.0       1.0   \n",
       "693070  997acbb5-e102-41e1-b155-9df7de0a73f2   UberPool   10.0       1.0   \n",
       "\n",
       "        surge_multiplier  latitude  longitude  temperature  \\\n",
       "693066               1.0   42.3519   -71.0643        37.05   \n",
       "693067               1.0   42.3519   -71.0643        37.05   \n",
       "693068               1.0   42.3519   -71.0643        37.05   \n",
       "693069               1.0   42.3519   -71.0643        37.05   \n",
       "693070               1.0   42.3519   -71.0643        37.05   \n",
       "\n",
       "        apparentTemperature    short_summary  \\\n",
       "693066                37.05   Partly Cloudy    \n",
       "693067                37.05   Partly Cloudy    \n",
       "693068                37.05   Partly Cloudy    \n",
       "693069                37.05   Partly Cloudy    \n",
       "693070                37.05   Partly Cloudy    \n",
       "\n",
       "                                      long_summary  precipIntensity  \\\n",
       "693066   Light rain in the morning and overnight.               0.0   \n",
       "693067   Light rain in the morning and overnight.               0.0   \n",
       "693068   Light rain in the morning and overnight.               0.0   \n",
       "693069   Light rain in the morning and overnight.               0.0   \n",
       "693070   Light rain in the morning and overnight.               0.0   \n",
       "\n",
       "        precipProbability  humidity  windSpeed  windGust  windGustTime  \\\n",
       "693066                0.0      0.74       2.34      2.87    1543672800   \n",
       "693067                0.0      0.74       2.34      2.87    1543672800   \n",
       "693068                0.0      0.74       2.34      2.87    1543672800   \n",
       "693069                0.0      0.74       2.34      2.87    1543672800   \n",
       "693070                0.0      0.74       2.34      2.87    1543672800   \n",
       "\n",
       "        visibility  temperatureHigh  temperatureHighTime  temperatureLow  \\\n",
       "693066       9.785            44.76           1543690800           34.83   \n",
       "693067       9.785            44.76           1543690800           34.83   \n",
       "693068       9.785            44.76           1543690800           34.83   \n",
       "693069       9.785            44.76           1543690800           34.83   \n",
       "693070       9.785            44.76           1543690800           34.83   \n",
       "\n",
       "        temperatureLowTime  apparentTemperatureHigh  \\\n",
       "693066          1543712400                    44.09   \n",
       "693067          1543712400                    44.09   \n",
       "693068          1543712400                    44.09   \n",
       "693069          1543712400                    44.09   \n",
       "693070          1543712400                    44.09   \n",
       "\n",
       "        apparentTemperatureHighTime  apparentTemperatureLow  \\\n",
       "693066                   1543690800                   35.48   \n",
       "693067                   1543690800                   35.48   \n",
       "693068                   1543690800                   35.48   \n",
       "693069                   1543690800                   35.48   \n",
       "693070                   1543690800                   35.48   \n",
       "\n",
       "        apparentTemperatureLowTime                   icon  dewPoint  pressure  \\\n",
       "693066                  1543712400   partly-cloudy-night      29.65   1023.57   \n",
       "693067                  1543712400   partly-cloudy-night      29.65   1023.57   \n",
       "693068                  1543712400   partly-cloudy-night      29.65   1023.57   \n",
       "693069                  1543712400   partly-cloudy-night      29.65   1023.57   \n",
       "693070                  1543712400   partly-cloudy-night      29.65   1023.57   \n",
       "\n",
       "        windBearing  cloudCover  uvIndex  visibility.1  ozone  sunriseTime  \\\n",
       "693066          133        0.31        0         9.785  271.5   1543665331   \n",
       "693067          133        0.31        0         9.785  271.5   1543665331   \n",
       "693068          133        0.31        0         9.785  271.5   1543665331   \n",
       "693069          133        0.31        0         9.785  271.5   1543665331   \n",
       "693070          133        0.31        0         9.785  271.5   1543665331   \n",
       "\n",
       "        sunsetTime  moonPhase  precipIntensityMax  uvIndexTime  \\\n",
       "693066  1543698855       0.82                 0.0   1543683600   \n",
       "693067  1543698855       0.82                 0.0   1543683600   \n",
       "693068  1543698855       0.82                 0.0   1543683600   \n",
       "693069  1543698855       0.82                 0.0   1543683600   \n",
       "693070  1543698855       0.82                 0.0   1543683600   \n",
       "\n",
       "        temperatureMin  temperatureMinTime  temperatureMax  \\\n",
       "693066           31.42          1543658400           44.76   \n",
       "693067           31.42          1543658400           44.76   \n",
       "693068           31.42          1543658400           44.76   \n",
       "693069           31.42          1543658400           44.76   \n",
       "693070           31.42          1543658400           44.76   \n",
       "\n",
       "        temperatureMaxTime  apparentTemperatureMin  \\\n",
       "693066          1543690800                   27.77   \n",
       "693067          1543690800                   27.77   \n",
       "693068          1543690800                   27.77   \n",
       "693069          1543690800                   27.77   \n",
       "693070          1543690800                   27.77   \n",
       "\n",
       "        apparentTemperatureMinTime  apparentTemperatureMax  \\\n",
       "693066                  1543658400                   44.09   \n",
       "693067                  1543658400                   44.09   \n",
       "693068                  1543658400                   44.09   \n",
       "693069                  1543658400                   44.09   \n",
       "693070                  1543658400                   44.09   \n",
       "\n",
       "        apparentTemperatureMaxTime  \n",
       "693066                  1543690800  \n",
       "693067                  1543690800  \n",
       "693068                  1543690800  \n",
       "693069                  1543690800  \n",
       "693070                  1543690800  "
      ]
     },
     "execution_count": 5,
     "metadata": {},
     "output_type": "execute_result"
    }
   ],
   "source": [
    "df.tail()"
   ]
  },
  {
   "cell_type": "markdown",
   "metadata": {
    "id": "hYi7S1UY-AJa"
   },
   "source": [
    "e. melihat dimensi dataset"
   ]
  },
  {
   "cell_type": "code",
   "execution_count": 6,
   "metadata": {
    "colab": {
     "base_uri": "https://localhost:8080/"
    },
    "id": "BEozyy7z-DXK",
    "outputId": "64058a29-0937-45cf-9fdc-1e9de37dcd7e"
   },
   "outputs": [
    {
     "data": {
      "text/plain": [
       "(693071, 57)"
      ]
     },
     "execution_count": 6,
     "metadata": {},
     "output_type": "execute_result"
    }
   ],
   "source": [
    "df.shape"
   ]
  },
  {
   "cell_type": "markdown",
   "metadata": {
    "id": "MeBFgtFhAuiG"
   },
   "source": [
    "dapat dilihat dataset memiliki dimensi 57 kolom dan 693071 baris\n",
    "\n",
    "f. melihat informasi (kolom, baris, tipe data) pada dataset"
   ]
  },
  {
   "cell_type": "code",
   "execution_count": 7,
   "metadata": {
    "colab": {
     "base_uri": "https://localhost:8080/"
    },
    "id": "NhXyVg8jA_2o",
    "outputId": "a28a8fc1-a071-49a5-a5aa-9b880e82476b"
   },
   "outputs": [
    {
     "name": "stdout",
     "output_type": "stream",
     "text": [
      "<class 'pandas.core.frame.DataFrame'>\n",
      "RangeIndex: 693071 entries, 0 to 693070\n",
      "Data columns (total 57 columns):\n",
      " #   Column                       Non-Null Count   Dtype  \n",
      "---  ------                       --------------   -----  \n",
      " 0   id                           693071 non-null  object \n",
      " 1   timestamp                    693071 non-null  float64\n",
      " 2   hour                         693071 non-null  int64  \n",
      " 3   day                          693071 non-null  int64  \n",
      " 4   month                        693071 non-null  int64  \n",
      " 5   datetime                     693071 non-null  object \n",
      " 6   timezone                     693071 non-null  object \n",
      " 7   source                       693071 non-null  object \n",
      " 8   destination                  693071 non-null  object \n",
      " 9   cab_type                     693071 non-null  object \n",
      " 10  product_id                   693071 non-null  object \n",
      " 11  name                         693071 non-null  object \n",
      " 12  price                        637976 non-null  float64\n",
      " 13  distance                     693071 non-null  float64\n",
      " 14  surge_multiplier             693071 non-null  float64\n",
      " 15  latitude                     693071 non-null  float64\n",
      " 16  longitude                    693071 non-null  float64\n",
      " 17  temperature                  693071 non-null  float64\n",
      " 18  apparentTemperature          693071 non-null  float64\n",
      " 19  short_summary                693071 non-null  object \n",
      " 20  long_summary                 693071 non-null  object \n",
      " 21  precipIntensity              693071 non-null  float64\n",
      " 22  precipProbability            693071 non-null  float64\n",
      " 23  humidity                     693071 non-null  float64\n",
      " 24  windSpeed                    693071 non-null  float64\n",
      " 25  windGust                     693071 non-null  float64\n",
      " 26  windGustTime                 693071 non-null  int64  \n",
      " 27  visibility                   693071 non-null  float64\n",
      " 28  temperatureHigh              693071 non-null  float64\n",
      " 29  temperatureHighTime          693071 non-null  int64  \n",
      " 30  temperatureLow               693071 non-null  float64\n",
      " 31  temperatureLowTime           693071 non-null  int64  \n",
      " 32  apparentTemperatureHigh      693071 non-null  float64\n",
      " 33  apparentTemperatureHighTime  693071 non-null  int64  \n",
      " 34  apparentTemperatureLow       693071 non-null  float64\n",
      " 35  apparentTemperatureLowTime   693071 non-null  int64  \n",
      " 36  icon                         693071 non-null  object \n",
      " 37  dewPoint                     693071 non-null  float64\n",
      " 38  pressure                     693071 non-null  float64\n",
      " 39  windBearing                  693071 non-null  int64  \n",
      " 40  cloudCover                   693071 non-null  float64\n",
      " 41  uvIndex                      693071 non-null  int64  \n",
      " 42  visibility.1                 693071 non-null  float64\n",
      " 43  ozone                        693071 non-null  float64\n",
      " 44  sunriseTime                  693071 non-null  int64  \n",
      " 45  sunsetTime                   693071 non-null  int64  \n",
      " 46  moonPhase                    693071 non-null  float64\n",
      " 47  precipIntensityMax           693071 non-null  float64\n",
      " 48  uvIndexTime                  693071 non-null  int64  \n",
      " 49  temperatureMin               693071 non-null  float64\n",
      " 50  temperatureMinTime           693071 non-null  int64  \n",
      " 51  temperatureMax               693071 non-null  float64\n",
      " 52  temperatureMaxTime           693071 non-null  int64  \n",
      " 53  apparentTemperatureMin       693071 non-null  float64\n",
      " 54  apparentTemperatureMinTime   693071 non-null  int64  \n",
      " 55  apparentTemperatureMax       693071 non-null  float64\n",
      " 56  apparentTemperatureMaxTime   693071 non-null  int64  \n",
      "dtypes: float64(29), int64(17), object(11)\n",
      "memory usage: 301.4+ MB\n"
     ]
    }
   ],
   "source": [
    "df.info()"
   ]
  },
  {
   "cell_type": "markdown",
   "metadata": {
    "id": "Vf00CRJkEdAW"
   },
   "source": [
    "dapat dilihat dataset memiliki 57 atribut dengan tipe data float64 sebanyak 29, int64 sebanyak 17, dan tipe data object sebanyak 11.\n",
    "\n",
    "g. Melihat rincian nama kolom pada dataset"
   ]
  },
  {
   "cell_type": "code",
   "execution_count": 8,
   "metadata": {
    "colab": {
     "base_uri": "https://localhost:8080/"
    },
    "id": "eV2Oo4LUEied",
    "outputId": "70480aa9-dbe2-4550-bd1d-13ad035ab666"
   },
   "outputs": [
    {
     "data": {
      "text/plain": [
       "Index(['id', 'timestamp', 'hour', 'day', 'month', 'datetime', 'timezone',\n",
       "       'source', 'destination', 'cab_type', 'product_id', 'name', 'price',\n",
       "       'distance', 'surge_multiplier', 'latitude', 'longitude', 'temperature',\n",
       "       'apparentTemperature', 'short_summary', 'long_summary',\n",
       "       'precipIntensity', 'precipProbability', 'humidity', 'windSpeed',\n",
       "       'windGust', 'windGustTime', 'visibility', 'temperatureHigh',\n",
       "       'temperatureHighTime', 'temperatureLow', 'temperatureLowTime',\n",
       "       'apparentTemperatureHigh', 'apparentTemperatureHighTime',\n",
       "       'apparentTemperatureLow', 'apparentTemperatureLowTime', 'icon',\n",
       "       'dewPoint', 'pressure', 'windBearing', 'cloudCover', 'uvIndex',\n",
       "       'visibility.1', 'ozone', 'sunriseTime', 'sunsetTime', 'moonPhase',\n",
       "       'precipIntensityMax', 'uvIndexTime', 'temperatureMin',\n",
       "       'temperatureMinTime', 'temperatureMax', 'temperatureMaxTime',\n",
       "       'apparentTemperatureMin', 'apparentTemperatureMinTime',\n",
       "       'apparentTemperatureMax', 'apparentTemperatureMaxTime'],\n",
       "      dtype='object')"
      ]
     },
     "execution_count": 8,
     "metadata": {},
     "output_type": "execute_result"
    }
   ],
   "source": [
    "df.columns"
   ]
  },
  {
   "cell_type": "markdown",
   "metadata": {
    "id": "5p3AFsqWEpNh"
   },
   "source": [
    "h. Mengecek apakah pada dataset terdapat missing value"
   ]
  },
  {
   "cell_type": "code",
   "execution_count": 9,
   "metadata": {
    "colab": {
     "base_uri": "https://localhost:8080/",
     "height": 1000
    },
    "id": "UHduA6H4Gf8Q",
    "outputId": "ef88c6b9-8953-4a68-803b-1b78e4585a62"
   },
   "outputs": [
    {
     "data": {
      "text/plain": [
       "True"
      ]
     },
     "execution_count": 9,
     "metadata": {},
     "output_type": "execute_result"
    }
   ],
   "source": [
    "df.isnull().values.any()"
   ]
  },
  {
   "cell_type": "markdown",
   "metadata": {},
   "source": [
    "output menunjukkan 'True' yang berarti pada dataset masih terdapat missing value\n",
    "\n",
    "i. Melihat statistik deskriptif dari masing-masing atribut yang bertipe numeric"
   ]
  },
  {
   "cell_type": "code",
   "execution_count": 10,
   "metadata": {},
   "outputs": [
    {
     "data": {
      "text/html": [
       "<div>\n",
       "<style scoped>\n",
       "    .dataframe tbody tr th:only-of-type {\n",
       "        vertical-align: middle;\n",
       "    }\n",
       "\n",
       "    .dataframe tbody tr th {\n",
       "        vertical-align: top;\n",
       "    }\n",
       "\n",
       "    .dataframe thead th {\n",
       "        text-align: right;\n",
       "    }\n",
       "</style>\n",
       "<table border=\"1\" class=\"dataframe\">\n",
       "  <thead>\n",
       "    <tr style=\"text-align: right;\">\n",
       "      <th></th>\n",
       "      <th>timestamp</th>\n",
       "      <th>hour</th>\n",
       "      <th>day</th>\n",
       "      <th>month</th>\n",
       "      <th>price</th>\n",
       "      <th>distance</th>\n",
       "      <th>surge_multiplier</th>\n",
       "      <th>latitude</th>\n",
       "      <th>longitude</th>\n",
       "      <th>temperature</th>\n",
       "      <th>apparentTemperature</th>\n",
       "      <th>precipIntensity</th>\n",
       "      <th>precipProbability</th>\n",
       "      <th>humidity</th>\n",
       "      <th>windSpeed</th>\n",
       "      <th>windGust</th>\n",
       "      <th>windGustTime</th>\n",
       "      <th>visibility</th>\n",
       "      <th>temperatureHigh</th>\n",
       "      <th>temperatureHighTime</th>\n",
       "      <th>temperatureLow</th>\n",
       "      <th>temperatureLowTime</th>\n",
       "      <th>apparentTemperatureHigh</th>\n",
       "      <th>apparentTemperatureHighTime</th>\n",
       "      <th>apparentTemperatureLow</th>\n",
       "      <th>apparentTemperatureLowTime</th>\n",
       "      <th>dewPoint</th>\n",
       "      <th>pressure</th>\n",
       "      <th>windBearing</th>\n",
       "      <th>cloudCover</th>\n",
       "      <th>uvIndex</th>\n",
       "      <th>visibility.1</th>\n",
       "      <th>ozone</th>\n",
       "      <th>sunriseTime</th>\n",
       "      <th>sunsetTime</th>\n",
       "      <th>moonPhase</th>\n",
       "      <th>precipIntensityMax</th>\n",
       "      <th>uvIndexTime</th>\n",
       "      <th>temperatureMin</th>\n",
       "      <th>temperatureMinTime</th>\n",
       "      <th>temperatureMax</th>\n",
       "      <th>temperatureMaxTime</th>\n",
       "      <th>apparentTemperatureMin</th>\n",
       "      <th>apparentTemperatureMinTime</th>\n",
       "      <th>apparentTemperatureMax</th>\n",
       "      <th>apparentTemperatureMaxTime</th>\n",
       "    </tr>\n",
       "  </thead>\n",
       "  <tbody>\n",
       "    <tr>\n",
       "      <th>count</th>\n",
       "      <td>6.930710e+05</td>\n",
       "      <td>693071.000000</td>\n",
       "      <td>693071.000000</td>\n",
       "      <td>693071.000000</td>\n",
       "      <td>637976.000000</td>\n",
       "      <td>693071.000000</td>\n",
       "      <td>693071.000000</td>\n",
       "      <td>693071.000000</td>\n",
       "      <td>693071.000000</td>\n",
       "      <td>693071.000000</td>\n",
       "      <td>693071.000000</td>\n",
       "      <td>693071.000000</td>\n",
       "      <td>693071.000000</td>\n",
       "      <td>693071.000000</td>\n",
       "      <td>693071.000000</td>\n",
       "      <td>693071.000000</td>\n",
       "      <td>6.930710e+05</td>\n",
       "      <td>693071.000000</td>\n",
       "      <td>693071.000000</td>\n",
       "      <td>6.930710e+05</td>\n",
       "      <td>693071.000000</td>\n",
       "      <td>6.930710e+05</td>\n",
       "      <td>693071.000000</td>\n",
       "      <td>6.930710e+05</td>\n",
       "      <td>693071.000000</td>\n",
       "      <td>6.930710e+05</td>\n",
       "      <td>693071.000000</td>\n",
       "      <td>693071.000000</td>\n",
       "      <td>693071.000000</td>\n",
       "      <td>693071.000000</td>\n",
       "      <td>693071.000000</td>\n",
       "      <td>693071.000000</td>\n",
       "      <td>693071.000000</td>\n",
       "      <td>6.930710e+05</td>\n",
       "      <td>6.930710e+05</td>\n",
       "      <td>693071.000000</td>\n",
       "      <td>693071.000000</td>\n",
       "      <td>6.930710e+05</td>\n",
       "      <td>693071.000000</td>\n",
       "      <td>6.930710e+05</td>\n",
       "      <td>693071.000000</td>\n",
       "      <td>6.930710e+05</td>\n",
       "      <td>693071.000000</td>\n",
       "      <td>6.930710e+05</td>\n",
       "      <td>693071.000000</td>\n",
       "      <td>6.930710e+05</td>\n",
       "    </tr>\n",
       "    <tr>\n",
       "      <th>mean</th>\n",
       "      <td>1.544046e+09</td>\n",
       "      <td>11.619137</td>\n",
       "      <td>17.794365</td>\n",
       "      <td>11.586684</td>\n",
       "      <td>16.545125</td>\n",
       "      <td>2.189430</td>\n",
       "      <td>1.013870</td>\n",
       "      <td>42.338172</td>\n",
       "      <td>-71.066151</td>\n",
       "      <td>39.584388</td>\n",
       "      <td>35.881222</td>\n",
       "      <td>0.008922</td>\n",
       "      <td>0.146076</td>\n",
       "      <td>0.741119</td>\n",
       "      <td>6.186253</td>\n",
       "      <td>8.469860</td>\n",
       "      <td>1.544049e+09</td>\n",
       "      <td>8.467970</td>\n",
       "      <td>45.040982</td>\n",
       "      <td>1.544050e+09</td>\n",
       "      <td>34.150736</td>\n",
       "      <td>1.544102e+09</td>\n",
       "      <td>41.614054</td>\n",
       "      <td>1.544050e+09</td>\n",
       "      <td>30.139824</td>\n",
       "      <td>1.544099e+09</td>\n",
       "      <td>31.656256</td>\n",
       "      <td>1010.094766</td>\n",
       "      <td>220.055853</td>\n",
       "      <td>0.686502</td>\n",
       "      <td>0.248908</td>\n",
       "      <td>8.467970</td>\n",
       "      <td>313.513635</td>\n",
       "      <td>1.544027e+09</td>\n",
       "      <td>1.544060e+09</td>\n",
       "      <td>0.579066</td>\n",
       "      <td>0.037374</td>\n",
       "      <td>1.544044e+09</td>\n",
       "      <td>33.457774</td>\n",
       "      <td>1.544042e+09</td>\n",
       "      <td>45.261313</td>\n",
       "      <td>1.544047e+09</td>\n",
       "      <td>29.731002</td>\n",
       "      <td>1.544048e+09</td>\n",
       "      <td>41.997343</td>\n",
       "      <td>1.544048e+09</td>\n",
       "    </tr>\n",
       "    <tr>\n",
       "      <th>std</th>\n",
       "      <td>6.891925e+05</td>\n",
       "      <td>6.948114</td>\n",
       "      <td>9.982286</td>\n",
       "      <td>0.492429</td>\n",
       "      <td>9.324359</td>\n",
       "      <td>1.138937</td>\n",
       "      <td>0.091641</td>\n",
       "      <td>0.047840</td>\n",
       "      <td>0.020302</td>\n",
       "      <td>6.726084</td>\n",
       "      <td>7.918707</td>\n",
       "      <td>0.026901</td>\n",
       "      <td>0.328938</td>\n",
       "      <td>0.138595</td>\n",
       "      <td>3.148223</td>\n",
       "      <td>5.289179</td>\n",
       "      <td>6.928244e+05</td>\n",
       "      <td>2.602888</td>\n",
       "      <td>5.996541</td>\n",
       "      <td>6.937921e+05</td>\n",
       "      <td>6.383163</td>\n",
       "      <td>6.922923e+05</td>\n",
       "      <td>7.666138</td>\n",
       "      <td>6.941699e+05</td>\n",
       "      <td>8.057468</td>\n",
       "      <td>6.927378e+05</td>\n",
       "      <td>9.142355</td>\n",
       "      <td>13.472899</td>\n",
       "      <td>99.102736</td>\n",
       "      <td>0.358534</td>\n",
       "      <td>0.474097</td>\n",
       "      <td>2.602888</td>\n",
       "      <td>27.953061</td>\n",
       "      <td>6.911393e+05</td>\n",
       "      <td>6.906634e+05</td>\n",
       "      <td>0.244705</td>\n",
       "      <td>0.055214</td>\n",
       "      <td>6.912028e+05</td>\n",
       "      <td>6.467224</td>\n",
       "      <td>6.901954e+05</td>\n",
       "      <td>5.645046</td>\n",
       "      <td>6.901353e+05</td>\n",
       "      <td>7.110494</td>\n",
       "      <td>6.871862e+05</td>\n",
       "      <td>6.936841</td>\n",
       "      <td>6.910777e+05</td>\n",
       "    </tr>\n",
       "    <tr>\n",
       "      <th>min</th>\n",
       "      <td>1.543204e+09</td>\n",
       "      <td>0.000000</td>\n",
       "      <td>1.000000</td>\n",
       "      <td>11.000000</td>\n",
       "      <td>2.500000</td>\n",
       "      <td>0.020000</td>\n",
       "      <td>1.000000</td>\n",
       "      <td>42.214800</td>\n",
       "      <td>-71.105400</td>\n",
       "      <td>18.910000</td>\n",
       "      <td>12.130000</td>\n",
       "      <td>0.000000</td>\n",
       "      <td>0.000000</td>\n",
       "      <td>0.380000</td>\n",
       "      <td>0.450000</td>\n",
       "      <td>0.800000</td>\n",
       "      <td>1.543151e+09</td>\n",
       "      <td>0.717000</td>\n",
       "      <td>32.680000</td>\n",
       "      <td>1.543154e+09</td>\n",
       "      <td>17.850000</td>\n",
       "      <td>1.543234e+09</td>\n",
       "      <td>22.620000</td>\n",
       "      <td>1.543187e+09</td>\n",
       "      <td>11.810000</td>\n",
       "      <td>1.543234e+09</td>\n",
       "      <td>4.390000</td>\n",
       "      <td>988.090000</td>\n",
       "      <td>2.000000</td>\n",
       "      <td>0.000000</td>\n",
       "      <td>0.000000</td>\n",
       "      <td>0.717000</td>\n",
       "      <td>269.400000</td>\n",
       "      <td>1.543147e+09</td>\n",
       "      <td>1.543181e+09</td>\n",
       "      <td>0.090000</td>\n",
       "      <td>0.000000</td>\n",
       "      <td>1.543162e+09</td>\n",
       "      <td>15.630000</td>\n",
       "      <td>1.543122e+09</td>\n",
       "      <td>33.510000</td>\n",
       "      <td>1.543154e+09</td>\n",
       "      <td>11.810000</td>\n",
       "      <td>1.543136e+09</td>\n",
       "      <td>28.950000</td>\n",
       "      <td>1.543187e+09</td>\n",
       "    </tr>\n",
       "    <tr>\n",
       "      <th>25%</th>\n",
       "      <td>1.543444e+09</td>\n",
       "      <td>6.000000</td>\n",
       "      <td>13.000000</td>\n",
       "      <td>11.000000</td>\n",
       "      <td>9.000000</td>\n",
       "      <td>1.280000</td>\n",
       "      <td>1.000000</td>\n",
       "      <td>42.350300</td>\n",
       "      <td>-71.081000</td>\n",
       "      <td>36.450000</td>\n",
       "      <td>31.910000</td>\n",
       "      <td>0.000000</td>\n",
       "      <td>0.000000</td>\n",
       "      <td>0.640000</td>\n",
       "      <td>3.410000</td>\n",
       "      <td>4.060000</td>\n",
       "      <td>1.543432e+09</td>\n",
       "      <td>8.432000</td>\n",
       "      <td>42.570000</td>\n",
       "      <td>1.543439e+09</td>\n",
       "      <td>30.170000</td>\n",
       "      <td>1.543489e+09</td>\n",
       "      <td>36.570000</td>\n",
       "      <td>1.543439e+09</td>\n",
       "      <td>27.700000</td>\n",
       "      <td>1.543478e+09</td>\n",
       "      <td>27.490000</td>\n",
       "      <td>999.820000</td>\n",
       "      <td>124.000000</td>\n",
       "      <td>0.370000</td>\n",
       "      <td>0.000000</td>\n",
       "      <td>8.432000</td>\n",
       "      <td>290.900000</td>\n",
       "      <td>1.543406e+09</td>\n",
       "      <td>1.543440e+09</td>\n",
       "      <td>0.300000</td>\n",
       "      <td>0.000000</td>\n",
       "      <td>1.543421e+09</td>\n",
       "      <td>30.170000</td>\n",
       "      <td>1.543399e+09</td>\n",
       "      <td>42.570000</td>\n",
       "      <td>1.543439e+09</td>\n",
       "      <td>27.760000</td>\n",
       "      <td>1.543399e+09</td>\n",
       "      <td>36.570000</td>\n",
       "      <td>1.543439e+09</td>\n",
       "    </tr>\n",
       "    <tr>\n",
       "      <th>50%</th>\n",
       "      <td>1.543737e+09</td>\n",
       "      <td>12.000000</td>\n",
       "      <td>17.000000</td>\n",
       "      <td>12.000000</td>\n",
       "      <td>13.500000</td>\n",
       "      <td>2.160000</td>\n",
       "      <td>1.000000</td>\n",
       "      <td>42.351900</td>\n",
       "      <td>-71.063100</td>\n",
       "      <td>40.490000</td>\n",
       "      <td>35.900000</td>\n",
       "      <td>0.000000</td>\n",
       "      <td>0.000000</td>\n",
       "      <td>0.710000</td>\n",
       "      <td>5.910000</td>\n",
       "      <td>7.550000</td>\n",
       "      <td>1.543756e+09</td>\n",
       "      <td>9.880000</td>\n",
       "      <td>44.680000</td>\n",
       "      <td>1.543788e+09</td>\n",
       "      <td>34.180000</td>\n",
       "      <td>1.543817e+09</td>\n",
       "      <td>40.950000</td>\n",
       "      <td>1.543788e+09</td>\n",
       "      <td>30.030000</td>\n",
       "      <td>1.543817e+09</td>\n",
       "      <td>30.690000</td>\n",
       "      <td>1009.250000</td>\n",
       "      <td>258.000000</td>\n",
       "      <td>0.820000</td>\n",
       "      <td>0.000000</td>\n",
       "      <td>9.880000</td>\n",
       "      <td>307.400000</td>\n",
       "      <td>1.543752e+09</td>\n",
       "      <td>1.543785e+09</td>\n",
       "      <td>0.680000</td>\n",
       "      <td>0.000400</td>\n",
       "      <td>1.543770e+09</td>\n",
       "      <td>34.240000</td>\n",
       "      <td>1.543727e+09</td>\n",
       "      <td>44.680000</td>\n",
       "      <td>1.543788e+09</td>\n",
       "      <td>30.130000</td>\n",
       "      <td>1.543745e+09</td>\n",
       "      <td>40.950000</td>\n",
       "      <td>1.543788e+09</td>\n",
       "    </tr>\n",
       "    <tr>\n",
       "      <th>75%</th>\n",
       "      <td>1.544828e+09</td>\n",
       "      <td>18.000000</td>\n",
       "      <td>28.000000</td>\n",
       "      <td>12.000000</td>\n",
       "      <td>22.500000</td>\n",
       "      <td>2.920000</td>\n",
       "      <td>1.000000</td>\n",
       "      <td>42.364700</td>\n",
       "      <td>-71.054200</td>\n",
       "      <td>43.580000</td>\n",
       "      <td>40.080000</td>\n",
       "      <td>0.000000</td>\n",
       "      <td>0.000000</td>\n",
       "      <td>0.880000</td>\n",
       "      <td>8.410000</td>\n",
       "      <td>11.740000</td>\n",
       "      <td>1.544846e+09</td>\n",
       "      <td>9.996000</td>\n",
       "      <td>46.910000</td>\n",
       "      <td>1.544814e+09</td>\n",
       "      <td>38.730000</td>\n",
       "      <td>1.544836e+09</td>\n",
       "      <td>44.120000</td>\n",
       "      <td>1.544818e+09</td>\n",
       "      <td>35.320000</td>\n",
       "      <td>1.544836e+09</td>\n",
       "      <td>38.120000</td>\n",
       "      <td>1021.860000</td>\n",
       "      <td>303.000000</td>\n",
       "      <td>1.000000</td>\n",
       "      <td>0.000000</td>\n",
       "      <td>9.996000</td>\n",
       "      <td>331.800000</td>\n",
       "      <td>1.544789e+09</td>\n",
       "      <td>1.544822e+09</td>\n",
       "      <td>0.790000</td>\n",
       "      <td>0.091600</td>\n",
       "      <td>1.544807e+09</td>\n",
       "      <td>38.880000</td>\n",
       "      <td>1.544789e+09</td>\n",
       "      <td>46.910000</td>\n",
       "      <td>1.544814e+09</td>\n",
       "      <td>35.710000</td>\n",
       "      <td>1.544789e+09</td>\n",
       "      <td>44.120000</td>\n",
       "      <td>1.544818e+09</td>\n",
       "    </tr>\n",
       "    <tr>\n",
       "      <th>max</th>\n",
       "      <td>1.545161e+09</td>\n",
       "      <td>23.000000</td>\n",
       "      <td>30.000000</td>\n",
       "      <td>12.000000</td>\n",
       "      <td>97.500000</td>\n",
       "      <td>7.860000</td>\n",
       "      <td>3.000000</td>\n",
       "      <td>42.366100</td>\n",
       "      <td>-71.033000</td>\n",
       "      <td>57.220000</td>\n",
       "      <td>57.220000</td>\n",
       "      <td>0.144700</td>\n",
       "      <td>1.000000</td>\n",
       "      <td>0.960000</td>\n",
       "      <td>15.000000</td>\n",
       "      <td>27.250000</td>\n",
       "      <td>1.545127e+09</td>\n",
       "      <td>10.000000</td>\n",
       "      <td>57.870000</td>\n",
       "      <td>1.545160e+09</td>\n",
       "      <td>46.600000</td>\n",
       "      <td>1.545221e+09</td>\n",
       "      <td>57.200000</td>\n",
       "      <td>1.545160e+09</td>\n",
       "      <td>47.250000</td>\n",
       "      <td>1.545199e+09</td>\n",
       "      <td>50.670000</td>\n",
       "      <td>1035.550000</td>\n",
       "      <td>356.000000</td>\n",
       "      <td>1.000000</td>\n",
       "      <td>2.000000</td>\n",
       "      <td>10.000000</td>\n",
       "      <td>378.900000</td>\n",
       "      <td>1.545135e+09</td>\n",
       "      <td>1.545168e+09</td>\n",
       "      <td>0.930000</td>\n",
       "      <td>0.145900</td>\n",
       "      <td>1.545152e+09</td>\n",
       "      <td>43.100000</td>\n",
       "      <td>1.545192e+09</td>\n",
       "      <td>57.870000</td>\n",
       "      <td>1.545109e+09</td>\n",
       "      <td>40.050000</td>\n",
       "      <td>1.545134e+09</td>\n",
       "      <td>57.200000</td>\n",
       "      <td>1.545109e+09</td>\n",
       "    </tr>\n",
       "  </tbody>\n",
       "</table>\n",
       "</div>"
      ],
      "text/plain": [
       "          timestamp           hour            day          month  \\\n",
       "count  6.930710e+05  693071.000000  693071.000000  693071.000000   \n",
       "mean   1.544046e+09      11.619137      17.794365      11.586684   \n",
       "std    6.891925e+05       6.948114       9.982286       0.492429   \n",
       "min    1.543204e+09       0.000000       1.000000      11.000000   \n",
       "25%    1.543444e+09       6.000000      13.000000      11.000000   \n",
       "50%    1.543737e+09      12.000000      17.000000      12.000000   \n",
       "75%    1.544828e+09      18.000000      28.000000      12.000000   \n",
       "max    1.545161e+09      23.000000      30.000000      12.000000   \n",
       "\n",
       "               price       distance  surge_multiplier       latitude  \\\n",
       "count  637976.000000  693071.000000     693071.000000  693071.000000   \n",
       "mean       16.545125       2.189430          1.013870      42.338172   \n",
       "std         9.324359       1.138937          0.091641       0.047840   \n",
       "min         2.500000       0.020000          1.000000      42.214800   \n",
       "25%         9.000000       1.280000          1.000000      42.350300   \n",
       "50%        13.500000       2.160000          1.000000      42.351900   \n",
       "75%        22.500000       2.920000          1.000000      42.364700   \n",
       "max        97.500000       7.860000          3.000000      42.366100   \n",
       "\n",
       "           longitude    temperature  apparentTemperature  precipIntensity  \\\n",
       "count  693071.000000  693071.000000        693071.000000    693071.000000   \n",
       "mean      -71.066151      39.584388            35.881222         0.008922   \n",
       "std         0.020302       6.726084             7.918707         0.026901   \n",
       "min       -71.105400      18.910000            12.130000         0.000000   \n",
       "25%       -71.081000      36.450000            31.910000         0.000000   \n",
       "50%       -71.063100      40.490000            35.900000         0.000000   \n",
       "75%       -71.054200      43.580000            40.080000         0.000000   \n",
       "max       -71.033000      57.220000            57.220000         0.144700   \n",
       "\n",
       "       precipProbability       humidity      windSpeed       windGust  \\\n",
       "count      693071.000000  693071.000000  693071.000000  693071.000000   \n",
       "mean            0.146076       0.741119       6.186253       8.469860   \n",
       "std             0.328938       0.138595       3.148223       5.289179   \n",
       "min             0.000000       0.380000       0.450000       0.800000   \n",
       "25%             0.000000       0.640000       3.410000       4.060000   \n",
       "50%             0.000000       0.710000       5.910000       7.550000   \n",
       "75%             0.000000       0.880000       8.410000      11.740000   \n",
       "max             1.000000       0.960000      15.000000      27.250000   \n",
       "\n",
       "       windGustTime     visibility  temperatureHigh  temperatureHighTime  \\\n",
       "count  6.930710e+05  693071.000000    693071.000000         6.930710e+05   \n",
       "mean   1.544049e+09       8.467970        45.040982         1.544050e+09   \n",
       "std    6.928244e+05       2.602888         5.996541         6.937921e+05   \n",
       "min    1.543151e+09       0.717000        32.680000         1.543154e+09   \n",
       "25%    1.543432e+09       8.432000        42.570000         1.543439e+09   \n",
       "50%    1.543756e+09       9.880000        44.680000         1.543788e+09   \n",
       "75%    1.544846e+09       9.996000        46.910000         1.544814e+09   \n",
       "max    1.545127e+09      10.000000        57.870000         1.545160e+09   \n",
       "\n",
       "       temperatureLow  temperatureLowTime  apparentTemperatureHigh  \\\n",
       "count   693071.000000        6.930710e+05            693071.000000   \n",
       "mean        34.150736        1.544102e+09                41.614054   \n",
       "std          6.383163        6.922923e+05                 7.666138   \n",
       "min         17.850000        1.543234e+09                22.620000   \n",
       "25%         30.170000        1.543489e+09                36.570000   \n",
       "50%         34.180000        1.543817e+09                40.950000   \n",
       "75%         38.730000        1.544836e+09                44.120000   \n",
       "max         46.600000        1.545221e+09                57.200000   \n",
       "\n",
       "       apparentTemperatureHighTime  apparentTemperatureLow  \\\n",
       "count                 6.930710e+05           693071.000000   \n",
       "mean                  1.544050e+09               30.139824   \n",
       "std                   6.941699e+05                8.057468   \n",
       "min                   1.543187e+09               11.810000   \n",
       "25%                   1.543439e+09               27.700000   \n",
       "50%                   1.543788e+09               30.030000   \n",
       "75%                   1.544818e+09               35.320000   \n",
       "max                   1.545160e+09               47.250000   \n",
       "\n",
       "       apparentTemperatureLowTime       dewPoint       pressure  \\\n",
       "count                6.930710e+05  693071.000000  693071.000000   \n",
       "mean                 1.544099e+09      31.656256    1010.094766   \n",
       "std                  6.927378e+05       9.142355      13.472899   \n",
       "min                  1.543234e+09       4.390000     988.090000   \n",
       "25%                  1.543478e+09      27.490000     999.820000   \n",
       "50%                  1.543817e+09      30.690000    1009.250000   \n",
       "75%                  1.544836e+09      38.120000    1021.860000   \n",
       "max                  1.545199e+09      50.670000    1035.550000   \n",
       "\n",
       "         windBearing     cloudCover        uvIndex   visibility.1  \\\n",
       "count  693071.000000  693071.000000  693071.000000  693071.000000   \n",
       "mean      220.055853       0.686502       0.248908       8.467970   \n",
       "std        99.102736       0.358534       0.474097       2.602888   \n",
       "min         2.000000       0.000000       0.000000       0.717000   \n",
       "25%       124.000000       0.370000       0.000000       8.432000   \n",
       "50%       258.000000       0.820000       0.000000       9.880000   \n",
       "75%       303.000000       1.000000       0.000000       9.996000   \n",
       "max       356.000000       1.000000       2.000000      10.000000   \n",
       "\n",
       "               ozone   sunriseTime    sunsetTime      moonPhase  \\\n",
       "count  693071.000000  6.930710e+05  6.930710e+05  693071.000000   \n",
       "mean      313.513635  1.544027e+09  1.544060e+09       0.579066   \n",
       "std        27.953061  6.911393e+05  6.906634e+05       0.244705   \n",
       "min       269.400000  1.543147e+09  1.543181e+09       0.090000   \n",
       "25%       290.900000  1.543406e+09  1.543440e+09       0.300000   \n",
       "50%       307.400000  1.543752e+09  1.543785e+09       0.680000   \n",
       "75%       331.800000  1.544789e+09  1.544822e+09       0.790000   \n",
       "max       378.900000  1.545135e+09  1.545168e+09       0.930000   \n",
       "\n",
       "       precipIntensityMax   uvIndexTime  temperatureMin  temperatureMinTime  \\\n",
       "count       693071.000000  6.930710e+05   693071.000000        6.930710e+05   \n",
       "mean             0.037374  1.544044e+09       33.457774        1.544042e+09   \n",
       "std              0.055214  6.912028e+05        6.467224        6.901954e+05   \n",
       "min              0.000000  1.543162e+09       15.630000        1.543122e+09   \n",
       "25%              0.000000  1.543421e+09       30.170000        1.543399e+09   \n",
       "50%              0.000400  1.543770e+09       34.240000        1.543727e+09   \n",
       "75%              0.091600  1.544807e+09       38.880000        1.544789e+09   \n",
       "max              0.145900  1.545152e+09       43.100000        1.545192e+09   \n",
       "\n",
       "       temperatureMax  temperatureMaxTime  apparentTemperatureMin  \\\n",
       "count   693071.000000        6.930710e+05           693071.000000   \n",
       "mean        45.261313        1.544047e+09               29.731002   \n",
       "std          5.645046        6.901353e+05                7.110494   \n",
       "min         33.510000        1.543154e+09               11.810000   \n",
       "25%         42.570000        1.543439e+09               27.760000   \n",
       "50%         44.680000        1.543788e+09               30.130000   \n",
       "75%         46.910000        1.544814e+09               35.710000   \n",
       "max         57.870000        1.545109e+09               40.050000   \n",
       "\n",
       "       apparentTemperatureMinTime  apparentTemperatureMax  \\\n",
       "count                6.930710e+05           693071.000000   \n",
       "mean                 1.544048e+09               41.997343   \n",
       "std                  6.871862e+05                6.936841   \n",
       "min                  1.543136e+09               28.950000   \n",
       "25%                  1.543399e+09               36.570000   \n",
       "50%                  1.543745e+09               40.950000   \n",
       "75%                  1.544789e+09               44.120000   \n",
       "max                  1.545134e+09               57.200000   \n",
       "\n",
       "       apparentTemperatureMaxTime  \n",
       "count                6.930710e+05  \n",
       "mean                 1.544048e+09  \n",
       "std                  6.910777e+05  \n",
       "min                  1.543187e+09  \n",
       "25%                  1.543439e+09  \n",
       "50%                  1.543788e+09  \n",
       "75%                  1.544818e+09  \n",
       "max                  1.545109e+09  "
      ]
     },
     "execution_count": 10,
     "metadata": {},
     "output_type": "execute_result"
    }
   ],
   "source": [
    "df.describe()"
   ]
  },
  {
   "cell_type": "markdown",
   "metadata": {},
   "source": [
    "j. Melihat statistik deskriptif dari masing-masing atribut yang bertipe object"
   ]
  },
  {
   "cell_type": "code",
   "execution_count": 11,
   "metadata": {},
   "outputs": [
    {
     "data": {
      "text/html": [
       "<div>\n",
       "<style scoped>\n",
       "    .dataframe tbody tr th:only-of-type {\n",
       "        vertical-align: middle;\n",
       "    }\n",
       "\n",
       "    .dataframe tbody tr th {\n",
       "        vertical-align: top;\n",
       "    }\n",
       "\n",
       "    .dataframe thead th {\n",
       "        text-align: right;\n",
       "    }\n",
       "</style>\n",
       "<table border=\"1\" class=\"dataframe\">\n",
       "  <thead>\n",
       "    <tr style=\"text-align: right;\">\n",
       "      <th></th>\n",
       "      <th>id</th>\n",
       "      <th>datetime</th>\n",
       "      <th>timezone</th>\n",
       "      <th>source</th>\n",
       "      <th>destination</th>\n",
       "      <th>cab_type</th>\n",
       "      <th>product_id</th>\n",
       "      <th>name</th>\n",
       "      <th>short_summary</th>\n",
       "      <th>long_summary</th>\n",
       "      <th>icon</th>\n",
       "    </tr>\n",
       "  </thead>\n",
       "  <tbody>\n",
       "    <tr>\n",
       "      <th>count</th>\n",
       "      <td>693071</td>\n",
       "      <td>693071</td>\n",
       "      <td>693071</td>\n",
       "      <td>693071</td>\n",
       "      <td>693071</td>\n",
       "      <td>693071</td>\n",
       "      <td>693071</td>\n",
       "      <td>693071</td>\n",
       "      <td>693071</td>\n",
       "      <td>693071</td>\n",
       "      <td>693071</td>\n",
       "    </tr>\n",
       "    <tr>\n",
       "      <th>unique</th>\n",
       "      <td>693071</td>\n",
       "      <td>31350</td>\n",
       "      <td>1</td>\n",
       "      <td>12</td>\n",
       "      <td>12</td>\n",
       "      <td>2</td>\n",
       "      <td>13</td>\n",
       "      <td>13</td>\n",
       "      <td>9</td>\n",
       "      <td>11</td>\n",
       "      <td>7</td>\n",
       "    </tr>\n",
       "    <tr>\n",
       "      <th>top</th>\n",
       "      <td>424553bb-7174-41ea-aeb4-fe06d4f4b9d7</td>\n",
       "      <td>2018-11-26 23:21:14</td>\n",
       "      <td>America/New_York</td>\n",
       "      <td>Financial District</td>\n",
       "      <td>Financial District</td>\n",
       "      <td>Uber</td>\n",
       "      <td>6f72dfc5-27f1-42e8-84db-ccc7a75f6969</td>\n",
       "      <td>UberXL</td>\n",
       "      <td>Overcast</td>\n",
       "      <td>Mostly cloudy throughout the day.</td>\n",
       "      <td>cloudy</td>\n",
       "    </tr>\n",
       "    <tr>\n",
       "      <th>freq</th>\n",
       "      <td>1</td>\n",
       "      <td>156</td>\n",
       "      <td>693071</td>\n",
       "      <td>58857</td>\n",
       "      <td>58851</td>\n",
       "      <td>385663</td>\n",
       "      <td>55096</td>\n",
       "      <td>55096</td>\n",
       "      <td>218895</td>\n",
       "      <td>202340</td>\n",
       "      <td>218895</td>\n",
       "    </tr>\n",
       "  </tbody>\n",
       "</table>\n",
       "</div>"
      ],
      "text/plain": [
       "                                          id             datetime  \\\n",
       "count                                 693071               693071   \n",
       "unique                                693071                31350   \n",
       "top     424553bb-7174-41ea-aeb4-fe06d4f4b9d7  2018-11-26 23:21:14   \n",
       "freq                                       1                  156   \n",
       "\n",
       "                timezone              source         destination cab_type  \\\n",
       "count             693071              693071              693071   693071   \n",
       "unique                 1                  12                  12        2   \n",
       "top     America/New_York  Financial District  Financial District     Uber   \n",
       "freq              693071               58857               58851   385663   \n",
       "\n",
       "                                  product_id    name short_summary  \\\n",
       "count                                 693071  693071        693071   \n",
       "unique                                    13      13             9   \n",
       "top     6f72dfc5-27f1-42e8-84db-ccc7a75f6969  UberXL     Overcast    \n",
       "freq                                   55096   55096        218895   \n",
       "\n",
       "                               long_summary      icon  \n",
       "count                                693071    693071  \n",
       "unique                                   11         7  \n",
       "top      Mostly cloudy throughout the day.    cloudy   \n",
       "freq                                 202340    218895  "
      ]
     },
     "execution_count": 11,
     "metadata": {},
     "output_type": "execute_result"
    }
   ],
   "source": [
    "df.describe(include='O')"
   ]
  },
  {
   "cell_type": "markdown",
   "metadata": {},
   "source": [
    "k. Melihat banyaknya unique values pada masing-masing atribut"
   ]
  },
  {
   "cell_type": "code",
   "execution_count": 12,
   "metadata": {},
   "outputs": [
    {
     "name": "stdout",
     "output_type": "stream",
     "text": [
      "id : 693071\n",
      "timestamp : 36179\n",
      "hour : 24\n",
      "day : 17\n",
      "month : 2\n",
      "datetime : 31350\n",
      "timezone : 1\n",
      "source : 12\n",
      "destination : 12\n",
      "cab_type : 2\n",
      "product_id : 13\n",
      "name : 13\n",
      "price : 147\n",
      "distance : 549\n",
      "surge_multiplier : 7\n",
      "latitude : 11\n",
      "longitude : 12\n",
      "temperature : 308\n",
      "apparentTemperature : 319\n",
      "short_summary : 9\n",
      "long_summary : 11\n",
      "precipIntensity : 63\n",
      "precipProbability : 29\n",
      "humidity : 51\n",
      "windSpeed : 291\n",
      "windGust : 286\n",
      "windGustTime : 25\n",
      "visibility : 227\n",
      "temperatureHigh : 129\n",
      "temperatureHighTime : 23\n",
      "temperatureLow : 133\n",
      "temperatureLowTime : 31\n",
      "apparentTemperatureHigh : 124\n",
      "apparentTemperatureHighTime : 27\n",
      "apparentTemperatureLow : 136\n",
      "apparentTemperatureLowTime : 32\n",
      "icon : 7\n",
      "dewPoint : 313\n",
      "pressure : 316\n",
      "windBearing : 195\n",
      "cloudCover : 83\n",
      "uvIndex : 3\n",
      "visibility.1 : 227\n",
      "ozone : 274\n",
      "sunriseTime : 110\n",
      "sunsetTime : 114\n",
      "moonPhase : 18\n",
      "precipIntensityMax : 65\n",
      "uvIndexTime : 20\n",
      "temperatureMin : 131\n",
      "temperatureMinTime : 25\n",
      "temperatureMax : 128\n",
      "temperatureMaxTime : 23\n",
      "apparentTemperatureMin : 137\n",
      "apparentTemperatureMinTime : 29\n",
      "apparentTemperatureMax : 125\n",
      "apparentTemperatureMaxTime : 27\n"
     ]
    }
   ],
   "source": [
    "for col in df.columns:\n",
    "    print(col,':', df[col].nunique())"
   ]
  },
  {
   "cell_type": "markdown",
   "metadata": {},
   "source": [
    "l. Mencoba melihat unique values pada kolom cab_type"
   ]
  },
  {
   "cell_type": "code",
   "execution_count": 13,
   "metadata": {},
   "outputs": [
    {
     "data": {
      "text/plain": [
       "array(['Lyft', 'Uber'], dtype=object)"
      ]
     },
     "execution_count": 13,
     "metadata": {},
     "output_type": "execute_result"
    }
   ],
   "source": [
    "df['cab_type'].unique()"
   ]
  },
  {
   "cell_type": "markdown",
   "metadata": {
    "id": "mmlOTLBu1D0Q"
   },
   "source": [
    "dapat dilihat kolom cab_type memiliki 2 unique values yaitu 'Lyft' dan 'Uber'.\n",
    "\n",
    "## 4. Data Cleaning\n",
    "\n",
    "Bagian ini berisi proses penyiapan data berupa data cleaning sebelum\n",
    "dilakukan explorasi data lebih lanjut. Proses cleaning dapat berupa\n",
    "memberi nama baru untuk setiap kolom, mengisi missing values,\n",
    "menghapus kolom yang tidak dipakai, dan lain sebagainya.\n",
    "\n",
    "a. Melihat apakah terdapat duplikas data pada dataset"
   ]
  },
  {
   "cell_type": "code",
   "execution_count": 14,
   "metadata": {
    "id": "4H2XIklzCVSo"
   },
   "outputs": [
    {
     "data": {
      "text/plain": [
       "0"
      ]
     },
     "execution_count": 14,
     "metadata": {},
     "output_type": "execute_result"
    }
   ],
   "source": [
    "df.duplicated().sum()"
   ]
  },
  {
   "cell_type": "markdown",
   "metadata": {
    "id": "Utklv1zVDir4"
   },
   "source": [
    "b. Melihat apakah terdapat _missing values_/nilai yang hilang pada tiap kolom"
   ]
  },
  {
   "cell_type": "code",
   "execution_count": 15,
   "metadata": {
    "id": "B9degrhyDjLe"
   },
   "outputs": [
    {
     "data": {
      "text/plain": [
       "id                                 0\n",
       "timestamp                          0\n",
       "hour                               0\n",
       "day                                0\n",
       "month                              0\n",
       "datetime                           0\n",
       "timezone                           0\n",
       "source                             0\n",
       "destination                        0\n",
       "cab_type                           0\n",
       "product_id                         0\n",
       "name                               0\n",
       "price                          55095\n",
       "distance                           0\n",
       "surge_multiplier                   0\n",
       "latitude                           0\n",
       "longitude                          0\n",
       "temperature                        0\n",
       "apparentTemperature                0\n",
       "short_summary                      0\n",
       "long_summary                       0\n",
       "precipIntensity                    0\n",
       "precipProbability                  0\n",
       "humidity                           0\n",
       "windSpeed                          0\n",
       "windGust                           0\n",
       "windGustTime                       0\n",
       "visibility                         0\n",
       "temperatureHigh                    0\n",
       "temperatureHighTime                0\n",
       "temperatureLow                     0\n",
       "temperatureLowTime                 0\n",
       "apparentTemperatureHigh            0\n",
       "apparentTemperatureHighTime        0\n",
       "apparentTemperatureLow             0\n",
       "apparentTemperatureLowTime         0\n",
       "icon                               0\n",
       "dewPoint                           0\n",
       "pressure                           0\n",
       "windBearing                        0\n",
       "cloudCover                         0\n",
       "uvIndex                            0\n",
       "visibility.1                       0\n",
       "ozone                              0\n",
       "sunriseTime                        0\n",
       "sunsetTime                         0\n",
       "moonPhase                          0\n",
       "precipIntensityMax                 0\n",
       "uvIndexTime                        0\n",
       "temperatureMin                     0\n",
       "temperatureMinTime                 0\n",
       "temperatureMax                     0\n",
       "temperatureMaxTime                 0\n",
       "apparentTemperatureMin             0\n",
       "apparentTemperatureMinTime         0\n",
       "apparentTemperatureMax             0\n",
       "apparentTemperatureMaxTime         0\n",
       "dtype: int64"
      ]
     },
     "execution_count": 15,
     "metadata": {},
     "output_type": "execute_result"
    }
   ],
   "source": [
    "df.isnull().sum() # NaN ada di kolom price"
   ]
  },
  {
   "cell_type": "markdown",
   "metadata": {},
   "source": [
    "dari hasil diketahui missing value hanya terdapat pada kolom price\n",
    "\n",
    "c. Melihat berapa persen missing value pada kolom price"
   ]
  },
  {
   "cell_type": "code",
   "execution_count": 16,
   "metadata": {},
   "outputs": [
    {
     "name": "stdout",
     "output_type": "stream",
     "text": [
      "Jumlah missing value pada kolom price : 55095 (7.95%)\n"
     ]
    }
   ],
   "source": [
    "a = df['price'].isnull().sum()\n",
    "b = df.shape[0]\n",
    "print('Jumlah missing value pada kolom price : {0} ({1:2.2f}%)'.format(a, (a/b)*100))"
   ]
  },
  {
   "cell_type": "markdown",
   "metadata": {
    "id": "jABOig20Dsz_"
   },
   "source": [
    "d. Mengisi _missing values_ dengan median dari keseluruhan nilai pada kolom"
   ]
  },
  {
   "cell_type": "code",
   "execution_count": 17,
   "metadata": {
    "id": "v7XozbCBCdPi"
   },
   "outputs": [
    {
     "data": {
      "text/plain": [
       "False"
      ]
     },
     "execution_count": 17,
     "metadata": {},
     "output_type": "execute_result"
    }
   ],
   "source": [
    "mdn = df['price'].median()\n",
    "df['price'].fillna(mdn, inplace=True)\n",
    "df.isnull().values.any()"
   ]
  },
  {
   "cell_type": "markdown",
   "metadata": {},
   "source": [
    "setelah dilakukan penanganan missing value dengan median didapakan sudah tidak ada missing value lagi pada dataset\n",
    "\n",
    "e. Melakukan penghapusan kolom yang tidak diperlukan\n",
    "\n",
    "disini kami hanya akan menggunakan kolom `hour`, `day`, `month`, `datetime`, `source`, `destination`, `cab_type`, `name`, `price`, `distance`, `temperature`, `surge_multiplier` untuk melakukan prediksi dan menghapus kolom selain itu"
   ]
  },
  {
   "cell_type": "code",
   "execution_count": 18,
   "metadata": {},
   "outputs": [],
   "source": [
    "drop_cols = [\"id\", \"timestamp\", \"timezone\", \"product_id\", \"latitude\", \"longitude\", \"precipIntensity\", \"precipProbability\", \n",
    "             \"windGustTime\", \"temperatureHigh\", \"temperatureHighTime\", \"temperatureLow\", \"temperatureLowTime\", \n",
    "             \"apparentTemperatureHigh\", \"apparentTemperatureHighTime\", \"apparentTemperatureLow\", \"apparentTemperatureLowTime\", \n",
    "             \"icon\", \"dewPoint\", \"windBearing\", \"uvIndex\", \"visibility.1\", \"ozone\", \"sunriseTime\", \"sunsetTime\", \"uvIndexTime\",\n",
    "             \"temperatureMin\", \"temperatureMinTime\", \"temperatureMax\", \"temperatureMaxTime\", \"apparentTemperatureMin\", \n",
    "             \"apparentTemperatureMinTime\", \"apparentTemperatureMax\", \"apparentTemperatureMaxTime\", \"apparentTemperature\",\n",
    "             \"short_summary\", \"long_summary\", \"humidity\", \"windSpeed\", \"windGust\", \"visibility\", \"pressure\",\n",
    "             \"cloudCover\", \"moonPhase\", \"precipIntensityMax\"]"
   ]
  },
  {
   "cell_type": "markdown",
   "metadata": {},
   "source": [
    "Melakukan penghapusan atribut dengan .drop"
   ]
  },
  {
   "cell_type": "code",
   "execution_count": 19,
   "metadata": {},
   "outputs": [
    {
     "data": {
      "text/html": [
       "<div>\n",
       "<style scoped>\n",
       "    .dataframe tbody tr th:only-of-type {\n",
       "        vertical-align: middle;\n",
       "    }\n",
       "\n",
       "    .dataframe tbody tr th {\n",
       "        vertical-align: top;\n",
       "    }\n",
       "\n",
       "    .dataframe thead th {\n",
       "        text-align: right;\n",
       "    }\n",
       "</style>\n",
       "<table border=\"1\" class=\"dataframe\">\n",
       "  <thead>\n",
       "    <tr style=\"text-align: right;\">\n",
       "      <th></th>\n",
       "      <th>hour</th>\n",
       "      <th>day</th>\n",
       "      <th>month</th>\n",
       "      <th>datetime</th>\n",
       "      <th>source</th>\n",
       "      <th>destination</th>\n",
       "      <th>cab_type</th>\n",
       "      <th>name</th>\n",
       "      <th>price</th>\n",
       "      <th>distance</th>\n",
       "      <th>surge_multiplier</th>\n",
       "      <th>temperature</th>\n",
       "    </tr>\n",
       "  </thead>\n",
       "  <tbody>\n",
       "    <tr>\n",
       "      <th>0</th>\n",
       "      <td>9</td>\n",
       "      <td>16</td>\n",
       "      <td>12</td>\n",
       "      <td>2018-12-16 09:30:07</td>\n",
       "      <td>Haymarket Square</td>\n",
       "      <td>North Station</td>\n",
       "      <td>Lyft</td>\n",
       "      <td>Shared</td>\n",
       "      <td>5.0</td>\n",
       "      <td>0.44</td>\n",
       "      <td>1.0</td>\n",
       "      <td>42.34</td>\n",
       "    </tr>\n",
       "    <tr>\n",
       "      <th>1</th>\n",
       "      <td>2</td>\n",
       "      <td>27</td>\n",
       "      <td>11</td>\n",
       "      <td>2018-11-27 02:00:23</td>\n",
       "      <td>Haymarket Square</td>\n",
       "      <td>North Station</td>\n",
       "      <td>Lyft</td>\n",
       "      <td>Lux</td>\n",
       "      <td>11.0</td>\n",
       "      <td>0.44</td>\n",
       "      <td>1.0</td>\n",
       "      <td>43.58</td>\n",
       "    </tr>\n",
       "    <tr>\n",
       "      <th>2</th>\n",
       "      <td>1</td>\n",
       "      <td>28</td>\n",
       "      <td>11</td>\n",
       "      <td>2018-11-28 01:00:22</td>\n",
       "      <td>Haymarket Square</td>\n",
       "      <td>North Station</td>\n",
       "      <td>Lyft</td>\n",
       "      <td>Lyft</td>\n",
       "      <td>7.0</td>\n",
       "      <td>0.44</td>\n",
       "      <td>1.0</td>\n",
       "      <td>38.33</td>\n",
       "    </tr>\n",
       "    <tr>\n",
       "      <th>3</th>\n",
       "      <td>4</td>\n",
       "      <td>30</td>\n",
       "      <td>11</td>\n",
       "      <td>2018-11-30 04:53:02</td>\n",
       "      <td>Haymarket Square</td>\n",
       "      <td>North Station</td>\n",
       "      <td>Lyft</td>\n",
       "      <td>Lux Black XL</td>\n",
       "      <td>26.0</td>\n",
       "      <td>0.44</td>\n",
       "      <td>1.0</td>\n",
       "      <td>34.38</td>\n",
       "    </tr>\n",
       "    <tr>\n",
       "      <th>4</th>\n",
       "      <td>3</td>\n",
       "      <td>29</td>\n",
       "      <td>11</td>\n",
       "      <td>2018-11-29 03:49:20</td>\n",
       "      <td>Haymarket Square</td>\n",
       "      <td>North Station</td>\n",
       "      <td>Lyft</td>\n",
       "      <td>Lyft XL</td>\n",
       "      <td>9.0</td>\n",
       "      <td>0.44</td>\n",
       "      <td>1.0</td>\n",
       "      <td>37.44</td>\n",
       "    </tr>\n",
       "  </tbody>\n",
       "</table>\n",
       "</div>"
      ],
      "text/plain": [
       "   hour  day  month             datetime            source    destination  \\\n",
       "0     9   16     12  2018-12-16 09:30:07  Haymarket Square  North Station   \n",
       "1     2   27     11  2018-11-27 02:00:23  Haymarket Square  North Station   \n",
       "2     1   28     11  2018-11-28 01:00:22  Haymarket Square  North Station   \n",
       "3     4   30     11  2018-11-30 04:53:02  Haymarket Square  North Station   \n",
       "4     3   29     11  2018-11-29 03:49:20  Haymarket Square  North Station   \n",
       "\n",
       "  cab_type          name  price  distance  surge_multiplier  temperature  \n",
       "0     Lyft        Shared    5.0      0.44               1.0        42.34  \n",
       "1     Lyft           Lux   11.0      0.44               1.0        43.58  \n",
       "2     Lyft          Lyft    7.0      0.44               1.0        38.33  \n",
       "3     Lyft  Lux Black XL   26.0      0.44               1.0        34.38  \n",
       "4     Lyft       Lyft XL    9.0      0.44               1.0        37.44  "
      ]
     },
     "execution_count": 19,
     "metadata": {},
     "output_type": "execute_result"
    }
   ],
   "source": [
    "df = df.drop(drop_cols, axis=1)\n",
    "df.head()"
   ]
  },
  {
   "cell_type": "markdown",
   "metadata": {},
   "source": [
    "f. Memberikan nama baru pada untuk setiap kolom atau atribut"
   ]
  },
  {
   "cell_type": "code",
   "execution_count": 20,
   "metadata": {},
   "outputs": [
    {
     "data": {
      "text/html": [
       "<div>\n",
       "<style scoped>\n",
       "    .dataframe tbody tr th:only-of-type {\n",
       "        vertical-align: middle;\n",
       "    }\n",
       "\n",
       "    .dataframe tbody tr th {\n",
       "        vertical-align: top;\n",
       "    }\n",
       "\n",
       "    .dataframe thead th {\n",
       "        text-align: right;\n",
       "    }\n",
       "</style>\n",
       "<table border=\"1\" class=\"dataframe\">\n",
       "  <thead>\n",
       "    <tr style=\"text-align: right;\">\n",
       "      <th></th>\n",
       "      <th>Jam</th>\n",
       "      <th>Hari</th>\n",
       "      <th>Bulan</th>\n",
       "      <th>Tanggal</th>\n",
       "      <th>Asal</th>\n",
       "      <th>Tujuan</th>\n",
       "      <th>Jenis_Taksi</th>\n",
       "      <th>Merek</th>\n",
       "      <th>Harga</th>\n",
       "      <th>Jarak</th>\n",
       "      <th>surge_multiplier</th>\n",
       "      <th>Suhu</th>\n",
       "    </tr>\n",
       "  </thead>\n",
       "  <tbody>\n",
       "    <tr>\n",
       "      <th>0</th>\n",
       "      <td>9</td>\n",
       "      <td>16</td>\n",
       "      <td>12</td>\n",
       "      <td>2018-12-16 09:30:07</td>\n",
       "      <td>Haymarket Square</td>\n",
       "      <td>North Station</td>\n",
       "      <td>Lyft</td>\n",
       "      <td>Shared</td>\n",
       "      <td>5.0</td>\n",
       "      <td>0.44</td>\n",
       "      <td>1.0</td>\n",
       "      <td>42.34</td>\n",
       "    </tr>\n",
       "    <tr>\n",
       "      <th>1</th>\n",
       "      <td>2</td>\n",
       "      <td>27</td>\n",
       "      <td>11</td>\n",
       "      <td>2018-11-27 02:00:23</td>\n",
       "      <td>Haymarket Square</td>\n",
       "      <td>North Station</td>\n",
       "      <td>Lyft</td>\n",
       "      <td>Lux</td>\n",
       "      <td>11.0</td>\n",
       "      <td>0.44</td>\n",
       "      <td>1.0</td>\n",
       "      <td>43.58</td>\n",
       "    </tr>\n",
       "    <tr>\n",
       "      <th>2</th>\n",
       "      <td>1</td>\n",
       "      <td>28</td>\n",
       "      <td>11</td>\n",
       "      <td>2018-11-28 01:00:22</td>\n",
       "      <td>Haymarket Square</td>\n",
       "      <td>North Station</td>\n",
       "      <td>Lyft</td>\n",
       "      <td>Lyft</td>\n",
       "      <td>7.0</td>\n",
       "      <td>0.44</td>\n",
       "      <td>1.0</td>\n",
       "      <td>38.33</td>\n",
       "    </tr>\n",
       "    <tr>\n",
       "      <th>3</th>\n",
       "      <td>4</td>\n",
       "      <td>30</td>\n",
       "      <td>11</td>\n",
       "      <td>2018-11-30 04:53:02</td>\n",
       "      <td>Haymarket Square</td>\n",
       "      <td>North Station</td>\n",
       "      <td>Lyft</td>\n",
       "      <td>Lux Black XL</td>\n",
       "      <td>26.0</td>\n",
       "      <td>0.44</td>\n",
       "      <td>1.0</td>\n",
       "      <td>34.38</td>\n",
       "    </tr>\n",
       "    <tr>\n",
       "      <th>4</th>\n",
       "      <td>3</td>\n",
       "      <td>29</td>\n",
       "      <td>11</td>\n",
       "      <td>2018-11-29 03:49:20</td>\n",
       "      <td>Haymarket Square</td>\n",
       "      <td>North Station</td>\n",
       "      <td>Lyft</td>\n",
       "      <td>Lyft XL</td>\n",
       "      <td>9.0</td>\n",
       "      <td>0.44</td>\n",
       "      <td>1.0</td>\n",
       "      <td>37.44</td>\n",
       "    </tr>\n",
       "  </tbody>\n",
       "</table>\n",
       "</div>"
      ],
      "text/plain": [
       "   Jam  Hari  Bulan              Tanggal              Asal         Tujuan  \\\n",
       "0    9    16     12  2018-12-16 09:30:07  Haymarket Square  North Station   \n",
       "1    2    27     11  2018-11-27 02:00:23  Haymarket Square  North Station   \n",
       "2    1    28     11  2018-11-28 01:00:22  Haymarket Square  North Station   \n",
       "3    4    30     11  2018-11-30 04:53:02  Haymarket Square  North Station   \n",
       "4    3    29     11  2018-11-29 03:49:20  Haymarket Square  North Station   \n",
       "\n",
       "  Jenis_Taksi         Merek  Harga  Jarak  surge_multiplier   Suhu  \n",
       "0        Lyft        Shared    5.0   0.44               1.0  42.34  \n",
       "1        Lyft           Lux   11.0   0.44               1.0  43.58  \n",
       "2        Lyft          Lyft    7.0   0.44               1.0  38.33  \n",
       "3        Lyft  Lux Black XL   26.0   0.44               1.0  34.38  \n",
       "4        Lyft       Lyft XL    9.0   0.44               1.0  37.44  "
      ]
     },
     "execution_count": 20,
     "metadata": {},
     "output_type": "execute_result"
    }
   ],
   "source": [
    "df = df.rename(columns={'hour':'Jam', 'day':'Hari', 'month':'Bulan', 'datetime':'Tanggal', 'source':'Asal', \n",
    "                          'destination':'Tujuan', 'cab_type':'Jenis_Taksi', 'name':'Merek', 'price':'Harga', \n",
    "                          'distance':'Jarak','temperature':'Suhu', 'surge_multiplier':'surge_multiplier'})\n",
    "\n",
    "df.head()"
   ]
  },
  {
   "cell_type": "markdown",
   "metadata": {},
   "source": [
    "g. Melihat banyaknya nilai dari masing-masing atribut"
   ]
  },
  {
   "cell_type": "code",
   "execution_count": 21,
   "metadata": {},
   "outputs": [
    {
     "name": "stdout",
     "output_type": "stream",
     "text": [
      "Jam : \n",
      "0     32413\n",
      "23    31931\n",
      "16    30384\n",
      "17    30384\n",
      "12    30384\n",
      "13    30384\n",
      "18    30384\n",
      "11    30384\n",
      "14    30384\n",
      "10    30384\n",
      "15    30383\n",
      "22    29436\n",
      "9     28971\n",
      "2     28548\n",
      "1     28548\n",
      "4     28330\n",
      "3     27815\n",
      "21    27732\n",
      "19    27555\n",
      "6     27336\n",
      "20    26782\n",
      "5     25008\n",
      "7     24936\n",
      "8     24275\n",
      "Name: Jam, dtype: int64\n",
      "\n",
      " ############################################################ \n",
      "\n",
      "Hari : \n",
      "27    76121\n",
      "28    73691\n",
      "29    59974\n",
      "1     45240\n",
      "30    45084\n",
      "16    44928\n",
      "15    44928\n",
      "14    44928\n",
      "3     44928\n",
      "2     44928\n",
      "17    44928\n",
      "13    38531\n",
      "18    36192\n",
      "26    31587\n",
      "4     12636\n",
      "10     2773\n",
      "9      1674\n",
      "Name: Hari, dtype: int64\n",
      "\n",
      " ############################################################ \n",
      "\n",
      "Bulan : \n",
      "12    406614\n",
      "11    286457\n",
      "Name: Bulan, dtype: int64\n",
      "\n",
      " ############################################################ \n",
      "\n",
      "Tanggal : \n",
      "2018-11-26 23:21:14    156\n",
      "2018-11-29 01:02:08    156\n",
      "2018-11-26 23:33:14    156\n",
      "2018-11-28 15:56:08    156\n",
      "2018-11-28 14:29:08    156\n",
      "                      ... \n",
      "2018-12-01 14:18:01      6\n",
      "2018-12-16 12:55:06      4\n",
      "2018-11-28 09:32:17      3\n",
      "2018-12-13 15:10:13      1\n",
      "2018-11-30 13:17:58      1\n",
      "Name: Tanggal, Length: 31350, dtype: int64\n",
      "\n",
      " ############################################################ \n",
      "\n",
      "Asal : \n",
      "Financial District         58857\n",
      "Theatre District           57813\n",
      "Back Bay                   57792\n",
      "Boston University          57764\n",
      "North End                  57763\n",
      "Fenway                     57757\n",
      "Northeastern University    57756\n",
      "South Station              57750\n",
      "Haymarket Square           57736\n",
      "West End                   57562\n",
      "Beacon Hill                57403\n",
      "North Station              57118\n",
      "Name: Asal, dtype: int64\n",
      "\n",
      " ############################################################ \n",
      "\n",
      "Tujuan : \n",
      "Financial District         58851\n",
      "Theatre District           57798\n",
      "Back Bay                   57780\n",
      "Haymarket Square           57764\n",
      "Boston University          57764\n",
      "Fenway                     57757\n",
      "North End                  57756\n",
      "Northeastern University    57755\n",
      "South Station              57749\n",
      "West End                   57575\n",
      "Beacon Hill                57403\n",
      "North Station              57119\n",
      "Name: Tujuan, dtype: int64\n",
      "\n",
      " ############################################################ \n",
      "\n",
      "Jenis_Taksi : \n",
      "Uber    385663\n",
      "Lyft    307408\n",
      "Name: Jenis_Taksi, dtype: int64\n",
      "\n",
      " ############################################################ \n",
      "\n",
      "Merek : \n",
      "UberXL          55096\n",
      "WAV             55096\n",
      "Black SUV       55096\n",
      "Black           55095\n",
      "Taxi            55095\n",
      "UberX           55094\n",
      "UberPool        55091\n",
      "Lux             51235\n",
      "Lyft            51235\n",
      "Lux Black XL    51235\n",
      "Lyft XL         51235\n",
      "Lux Black       51235\n",
      "Shared          51233\n",
      "Name: Merek, dtype: int64\n",
      "\n",
      " ############################################################ \n",
      "\n",
      "Harga : \n",
      "13.50    88802\n",
      "7.00     52314\n",
      "16.50    44351\n",
      "10.50    40590\n",
      "9.00     30884\n",
      "         ...  \n",
      "89.50        1\n",
      "81.50        1\n",
      "64.50        1\n",
      "87.00        1\n",
      "19.35        1\n",
      "Name: Harga, Length: 147, dtype: int64\n",
      "\n",
      " ############################################################ \n",
      "\n",
      "Jarak : \n",
      "2.66    9174\n",
      "2.32    9127\n",
      "2.84    8562\n",
      "1.41    7884\n",
      "1.25    7434\n",
      "        ... \n",
      "5.06       6\n",
      "5.03       6\n",
      "4.87       6\n",
      "4.99       6\n",
      "4.89       6\n",
      "Name: Jarak, Length: 549, dtype: int64\n",
      "\n",
      " ############################################################ \n",
      "\n",
      "surge_multiplier : \n",
      "1.00    672096\n",
      "1.25     11085\n",
      "1.50      5065\n",
      "1.75      2420\n",
      "2.00      2239\n",
      "2.50       154\n",
      "3.00        12\n",
      "Name: surge_multiplier, dtype: int64\n",
      "\n",
      " ############################################################ \n",
      "\n",
      "Suhu : \n",
      "37.92    6552\n",
      "39.41    5616\n",
      "40.13    5616\n",
      "38.42    5460\n",
      "41.47    5304\n",
      "         ... \n",
      "41.52     420\n",
      "35.22     372\n",
      "41.59     252\n",
      "29.35     156\n",
      "34.51     156\n",
      "Name: Suhu, Length: 308, dtype: int64\n",
      "\n",
      " ############################################################ \n",
      "\n"
     ]
    }
   ],
   "source": [
    "for col in df.columns:\n",
    "    print(col, ': ')\n",
    "    print(df[col].value_counts())\n",
    "    print('\\n','#'*60,'\\n')"
   ]
  },
  {
   "cell_type": "markdown",
   "metadata": {},
   "source": [
    "h. Membuat atribut atau kolom baru\n",
    "\n",
    "disini kami membuat atribut atau kolom baru yaitu `Harga_Per_Mile`, yang didapatkan dengan menghitung `Harga` dibagi dengan `Jarak`"
   ]
  },
  {
   "cell_type": "code",
   "execution_count": 22,
   "metadata": {},
   "outputs": [
    {
     "data": {
      "text/html": [
       "<div>\n",
       "<style scoped>\n",
       "    .dataframe tbody tr th:only-of-type {\n",
       "        vertical-align: middle;\n",
       "    }\n",
       "\n",
       "    .dataframe tbody tr th {\n",
       "        vertical-align: top;\n",
       "    }\n",
       "\n",
       "    .dataframe thead th {\n",
       "        text-align: right;\n",
       "    }\n",
       "</style>\n",
       "<table border=\"1\" class=\"dataframe\">\n",
       "  <thead>\n",
       "    <tr style=\"text-align: right;\">\n",
       "      <th></th>\n",
       "      <th>Jam</th>\n",
       "      <th>Hari</th>\n",
       "      <th>Bulan</th>\n",
       "      <th>Tanggal</th>\n",
       "      <th>Asal</th>\n",
       "      <th>Tujuan</th>\n",
       "      <th>Jenis_Taksi</th>\n",
       "      <th>Merek</th>\n",
       "      <th>Harga</th>\n",
       "      <th>Jarak</th>\n",
       "      <th>surge_multiplier</th>\n",
       "      <th>Suhu</th>\n",
       "      <th>Harga_Per_Mile</th>\n",
       "    </tr>\n",
       "  </thead>\n",
       "  <tbody>\n",
       "    <tr>\n",
       "      <th>0</th>\n",
       "      <td>9</td>\n",
       "      <td>16</td>\n",
       "      <td>12</td>\n",
       "      <td>2018-12-16 09:30:07</td>\n",
       "      <td>Haymarket Square</td>\n",
       "      <td>North Station</td>\n",
       "      <td>Lyft</td>\n",
       "      <td>Shared</td>\n",
       "      <td>5.0</td>\n",
       "      <td>0.44</td>\n",
       "      <td>1.0</td>\n",
       "      <td>42.34</td>\n",
       "      <td>11.363636</td>\n",
       "    </tr>\n",
       "    <tr>\n",
       "      <th>1</th>\n",
       "      <td>2</td>\n",
       "      <td>27</td>\n",
       "      <td>11</td>\n",
       "      <td>2018-11-27 02:00:23</td>\n",
       "      <td>Haymarket Square</td>\n",
       "      <td>North Station</td>\n",
       "      <td>Lyft</td>\n",
       "      <td>Lux</td>\n",
       "      <td>11.0</td>\n",
       "      <td>0.44</td>\n",
       "      <td>1.0</td>\n",
       "      <td>43.58</td>\n",
       "      <td>25.000000</td>\n",
       "    </tr>\n",
       "    <tr>\n",
       "      <th>2</th>\n",
       "      <td>1</td>\n",
       "      <td>28</td>\n",
       "      <td>11</td>\n",
       "      <td>2018-11-28 01:00:22</td>\n",
       "      <td>Haymarket Square</td>\n",
       "      <td>North Station</td>\n",
       "      <td>Lyft</td>\n",
       "      <td>Lyft</td>\n",
       "      <td>7.0</td>\n",
       "      <td>0.44</td>\n",
       "      <td>1.0</td>\n",
       "      <td>38.33</td>\n",
       "      <td>15.909091</td>\n",
       "    </tr>\n",
       "    <tr>\n",
       "      <th>3</th>\n",
       "      <td>4</td>\n",
       "      <td>30</td>\n",
       "      <td>11</td>\n",
       "      <td>2018-11-30 04:53:02</td>\n",
       "      <td>Haymarket Square</td>\n",
       "      <td>North Station</td>\n",
       "      <td>Lyft</td>\n",
       "      <td>Lux Black XL</td>\n",
       "      <td>26.0</td>\n",
       "      <td>0.44</td>\n",
       "      <td>1.0</td>\n",
       "      <td>34.38</td>\n",
       "      <td>59.090909</td>\n",
       "    </tr>\n",
       "    <tr>\n",
       "      <th>4</th>\n",
       "      <td>3</td>\n",
       "      <td>29</td>\n",
       "      <td>11</td>\n",
       "      <td>2018-11-29 03:49:20</td>\n",
       "      <td>Haymarket Square</td>\n",
       "      <td>North Station</td>\n",
       "      <td>Lyft</td>\n",
       "      <td>Lyft XL</td>\n",
       "      <td>9.0</td>\n",
       "      <td>0.44</td>\n",
       "      <td>1.0</td>\n",
       "      <td>37.44</td>\n",
       "      <td>20.454545</td>\n",
       "    </tr>\n",
       "  </tbody>\n",
       "</table>\n",
       "</div>"
      ],
      "text/plain": [
       "   Jam  Hari  Bulan              Tanggal              Asal         Tujuan  \\\n",
       "0    9    16     12  2018-12-16 09:30:07  Haymarket Square  North Station   \n",
       "1    2    27     11  2018-11-27 02:00:23  Haymarket Square  North Station   \n",
       "2    1    28     11  2018-11-28 01:00:22  Haymarket Square  North Station   \n",
       "3    4    30     11  2018-11-30 04:53:02  Haymarket Square  North Station   \n",
       "4    3    29     11  2018-11-29 03:49:20  Haymarket Square  North Station   \n",
       "\n",
       "  Jenis_Taksi         Merek  Harga  Jarak  surge_multiplier   Suhu  \\\n",
       "0        Lyft        Shared    5.0   0.44               1.0  42.34   \n",
       "1        Lyft           Lux   11.0   0.44               1.0  43.58   \n",
       "2        Lyft          Lyft    7.0   0.44               1.0  38.33   \n",
       "3        Lyft  Lux Black XL   26.0   0.44               1.0  34.38   \n",
       "4        Lyft       Lyft XL    9.0   0.44               1.0  37.44   \n",
       "\n",
       "   Harga_Per_Mile  \n",
       "0       11.363636  \n",
       "1       25.000000  \n",
       "2       15.909091  \n",
       "3       59.090909  \n",
       "4       20.454545  "
      ]
     },
     "execution_count": 22,
     "metadata": {},
     "output_type": "execute_result"
    }
   ],
   "source": [
    "df['Harga_Per_Mile'] = df['Harga'] / df['Jarak']\n",
    "\n",
    "# melihat data setelah ditambahkan atribut / kolom baru\n",
    "df.head()"
   ]
  },
  {
   "cell_type": "markdown",
   "metadata": {
    "id": "GSWPqu3c1D0R"
   },
   "source": [
    "## 5. Explorasi Data\n",
    "\n",
    "Bagian ini berisi explorasi data pada dataset diatas dengan menggunakan\n",
    "query, grouping, visualisasi sederhana, dan lain sebagainya.\n",
    "\n",
    "a. Mencari tanggal pertama kali dan terakhir kali Uber dan Lyft menerima penumpang."
   ]
  },
  {
   "cell_type": "code",
   "execution_count": 23,
   "metadata": {
    "id": "QEB3Vi7mYEP5"
   },
   "outputs": [
    {
     "data": {
      "text/plain": [
       "min    2018-11-26 03:40:46\n",
       "max    2018-12-18 19:15:10\n",
       "Name: Tanggal, dtype: object"
      ]
     },
     "execution_count": 23,
     "metadata": {},
     "output_type": "execute_result"
    }
   ],
   "source": [
    "# Tanggal Uber\n",
    "df.loc[df['Jenis_Taksi'] == 'Uber', 'Tanggal'].agg(('min', 'max'))"
   ]
  },
  {
   "cell_type": "code",
   "execution_count": 24,
   "metadata": {
    "id": "q136bXMvYMz2"
   },
   "outputs": [
    {
     "data": {
      "text/plain": [
       "min    2018-11-26 03:40:46\n",
       "max    2018-12-18 19:15:10\n",
       "Name: Tanggal, dtype: object"
      ]
     },
     "execution_count": 24,
     "metadata": {},
     "output_type": "execute_result"
    }
   ],
   "source": [
    "# Tanggal Lyft\n",
    "df.loc[df['Jenis_Taksi'] == 'Lyft', 'Tanggal'].agg(('min', 'max'))"
   ]
  },
  {
   "cell_type": "markdown",
   "metadata": {
    "id": "mKjn1F3tYONv"
   },
   "source": [
    "Dari hasil diketahui bahwa untuk jenis taksi Uber pertama kali menerima penumpang pada tanggal 26 November 2018 pukul 03:40:46 dan untuk pesanan penumpang terakhir kali dilakukan pada 18 Desember 2018 pukul 19:15:10\n",
    "\n",
    "Sedangkan untuk jenis taksi Lyft pertama kali menerima penumpang pada tanggal 26 November 2018 pukul 03:40:46 dan untuk pesanan penumpang terakhir kali dilakukan pada 18 Desember 2018 pukul 19:15:10.\n",
    "\n",
    "Hal ini dapat disimpulkan bahwa jenis taksi Uber dan Lyft melakukan operasi pada tanggal yang sama.\n",
    "\n",
    "b. Mencari jarak terdekat dan terjauh pada Uber dan Lyft selama menerima penumpang."
   ]
  },
  {
   "cell_type": "code",
   "execution_count": 25,
   "metadata": {
    "id": "M0RiwSVGYQ6W"
   },
   "outputs": [
    {
     "data": {
      "text/plain": [
       "min    0.02\n",
       "max    7.86\n",
       "Name: Jarak, dtype: float64"
      ]
     },
     "execution_count": 25,
     "metadata": {},
     "output_type": "execute_result"
    }
   ],
   "source": [
    "# Jarak Uber\n",
    "df.loc[df['Jenis_Taksi'] == 'Uber', 'Jarak'].agg(('min', 'max'))"
   ]
  },
  {
   "cell_type": "code",
   "execution_count": 26,
   "metadata": {
    "id": "Z5DuOGoWYVXm"
   },
   "outputs": [
    {
     "data": {
      "text/plain": [
       "min    0.39\n",
       "max    6.33\n",
       "Name: Jarak, dtype: float64"
      ]
     },
     "execution_count": 26,
     "metadata": {},
     "output_type": "execute_result"
    }
   ],
   "source": [
    "# Jarak Lyft\n",
    "df.loc[df['Jenis_Taksi'] == 'Lyft', 'Jarak'].agg(('min', 'max'))"
   ]
  },
  {
   "cell_type": "markdown",
   "metadata": {
    "id": "yFgbBd4SYXKn"
   },
   "source": [
    "Dari hasil diketahui bahwa untuk jenis taksi Uber menempuh jarak terdekat 0.02 dan jarak terjauh 7.86 selama menerima penumpang. Sedangkan untuk jenis taksi Lyft menempuh jarak terdekat 0.39 dan jarak terjauh 6.33 selama menerima penumpang\n",
    "\n",
    "c. Mencari harga termurah dan termahal pada Uber dan Lyft selama menerima penumpang."
   ]
  },
  {
   "cell_type": "code",
   "execution_count": 27,
   "metadata": {
    "id": "-Uj0KMsYYZV-"
   },
   "outputs": [
    {
     "data": {
      "text/plain": [
       "min     4.5\n",
       "max    89.5\n",
       "Name: Harga, dtype: float64"
      ]
     },
     "execution_count": 27,
     "metadata": {},
     "output_type": "execute_result"
    }
   ],
   "source": [
    "# Harga Uber\n",
    "df.loc[df['Jenis_Taksi'] == 'Uber', 'Harga'].agg(('min', 'max'))"
   ]
  },
  {
   "cell_type": "code",
   "execution_count": 28,
   "metadata": {
    "id": "3xHkE5riYbHX"
   },
   "outputs": [
    {
     "data": {
      "text/plain": [
       "min     2.5\n",
       "max    97.5\n",
       "Name: Harga, dtype: float64"
      ]
     },
     "execution_count": 28,
     "metadata": {},
     "output_type": "execute_result"
    }
   ],
   "source": [
    "# Harga Lyft\n",
    "df.loc[df['Jenis_Taksi'] == 'Lyft', 'Harga'].agg(('min', 'max'))"
   ]
  },
  {
   "cell_type": "markdown",
   "metadata": {},
   "source": [
    "Dari hasil diketahui bahwa untuk jenis taksi Uber mendapat harga termurah yaitu 4.5 dollar dan harga termahal 89.5 dollar selama menerima penumpang. Sedangkan untuk jenis taksi Lyft mendapat harga termurah yaitu 2.5 dollar dan harga termahal 97.5 dollar selama menerima penumpang\n",
    "\n",
    "d. Melihat proporsi data pada kolom `Jenis_Taksi` dan `Merek` dengan menggunakan crosstab"
   ]
  },
  {
   "cell_type": "code",
   "execution_count": 29,
   "metadata": {},
   "outputs": [
    {
     "data": {
      "text/html": [
       "<div>\n",
       "<style scoped>\n",
       "    .dataframe tbody tr th:only-of-type {\n",
       "        vertical-align: middle;\n",
       "    }\n",
       "\n",
       "    .dataframe tbody tr th {\n",
       "        vertical-align: top;\n",
       "    }\n",
       "\n",
       "    .dataframe thead th {\n",
       "        text-align: right;\n",
       "    }\n",
       "</style>\n",
       "<table border=\"1\" class=\"dataframe\">\n",
       "  <thead>\n",
       "    <tr style=\"text-align: right;\">\n",
       "      <th>Merek</th>\n",
       "      <th>Black</th>\n",
       "      <th>Black SUV</th>\n",
       "      <th>Lux</th>\n",
       "      <th>Lux Black</th>\n",
       "      <th>Lux Black XL</th>\n",
       "      <th>Lyft</th>\n",
       "      <th>Lyft XL</th>\n",
       "      <th>Shared</th>\n",
       "      <th>Taxi</th>\n",
       "      <th>UberPool</th>\n",
       "      <th>UberX</th>\n",
       "      <th>UberXL</th>\n",
       "      <th>WAV</th>\n",
       "    </tr>\n",
       "    <tr>\n",
       "      <th>Jenis_Taksi</th>\n",
       "      <th></th>\n",
       "      <th></th>\n",
       "      <th></th>\n",
       "      <th></th>\n",
       "      <th></th>\n",
       "      <th></th>\n",
       "      <th></th>\n",
       "      <th></th>\n",
       "      <th></th>\n",
       "      <th></th>\n",
       "      <th></th>\n",
       "      <th></th>\n",
       "      <th></th>\n",
       "    </tr>\n",
       "  </thead>\n",
       "  <tbody>\n",
       "    <tr>\n",
       "      <th>Lyft</th>\n",
       "      <td>0</td>\n",
       "      <td>0</td>\n",
       "      <td>51235</td>\n",
       "      <td>51235</td>\n",
       "      <td>51235</td>\n",
       "      <td>51235</td>\n",
       "      <td>51235</td>\n",
       "      <td>51233</td>\n",
       "      <td>0</td>\n",
       "      <td>0</td>\n",
       "      <td>0</td>\n",
       "      <td>0</td>\n",
       "      <td>0</td>\n",
       "    </tr>\n",
       "    <tr>\n",
       "      <th>Uber</th>\n",
       "      <td>55095</td>\n",
       "      <td>55096</td>\n",
       "      <td>0</td>\n",
       "      <td>0</td>\n",
       "      <td>0</td>\n",
       "      <td>0</td>\n",
       "      <td>0</td>\n",
       "      <td>0</td>\n",
       "      <td>55095</td>\n",
       "      <td>55091</td>\n",
       "      <td>55094</td>\n",
       "      <td>55096</td>\n",
       "      <td>55096</td>\n",
       "    </tr>\n",
       "  </tbody>\n",
       "</table>\n",
       "</div>"
      ],
      "text/plain": [
       "Merek        Black  Black SUV    Lux  Lux Black  Lux Black XL   Lyft  Lyft XL  \\\n",
       "Jenis_Taksi                                                                     \n",
       "Lyft             0          0  51235      51235         51235  51235    51235   \n",
       "Uber         55095      55096      0          0             0      0        0   \n",
       "\n",
       "Merek        Shared   Taxi  UberPool  UberX  UberXL    WAV  \n",
       "Jenis_Taksi                                                 \n",
       "Lyft          51233      0         0      0       0      0  \n",
       "Uber              0  55095     55091  55094   55096  55096  "
      ]
     },
     "execution_count": 29,
     "metadata": {},
     "output_type": "execute_result"
    }
   ],
   "source": [
    "pd.crosstab(df.Jenis_Taksi, df.Merek)"
   ]
  },
  {
   "cell_type": "markdown",
   "metadata": {},
   "source": [
    "Dapat dilihat bahwa jenis taksi Lyft memiliki 6 merek sedangkan jenis taksi Uber memiliki 7 merek dan juga untuk proporsi data tidak memiliki perbedaan yang signifikan atau relatif sama.\n",
    "\n",
    "e. Melihat rata-rata harga untuk masing-masing merek dengan melakukan grouping"
   ]
  },
  {
   "cell_type": "code",
   "execution_count": 30,
   "metadata": {},
   "outputs": [
    {
     "data": {
      "text/html": [
       "<div>\n",
       "<style scoped>\n",
       "    .dataframe tbody tr th:only-of-type {\n",
       "        vertical-align: middle;\n",
       "    }\n",
       "\n",
       "    .dataframe tbody tr th {\n",
       "        vertical-align: top;\n",
       "    }\n",
       "\n",
       "    .dataframe thead th {\n",
       "        text-align: right;\n",
       "    }\n",
       "</style>\n",
       "<table border=\"1\" class=\"dataframe\">\n",
       "  <thead>\n",
       "    <tr style=\"text-align: right;\">\n",
       "      <th></th>\n",
       "      <th>Harga</th>\n",
       "    </tr>\n",
       "    <tr>\n",
       "      <th>Merek</th>\n",
       "      <th></th>\n",
       "    </tr>\n",
       "  </thead>\n",
       "  <tbody>\n",
       "    <tr>\n",
       "      <th>Lux Black XL</th>\n",
       "      <td>32.324086</td>\n",
       "    </tr>\n",
       "    <tr>\n",
       "      <th>Black SUV</th>\n",
       "      <td>30.286763</td>\n",
       "    </tr>\n",
       "    <tr>\n",
       "      <th>Lux Black</th>\n",
       "      <td>23.062468</td>\n",
       "    </tr>\n",
       "    <tr>\n",
       "      <th>Black</th>\n",
       "      <td>20.523786</td>\n",
       "    </tr>\n",
       "    <tr>\n",
       "      <th>Lux</th>\n",
       "      <td>17.771240</td>\n",
       "    </tr>\n",
       "    <tr>\n",
       "      <th>UberXL</th>\n",
       "      <td>15.678144</td>\n",
       "    </tr>\n",
       "    <tr>\n",
       "      <th>Lyft XL</th>\n",
       "      <td>15.309363</td>\n",
       "    </tr>\n",
       "    <tr>\n",
       "      <th>Taxi</th>\n",
       "      <td>13.500000</td>\n",
       "    </tr>\n",
       "    <tr>\n",
       "      <th>UberX</th>\n",
       "      <td>9.765074</td>\n",
       "    </tr>\n",
       "    <tr>\n",
       "      <th>WAV</th>\n",
       "      <td>9.765019</td>\n",
       "    </tr>\n",
       "    <tr>\n",
       "      <th>Lyft</th>\n",
       "      <td>9.610885</td>\n",
       "    </tr>\n",
       "    <tr>\n",
       "      <th>UberPool</th>\n",
       "      <td>8.752500</td>\n",
       "    </tr>\n",
       "    <tr>\n",
       "      <th>Shared</th>\n",
       "      <td>6.029893</td>\n",
       "    </tr>\n",
       "  </tbody>\n",
       "</table>\n",
       "</div>"
      ],
      "text/plain": [
       "                  Harga\n",
       "Merek                  \n",
       "Lux Black XL  32.324086\n",
       "Black SUV     30.286763\n",
       "Lux Black     23.062468\n",
       "Black         20.523786\n",
       "Lux           17.771240\n",
       "UberXL        15.678144\n",
       "Lyft XL       15.309363\n",
       "Taxi          13.500000\n",
       "UberX          9.765074\n",
       "WAV            9.765019\n",
       "Lyft           9.610885\n",
       "UberPool       8.752500\n",
       "Shared         6.029893"
      ]
     },
     "execution_count": 30,
     "metadata": {},
     "output_type": "execute_result"
    }
   ],
   "source": [
    "mean_ = df[['Merek','Harga']].groupby('Merek').mean().sort_values(by='Harga', ascending=False)\n",
    "mean_"
   ]
  },
  {
   "cell_type": "markdown",
   "metadata": {},
   "source": [
    "dapat dilihat bahwa untuk rata-rata harga paling tinggi diperoleh taksi dengan merek Lux Black XL sedangkan rata-rata harga paling rendah diperoleh taksi dengan merek Shared\n",
    "\n",
    "f. Melihat data histori top 5 record pemesanan merek taksi Lux pada bulan November dengan tujuan Fenway dengan melakukan query"
   ]
  },
  {
   "cell_type": "code",
   "execution_count": 31,
   "metadata": {},
   "outputs": [
    {
     "data": {
      "text/html": [
       "<div>\n",
       "<style scoped>\n",
       "    .dataframe tbody tr th:only-of-type {\n",
       "        vertical-align: middle;\n",
       "    }\n",
       "\n",
       "    .dataframe tbody tr th {\n",
       "        vertical-align: top;\n",
       "    }\n",
       "\n",
       "    .dataframe thead th {\n",
       "        text-align: right;\n",
       "    }\n",
       "</style>\n",
       "<table border=\"1\" class=\"dataframe\">\n",
       "  <thead>\n",
       "    <tr style=\"text-align: right;\">\n",
       "      <th></th>\n",
       "      <th>Jam</th>\n",
       "      <th>Hari</th>\n",
       "      <th>Bulan</th>\n",
       "      <th>Tanggal</th>\n",
       "      <th>Asal</th>\n",
       "      <th>Tujuan</th>\n",
       "      <th>Jenis_Taksi</th>\n",
       "      <th>Merek</th>\n",
       "      <th>Harga</th>\n",
       "      <th>Jarak</th>\n",
       "      <th>surge_multiplier</th>\n",
       "      <th>Suhu</th>\n",
       "      <th>Harga_Per_Mile</th>\n",
       "    </tr>\n",
       "  </thead>\n",
       "  <tbody>\n",
       "    <tr>\n",
       "      <th>146</th>\n",
       "      <td>18</td>\n",
       "      <td>28</td>\n",
       "      <td>11</td>\n",
       "      <td>2018-11-28 18:14:09</td>\n",
       "      <td>Beacon Hill</td>\n",
       "      <td>Fenway</td>\n",
       "      <td>Lyft</td>\n",
       "      <td>Lux</td>\n",
       "      <td>16.5</td>\n",
       "      <td>2.36</td>\n",
       "      <td>1.0</td>\n",
       "      <td>40.92</td>\n",
       "      <td>6.991525</td>\n",
       "    </tr>\n",
       "    <tr>\n",
       "      <th>480</th>\n",
       "      <td>1</td>\n",
       "      <td>29</td>\n",
       "      <td>11</td>\n",
       "      <td>2018-11-29 01:53:42</td>\n",
       "      <td>North Station</td>\n",
       "      <td>Fenway</td>\n",
       "      <td>Lyft</td>\n",
       "      <td>Lux</td>\n",
       "      <td>19.5</td>\n",
       "      <td>3.17</td>\n",
       "      <td>1.0</td>\n",
       "      <td>38.42</td>\n",
       "      <td>6.151420</td>\n",
       "    </tr>\n",
       "    <tr>\n",
       "      <th>491</th>\n",
       "      <td>11</td>\n",
       "      <td>28</td>\n",
       "      <td>11</td>\n",
       "      <td>2018-11-28 11:21:24</td>\n",
       "      <td>North Station</td>\n",
       "      <td>Fenway</td>\n",
       "      <td>Lyft</td>\n",
       "      <td>Lux</td>\n",
       "      <td>19.5</td>\n",
       "      <td>3.17</td>\n",
       "      <td>1.0</td>\n",
       "      <td>35.54</td>\n",
       "      <td>6.151420</td>\n",
       "    </tr>\n",
       "    <tr>\n",
       "      <th>941</th>\n",
       "      <td>15</td>\n",
       "      <td>28</td>\n",
       "      <td>11</td>\n",
       "      <td>2018-11-28 15:08:07</td>\n",
       "      <td>Financial District</td>\n",
       "      <td>Fenway</td>\n",
       "      <td>Lyft</td>\n",
       "      <td>Lux</td>\n",
       "      <td>27.5</td>\n",
       "      <td>4.51</td>\n",
       "      <td>1.0</td>\n",
       "      <td>41.24</td>\n",
       "      <td>6.097561</td>\n",
       "    </tr>\n",
       "    <tr>\n",
       "      <th>1095</th>\n",
       "      <td>6</td>\n",
       "      <td>29</td>\n",
       "      <td>11</td>\n",
       "      <td>2018-11-29 06:33:01</td>\n",
       "      <td>Theatre District</td>\n",
       "      <td>Fenway</td>\n",
       "      <td>Lyft</td>\n",
       "      <td>Lux</td>\n",
       "      <td>27.5</td>\n",
       "      <td>4.31</td>\n",
       "      <td>1.0</td>\n",
       "      <td>38.74</td>\n",
       "      <td>6.380510</td>\n",
       "    </tr>\n",
       "  </tbody>\n",
       "</table>\n",
       "</div>"
      ],
      "text/plain": [
       "      Jam  Hari  Bulan              Tanggal                Asal  Tujuan  \\\n",
       "146    18    28     11  2018-11-28 18:14:09         Beacon Hill  Fenway   \n",
       "480     1    29     11  2018-11-29 01:53:42       North Station  Fenway   \n",
       "491    11    28     11  2018-11-28 11:21:24       North Station  Fenway   \n",
       "941    15    28     11  2018-11-28 15:08:07  Financial District  Fenway   \n",
       "1095    6    29     11  2018-11-29 06:33:01    Theatre District  Fenway   \n",
       "\n",
       "     Jenis_Taksi Merek  Harga  Jarak  surge_multiplier   Suhu  Harga_Per_Mile  \n",
       "146         Lyft   Lux   16.5   2.36               1.0  40.92        6.991525  \n",
       "480         Lyft   Lux   19.5   3.17               1.0  38.42        6.151420  \n",
       "491         Lyft   Lux   19.5   3.17               1.0  35.54        6.151420  \n",
       "941         Lyft   Lux   27.5   4.51               1.0  41.24        6.097561  \n",
       "1095        Lyft   Lux   27.5   4.31               1.0  38.74        6.380510  "
      ]
     },
     "execution_count": 31,
     "metadata": {},
     "output_type": "execute_result"
    }
   ],
   "source": [
    "df[\n",
    "    (df['Merek'] == 'Lux') &\n",
    "    (df['Bulan'] == 11) &\n",
    "    (df['Tujuan'] == 'Fenway')\n",
    "].head()"
   ]
  },
  {
   "cell_type": "markdown",
   "metadata": {},
   "source": [
    "g. Melihat statistik descriptif pada data numeric dan categorical setelah dilakukan data cleaning"
   ]
  },
  {
   "cell_type": "code",
   "execution_count": 32,
   "metadata": {},
   "outputs": [
    {
     "data": {
      "text/html": [
       "<div>\n",
       "<style scoped>\n",
       "    .dataframe tbody tr th:only-of-type {\n",
       "        vertical-align: middle;\n",
       "    }\n",
       "\n",
       "    .dataframe tbody tr th {\n",
       "        vertical-align: top;\n",
       "    }\n",
       "\n",
       "    .dataframe thead th {\n",
       "        text-align: right;\n",
       "    }\n",
       "</style>\n",
       "<table border=\"1\" class=\"dataframe\">\n",
       "  <thead>\n",
       "    <tr style=\"text-align: right;\">\n",
       "      <th></th>\n",
       "      <th>Jam</th>\n",
       "      <th>Hari</th>\n",
       "      <th>Bulan</th>\n",
       "      <th>Harga</th>\n",
       "      <th>Jarak</th>\n",
       "      <th>surge_multiplier</th>\n",
       "      <th>Suhu</th>\n",
       "      <th>Harga_Per_Mile</th>\n",
       "    </tr>\n",
       "  </thead>\n",
       "  <tbody>\n",
       "    <tr>\n",
       "      <th>count</th>\n",
       "      <td>693071.000000</td>\n",
       "      <td>693071.000000</td>\n",
       "      <td>693071.000000</td>\n",
       "      <td>693071.000000</td>\n",
       "      <td>693071.000000</td>\n",
       "      <td>693071.000000</td>\n",
       "      <td>693071.000000</td>\n",
       "      <td>693071.000000</td>\n",
       "    </tr>\n",
       "    <tr>\n",
       "      <th>mean</th>\n",
       "      <td>11.619137</td>\n",
       "      <td>17.794365</td>\n",
       "      <td>11.586684</td>\n",
       "      <td>16.303056</td>\n",
       "      <td>2.189430</td>\n",
       "      <td>1.013870</td>\n",
       "      <td>39.584388</td>\n",
       "      <td>9.651978</td>\n",
       "    </tr>\n",
       "    <tr>\n",
       "      <th>std</th>\n",
       "      <td>6.948114</td>\n",
       "      <td>9.982286</td>\n",
       "      <td>0.492429</td>\n",
       "      <td>8.983913</td>\n",
       "      <td>1.138937</td>\n",
       "      <td>0.091641</td>\n",
       "      <td>6.726084</td>\n",
       "      <td>13.943560</td>\n",
       "    </tr>\n",
       "    <tr>\n",
       "      <th>min</th>\n",
       "      <td>0.000000</td>\n",
       "      <td>1.000000</td>\n",
       "      <td>11.000000</td>\n",
       "      <td>2.500000</td>\n",
       "      <td>0.020000</td>\n",
       "      <td>1.000000</td>\n",
       "      <td>18.910000</td>\n",
       "      <td>0.556586</td>\n",
       "    </tr>\n",
       "    <tr>\n",
       "      <th>25%</th>\n",
       "      <td>6.000000</td>\n",
       "      <td>13.000000</td>\n",
       "      <td>11.000000</td>\n",
       "      <td>9.500000</td>\n",
       "      <td>1.280000</td>\n",
       "      <td>1.000000</td>\n",
       "      <td>36.450000</td>\n",
       "      <td>4.666667</td>\n",
       "    </tr>\n",
       "    <tr>\n",
       "      <th>50%</th>\n",
       "      <td>12.000000</td>\n",
       "      <td>17.000000</td>\n",
       "      <td>12.000000</td>\n",
       "      <td>13.500000</td>\n",
       "      <td>2.160000</td>\n",
       "      <td>1.000000</td>\n",
       "      <td>40.490000</td>\n",
       "      <td>7.403846</td>\n",
       "    </tr>\n",
       "    <tr>\n",
       "      <th>75%</th>\n",
       "      <td>18.000000</td>\n",
       "      <td>28.000000</td>\n",
       "      <td>12.000000</td>\n",
       "      <td>22.500000</td>\n",
       "      <td>2.920000</td>\n",
       "      <td>1.000000</td>\n",
       "      <td>43.580000</td>\n",
       "      <td>11.466165</td>\n",
       "    </tr>\n",
       "    <tr>\n",
       "      <th>max</th>\n",
       "      <td>23.000000</td>\n",
       "      <td>30.000000</td>\n",
       "      <td>12.000000</td>\n",
       "      <td>97.500000</td>\n",
       "      <td>7.860000</td>\n",
       "      <td>3.000000</td>\n",
       "      <td>57.220000</td>\n",
       "      <td>1375.000000</td>\n",
       "    </tr>\n",
       "  </tbody>\n",
       "</table>\n",
       "</div>"
      ],
      "text/plain": [
       "                 Jam           Hari          Bulan          Harga  \\\n",
       "count  693071.000000  693071.000000  693071.000000  693071.000000   \n",
       "mean       11.619137      17.794365      11.586684      16.303056   \n",
       "std         6.948114       9.982286       0.492429       8.983913   \n",
       "min         0.000000       1.000000      11.000000       2.500000   \n",
       "25%         6.000000      13.000000      11.000000       9.500000   \n",
       "50%        12.000000      17.000000      12.000000      13.500000   \n",
       "75%        18.000000      28.000000      12.000000      22.500000   \n",
       "max        23.000000      30.000000      12.000000      97.500000   \n",
       "\n",
       "               Jarak  surge_multiplier           Suhu  Harga_Per_Mile  \n",
       "count  693071.000000     693071.000000  693071.000000   693071.000000  \n",
       "mean        2.189430          1.013870      39.584388        9.651978  \n",
       "std         1.138937          0.091641       6.726084       13.943560  \n",
       "min         0.020000          1.000000      18.910000        0.556586  \n",
       "25%         1.280000          1.000000      36.450000        4.666667  \n",
       "50%         2.160000          1.000000      40.490000        7.403846  \n",
       "75%         2.920000          1.000000      43.580000       11.466165  \n",
       "max         7.860000          3.000000      57.220000     1375.000000  "
      ]
     },
     "execution_count": 32,
     "metadata": {},
     "output_type": "execute_result"
    }
   ],
   "source": [
    "df.describe()"
   ]
  },
  {
   "cell_type": "code",
   "execution_count": 33,
   "metadata": {},
   "outputs": [
    {
     "data": {
      "text/html": [
       "<div>\n",
       "<style scoped>\n",
       "    .dataframe tbody tr th:only-of-type {\n",
       "        vertical-align: middle;\n",
       "    }\n",
       "\n",
       "    .dataframe tbody tr th {\n",
       "        vertical-align: top;\n",
       "    }\n",
       "\n",
       "    .dataframe thead th {\n",
       "        text-align: right;\n",
       "    }\n",
       "</style>\n",
       "<table border=\"1\" class=\"dataframe\">\n",
       "  <thead>\n",
       "    <tr style=\"text-align: right;\">\n",
       "      <th></th>\n",
       "      <th>Tanggal</th>\n",
       "      <th>Asal</th>\n",
       "      <th>Tujuan</th>\n",
       "      <th>Jenis_Taksi</th>\n",
       "      <th>Merek</th>\n",
       "    </tr>\n",
       "  </thead>\n",
       "  <tbody>\n",
       "    <tr>\n",
       "      <th>count</th>\n",
       "      <td>693071</td>\n",
       "      <td>693071</td>\n",
       "      <td>693071</td>\n",
       "      <td>693071</td>\n",
       "      <td>693071</td>\n",
       "    </tr>\n",
       "    <tr>\n",
       "      <th>unique</th>\n",
       "      <td>31350</td>\n",
       "      <td>12</td>\n",
       "      <td>12</td>\n",
       "      <td>2</td>\n",
       "      <td>13</td>\n",
       "    </tr>\n",
       "    <tr>\n",
       "      <th>top</th>\n",
       "      <td>2018-11-26 23:21:14</td>\n",
       "      <td>Financial District</td>\n",
       "      <td>Financial District</td>\n",
       "      <td>Uber</td>\n",
       "      <td>UberXL</td>\n",
       "    </tr>\n",
       "    <tr>\n",
       "      <th>freq</th>\n",
       "      <td>156</td>\n",
       "      <td>58857</td>\n",
       "      <td>58851</td>\n",
       "      <td>385663</td>\n",
       "      <td>55096</td>\n",
       "    </tr>\n",
       "  </tbody>\n",
       "</table>\n",
       "</div>"
      ],
      "text/plain": [
       "                    Tanggal                Asal              Tujuan  \\\n",
       "count                693071              693071              693071   \n",
       "unique                31350                  12                  12   \n",
       "top     2018-11-26 23:21:14  Financial District  Financial District   \n",
       "freq                    156               58857               58851   \n",
       "\n",
       "       Jenis_Taksi   Merek  \n",
       "count       693071  693071  \n",
       "unique           2      13  \n",
       "top           Uber  UberXL  \n",
       "freq        385663   55096  "
      ]
     },
     "execution_count": 33,
     "metadata": {},
     "output_type": "execute_result"
    }
   ],
   "source": [
    "df.describe(include='O')"
   ]
  },
  {
   "cell_type": "markdown",
   "metadata": {},
   "source": [
    "h. Membuat line plot correlation antara jarak dan harga berdasarkan jenis taksi"
   ]
  },
  {
   "cell_type": "code",
   "execution_count": 34,
   "metadata": {},
   "outputs": [
    {
     "name": "stderr",
     "output_type": "stream",
     "text": [
      "D:\\anaconda3\\lib\\site-packages\\seaborn\\_decorators.py:36: FutureWarning: Pass the following variables as keyword args: x, y. From version 0.12, the only valid positional argument will be `data`, and passing other arguments without an explicit keyword will result in an error or misinterpretation.\n",
      "  warnings.warn(\n"
     ]
    },
    {
     "data": {
      "image/png": "[encoded data removed]",
      "text/plain": [
       "<Figure size 432x288 with 1 Axes>"
      ]
     },
     "metadata": {
      "needs_background": "light"
     },
     "output_type": "display_data"
    }
   ],
   "source": [
    "sns.lineplot('Jarak','Harga', hue='Jenis_Taksi', data=df)\n",
    "plt.show()"
   ]
  },
  {
   "cell_type": "markdown",
   "metadata": {},
   "source": [
    "Pada grafik terlihat tidak ada pola khusus correlation antara jarak dan harga berdasarkan jenis taksi\n",
    "\n",
    "i. Visualisasi boxplot perbandingan jenis taksi berdasarkan jarak"
   ]
  },
  {
   "cell_type": "code",
   "execution_count": 35,
   "metadata": {},
   "outputs": [
    {
     "data": {
      "text/plain": [
       "Text(0.5, 1.0, 'Jenis Taksi vs Jarak')"
      ]
     },
     "execution_count": 35,
     "metadata": {},
     "output_type": "execute_result"
    },
    {
     "data": {
      "image/png": "[encoded data removed]",
      "text/plain": [
       "<Figure size 648x360 with 1 Axes>"
      ]
     },
     "metadata": {
      "needs_background": "light"
     },
     "output_type": "display_data"
    }
   ],
   "source": [
    "fig, ax = plt.subplots(figsize=(9, 5))\n",
    "\n",
    "sns.boxplot(x='Jenis_Taksi', y='Jarak', data=df, palette=\"pastel\")\n",
    "\n",
    "plt.xlabel(\"Jenis Taksi\", fontsize= 12)\n",
    "plt.ylabel(\"Jarak\", fontsize= 12)\n",
    "plt.title(\"Jenis Taksi vs Jarak\", fontsize= 15)"
   ]
  },
  {
   "cell_type": "markdown",
   "metadata": {},
   "source": [
    "Pada grafik Boxplot terlihat bahwa Uber memiliki jangkauan jarak yang cukup jauh dengan Lyft serta outlier Uber juga lebih banyak dari Lyft.\n",
    "\n",
    "j. Melihat proporsi data Jenis Taksi dengan visualisasi histogram"
   ]
  },
  {
   "cell_type": "code",
   "execution_count": 36,
   "metadata": {},
   "outputs": [
    {
     "data": {
      "image/png": "[encoded data removed]",
      "text/plain": [
       "<Figure size 432x288 with 1 Axes>"
      ]
     },
     "metadata": {
      "needs_background": "light"
     },
     "output_type": "display_data"
    }
   ],
   "source": [
    "sns.countplot(x=\"Jenis_Taksi\", data=df, palette=\"cividis\")\n",
    "\n",
    "plt.title('Histogram proporsi data Jenis Taksi') #add a title to the histogram\n",
    "plt.ylabel('Frequency') #add y-label\n",
    "plt.xlabel('Jenis Taksi') #add x-label\n",
    "plt.show()"
   ]
  },
  {
   "cell_type": "markdown",
   "metadata": {},
   "source": [
    "Diperoleh bahwa proporsi data antara Jenis Taksi Lyft lebih sedikit daripada Jenis Taksi Uber\n",
    "\n",
    "k. Visualisasi pie chart persebaran data merek berdasarkan harga"
   ]
  },
  {
   "cell_type": "code",
   "execution_count": 37,
   "metadata": {},
   "outputs": [
    {
     "data": {
      "image/png": "[encoded data removed]",
      "text/plain": [
       "<Figure size 1440x576 with 1 Axes>"
      ]
     },
     "metadata": {},
     "output_type": "display_data"
    }
   ],
   "source": [
    "df_area = df.groupby(['Merek']).sum()['Harga'].sort_values(ascending=False)\n",
    "df_area.plot(kind='pie', figsize=(20,8), autopct='%1.0f%%')\n",
    "\n",
    "plt.title(\"Pie chart merek berdasarkan harga\")\n",
    "plt.show()"
   ]
  },
  {
   "cell_type": "markdown",
   "metadata": {},
   "source": [
    "dari grafik terlihat Merek Luxx Black XL dan Black SUV memiliki persebaran data paling banyak yaitu sebesar 15% dan Merek Shared memiliki persebaran data paling sedikitsebesar 3%\n",
    "\n",
    "l. Melakukan visualisasi korelasi antar variabel untuk melihat hubungan"
   ]
  },
  {
   "cell_type": "code",
   "execution_count": 38,
   "metadata": {},
   "outputs": [
    {
     "data": {
      "image/png": "[encoded data removed]",
      "text/plain": [
       "<Figure size 1152x648 with 2 Axes>"
      ]
     },
     "metadata": {
      "needs_background": "light"
     },
     "output_type": "display_data"
    }
   ],
   "source": [
    "plt.figure(figsize=(16, 9))\n",
    "sns.heatmap(df.corr(), annot=True)\n",
    "plt.show()"
   ]
  },
  {
   "cell_type": "markdown",
   "metadata": {},
   "source": [
    "dari matriks korelasi kita dapat mengambil kesimpulan:\n",
    "- Hari dan Bulan memiliki korelasi yang sangat rendah yaitu -0.86\n",
    "- Harga dan Jarak memiliki korelasi yang cukup tinggi yaitu 0.33\n",
    "- Harga dan surge_multiplier memiliki korelasi yang cukup tinggi ke 2 yaitu 0.24"
   ]
  },
  {
   "cell_type": "markdown",
   "metadata": {
    "id": "u19XV7mh1D0S"
   },
   "source": [
    "## 6. Data Preprocessing\n",
    "Bagian ini berisi proses penyiapan data untuk proses pelatihan model, seperti pembagian data menjadi train-dev-test, transformasi data (normalisasi, encoding, dll.), dan proses-proses lain yang dibutuhkan.\n",
    "\n",
    "a. Melakukan inisialisasi variabel X dan y\n",
    "\n",
    "Disini kami mendefinisikan untuk variabel X nya yaitu kolom selain `Harga`, `Harga_Per_Mile` dan `Tanggal`, sedangkan untuk variabel y yaitu `Harga`"
   ]
  },
  {
   "cell_type": "code",
   "execution_count": 39,
   "metadata": {},
   "outputs": [
    {
     "name": "stdout",
     "output_type": "stream",
     "text": [
      "(693071, 10)\n",
      "(693071,)\n"
     ]
    }
   ],
   "source": [
    "X = df.drop(['Harga', 'Harga_Per_Mile', 'Tanggal'], axis=1)\n",
    "y = df['Harga']\n",
    "\n",
    "print(X.shape)\n",
    "print(y.shape)"
   ]
  },
  {
   "cell_type": "markdown",
   "metadata": {},
   "source": [
    "b. Melakukan encoding pada float dan categorical columns dengan Label Encoder\n",
    "\n",
    "untuk kolom object yaitu `Tanggal`, `Asal`, `Tujuan`, `Jenis_Taksi`, `Merek`, `Jarak`, dan `surge_multiplier`"
   ]
  },
  {
   "cell_type": "code",
   "execution_count": 40,
   "metadata": {},
   "outputs": [
    {
     "data": {
      "text/html": [
       "<div>\n",
       "<style scoped>\n",
       "    .dataframe tbody tr th:only-of-type {\n",
       "        vertical-align: middle;\n",
       "    }\n",
       "\n",
       "    .dataframe tbody tr th {\n",
       "        vertical-align: top;\n",
       "    }\n",
       "\n",
       "    .dataframe thead th {\n",
       "        text-align: right;\n",
       "    }\n",
       "</style>\n",
       "<table border=\"1\" class=\"dataframe\">\n",
       "  <thead>\n",
       "    <tr style=\"text-align: right;\">\n",
       "      <th></th>\n",
       "      <th>Jam</th>\n",
       "      <th>Hari</th>\n",
       "      <th>Bulan</th>\n",
       "      <th>Tanggal</th>\n",
       "      <th>Asal</th>\n",
       "      <th>Tujuan</th>\n",
       "      <th>Jenis_Taksi</th>\n",
       "      <th>Merek</th>\n",
       "      <th>Harga</th>\n",
       "      <th>Jarak</th>\n",
       "      <th>surge_multiplier</th>\n",
       "      <th>Suhu</th>\n",
       "      <th>Harga_Per_Mile</th>\n",
       "    </tr>\n",
       "  </thead>\n",
       "  <tbody>\n",
       "    <tr>\n",
       "      <th>0</th>\n",
       "      <td>9</td>\n",
       "      <td>16</td>\n",
       "      <td>12</td>\n",
       "      <td>25351</td>\n",
       "      <td>5</td>\n",
       "      <td>7</td>\n",
       "      <td>0</td>\n",
       "      <td>7</td>\n",
       "      <td>5.0</td>\n",
       "      <td>15</td>\n",
       "      <td>0</td>\n",
       "      <td>42.34</td>\n",
       "      <td>11.363636</td>\n",
       "    </tr>\n",
       "    <tr>\n",
       "      <th>1</th>\n",
       "      <td>2</td>\n",
       "      <td>27</td>\n",
       "      <td>11</td>\n",
       "      <td>961</td>\n",
       "      <td>5</td>\n",
       "      <td>7</td>\n",
       "      <td>0</td>\n",
       "      <td>2</td>\n",
       "      <td>11.0</td>\n",
       "      <td>15</td>\n",
       "      <td>0</td>\n",
       "      <td>43.58</td>\n",
       "      <td>25.000000</td>\n",
       "    </tr>\n",
       "    <tr>\n",
       "      <th>2</th>\n",
       "      <td>1</td>\n",
       "      <td>28</td>\n",
       "      <td>11</td>\n",
       "      <td>2534</td>\n",
       "      <td>5</td>\n",
       "      <td>7</td>\n",
       "      <td>0</td>\n",
       "      <td>5</td>\n",
       "      <td>7.0</td>\n",
       "      <td>15</td>\n",
       "      <td>0</td>\n",
       "      <td>38.33</td>\n",
       "      <td>15.909091</td>\n",
       "    </tr>\n",
       "    <tr>\n",
       "      <th>3</th>\n",
       "      <td>4</td>\n",
       "      <td>30</td>\n",
       "      <td>11</td>\n",
       "      <td>6988</td>\n",
       "      <td>5</td>\n",
       "      <td>7</td>\n",
       "      <td>0</td>\n",
       "      <td>4</td>\n",
       "      <td>26.0</td>\n",
       "      <td>15</td>\n",
       "      <td>0</td>\n",
       "      <td>34.38</td>\n",
       "      <td>59.090909</td>\n",
       "    </tr>\n",
       "    <tr>\n",
       "      <th>4</th>\n",
       "      <td>3</td>\n",
       "      <td>29</td>\n",
       "      <td>11</td>\n",
       "      <td>4400</td>\n",
       "      <td>5</td>\n",
       "      <td>7</td>\n",
       "      <td>0</td>\n",
       "      <td>6</td>\n",
       "      <td>9.0</td>\n",
       "      <td>15</td>\n",
       "      <td>0</td>\n",
       "      <td>37.44</td>\n",
       "      <td>20.454545</td>\n",
       "    </tr>\n",
       "  </tbody>\n",
       "</table>\n",
       "</div>"
      ],
      "text/plain": [
       "   Jam  Hari  Bulan  Tanggal  Asal  Tujuan  Jenis_Taksi  Merek  Harga  Jarak  \\\n",
       "0    9    16     12    25351     5       7            0      7    5.0     15   \n",
       "1    2    27     11      961     5       7            0      2   11.0     15   \n",
       "2    1    28     11     2534     5       7            0      5    7.0     15   \n",
       "3    4    30     11     6988     5       7            0      4   26.0     15   \n",
       "4    3    29     11     4400     5       7            0      6    9.0     15   \n",
       "\n",
       "   surge_multiplier   Suhu  Harga_Per_Mile  \n",
       "0                 0  42.34       11.363636  \n",
       "1                 0  43.58       25.000000  \n",
       "2                 0  38.33       15.909091  \n",
       "3                 0  34.38       59.090909  \n",
       "4                 0  37.44       20.454545  "
      ]
     },
     "execution_count": 40,
     "metadata": {},
     "output_type": "execute_result"
    }
   ],
   "source": [
    "encode = LabelEncoder()\n",
    "\n",
    "df['Tanggal'] = encode.fit_transform(df['Tanggal'])\n",
    "df['Asal'] = encode.fit_transform(df['Asal'])\n",
    "df['Tujuan'] = encode.fit_transform(df['Tujuan'])\n",
    "df['Jenis_Taksi'] = encode.fit_transform(df['Jenis_Taksi'])\n",
    "df['Merek'] = encode.fit_transform(df['Merek'])\n",
    "df['surge_multiplier'] = encode.fit_transform(df['surge_multiplier'])\n",
    "df['Jarak'] = encode.fit_transform(df['Jarak'])\n",
    "\n",
    "# Melihat 5 baris teratas dataset yang telah dilakukan encoding\n",
    "df.head()"
   ]
  },
  {
   "cell_type": "markdown",
   "metadata": {},
   "source": [
    "c. Melakukan inisialisasi ulang variabel X dan y setelah dilakukan encoding"
   ]
  },
  {
   "cell_type": "code",
   "execution_count": 41,
   "metadata": {},
   "outputs": [
    {
     "name": "stdout",
     "output_type": "stream",
     "text": [
      "(693071, 10)\n",
      "(693071,)\n"
     ]
    }
   ],
   "source": [
    "X_transform = df.drop(['Harga', 'Harga_Per_Mile', 'Tanggal'], axis=1)\n",
    "y = df['Harga']\n",
    "\n",
    "print(X.shape)\n",
    "print(y.shape)"
   ]
  },
  {
   "cell_type": "markdown",
   "metadata": {},
   "source": [
    "d. Melakukan feature selection \n",
    "\n",
    "1. Feature Selection menggunakan library SequentialFeatureSelector dengan Metode Rergesi Linier, banyak atribut 5, metode forward, evaluasi dengan R squared, dan cv dengan k=3."
   ]
  },
  {
   "cell_type": "code",
   "execution_count": 42,
   "metadata": {},
   "outputs": [],
   "source": [
    "sequential = SequentialFeatureSelector(LinearRegression(),\n",
    "                                       k_features=6,\n",
    "                                       forward=True,\n",
    "                                       floating=False,\n",
    "                                       scoring = 'r2', \n",
    "                                       cv = 3)"
   ]
  },
  {
   "cell_type": "code",
   "execution_count": 43,
   "metadata": {},
   "outputs": [
    {
     "data": {
      "text/plain": [
       "('Asal', 'Tujuan', 'Jenis_Taksi', 'Merek', 'Jarak', 'surge_multiplier')"
      ]
     },
     "execution_count": 43,
     "metadata": {},
     "output_type": "execute_result"
    }
   ],
   "source": [
    "sequential.fit(X_transform, y)\n",
    "sequential.k_feature_names_"
   ]
  },
  {
   "cell_type": "markdown",
   "metadata": {},
   "source": [
    "dengan menggunakan library SequentialFeatureSelector didapatkan bahwa 6 feature yang paling berpengaruh dalam model yaitu `Asal`, `Tujuan`, `Jenis_Taksi`, `Merek`, `Jarak`, `surge_multiplier`\n",
    "\n",
    "2. Feature Selection menggunakan library F regression dengan k=6"
   ]
  },
  {
   "cell_type": "code",
   "execution_count": 44,
   "metadata": {},
   "outputs": [
    {
     "name": "stdout",
     "output_type": "stream",
     "text": [
      "Top 5 Features yang Berpengaruh\n",
      "           Features          Score\n",
      "6             Merek  358425.591811\n",
      "7             Jarak   84977.278050\n",
      "8  surge_multiplier   44162.616118\n",
      "5       Jenis_Taksi    7604.960908\n",
      "4            Tujuan    1361.091110\n",
      "3              Asal     408.027999\n"
     ]
    }
   ],
   "source": [
    "topFeatures = SelectKBest(f_regression, k=6)\n",
    "fit = topFeatures.fit(X_transform, y)\n",
    "dfscores = pd.DataFrame(fit.scores_)\n",
    "dfcolumns = pd.DataFrame(X_transform.columns)\n",
    " \n",
    "featureScores = pd.concat([dfcolumns, dfscores],axis=1)\n",
    "featureScores.columns = ['Features', 'Score']\n",
    "\n",
    "print(\"Top 5 Features yang Berpengaruh\")\n",
    "print(featureScores.nlargest(6, 'Score'))"
   ]
  },
  {
   "cell_type": "markdown",
   "metadata": {},
   "source": [
    "dengan menggunakan library F regression juga didapatkan bahwa 5 feature yang paling berpengaruh dalam model yaitu `Asal`, `Tujuan`, `Jenis_Taksi`, `Merek`, `Jarak`, dan `surge_multiplier`\n",
    "\n",
    "e. Memasukkan hasil dari feature seletion ke dalam variabel X_fit untuk selanjutnya dilakukan pemodelan"
   ]
  },
  {
   "cell_type": "code",
   "execution_count": 45,
   "metadata": {},
   "outputs": [],
   "source": [
    "X_fit = df[['Asal', 'Tujuan', 'Jenis_Taksi', 'Merek', 'Jarak', 'surge_multiplier']]"
   ]
  },
  {
   "cell_type": "markdown",
   "metadata": {},
   "source": [
    "f. Melihat 5 baris teratas dataframe X_fit"
   ]
  },
  {
   "cell_type": "code",
   "execution_count": 46,
   "metadata": {},
   "outputs": [
    {
     "data": {
      "text/html": [
       "<div>\n",
       "<style scoped>\n",
       "    .dataframe tbody tr th:only-of-type {\n",
       "        vertical-align: middle;\n",
       "    }\n",
       "\n",
       "    .dataframe tbody tr th {\n",
       "        vertical-align: top;\n",
       "    }\n",
       "\n",
       "    .dataframe thead th {\n",
       "        text-align: right;\n",
       "    }\n",
       "</style>\n",
       "<table border=\"1\" class=\"dataframe\">\n",
       "  <thead>\n",
       "    <tr style=\"text-align: right;\">\n",
       "      <th></th>\n",
       "      <th>Asal</th>\n",
       "      <th>Tujuan</th>\n",
       "      <th>Jenis_Taksi</th>\n",
       "      <th>Merek</th>\n",
       "      <th>Jarak</th>\n",
       "      <th>surge_multiplier</th>\n",
       "    </tr>\n",
       "  </thead>\n",
       "  <tbody>\n",
       "    <tr>\n",
       "      <th>0</th>\n",
       "      <td>5</td>\n",
       "      <td>7</td>\n",
       "      <td>0</td>\n",
       "      <td>7</td>\n",
       "      <td>15</td>\n",
       "      <td>0</td>\n",
       "    </tr>\n",
       "    <tr>\n",
       "      <th>1</th>\n",
       "      <td>5</td>\n",
       "      <td>7</td>\n",
       "      <td>0</td>\n",
       "      <td>2</td>\n",
       "      <td>15</td>\n",
       "      <td>0</td>\n",
       "    </tr>\n",
       "    <tr>\n",
       "      <th>2</th>\n",
       "      <td>5</td>\n",
       "      <td>7</td>\n",
       "      <td>0</td>\n",
       "      <td>5</td>\n",
       "      <td>15</td>\n",
       "      <td>0</td>\n",
       "    </tr>\n",
       "    <tr>\n",
       "      <th>3</th>\n",
       "      <td>5</td>\n",
       "      <td>7</td>\n",
       "      <td>0</td>\n",
       "      <td>4</td>\n",
       "      <td>15</td>\n",
       "      <td>0</td>\n",
       "    </tr>\n",
       "    <tr>\n",
       "      <th>4</th>\n",
       "      <td>5</td>\n",
       "      <td>7</td>\n",
       "      <td>0</td>\n",
       "      <td>6</td>\n",
       "      <td>15</td>\n",
       "      <td>0</td>\n",
       "    </tr>\n",
       "  </tbody>\n",
       "</table>\n",
       "</div>"
      ],
      "text/plain": [
       "   Asal  Tujuan  Jenis_Taksi  Merek  Jarak  surge_multiplier\n",
       "0     5       7            0      7     15                 0\n",
       "1     5       7            0      2     15                 0\n",
       "2     5       7            0      5     15                 0\n",
       "3     5       7            0      4     15                 0\n",
       "4     5       7            0      6     15                 0"
      ]
     },
     "execution_count": 46,
     "metadata": {},
     "output_type": "execute_result"
    }
   ],
   "source": [
    "X_fit.head()"
   ]
  },
  {
   "cell_type": "markdown",
   "metadata": {},
   "source": [
    "g. melihat informasi (kolom, baris, tipe data) dan dimensi pada dataframe X_fit"
   ]
  },
  {
   "cell_type": "code",
   "execution_count": 47,
   "metadata": {},
   "outputs": [
    {
     "name": "stdout",
     "output_type": "stream",
     "text": [
      "<class 'pandas.core.frame.DataFrame'>\n",
      "RangeIndex: 693071 entries, 0 to 693070\n",
      "Data columns (total 6 columns):\n",
      " #   Column            Non-Null Count   Dtype\n",
      "---  ------            --------------   -----\n",
      " 0   Asal              693071 non-null  int32\n",
      " 1   Tujuan            693071 non-null  int32\n",
      " 2   Jenis_Taksi       693071 non-null  int32\n",
      " 3   Merek             693071 non-null  int32\n",
      " 4   Jarak             693071 non-null  int64\n",
      " 5   surge_multiplier  693071 non-null  int64\n",
      "dtypes: int32(4), int64(2)\n",
      "memory usage: 21.2 MB\n"
     ]
    },
    {
     "data": {
      "text/plain": [
       "(693071, 6)"
      ]
     },
     "execution_count": 47,
     "metadata": {},
     "output_type": "execute_result"
    }
   ],
   "source": [
    "X_fit.info()\n",
    "\n",
    "X_fit.shape"
   ]
  },
  {
   "cell_type": "markdown",
   "metadata": {},
   "source": [
    "h. Membagi data menjadi Training dan Testing pada kolom atau atribut yang sudah diperoleh. Untuk proporsi Training data sebesar 80% (0.80) dan Testing data sebesar 20% (0.20)"
   ]
  },
  {
   "cell_type": "code",
   "execution_count": 48,
   "metadata": {},
   "outputs": [],
   "source": [
    "X_train, X_test, y_train, y_test = train_test_split(X_fit, y, test_size=0.20, random_state=13)"
   ]
  },
  {
   "cell_type": "code",
   "execution_count": 49,
   "metadata": {},
   "outputs": [
    {
     "name": "stdout",
     "output_type": "stream",
     "text": [
      "(554456, 6)\n",
      "(138615, 6)\n"
     ]
    }
   ],
   "source": [
    "print(X_train.shape)\n",
    "print(X_test.shape)"
   ]
  },
  {
   "cell_type": "markdown",
   "metadata": {
    "id": "ZsrmVvRy1D0T"
   },
   "source": [
    "Berdasarkan pembagian proporsi training data/data latih dan testing data/data uji, didapatkan jumlah **data training dari keseluruhan data sebanyak 554456 data**, serta **data testing sebanyak 138615 data**.\n",
    "\n",
    "## 7. Pendefinisian Model\n",
    "Bagian ini berisi cell untuk mendefinisikan model sampai kompilasi model. seperti penjelasan mengapa memilih arsitektur atau jenis model tertentu, alasan memilih nilai hyperparameter, dan hal lain yang berkaitan.\n",
    "\n",
    "Disini kami akan mencoba mendefinisikan 2 model diantaranya\n",
    "1. Model regresi linear dimana memberikan nilai False pada fit_intercept. Alasan dari menghilangkan nilai intersep yaitu karena variabel y (Harga) tidak bisa berdiri sendiri tanpa adanya faktor atau variabel X yang mempengaruhi. Jika tidak ada nilai pada variabel X atau tidak ada faktor yang mempengaruhi maka nilai dari variabel y (Harga) seharusnya yaitu 0. Maka dari itu intercept dihilangkan"
   ]
  },
  {
   "cell_type": "code",
   "execution_count": 50,
   "metadata": {},
   "outputs": [],
   "source": [
    "linreg1 = LinearRegression(fit_intercept = False)"
   ]
  },
  {
   "cell_type": "markdown",
   "metadata": {},
   "source": [
    "2. Model regresi linear dimana dilakukan normalisasi data dengan mean (rata-rata) menggunakan standard scaler. Alasan dilakukannya normalisasi karen atribut atau kolom yang digunakan untuk prediksi memiliki variasi pada data satuan, sehingga hal itu dapat diatasi dengan melakukan normalisasi data"
   ]
  },
  {
   "cell_type": "code",
   "execution_count": 51,
   "metadata": {},
   "outputs": [],
   "source": [
    "linreg2 = make_pipeline(StandardScaler(with_mean=True), LinearRegression())"
   ]
  },
  {
   "cell_type": "markdown",
   "metadata": {
    "id": "3gYsCOe_1D0V"
   },
   "source": [
    "## 8. Pelatihan Model\n",
    "Cell pada bagian ini hanya berisi code untuk melatih model dan output yang dihasilkan.\n",
    "\n",
    "1. Model training untuk pendefinisian model nomor 1"
   ]
  },
  {
   "cell_type": "code",
   "execution_count": 52,
   "metadata": {},
   "outputs": [
    {
     "data": {
      "text/plain": [
       "LinearRegression(fit_intercept=False)"
      ]
     },
     "execution_count": 52,
     "metadata": {},
     "output_type": "execute_result"
    }
   ],
   "source": [
    "model1 = linreg1.fit(X_train, y_train)\n",
    "model1"
   ]
  },
  {
   "cell_type": "markdown",
   "metadata": {},
   "source": [
    "2. Model training untuk pendefinisian model nomor 2"
   ]
  },
  {
   "cell_type": "code",
   "execution_count": 53,
   "metadata": {},
   "outputs": [
    {
     "data": {
      "text/plain": [
       "Pipeline(steps=[('standardscaler', StandardScaler()),\n",
       "                ('linearregression', LinearRegression())])"
      ]
     },
     "execution_count": 53,
     "metadata": {},
     "output_type": "execute_result"
    }
   ],
   "source": [
    "model2 = linreg2.fit(X_train, y_train)\n",
    "model2"
   ]
  },
  {
   "cell_type": "markdown",
   "metadata": {
    "id": "JmRNG93s1D0X"
   },
   "source": [
    "## 9. Evaluasi Model\n",
    "Pada bagian ini, dilakukan evaluasi model yang harus menunjukkan bagaimana performa model berdasarkan metrics yang dipilih. Hal ini harus dibuktikan dengan visualisasi tren performa dan/atau tingkat kesalahan model.\n",
    "\n",
    "1. Evaluasi Model nomor 1"
   ]
  },
  {
   "cell_type": "code",
   "execution_count": 54,
   "metadata": {},
   "outputs": [
    {
     "name": "stdout",
     "output_type": "stream",
     "text": [
      "R2 (R squared) score for Linear Regression train is 0.2114\n",
      "R2 (R squared) score for Linear Regression test is 0.2108\n",
      "mean_sqrd_error of Linear Regression is 63.3529\n",
      "root mean squared error of Linear Regression is 7.9595\n"
     ]
    }
   ],
   "source": [
    "y_pred = model1.predict(X_test)\n",
    "\n",
    "r2_train_linreg = linreg1.score(X_train, y_train)\n",
    "print('R2 (R squared) score for Linear Regression train is %.4f' % r2_train_linreg)\n",
    "\n",
    "r2_test_linreg = r2_score(y_test,y_pred)\n",
    "print('R2 (R squared) score for Linear Regression test is %.4f' % r2_test_linreg)\n",
    "\n",
    "linreg_mse = mean_squared_error(y_test, y_pred)\n",
    "print('mean_sqrd_error of Linear Regression is %.4f' % linreg_mse)\n",
    "linreg_rmse = np.sqrt(linreg_mse)\n",
    "print('root mean squared error of Linear Regression is %.4f' % linreg_rmse)"
   ]
  },
  {
   "cell_type": "markdown",
   "metadata": {},
   "source": [
    "Membuat visualisasi model 1 dengan x axis yaitu atribut `Jarak` karena memiliki korelasi tinggi dengan y (atribut `Harga`)"
   ]
  },
  {
   "cell_type": "code",
   "execution_count": 55,
   "metadata": {},
   "outputs": [
    {
     "data": {
      "image/png": "[encoded data removed]",
      "text/plain": [
       "<Figure size 432x288 with 1 Axes>"
      ]
     },
     "metadata": {
      "needs_background": "light"
     },
     "output_type": "display_data"
    }
   ],
   "source": [
    "x_axis = X_test.Jarak \n",
    "\n",
    "plt.scatter(x_axis, y_test, c = 'r', alpha = 0.5, marker = '.', label = 'Aktual')\n",
    "plt.scatter(x_axis, y_pred, c = 'b', alpha = 0.5, marker = '.', label = 'Prediksi')\n",
    "plt.xlabel('Jarak')\n",
    "plt.ylabel('Harga') \n",
    "plt.title(\"Perbandingan Prediksi Vs Aktual\")\n",
    "plt.legend(loc = 'upper right')\n",
    "plt.show()"
   ]
  },
  {
   "cell_type": "markdown",
   "metadata": {},
   "source": [
    "didapatkan dengan menggunakan model 1 score R2 yang didapatkan yaitu 0.2108 (21,08%). nilai ini tentunya cukup kecil sehingga bisa saja nanti hasil prediksi tidak akurat. Kami akan coba dengan menggunakan model 2\n",
    "\n",
    "2. Evaluasi Model nomor 2"
   ]
  },
  {
   "cell_type": "code",
   "execution_count": 56,
   "metadata": {},
   "outputs": [
    {
     "name": "stdout",
     "output_type": "stream",
     "text": [
      "R2 (R squared) score for Linear Regression train is 0.5070\n",
      "R2 (R squared) score for Linear Regression test is 0.5101\n",
      "mean_sqrd_error of Linear Regression is 39.3233\n",
      "root mean squared error of Linear Regression is 6.2708\n"
     ]
    }
   ],
   "source": [
    "y_pred = model2.predict(X_test)\n",
    "\n",
    "r2_train_linreg = linreg2.score(X_train, y_train)\n",
    "print('R2 (R squared) score for Linear Regression train is %.4f' % r2_train_linreg)\n",
    "\n",
    "r2_test_linreg = r2_score(y_test,y_pred)\n",
    "print('R2 (R squared) score for Linear Regression test is %.4f' % r2_test_linreg)\n",
    "\n",
    "linreg_mse = mean_squared_error(y_test, y_pred)\n",
    "print('mean_sqrd_error of Linear Regression is %.4f' % linreg_mse)\n",
    "linreg_rmse = np.sqrt(linreg_mse)\n",
    "print('root mean squared error of Linear Regression is %.4f' % linreg_rmse)"
   ]
  },
  {
   "cell_type": "markdown",
   "metadata": {},
   "source": [
    "Membuat visualisasi model 2 dengan x axis yaitu atribut `Jarak` karena memiliki korelasi tinggi dengan y (atribut `Harga`)"
   ]
  },
  {
   "cell_type": "code",
   "execution_count": 57,
   "metadata": {},
   "outputs": [
    {
     "data": {
      "image/png": "[encoded data removed]",
      "text/plain": [
       "<Figure size 432x288 with 1 Axes>"
      ]
     },
     "metadata": {
      "needs_background": "light"
     },
     "output_type": "display_data"
    }
   ],
   "source": [
    "x_axis = X_test.Jarak \n",
    "\n",
    "plt.scatter(x_axis, y_test, c = 'r', alpha = 0.5, marker = '.', label = 'Aktual')\n",
    "plt.scatter(x_axis, y_pred, c = 'b', alpha = 0.5, marker = '.', label = 'Prediksi')\n",
    "plt.xlabel('Jarak')\n",
    "plt.ylabel('Harga') \n",
    "plt.title(\"Perbandingan Prediksi Vs Aktual\")\n",
    "plt.legend(loc = 'upper right')\n",
    "plt.show()"
   ]
  },
  {
   "cell_type": "markdown",
   "metadata": {},
   "source": [
    "Melihat summary regression result dari model 2"
   ]
  },
  {
   "cell_type": "code",
   "execution_count": 58,
   "metadata": {},
   "outputs": [
    {
     "name": "stderr",
     "output_type": "stream",
     "text": [
      "D:\\anaconda3\\lib\\site-packages\\statsmodels\\tsa\\tsatools.py:142: FutureWarning: In a future version of pandas all arguments of concat except for the argument 'objs' will be keyword-only\n",
      "  x = pd.concat(x[::order], 1)\n"
     ]
    },
    {
     "name": "stdout",
     "output_type": "stream",
     "text": [
      "                            OLS Regression Results                            \n",
      "==============================================================================\n",
      "Dep. Variable:                  Harga   R-squared:                       0.510\n",
      "Model:                            OLS   Adj. R-squared:                  0.510\n",
      "Method:                 Least Squares   F-statistic:                 2.406e+04\n",
      "Date:                Thu, 28 Apr 2022   Prob (F-statistic):               0.00\n",
      "Time:                        20:22:22   Log-Likelihood:            -4.5116e+05\n",
      "No. Observations:              138615   AIC:                         9.023e+05\n",
      "Df Residuals:                  138608   BIC:                         9.024e+05\n",
      "Df Model:                           6                                         \n",
      "Covariance Type:            nonrobust                                         \n",
      "====================================================================================\n",
      "                       coef    std err          t      P>|t|      [0.025      0.975]\n",
      "------------------------------------------------------------------------------------\n",
      "const               18.1110      0.062    291.047      0.000      17.989      18.233\n",
      "Asal                 0.0273      0.005      5.573      0.000       0.018       0.037\n",
      "Tujuan               0.0127      0.005      2.566      0.010       0.003       0.022\n",
      "Jenis_Taksi          2.9947      0.037     81.266      0.000       2.923       3.067\n",
      "Merek               -1.4870      0.005   -310.921      0.000      -1.496      -1.478\n",
      "Jarak                0.0263      0.000    170.632      0.000       0.026       0.027\n",
      "surge_multiplier     5.2472      0.048    110.314      0.000       5.154       5.340\n",
      "==============================================================================\n",
      "Omnibus:                    16000.416   Durbin-Watson:                   1.995\n",
      "Prob(Omnibus):                  0.000   Jarque-Bera (JB):            24639.624\n",
      "Skew:                           0.843   Prob(JB):                         0.00\n",
      "Kurtosis:                       4.192   Cond. No.                         823.\n",
      "==============================================================================\n",
      "\n",
      "Notes:\n",
      "[1] Standard Errors assume that the covariance matrix of the errors is correctly specified.\n"
     ]
    }
   ],
   "source": [
    "X2 = sm.add_constant(X_test)\n",
    "est = sm.OLS(y_test, X2)\n",
    "est2 = est.fit()\n",
    "print(est2.summary())"
   ]
  },
  {
   "cell_type": "markdown",
   "metadata": {},
   "source": [
    "Dengan menggunakan model 2 didapatkan nilai R2 score nya yaitu 0.510 atau hanya 51%. Meskipun hasil score lebih tinggi dari model 1 tetapi kita tetap tidak bisa menggunakannnya karena hasil ini masih tergolong rendah dan bisa mempengaruhi hasil prediksi nantinya.\n",
    "\n",
    "Maka dari itu kami melakukan peningkatan score atau akurasi dengan melakukan pemodelan dengan menggunakan Random Forest Regressor\n",
    "\n",
    "### Peningkatan Akurasi Menggunakan Random Forest Regressor\n",
    "disini kami membuat model baru menggunakan random forest regressor untuk meningkatan hasil score accuracy agar hasil prediksi baik. untuk parameter yang digunakan yaitu n_estimator sejumlah 100\n",
    "1. Mendefinisikan model"
   ]
  },
  {
   "cell_type": "code",
   "execution_count": 59,
   "metadata": {},
   "outputs": [],
   "source": [
    "rf_regr = RandomForestRegressor(n_estimators=100)"
   ]
  },
  {
   "cell_type": "markdown",
   "metadata": {},
   "source": [
    "2. Pelatihan Model"
   ]
  },
  {
   "cell_type": "code",
   "execution_count": 60,
   "metadata": {},
   "outputs": [
    {
     "data": {
      "text/plain": [
       "RandomForestRegressor()"
      ]
     },
     "execution_count": 60,
     "metadata": {},
     "output_type": "execute_result"
    }
   ],
   "source": [
    "model3 = rf_regr.fit(X_train, y_train)\n",
    "model3"
   ]
  },
  {
   "cell_type": "markdown",
   "metadata": {},
   "source": [
    "3. Evaluasi Model"
   ]
  },
  {
   "cell_type": "code",
   "execution_count": 61,
   "metadata": {},
   "outputs": [
    {
     "name": "stdout",
     "output_type": "stream",
     "text": [
      "R2 (R squared) score for Linear Regression train using Random Forest Regressor is 0.9732\n",
      "R2 (R squared) score for Linear Regression test using Random Forest Regressor is 0.9697\n",
      "mean_sqrd_error of Linear Regression using Random Forest Regressor is 2.4332\n",
      "root mean squared error of Linear Regression using Random Forest Regressor is 1.5599\n"
     ]
    }
   ],
   "source": [
    "y_pred = model3.predict(X_test)\n",
    "\n",
    "r2_train_linreg = rf_regr.score(X_train, y_train)\n",
    "print('R2 (R squared) score for Linear Regression train using Random Forest Regressor is %.4f' % r2_train_linreg)\n",
    "\n",
    "r2_test_linreg = r2_score(y_test,y_pred)\n",
    "print('R2 (R squared) score for Linear Regression test using Random Forest Regressor is %.4f' % r2_test_linreg)\n",
    "\n",
    "linreg_mse = mean_squared_error(y_test, y_pred)\n",
    "print('mean_sqrd_error of Linear Regression using Random Forest Regressor is %.4f' % linreg_mse)\n",
    "linreg_rmse = np.sqrt(linreg_mse)\n",
    "print('root mean squared error of Linear Regression using Random Forest Regressor is %.4f' % linreg_rmse)"
   ]
  },
  {
   "cell_type": "markdown",
   "metadata": {},
   "source": [
    "Membuat visualisasi model 2 dengan x axis yaitu atribut `Jarak` karena memiliki korelasi tinggi dengan y (atribut `Harga`)"
   ]
  },
  {
   "cell_type": "code",
   "execution_count": 62,
   "metadata": {},
   "outputs": [
    {
     "data": {
      "image/png": "[encoded data removed]",
      "text/plain": [
       "<Figure size 432x288 with 1 Axes>"
      ]
     },
     "metadata": {
      "needs_background": "light"
     },
     "output_type": "display_data"
    }
   ],
   "source": [
    "x_axis = X_test.Jarak \n",
    "\n",
    "plt.scatter(x_axis, y_test, c = 'r', alpha = 0.5, marker = '.', label = 'Aktual')\n",
    "plt.scatter(x_axis, y_pred, c = 'b', alpha = 0.5, marker = '.', label = 'Prediksi')\n",
    "plt.xlabel('Jarak')\n",
    "plt.ylabel('Harga') \n",
    "plt.title(\"Perbandingan Prediksi Vs Aktual\")\n",
    "plt.legend(loc = 'upper right')\n",
    "plt.show()"
   ]
  },
  {
   "cell_type": "markdown",
   "metadata": {},
   "source": [
    "didapatkan dengan mengganti model menggunakan Random forest Regressor R2 score nya yaitu 0.9697 (96,97% atau 97%). Score ini tentunya baik dan hasilnya tinggi mendekati nilai 1. \n",
    "\n",
    "Untuk deployment nantinya kami akan menggunakan model ini sedangkan untuk model inference kami akan membuat 2 versi yaitu menggunakan moel 2 dan model 3"
   ]
  },
  {
   "cell_type": "markdown",
   "metadata": {
    "id": "gbRIelrm1D0Y"
   },
   "source": [
    "## 10. Model Inference\n",
    "Bagian ini diisi dengan model inference, di mana model yang sudah kita latih akan dicoba pada data selain data yang sudah tersedia.\n",
    "\n",
    "#### Petunjuk Pengisian\n",
    "- Asal dan Tujuan diisi dengan nomor 0 sampai 11 dengan rincian\n",
    "\n",
    "`0. Back Bay`\n",
    "`1. Beacon Hill`\n",
    "`2. Boston University`\n",
    "`3. Fenway`\n",
    "`4. Financial District`\n",
    "`5. Haymarket Square`\n",
    "`6. North End`\n",
    "`7. North Station`\n",
    "`8. Northeastern University`\n",
    "`9. South Station`\n",
    "`10. Theatre District`\n",
    "`11. West End`\n",
    "\n",
    "- Jenis Taksi diisi dengan memilih nomor 0 atau 1 dengan rincian:\n",
    "\n",
    "`0. Lyft` dan `1. Uber`\n",
    "\n",
    "- Merek diisi dengan nomor antara 0 sampai 12 dengan rincian:\n",
    "\n",
    "`0. Black`\n",
    "`1. Black SUV`\n",
    "`2. Lux`\n",
    "`3. Lux Black`\n",
    "`4. Lux Black XL`\n",
    "`5. Lyft`\n",
    "`6. Lyft XL`\n",
    "`7. Shared`\n",
    "`8. Taxi`\n",
    "`9. UberPool`\n",
    "`10. UberX`\n",
    "`11. UberXL`\n",
    "`12. WAV`\n",
    "\n",
    "- Jarak diisi sesuai dengan angka yang ingin diprediksi atau ditempuh\n",
    "\n",
    "- surge multiplier diisi dengan angka minimal 0 sampai 6\n",
    "\n",
    "\n",
    "1. Model Inference dari Model 2\n",
    "\n",
    "a. Memasukkan parameter input masing-masing atribut"
   ]
  },
  {
   "cell_type": "code",
   "execution_count": 63,
   "metadata": {},
   "outputs": [
    {
     "name": "stdout",
     "output_type": "stream",
     "text": [
      "Asal : 3\n",
      "Tujuan : 6\n",
      "Jenis Taksi : 1\n",
      "Merek : 9\n",
      "Jarak : 2\n",
      "Surge Multiplier : 3\n"
     ]
    }
   ],
   "source": [
    "Asal = int(input('Asal : '))\n",
    "Tujuan = int(input('Tujuan : '))\n",
    "Jenis = int(input('Jenis Taksi : '))\n",
    "Merek = int(input('Merek : '))\n",
    "Jarak = int(input('Jarak : '))\n",
    "SM = int(input('Surge Multiplier : '))"
   ]
  },
  {
   "cell_type": "markdown",
   "metadata": {},
   "source": [
    "b. Menampung parameter input ke dalam variabel X_pred"
   ]
  },
  {
   "cell_type": "code",
   "execution_count": 64,
   "metadata": {},
   "outputs": [
    {
     "data": {
      "text/plain": [
       "[[3, 6, 1, 9, 2, 3]]"
      ]
     },
     "execution_count": 64,
     "metadata": {},
     "output_type": "execute_result"
    }
   ],
   "source": [
    "X_pred = [[Asal, Tujuan, Jenis, Merek, Jarak, SM]]\n",
    "X_pred"
   ]
  },
  {
   "cell_type": "markdown",
   "metadata": {},
   "source": [
    "c. Melihat hasil prediksi"
   ]
  },
  {
   "cell_type": "code",
   "execution_count": 65,
   "metadata": {},
   "outputs": [
    {
     "name": "stdout",
     "output_type": "stream",
     "text": [
      "Hasil Prediksi Harga :  [23.73065498]\n"
     ]
    }
   ],
   "source": [
    "y_pred = model2.predict(X_pred)\n",
    "print('Hasil Prediksi Harga : ', y_pred)"
   ]
  },
  {
   "cell_type": "markdown",
   "metadata": {},
   "source": [
    "didapatkan dengan menggunakan model 2 dengan melakukan prediksi dengan Asal Haymarket Square, Tujuan North Station, Jenis Taksi Lyft, Merek Lux, Jarak 0.44, dan Surge Multiplier 1.0 didapatkan hasil prediksi harganya yaitu 15.94524141 atau 15.9. Pada data seharusnya 11.0, hasil lebih banyak mungkin dikarenakan dari hasil score prediksi model 2 yang cukup rendah\n",
    "\n",
    "2. Model Inference dari model 3 (Random Forest Regressor)\n",
    "\n",
    "a. Memasukkan parameter input masing-masing atribut"
   ]
  },
  {
   "cell_type": "code",
   "execution_count": 66,
   "metadata": {},
   "outputs": [
    {
     "name": "stdout",
     "output_type": "stream",
     "text": [
      "Asal : 3\n",
      "Tujuan : 6\n",
      "Jenis Taksi : 1\n",
      "Merek : 9\n",
      "Jarak : 2\n",
      "Surge Multiplier : 3\n"
     ]
    }
   ],
   "source": [
    "Asal_ = int(input('Asal : '))\n",
    "Tujuan_ = int(input('Tujuan : '))\n",
    "Jenis_ = int(input('Jenis Taksi : '))\n",
    "Merek_ = int(input('Merek : '))\n",
    "Jarak_ = int(input('Jarak : '))\n",
    "SM_ = int(input('Surge Multiplier : '))"
   ]
  },
  {
   "cell_type": "markdown",
   "metadata": {},
   "source": [
    "b. Menampung parameter input ke dalam variabel X_pred"
   ]
  },
  {
   "cell_type": "code",
   "execution_count": 67,
   "metadata": {},
   "outputs": [
    {
     "data": {
      "text/plain": [
       "[[3, 6, 1, 9, 2, 3]]"
      ]
     },
     "execution_count": 67,
     "metadata": {},
     "output_type": "execute_result"
    }
   ],
   "source": [
    "X_pred1 = [[Asal_, Tujuan_, Jenis_, Merek_, Jarak_, SM_]]\n",
    "X_pred1"
   ]
  },
  {
   "cell_type": "markdown",
   "metadata": {},
   "source": [
    "c. Melihat hasil prediksi"
   ]
  },
  {
   "cell_type": "code",
   "execution_count": 68,
   "metadata": {},
   "outputs": [
    {
     "name": "stdout",
     "output_type": "stream",
     "text": [
      "Hasil Prediksi Harga :  [5.54008328]\n"
     ]
    }
   ],
   "source": [
    "y_pred = model3.predict(X_pred1)\n",
    "print('Hasil Prediksi Harga : ', y_pred)"
   ]
  },
  {
   "cell_type": "markdown",
   "metadata": {},
   "source": [
    "didapatkan dengan menggunakan model 3 yaitu Random Forest Regressor dengan melakukan prediksi dengan Asal Haymarket Square, Tujuan North Station, Jenis Taksi Lyft, Merek Lux, Jarak 0.44, dan Surge Multiplier 1.0 didapatkan hasil prediksi harganya yaitu 10.7163254 atau 10.7. Pada data hasilnya yaitu 11.0, Hasil prediksi sudah mendekati sesuai data aslinya. Jadi bisa dikatakan prediksi bisa dilanjutkan ke deployment\n",
    "\n",
    "Untuk model inference diatas kami coba berdasarkan data untuk mengecek akurasi prediksi. Model inference dapat dicoba sesuai dengan input yang diinginkan selain data yang ada\n",
    "\n",
    "Jadi untuk deployment kami menggunakan model 3 yaitu Random Forest Regressor. *Kode program juga bisa di run lagi dan diisi dengan data yang diinginkan.*\n",
    "\n",
    "### Save and Finalize Model\n",
    "disini kami menggunakan operasi Pickle untuk menyimpan format serialized ke sebuah file dan menggunakannya untuk membuat prediksi baru"
   ]
  },
  {
   "cell_type": "code",
   "execution_count": 69,
   "metadata": {},
   "outputs": [],
   "source": [
    "pickle.dump(model3, open('model_RFRegr_FP1.pkl', 'wb'))"
   ]
  },
  {
   "cell_type": "markdown",
   "metadata": {
    "id": "wInp0nWH1D0Z"
   },
   "source": [
    "## 11. Pengambilan Kesimpulan\n",
    "Dari analisis yang telah kami lakukan, diperoleh kesimpulan sebagai berikut:\n",
    "- Pada Dataset terdapat 56 atribut yang diperkirakan sebagai faktor yang mempengaruhi harga taksi, Namun setelah dilakukan analisis kami menyimpulkan bahwa hanya terdapat 6 atribut yang menjadi faktor kuat yang paling mempengaruhi harga taksi yaitu atribut `Asal`, `Tujuan`, `Jenis_Taksi`, `Merek`, `Jarak`, dan `surge_multiplier`\n",
    "- Untuk mengatasi missing value pada analisis ini kami menggunakan pengisian missing value dengan menggunakan median\n",
    "- Pada analisis ini kami juga membuat beberapa visualisasi menggunakan lineplot, boxplot, histogram, pie chart, dan matriks korelasi\n",
    "- Pada analisis ini variabel dependen atau target yang digunakan yaitu `Harga` dan variabel independen yang digunakan yaitu `Asal`, `Tujuan`, `Jenis_Taksi`, `Merek`, `Jarak`, dan `surge_multiplier`\n",
    "- Pada analisis kami mengubah data yang bertipe float dan categorical menjadi numeric dengan mengunakan library Label Encoder\n",
    "- Pada proses feaure selection kami menggunakan library SequentialFeatureSelector dan library F regression dengan mengambil 6 atribut yang paling berpengaruh\n",
    "- Pada analisis ini kami membagi data menjadi Training dan Testing dengan proporsi Training data sebesar 80% (0.80) dan Testing data sebesar 20% (0.20)\n",
    "- Model awal yang kami bangun yaitu Model regresi linear dimana dilakukan normalisasi data dengan mean (rata-rata) menggunakan standard scaler. Alasan dilakukannya normalisasi karena atribut atau kolom yang digunakan untuk prediksi memiliki variasi pada data satuan, sehingga hal itu dapat diatasi dengan melakukan normalisasi data. Dengan model ini didapatkan **R2 score 0.510 (51%)**\n",
    "- Kami juga melakukan peningkatan akurasi pada model awal dikarenakan hasil score yang begitu rendah. Kami melakukan peningkatan akurasi menggunakan metode Random Forest Regressor yang didapatkan hasil akurasi **0.9697 (96,97% atau 97%)**\n",
    "- Untuk tahap model inference kami membuat 2 versi yaitu dengan model regresi linear dan model Random Forest Regressor. Namun untuk deployment menggunakan Model Random Forest Regressor\n",
    "- Untuk proses deployment prediksi harga taksi kami menggunakan model dengan metode Random Forest Regressor dengan hasil akurasi yang baik"
   ]
  },
  {
   "cell_type": "code",
   "execution_count": null,
   "metadata": {},
   "outputs": [],
   "source": []
  },
  {
   "cell_type": "code",
   "execution_count": null,
   "metadata": {},
   "outputs": [],
   "source": []
  },
  {
   "cell_type": "code",
   "execution_count": null,
   "metadata": {},
   "outputs": [],
   "source": []
  },
  {
   "cell_type": "code",
   "execution_count": null,
   "metadata": {},
   "outputs": [],
   "source": []
  },
  {
   "cell_type": "code",
   "execution_count": null,
   "metadata": {},
   "outputs": [],
   "source": []
  }
 ],
 "metadata": {
  "colab": {
   "collapsed_sections": [],
   "name": "Final Project.ipynb",
   "provenance": []
  },
  "kernelspec": {
   "display_name": "Python 3 (ipykernel)",
   "language": "python",
   "name": "python3"
  },
  "language_info": {
   "codemirror_mode": {
    "name": "ipython",
    "version": 3
   },
   "file_extension": ".py",
   "mimetype": "text/x-python",
   "name": "python",
   "nbconvert_exporter": "python",
   "pygments_lexer": "ipython3",
   "version": "3.9.7"
  },
  "toc": {
   "base_numbering": 1,
   "nav_menu": {},
   "number_sections": true,
   "sideBar": true,
   "skip_h1_title": false,
   "title_cell": "Table of Contents",
   "title_sidebar": "Contents",
   "toc_cell": false,
   "toc_position": {},
   "toc_section_display": true,
   "toc_window_display": false
  }
 },
 "nbformat": 4,
 "nbformat_minor": 1
}
