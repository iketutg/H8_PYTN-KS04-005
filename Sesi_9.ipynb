{
 "cells": [
  {
   "cell_type": "markdown",
   "id": "fdee8bf4",
   "metadata": {},
   "source": [
    "# Sesi 9 - Descriptive Statistics\n",
    "\n",
    "**What is Descriptive Statistics?**\n",
    "\n",
    "Descriptive statistics/Statistik deskriptif melibatkan meringkas/summarizing dan mengatur data sehingga dapat dengan mudah dipahami. Statistik deskriptif, tidak seperti statistik inferensial, berupaya mendeskripsikan data, tetapi tidak mencoba membuat kesimpulan dari sampel ke seluruh populasi. Di sini, kita biasanya mendeskripsikan data dalam sampel. Secara umum berarti bahwa statistik deskriptif, tidak seperti statistik inferensial, tidak dikembangkan berdasarkan teori probabilitas.\n",
    "\n",
    "Descriptive Statistical Analysis membantu kita memahami data dan merupakan bagian yang sangat penting dari Machine Learning. Ini karena Machine Learning adalah tentang membuat prediksi. Di sisi lain, statistik adalah tentang menarik kesimpulan dari data, yang merupakan langkah awal yang diperlukan. Dalam sesi ini, kita akan belajar tentang konsep statistik deskriptif yang paling penting. Descriptive statistics akan membantu kita lebih memahami apa yang coba diceritakan oleh data kita, yang akan menghasilkan model dan pemahaman machine learning yang lebih baik secara keseluruhan\n",
    "\n",
    "**Types of Descriptive Statistics**\n",
    "\n",
    "Statistik deskriptif dipecah menjadi dua kategori. Measures of central tendency dan measures of variability (spread)\n",
    "\n",
    "**Population and Samples**\n",
    "\n",
    "Dalam statistik, populasi adalah sekumpulan dari semua elemen atau item yang kita minati. Populasi seringkali sangat banyak, sehingga tidak sesuai untuk collecting dan analyzing data. Itulah mengapa statisticians biasanya mencoba membuat beberapa kesimpulan tentang suatu populasi dengan memilih dan memeriksa sub-kumpulan perwakilan dari populasi tersebut.\n",
    "\n",
    "Subset populasi ini disebut sampel. Idealnya, sampel harus mempertahankan fitur statistik esensial dari populasi hingga tingkat yang memuaskan. Dengan begitu, kita akan dapat menggunakan sampel untuk menarik kesimpulan tentang populasi.\n",
    "\n",
    "**Outliers**\n",
    "\n",
    "Outlier/Pencilan adalah titik data yang berbeda secara signifikan dari sebagian besar data yang diambil dari sampel atau populasi. Ada banyak kemungkinan penyebab pencilan, tetapi berikut ini beberapa yang bisa membantu kita:\n",
    "\n",
    "* **Natural variation** in data\n",
    "* **Change** in the behavior of the observed system\n",
    "* **Errors** in data collection\n",
    "\n",
    "Kesalahan pengumpulan data adalah penyebab utama pencilan. Misalnya, keterbatasan instrumen atau prosedur pengukuran dapat berarti bahwa data yang benar tidak dapat diperoleh. Kesalahan lainnya dapat disebabkan oleh kesalahan perhitungan, kontaminasi data, kesalahan manusia, dan lainnya.\n",
    "\n",
    "Tidak ada definisi matematis yang tepat tentang pencilan. Kita harus mengandalkan pengalaman, pengetahuan tentang subjek yang diminati, dan common sense untuk menentukan apakah titik data adalah pencilan dan cara menanganinya."
   ]
  },
  {
   "cell_type": "markdown",
   "id": "16d6f397",
   "metadata": {},
   "source": [
    "**Measure of Central Tendency**\n",
    "\n",
    "Central tendency mengacu pada gagasan bahwa ada satu bilangan yang paling baik untuk meringkas seluruh rangkaian pengukuran, sebuah bilangan yang dalam beberapa hal merupakan “central” dari himpunan tersebut.\n",
    "\n",
    "Atau bisa dikatakan pengukuran suatu nilai dimana dapat digunakan presentasikan nilai sentral dari data set\n",
    "\n",
    "* Mean \n",
    "* Median \n",
    "* Mode"
   ]
  },
  {
   "cell_type": "markdown",
   "id": "5cd99fae",
   "metadata": {},
   "source": [
    "**Mean / Average**\n",
    "\n",
    "Mean atau Average adalah central tendency dari data, angka diantara seluruh data tersebar. Di satu sisi, Mean atau Averageadalah angka tunggal yang dapat memperkirakan nilai seluruh kumpulan data. Mean hanyalah rata-rata dan dianggap sebagai ukuran tendensi sentral yang paling andal untuk membuat asumsi tentang suatu populasi dari satu sampel. Tendensi sentral menentukan kecenderungan nilai data kita untuk mengelompok di sekitar mean, mode, atau mediannya. Rata-rata dihitung dengan jumlah semua nilai, dibagi dengan jumlah nilai."
   ]
  },
  {
   "cell_type": "markdown",
   "id": "b1ae0666",
   "metadata": {},
   "source": [
    "**Median**\n",
    "\n",
    "Median adalah nilai yang membagi data dalam 2 bagian yang sama yaitu jumlah suku di sisi kanannya sama dengan jumlah suku di sisi kirinya saat data disusun dalam urutan naik atau turun. Median adalah nilai \"tengah\" atau titik tengah dalam data kita dan juga disebut \"persentil ke-50\". Perhatikan bahwa median jauh lebih sedikit dipengaruhi oleh outliers dan skewed data daripada rata-rata. \n",
    "\n",
    "Sebuah contoh: Bayangkan Kalian memiliki kumpulan data hadiah perumahan yang sebagian besar berkisar antara 100.000 hingga 300.000 tetapi berisi beberapa rumah yang bernilai lebih dari 3 juta Dolar. Rumah-rumah mahal ini akan sangat berpengaruh karena itu adalah jumlah dari semua nilai, dibagi dengan jumlah nilai. Median tidak akan terlalu terpengaruh oleh pencilan ini karena hanya nilai \"tengah\" dari semua titik data. Oleh karena itu, median adalah statistik yang jauh lebih cocok untuk melaporkan data kita.\n",
    "\n",
    "Median adalah nilai tengah, jika jumlah nilai ganjil\n",
    "\n",
    "Median adalah rata-rata dari 2 nilai tengah, jika jumlah nilai genap.\n",
    "\n",
    "**12+24+41+51+67+67+85+99 = 59**\n",
    "\n",
    "Mediannya adalah 59 yang akan membagi kumpulan angka menjadi dua bagian yang sama. Karena ada bilangan genap dalam himpunan, jawbaannya adalah rata-rata dari bilangan tengah 51 dan 67.\n",
    "\n",
    "**2, 4, 6, 8, 10**\n",
    "\n",
    "Mean dari 5 angka ini adalah 6 dan mediannya juga 6"
   ]
  },
  {
   "cell_type": "markdown",
   "id": "88bb1eea",
   "metadata": {},
   "source": [
    "## Practice on Python\n",
    "## Choosing Python Statistics Libraries\n",
    "\n",
    "Ada banyak pustaka statistik Python di luar sana untuk kita pakai. Tetapi dalam sesi ini, kita akan belajar tentang beberapa yang paling populer dan banyak digunakan:\n",
    "\n",
    "- Python's statistics is a built-in Python library for descriptive statistics. You can use it if your datasets are not too large or if you can't rely on importing other libraries.\n",
    "- NumPy is a third-party library for numerical computing, optimized for working with single- and multi-dimensional arrays. Its primary type is the array type called ndarray. This library contains many routines for statistical analysis.\n",
    "- SciPy is a third-party library for scientific computing based on NumPy. It offers additional functionality compared to NumPy. Including scipy.stats for statistical analysis.\n",
    "- Pandas is a third-party library for numerical computing based on NumPy. It excels in handling labeled one-dimensional (1D) data with Series objects and two-dimensional (2D) data with DataFrame objects.\n",
    "- Matplotlib is a third-party library for data visualization. It works well in combination with NumPy, SciPy, and Pandas."
   ]
  },
  {
   "cell_type": "markdown",
   "id": "0ced7e42",
   "metadata": {},
   "source": [
    "## Calculating Descriptive Statistics"
   ]
  },
  {
   "cell_type": "code",
   "execution_count": 1,
   "id": "5b3542d7",
   "metadata": {},
   "outputs": [],
   "source": [
    "import math\n",
    "import statistics\n",
    "import numpy as np\n",
    "import scipy.stats\n",
    "import pandas as pd"
   ]
  },
  {
   "cell_type": "code",
   "execution_count": 2,
   "id": "6f3c3010",
   "metadata": {},
   "outputs": [
    {
     "name": "stdout",
     "output_type": "stream",
     "text": [
      "[8.0, 1, 2.5, 4, 28.0]\n",
      "[8.0, 1, 2.5, nan, 4, 28.0]\n"
     ]
    }
   ],
   "source": [
    "x = [8.0, 1, 2.5, 4, 28.0]\n",
    "x_with_nan = [8.0, 1, 2.5, math.nan, 4, 28.0]\n",
    "print(x)\n",
    "print(x_with_nan)"
   ]
  },
  {
   "cell_type": "code",
   "execution_count": 3,
   "id": "c1d43d65",
   "metadata": {},
   "outputs": [
    {
     "name": "stdout",
     "output_type": "stream",
     "text": [
      "[ 8.   1.   2.5  4.  28. ]\n",
      "[ 8.   1.   2.5  nan  4.  28. ]\n",
      "0     8.0\n",
      "1     1.0\n",
      "2     2.5\n",
      "3     NaN\n",
      "4     4.0\n",
      "5    28.0\n",
      "dtype: float64\n"
     ]
    }
   ],
   "source": [
    "# Membuat objek np.ndarray dan pd.Series yang sesuai dengan x dan x_with_nan\n",
    "y, y_with_nan = np.array(x), np.array(x_with_nan)\n",
    "z, z_with_nan = pd.Series(x), pd.Series(x_with_nan)\n",
    "\n",
    "print(y)\n",
    "print(y_with_nan)\n",
    "print(z_with_nan)"
   ]
  },
  {
   "cell_type": "markdown",
   "id": "a7e6c1e7",
   "metadata": {},
   "source": [
    "### Mean"
   ]
  },
  {
   "cell_type": "code",
   "execution_count": 4,
   "id": "ba502c4f",
   "metadata": {},
   "outputs": [
    {
     "data": {
      "text/plain": [
       "8.7"
      ]
     },
     "execution_count": 4,
     "metadata": {},
     "output_type": "execute_result"
    }
   ],
   "source": [
    "mean_ = sum(x) /len(x)\n",
    "mean_"
   ]
  },
  {
   "cell_type": "code",
   "execution_count": 5,
   "id": "1de9979e",
   "metadata": {},
   "outputs": [
    {
     "name": "stdout",
     "output_type": "stream",
     "text": [
      "8.7\n"
     ]
    }
   ],
   "source": [
    "# Alternatif 1 (built-in)\n",
    "mean_ = statistics.mean(x)\n",
    "print(mean_)"
   ]
  },
  {
   "cell_type": "code",
   "execution_count": 6,
   "id": "2092f3ce",
   "metadata": {},
   "outputs": [
    {
     "name": "stdout",
     "output_type": "stream",
     "text": [
      "nan\n"
     ]
    }
   ],
   "source": [
    "mean_ = statistics.mean(x_with_nan)\n",
    "print(mean_)"
   ]
  },
  {
   "cell_type": "code",
   "execution_count": 7,
   "id": "8ebc5b93",
   "metadata": {},
   "outputs": [
    {
     "data": {
      "text/plain": [
       "8.7"
      ]
     },
     "execution_count": 7,
     "metadata": {},
     "output_type": "execute_result"
    }
   ],
   "source": [
    "# Alternatif 2 (NumPy)\n",
    "mean_ = np.mean(y)\n",
    "mean_"
   ]
  },
  {
   "cell_type": "code",
   "execution_count": 8,
   "id": "d52ca6d5",
   "metadata": {},
   "outputs": [
    {
     "data": {
      "text/plain": [
       "8.7"
      ]
     },
     "execution_count": 8,
     "metadata": {},
     "output_type": "execute_result"
    }
   ],
   "source": [
    "mean_ = y.mean()\n",
    "mean_"
   ]
  },
  {
   "cell_type": "code",
   "execution_count": 9,
   "id": "665d207d",
   "metadata": {},
   "outputs": [
    {
     "name": "stdout",
     "output_type": "stream",
     "text": [
      "nan\n",
      "nan\n"
     ]
    }
   ],
   "source": [
    "print(np.mean(y_with_nan))\n",
    "print(y_with_nan.mean())"
   ]
  },
  {
   "cell_type": "code",
   "execution_count": 10,
   "id": "57bfebec",
   "metadata": {},
   "outputs": [
    {
     "data": {
      "text/plain": [
       "8.7"
      ]
     },
     "execution_count": 10,
     "metadata": {},
     "output_type": "execute_result"
    }
   ],
   "source": [
    "# Mengabaikan nilai NaN dengan np.nanmean()\n",
    "np.nanmean(y_with_nan)"
   ]
  },
  {
   "cell_type": "code",
   "execution_count": 11,
   "id": "c152f6a8",
   "metadata": {},
   "outputs": [
    {
     "data": {
      "text/plain": [
       "8.7"
      ]
     },
     "execution_count": 11,
     "metadata": {},
     "output_type": "execute_result"
    }
   ],
   "source": [
    "# pd.Series objects juga mempunyai method .mean()\n",
    "mean_ = z.mean()\n",
    "mean_"
   ]
  },
  {
   "cell_type": "code",
   "execution_count": 12,
   "id": "db03ce45",
   "metadata": {},
   "outputs": [
    {
     "data": {
      "text/plain": [
       "8.7"
      ]
     },
     "execution_count": 12,
     "metadata": {},
     "output_type": "execute_result"
    }
   ],
   "source": [
    "z_with_nan.mean()"
   ]
  },
  {
   "cell_type": "markdown",
   "id": "9027f2fb",
   "metadata": {},
   "source": [
    "### Weighted Mean\n",
    "\n",
    "Weighted mean, juga disebut weighted arithmetic mean atau weighted average, adalah generalisasi dari rata-rata aritmatika yang memungkinkan kita untuk menentukan kontribusi relatif dari setiap titik data ke hasil.\n",
    "\n",
    "Kita menentukan satu bobot 𝑤ᵢ untuk setiap titik data 𝑥ᵢ dari dataset 𝑥, di mana 𝑖 = 1, 2,…, 𝑛 dan 𝑛 adalah jumlah item di 𝑥. Kemudian, kita mengalikan setiap titik data dengan bobot yang sesuai, menjumlahkan semua produk, dan membagi jumlah yang diperoleh dengan jumlah bobot: Σᵢ(𝑤ᵢ𝑥ᵢ) / Σᵢ𝑤ᵢ.\n",
    "\n",
    "Weighted mean sangat berguna saat kita membutuhkan rata-rata kumpulan data yang berisi item yang muncul dengan frekuensi relatif tertentu. Misalnya, kiita memiliki himpunan di mana 20% dari semua item sama dengan 2, 50% item sama dengan 4, dan 30% sisanya sama dengan 8. Kita dapat menghitung rata-rata dari set seperti ini:"
   ]
  },
  {
   "cell_type": "code",
   "execution_count": 13,
   "id": "3dfed6b9",
   "metadata": {},
   "outputs": [
    {
     "data": {
      "text/plain": [
       "4.8"
      ]
     },
     "execution_count": 13,
     "metadata": {},
     "output_type": "execute_result"
    }
   ],
   "source": [
    "0.2 * 2 + 0.5 * 4 + 0.3 * 8"
   ]
  },
  {
   "cell_type": "code",
   "execution_count": 14,
   "id": "73409ab6",
   "metadata": {},
   "outputs": [
    {
     "name": "stdout",
     "output_type": "stream",
     "text": [
      "6.95\n",
      "6.95\n"
     ]
    }
   ],
   "source": [
    "x = [8.0, 1, 2.5, 4, 28.0]\n",
    "w = [0.1, 0.2, 0.3, 0.25, 0.15]\n",
    "\n",
    "wmean = sum(w[i] * x[i] for i in range(len(x))) / sum(w)\n",
    "print(wmean)\n",
    "\n",
    "wmean = sum(x_ * w_ for (x_, w_) in zip(x, w)) / sum(w)\n",
    "print(wmean)"
   ]
  },
  {
   "cell_type": "markdown",
   "id": "e4904626",
   "metadata": {},
   "source": [
    "Sekali lagi, ini adalah implementasi yang rapih dan elegan di mana kita tidak perlu mengimpor libraries apapun.\n",
    "\n",
    "Namun, jika kita memiliki kumpulan data yang besar. NumPy kemungkinan akan memberikan solusi yang lebih baik. Kita dapat menggunakan np.averate() untuk mendapatkan weighted mean dari array NumPy atau Series Pandas:"
   ]
  },
  {
   "cell_type": "code",
   "execution_count": 15,
   "id": "8cdbbba5",
   "metadata": {},
   "outputs": [
    {
     "name": "stdout",
     "output_type": "stream",
     "text": [
      "6.95\n",
      "6.95\n"
     ]
    }
   ],
   "source": [
    "y, z, w = np.array(x), pd.Series(x), np.array(w)\n",
    "\n",
    "wmean = np.average(y, weights = w)\n",
    "print(wmean)\n",
    "\n",
    "wmean = np.average(z, weights=w)\n",
    "print(wmean)"
   ]
  },
  {
   "cell_type": "markdown",
   "id": "13c85efb",
   "metadata": {},
   "source": [
    "Hasilnya sama dengan kasus implementasi Python pure. Kita juga dapat menggunakan metode ini pada list dan tuples.\n",
    "\n",
    "Solusi lain adalah dengan menggunakan elemen-wise product w * y dengan np.sum() atau .sum():"
   ]
  },
  {
   "cell_type": "code",
   "execution_count": 16,
   "id": "c2c5eda3",
   "metadata": {},
   "outputs": [
    {
     "data": {
      "text/plain": [
       "6.95"
      ]
     },
     "execution_count": 16,
     "metadata": {},
     "output_type": "execute_result"
    }
   ],
   "source": [
    "(w * y).sum() / w.sum()"
   ]
  },
  {
   "cell_type": "markdown",
   "id": "69a31fbd",
   "metadata": {},
   "source": [
    "### Harmonic Mean\n",
    "\n",
    "Secara teknis, pengertian dari harmonic mean adalah: the reciprocal of the average of the reciprocals.\n",
    "\n",
    "Reciprocal artinya adalah  1/value .\n",
    "\n",
    "Harmonic mean adalah reciprocal dari mean dari semua item dalam dataset: 𝑛 / Σᵢ (1 / 𝑥ᵢ), di mana 𝑖 = 1, 2,…, 𝑛 dan 𝑛 adalah jumlah item dalam dataset 𝑥. \n",
    "\n",
    "Contoh: we travel 10 km at 60 km/h, than another 10 km at 20 km/h, what is our average speed?\n",
    "\n",
    "Harmonic mean = 2/(1/60 + 1/20) = 30 km/h\n",
    "\n",
    "Harmonic mean juga bagus untuk handling outliers yang besar. Contoh: 2, 4, 6, dan 100\n",
    "\n",
    "Arithmetic mean adalah 2+4+6+100/4  = 28\n",
    "\n",
    "Harmonic mean adalah 4/( 1/2  +  1/4  +  1/6  +  1/100 ) = 4.32\n",
    "\n",
    "Salah satu varian dari implementasi Python pure dari harmonic mean adalah dibawah ini:"
   ]
  },
  {
   "cell_type": "code",
   "execution_count": 17,
   "id": "31901cc0",
   "metadata": {},
   "outputs": [
    {
     "data": {
      "text/plain": [
       "2.7613412228796843"
      ]
     },
     "execution_count": 17,
     "metadata": {},
     "output_type": "execute_result"
    }
   ],
   "source": [
    "hmean = len(x) / sum(1 / item for item in x)\n",
    "hmean"
   ]
  },
  {
   "cell_type": "code",
   "execution_count": 18,
   "id": "71d9da5d",
   "metadata": {},
   "outputs": [
    {
     "data": {
      "text/plain": [
       "2.7613412228796843"
      ]
     },
     "execution_count": 18,
     "metadata": {},
     "output_type": "execute_result"
    }
   ],
   "source": [
    "scipy.stats.hmean(y)"
   ]
  },
  {
   "cell_type": "code",
   "execution_count": 19,
   "id": "7387225d",
   "metadata": {},
   "outputs": [
    {
     "data": {
      "text/plain": [
       "2.7613412228796843"
      ]
     },
     "execution_count": 19,
     "metadata": {},
     "output_type": "execute_result"
    }
   ],
   "source": [
    "scipy.stats.hmean(z)"
   ]
  },
  {
   "cell_type": "markdown",
   "id": "ebaaac8c",
   "metadata": {},
   "source": [
    "### Geometric Mean\n",
    "\n",
    "Geometric mean adalah akar ke-𝑛 dari hasil kali semua 𝑛 elemen 𝑥ᵢ dalam dataset  𝑥: ⁿ√ (Πᵢ𝑥ᵢ), di mana 𝑖 = 1, 2,…, 𝑛.\n",
    "\n",
    "Example: What is the Geometric Mean of 2 and 18?\n",
    "\n",
    "Pertama kita kalikan: 2 × 18 = 36\n",
    "Lalu ambil square root: √36 = 6\n",
    "Dalam one line:\n",
    "\n",
    "**Geometric Mean of 2 and 18 = √(2 × 18) = 6**"
   ]
  },
  {
   "cell_type": "code",
   "execution_count": 20,
   "id": "79f3504d",
   "metadata": {},
   "outputs": [
    {
     "data": {
      "text/plain": [
       "4.677885674856041"
      ]
     },
     "execution_count": 20,
     "metadata": {},
     "output_type": "execute_result"
    }
   ],
   "source": [
    "gmean = 1\n",
    "for item in x:\n",
    "    gmean *= item\n",
    "\n",
    "gmean **= 1 / len(x)\n",
    "gmean"
   ]
  },
  {
   "cell_type": "markdown",
   "id": "5a03a559",
   "metadata": {},
   "source": [
    "Kita juga bisa mendapatkan geometric mean dengan scipy.stats.gmean():"
   ]
  },
  {
   "cell_type": "code",
   "execution_count": 21,
   "id": "fee91d66",
   "metadata": {},
   "outputs": [
    {
     "data": {
      "text/plain": [
       "4.67788567485604"
      ]
     },
     "execution_count": 21,
     "metadata": {},
     "output_type": "execute_result"
    }
   ],
   "source": [
    "scipy.stats.gmean(y)"
   ]
  },
  {
   "cell_type": "code",
   "execution_count": 22,
   "id": "810ec7c5",
   "metadata": {},
   "outputs": [
    {
     "data": {
      "text/plain": [
       "4.67788567485604"
      ]
     },
     "execution_count": 22,
     "metadata": {},
     "output_type": "execute_result"
    }
   ],
   "source": [
    "scipy.stats.gmean(z)"
   ]
  },
  {
   "cell_type": "markdown",
   "id": "d6069549",
   "metadata": {},
   "source": [
    "### Median\n",
    "\n",
    "Sample median adalah elemen tengah dari kumpulan data yang diurutkan. Dataset dapat diurutkan dalam urutan naik atau turun. Jika jumlah elemen _n_ dari dataset ganjil, maka median adalah nlai pada posisi tengah: 0.5(_n_ + 1). Jika _n_ genap, median adalah arithmetic mean dari dua nilai di tengah, yaitu item pada posisi _0,5n_ dan _0,5n_ + 1."
   ]
  },
  {
   "cell_type": "code",
   "execution_count": 23,
   "id": "9bd7408b",
   "metadata": {},
   "outputs": [
    {
     "data": {
      "text/plain": [
       "4"
      ]
     },
     "execution_count": 23,
     "metadata": {},
     "output_type": "execute_result"
    }
   ],
   "source": [
    "n = len(x)\n",
    "if(n % 2):\n",
    "    median_ = sorted(x)[round(0.5*(n - 1))]\n",
    "else:\n",
    "    x_ord, index = sorted(x), round(0.5 * n)\n",
    "    median_ = 0.5 * (x_ord[index - 1] + x_ord[index])\n",
    "\n",
    "median_"
   ]
  },
  {
   "cell_type": "markdown",
   "id": "d59ccc7e",
   "metadata": {},
   "source": [
    "Versi yang diurutkan dari x adalah `[1, 2.5, 4, 8.0, 28.0]`, jadi elemen di tengah adalah 4. Versi yang diurutkan dari `x[:-1]`, yaitu x tanpa item terakhir 28.0, adalah `[1, 2.5, 4, 8.0]`. Sekarang, ada dua elemen tengah, 2.5 dan 4. Rata-ratanya adalah 3.25.\n",
    "\n",
    "median_low() dan median_high() adalah dua fungsi lainnya yang terkait dengan median di pustaka statistics Python. Mereka selalu mengembalikan elemen dari kumpulan data:\n",
    "\n",
    "- Jika jumlah elemennya ganjil, maka hanya ada satu nilai tengah, sehingga fungsi ini berperilaku seperti median().\n",
    "- Jika jumlah elemennya genap, maka ada dua nilai tengah. Dalam kasus ini, median_low() mengembalikan nilai tengah yang lebih rendah dan median_high() lebih tinggi."
   ]
  },
  {
   "cell_type": "code",
   "execution_count": 24,
   "id": "ab806e03",
   "metadata": {},
   "outputs": [
    {
     "data": {
      "text/plain": [
       "[8.0, 1, 2.5, 4, 28.0]"
      ]
     },
     "execution_count": 24,
     "metadata": {},
     "output_type": "execute_result"
    }
   ],
   "source": [
    "x"
   ]
  },
  {
   "cell_type": "code",
   "execution_count": 25,
   "id": "924e82a8",
   "metadata": {},
   "outputs": [
    {
     "data": {
      "text/plain": [
       "2.5"
      ]
     },
     "execution_count": 25,
     "metadata": {},
     "output_type": "execute_result"
    }
   ],
   "source": [
    "statistics.median_low(x[:-1])"
   ]
  },
  {
   "cell_type": "code",
   "execution_count": 26,
   "id": "09a084f9",
   "metadata": {},
   "outputs": [
    {
     "data": {
      "text/plain": [
       "4"
      ]
     },
     "execution_count": 26,
     "metadata": {},
     "output_type": "execute_result"
    }
   ],
   "source": [
    "statistics.median_high(x[:-1])"
   ]
  },
  {
   "cell_type": "code",
   "execution_count": 27,
   "id": "854c2c54",
   "metadata": {},
   "outputs": [
    {
     "name": "stdout",
     "output_type": "stream",
     "text": [
      "6.0\n",
      "4\n",
      "8.0\n"
     ]
    }
   ],
   "source": [
    "print(statistics.median(x_with_nan))\n",
    "print(statistics.median_low(x_with_nan))\n",
    "print(statistics.median_high(x_with_nan))"
   ]
  },
  {
   "cell_type": "code",
   "execution_count": 28,
   "id": "87e86133",
   "metadata": {},
   "outputs": [
    {
     "name": "stdout",
     "output_type": "stream",
     "text": [
      "4.0\n"
     ]
    }
   ],
   "source": [
    "# Kita juga bisa mendapatkan median dengan np.median():\n",
    "\n",
    "median_ = np.median(y)\n",
    "print(median_)"
   ]
  },
  {
   "cell_type": "code",
   "execution_count": 29,
   "id": "d18ec160",
   "metadata": {},
   "outputs": [
    {
     "name": "stdout",
     "output_type": "stream",
     "text": [
      "3.25\n"
     ]
    }
   ],
   "source": [
    "median_ = np.median(y[:-1])\n",
    "print(median_)"
   ]
  },
  {
   "cell_type": "markdown",
   "id": "a6b43810",
   "metadata": {},
   "source": [
    "### Mode\n",
    "\n",
    "Sample mode adalah nilai dalam kumpulan data yang paling sering muncul. Jika tidak ada satu pun nilai tersebut, maka set tersebut multimodal karena memiliki beberapa nilai modal. Misalnya, pada set yang berisi poin 2, 3, 2, 8, dan 12, angka 2 adalah mode karena terjadi dua kali, tidak seperti item lain yang hanya muncul sekali."
   ]
  },
  {
   "cell_type": "code",
   "execution_count": 30,
   "id": "47949e9b",
   "metadata": {},
   "outputs": [
    {
     "data": {
      "text/plain": [
       "2"
      ]
     },
     "execution_count": 30,
     "metadata": {},
     "output_type": "execute_result"
    }
   ],
   "source": [
    "u = [2, 3, 2, 8, 12]\n",
    "v = [12, 15, 12, 15, 21, 15]\n",
    "\n",
    "mode_ = max((u.count(item), item) for item in set(u))[1]\n",
    "mode_"
   ]
  },
  {
   "cell_type": "code",
   "execution_count": 31,
   "id": "753d70e4",
   "metadata": {},
   "outputs": [
    {
     "data": {
      "text/plain": [
       "2"
      ]
     },
     "execution_count": 31,
     "metadata": {},
     "output_type": "execute_result"
    }
   ],
   "source": [
    "mode_ = statistics.mode(u)\n",
    "mode_"
   ]
  },
  {
   "cell_type": "code",
   "execution_count": 32,
   "id": "b3fe6493",
   "metadata": {},
   "outputs": [
    {
     "data": {
      "text/plain": [
       "ModeResult(mode=array([2]), count=array([2]))"
      ]
     },
     "execution_count": 32,
     "metadata": {},
     "output_type": "execute_result"
    }
   ],
   "source": [
    "u, v = np.array(u), np.array(v)\n",
    "\n",
    "mode_ = scipy.stats.mode(u)\n",
    "mode_"
   ]
  },
  {
   "cell_type": "code",
   "execution_count": 33,
   "id": "6f94bba1",
   "metadata": {},
   "outputs": [
    {
     "data": {
      "text/plain": [
       "ModeResult(mode=array([15]), count=array([3]))"
      ]
     },
     "execution_count": 33,
     "metadata": {},
     "output_type": "execute_result"
    }
   ],
   "source": [
    "mode_ = scipy.stats.mode(v)\n",
    "mode_"
   ]
  },
  {
   "cell_type": "code",
   "execution_count": 34,
   "id": "a2427ecb",
   "metadata": {},
   "outputs": [
    {
     "name": "stdout",
     "output_type": "stream",
     "text": [
      "[15]\n",
      "[3]\n"
     ]
    }
   ],
   "source": [
    "print(mode_.mode)\n",
    "print(mode_.count)"
   ]
  },
  {
   "cell_type": "code",
   "execution_count": 35,
   "id": "ddf9638b",
   "metadata": {},
   "outputs": [
    {
     "name": "stdout",
     "output_type": "stream",
     "text": [
      "0    2\n",
      "dtype: int32\n",
      "0    15\n",
      "dtype: int32\n",
      "0    2.0\n",
      "dtype: float64\n"
     ]
    }
   ],
   "source": [
    "u, v, w = pd.Series(u), pd.Series(v), pd.Series([2, 2, math.nan])\n",
    "\n",
    "print(u.mode())\n",
    "print(v.mode())\n",
    "print(w.mode())"
   ]
  },
  {
   "cell_type": "markdown",
   "id": "dff900ae",
   "metadata": {},
   "source": [
    "### Measures of Variability\n",
    "\n",
    "Measures of central tendency tidak cukup untuk menggambarkan data. Kita juga memerlukan ukuran variabilitas yang mengukur penyebaran titik data. Di bagian ini, kita akan mempelajari cara mengidentifikasi dan menghitung ukuran variabilitas berupa:\n",
    "\n",
    "- Variance\n",
    "- Standard Deviation\n",
    "- Skewness\n",
    "- Percentiles\n",
    "- Ranges\n",
    "\n",
    "Sample variance mengukur penyebaran data. Sample variance menunjukkan secara numerik seberapa jauh titik data dari mean. Kita dapat mengekspresikan varians sampel dari kumpulan data 𝑥 dengan 𝑛 elemen secara matematis sebagai 𝑠² = Σᵢ(𝑥ᵢ − mean(𝑥))² / (𝑛 − 1), di mana 𝑖 = 1, 2,…, 𝑛 dan mean (𝑥) adalah sample mean dari 𝑥."
   ]
  },
  {
   "cell_type": "code",
   "execution_count": 36,
   "id": "21f5b7ed",
   "metadata": {},
   "outputs": [
    {
     "data": {
      "text/plain": [
       "123.19999999999999"
      ]
     },
     "execution_count": 36,
     "metadata": {},
     "output_type": "execute_result"
    }
   ],
   "source": [
    "n = len(x)\n",
    "\n",
    "mean_ = sum(x) / n\n",
    "\n",
    "var_ = sum((item - mean_)**2 for item in x) / (n - 1)\n",
    "var_"
   ]
  },
  {
   "cell_type": "code",
   "execution_count": 37,
   "id": "faff6361",
   "metadata": {},
   "outputs": [
    {
     "data": {
      "text/plain": [
       "123.19999999999999"
      ]
     },
     "execution_count": 37,
     "metadata": {},
     "output_type": "execute_result"
    }
   ],
   "source": [
    "var_ = np.var(y, ddof=1)\n",
    "var_"
   ]
  },
  {
   "cell_type": "code",
   "execution_count": 38,
   "id": "118cd3ef",
   "metadata": {},
   "outputs": [
    {
     "data": {
      "text/plain": [
       "123.19999999999999"
      ]
     },
     "execution_count": 38,
     "metadata": {},
     "output_type": "execute_result"
    }
   ],
   "source": [
    "var_ = y.var(ddof=1)\n",
    "var_"
   ]
  },
  {
   "cell_type": "code",
   "execution_count": 39,
   "id": "9bd63d2a",
   "metadata": {},
   "outputs": [
    {
     "data": {
      "text/plain": [
       "123.19999999999999"
      ]
     },
     "execution_count": 39,
     "metadata": {},
     "output_type": "execute_result"
    }
   ],
   "source": [
    "# Objek pd.Series memiliki metode .var() yang mengabaikan nilai NaN secara default:\n",
    "\n",
    "z.var(ddof=1)"
   ]
  },
  {
   "cell_type": "markdown",
   "id": "2b87470b",
   "metadata": {},
   "source": [
    "### Standard Deviation\n",
    "\n",
    "Sample standard deviation adalah cara lain mengukur penyebaran data. Berhubungan dengan varians sampel, karena standard deviation, s, adalah positive square root dari sample variance, standard deviation seringkali lebih cocok daripada varians karena memiliki satuan yang sama dengan data points. Setelah kita mendapatkan variance, kita dapat menghitung deviasi standar dengan Python pure:"
   ]
  },
  {
   "cell_type": "code",
   "execution_count": 40,
   "id": "3e218899",
   "metadata": {},
   "outputs": [
    {
     "data": {
      "text/plain": [
       "11.099549540409285"
      ]
     },
     "execution_count": 40,
     "metadata": {},
     "output_type": "execute_result"
    }
   ],
   "source": [
    "std_ = var_ ** 0.5\n",
    "std_"
   ]
  },
  {
   "cell_type": "code",
   "execution_count": 41,
   "id": "f27f3aca",
   "metadata": {},
   "outputs": [
    {
     "data": {
      "text/plain": [
       "11.099549540409287"
      ]
     },
     "execution_count": 41,
     "metadata": {},
     "output_type": "execute_result"
    }
   ],
   "source": [
    "std_ = statistics.stdev(x)\n",
    "std_"
   ]
  },
  {
   "cell_type": "markdown",
   "id": "33b005ff",
   "metadata": {},
   "source": [
    "Tentu saja hasilnya sama seperti sebelumnya. Seperti variance(), stdev() tidak menghitung mean jika kita memberikannya secara eksplisit sebagai argumen kedua: statistics.stdev(x, mean_).\n",
    "\n",
    "Kita bisa mendapatkan standard deviation dengan NumPy dengan cara yang hampir sama. Kita dapat menggunakan fungsi std() dan method.std() untuk menghitung standard deviation. Jika ada nilai NaN dalam kumpulan data, maka akan mengembalikan NaN. Untuk mengabaikan nilai NaN, kita harus menggunakan np.nanstd()."
   ]
  },
  {
   "cell_type": "code",
   "execution_count": 42,
   "id": "273578d7",
   "metadata": {},
   "outputs": [
    {
     "data": {
      "text/plain": [
       "11.099549540409285"
      ]
     },
     "execution_count": 42,
     "metadata": {},
     "output_type": "execute_result"
    }
   ],
   "source": [
    "np.std(y, ddof=1)"
   ]
  },
  {
   "cell_type": "code",
   "execution_count": 43,
   "id": "22e39f61",
   "metadata": {},
   "outputs": [
    {
     "data": {
      "text/plain": [
       "11.099549540409285"
      ]
     },
     "execution_count": 43,
     "metadata": {},
     "output_type": "execute_result"
    }
   ],
   "source": [
    "y.std(ddof=1)"
   ]
  },
  {
   "cell_type": "code",
   "execution_count": 44,
   "id": "5ea70a29",
   "metadata": {},
   "outputs": [
    {
     "data": {
      "text/plain": [
       "11.099549540409285"
      ]
     },
     "execution_count": 44,
     "metadata": {},
     "output_type": "execute_result"
    }
   ],
   "source": [
    "# Objek pd.Series juga memiliki method .std() yang mengabaikan NaN secara default:\n",
    "\n",
    "z.std(ddof=1)"
   ]
  },
  {
   "cell_type": "markdown",
   "id": "93ab236f",
   "metadata": {},
   "source": [
    "### Skewness"
   ]
  },
  {
   "cell_type": "markdown",
   "id": "1e8a7efe",
   "metadata": {},
   "source": [
    "Sample skewness mengukur asimetri sampel data.\n",
    "\n",
    "Ada beberapa definisi matematis tentang skewness. Satu ekspresi umum untuk menghitung skewness kumpulan data 𝑥 dengan elemen 𝑛 adalah (𝑛² / ((𝑛 - 1) (𝑛 - 2))) (Σᵢ (𝑥ᵢ - mean (𝑥)) ³ / (𝑛𝑠³)). Ekspresi yang lebih sederhana adalah Σᵢ (𝑥ᵢ - mean (𝑥)) ³ 𝑛 / ((𝑛 - 1) (𝑛 - 2) 𝑠³), di mana 𝑖 = 1, 2,…, 𝑛 dan mean (𝑥) adalah mean sampel dari 𝑥. skewness yang didefinisikan seperti ini disebut adjusted Fisher-Pearson standardized moment coefficient."
   ]
  },
  {
   "cell_type": "code",
   "execution_count": 45,
   "id": "3012d69f",
   "metadata": {},
   "outputs": [],
   "source": [
    "x = [8.0, 1, 2.5, 4, 28.0]\n",
    "\n",
    "n = len(x)\n",
    "\n",
    "mean_ = sum(x) / n\n",
    "var_ = sum((item - mean_)**2 for item in x) / (n - 1)\n",
    "std_ = var_ ** 0.5\n",
    "\n",
    "skew_ = (sum((item - mean_)**3 for item in x) * n / ((n - 1) * (n - 2) * std_**3))"
   ]
  },
  {
   "cell_type": "code",
   "execution_count": 46,
   "id": "a4551af5",
   "metadata": {},
   "outputs": [
    {
     "data": {
      "text/plain": [
       "1.9470432273905929"
      ]
     },
     "execution_count": 46,
     "metadata": {},
     "output_type": "execute_result"
    }
   ],
   "source": [
    "skew_"
   ]
  },
  {
   "cell_type": "code",
   "execution_count": 47,
   "id": "2eff5598",
   "metadata": {},
   "outputs": [
    {
     "data": {
      "text/plain": [
       "1.9470432273905927"
      ]
     },
     "execution_count": 47,
     "metadata": {},
     "output_type": "execute_result"
    }
   ],
   "source": [
    "y, y_with_nan = np.array(x), np.array(x_with_nan)\n",
    "\n",
    "scipy.stats.skew(y, bias=False)"
   ]
  },
  {
   "cell_type": "code",
   "execution_count": 48,
   "id": "2acbe4d5",
   "metadata": {},
   "outputs": [
    {
     "data": {
      "text/plain": [
       "nan"
      ]
     },
     "execution_count": 48,
     "metadata": {},
     "output_type": "execute_result"
    }
   ],
   "source": [
    "scipy.stats.skew(y_with_nan, bias=False)"
   ]
  },
  {
   "cell_type": "code",
   "execution_count": 49,
   "id": "209a3b3e",
   "metadata": {},
   "outputs": [
    {
     "data": {
      "text/plain": [
       "1.9470432273905924"
      ]
     },
     "execution_count": 49,
     "metadata": {},
     "output_type": "execute_result"
    }
   ],
   "source": [
    "# Objek Pandas Series memiliki metode .skew() yang juga mengembalikan skewness kumpulan data:\n",
    "\n",
    "z, z_with_nan = pd.Series(x), pd.Series(x_with_nan)\n",
    "z.skew()"
   ]
  },
  {
   "cell_type": "code",
   "execution_count": 50,
   "id": "ee15bf74",
   "metadata": {},
   "outputs": [
    {
     "data": {
      "text/plain": [
       "1.9470432273905924"
      ]
     },
     "execution_count": 50,
     "metadata": {},
     "output_type": "execute_result"
    }
   ],
   "source": [
    "z_with_nan.skew()"
   ]
  },
  {
   "cell_type": "markdown",
   "id": "fad87e99",
   "metadata": {},
   "source": [
    "### Percentiles\n",
    "\n",
    "**sample 𝑝 percentile** adalah elemen dalam kumpulan data sehingga 𝑝% elemen dalam kumpulan data kurang dari atau sama dengan nilai tersebut. Juga, (100 - 𝑝)% elemen lebih besar dari atau sama dengan nilai tersebut. \n",
    "\n",
    "Jika ada dua elemen seperti itu dalam kumpulan data, maka persentil 𝑝 sampel adalah arithmetic mean mereka. \n",
    "\n",
    "Tiap dataset memiliki tiga quartiles, yang merupakan persentil yang membagi dataset menjadi empat bagian:\n",
    "\n",
    "- **First quartile** adalah sampel persentil ke-25. Kuartil pertama membagi sekitar 25% item terkecil dari kumpulan data lainnya.\n",
    "- **Second quartile** adalah sampel persentil ke-50 atau median. Kira-kira 25% item terletak di antara kuartil pertama dan kedua dan 25% lainnya antara kuartil kedua dan ketiga.\n",
    "- **Third quartile** adalah sampel persentil ke-75. Kuartil ketiga membagi sekitar 25% item terbesar dari sisa kumpulan data.\n",
    "\n",
    "Jika kita ingin membagi data kita menjadi beberapa interval, maka kita dapat menggunakan `statistics.quantiles():`"
   ]
  },
  {
   "cell_type": "code",
   "execution_count": 51,
   "id": "8f3b6fef",
   "metadata": {},
   "outputs": [
    {
     "data": {
      "text/plain": [
       "[8.0]"
      ]
     },
     "execution_count": 51,
     "metadata": {},
     "output_type": "execute_result"
    }
   ],
   "source": [
    "x = [-5.0, -1.1, 0.1, 2.0, 8.0, 12.8, 21.0, 25.8, 41.0]\n",
    "statistics.quantiles(x, n=2)"
   ]
  },
  {
   "cell_type": "code",
   "execution_count": 52,
   "id": "3128c996",
   "metadata": {},
   "outputs": [
    {
     "data": {
      "text/plain": [
       "[0.1, 8.0, 21.0]"
      ]
     },
     "execution_count": 52,
     "metadata": {},
     "output_type": "execute_result"
    }
   ],
   "source": [
    "statistics.quantiles(x, n=4, method='inclusive')"
   ]
  },
  {
   "cell_type": "markdown",
   "id": "f6d33b3b",
   "metadata": {},
   "source": [
    "Kita juga dapat menggunakan `np.percentile()` untuk menentukan persentil sampel apapun dalam kumpulan data kita. Misalnya, ini cara kita mencari persentil ke-5 dan ke-95."
   ]
  },
  {
   "cell_type": "code",
   "execution_count": 53,
   "id": "68591408",
   "metadata": {},
   "outputs": [
    {
     "data": {
      "text/plain": [
       "-3.44"
      ]
     },
     "execution_count": 53,
     "metadata": {},
     "output_type": "execute_result"
    }
   ],
   "source": [
    "y = np.array(x)\n",
    "np.percentile(y, 5)"
   ]
  },
  {
   "cell_type": "code",
   "execution_count": 54,
   "id": "eeb6c3ec",
   "metadata": {},
   "outputs": [
    {
     "data": {
      "text/plain": [
       "34.919999999999995"
      ]
     },
     "execution_count": 54,
     "metadata": {},
     "output_type": "execute_result"
    }
   ],
   "source": [
    "np.percentile(y, 95)"
   ]
  },
  {
   "cell_type": "markdown",
   "id": "f2776c38",
   "metadata": {},
   "source": [
    "`percentile()` membutuhkan beberapa argumen. Kita harus menyediakan dataset sebagai argumen pertama dan nilai persentil sebagai yang kedua. Dataset dapat berupa array NumPy, list, tuple, atau struktur data serupa. Persentil bisa berupa angka antara 0 dan 100 seperti pada contoh di atas, tetapi bisa juga berupa urutan angka:"
   ]
  },
  {
   "cell_type": "code",
   "execution_count": 55,
   "id": "7ca341f4",
   "metadata": {},
   "outputs": [
    {
     "data": {
      "text/plain": [
       "array([ 0.1,  8. , 21. ])"
      ]
     },
     "execution_count": 55,
     "metadata": {},
     "output_type": "execute_result"
    }
   ],
   "source": [
    "np.percentile(y, [25, 50, 75])"
   ]
  },
  {
   "cell_type": "code",
   "execution_count": 56,
   "id": "ae6f6921",
   "metadata": {},
   "outputs": [
    {
     "data": {
      "text/plain": [
       "8.0"
      ]
     },
     "execution_count": 56,
     "metadata": {},
     "output_type": "execute_result"
    }
   ],
   "source": [
    "np.median(y)"
   ]
  },
  {
   "cell_type": "markdown",
   "id": "7a833056",
   "metadata": {},
   "source": [
    "Kode tersebut menghitung persentil ke-25, ke-50, ke-75 sekaligus. Jika nilai persentil adalah sebuah urutan, maka `percentile()` mengembalikan array NumPy dengan hasilnya. Statement pertama mengembalikan array quartiles. Pernyataan kedua mengembalikan median, sehingga kita dapat mengonfirmasi bahwa itu sama dengan persentil ke-50, yaitu `8.0`.\n",
    "\n",
    "Jika kita ingin mengabaikan nilai NaN, gunakan np.nanpercentile() sebagai gantinya:"
   ]
  },
  {
   "cell_type": "code",
   "execution_count": 57,
   "id": "9b2aa5a4",
   "metadata": {},
   "outputs": [
    {
     "data": {
      "text/plain": [
       "array([-5. , -1.1,  nan,  0.1,  2. ,  8. , 12.8, 21. , 25.8, 41. ])"
      ]
     },
     "execution_count": 57,
     "metadata": {},
     "output_type": "execute_result"
    }
   ],
   "source": [
    "y_with_nan = np.insert(y, 2, np.nan)\n",
    "y_with_nan"
   ]
  },
  {
   "cell_type": "code",
   "execution_count": 58,
   "id": "50b9b8c5",
   "metadata": {},
   "outputs": [
    {
     "data": {
      "text/plain": [
       "array([ 0.1,  8. , 21. ])"
      ]
     },
     "execution_count": 58,
     "metadata": {},
     "output_type": "execute_result"
    }
   ],
   "source": [
    "np.nanpercentile(y_with_nan, [25, 50, 75])"
   ]
  },
  {
   "cell_type": "markdown",
   "id": "52a91494",
   "metadata": {},
   "source": [
    "Begitulah cara kita menghindari nilai NaN.\n",
    "\n",
    "NumPy juga menawarkan fungsionalitas yang sangat mirip di `quantile()` dan `nanquantile()`. Jika kita ingin menggunakannya, kita harus memberikan nilai-nilai kuantitatif sebagai angka antara 0 dan 1, bukan persentil:"
   ]
  },
  {
   "cell_type": "code",
   "execution_count": 59,
   "id": "0ad17f67",
   "metadata": {},
   "outputs": [
    {
     "data": {
      "text/plain": [
       "-3.44"
      ]
     },
     "execution_count": 59,
     "metadata": {},
     "output_type": "execute_result"
    }
   ],
   "source": [
    "np.quantile(y, 0.05)"
   ]
  },
  {
   "cell_type": "code",
   "execution_count": 60,
   "id": "4b27b223",
   "metadata": {},
   "outputs": [
    {
     "data": {
      "text/plain": [
       "34.919999999999995"
      ]
     },
     "execution_count": 60,
     "metadata": {},
     "output_type": "execute_result"
    }
   ],
   "source": [
    "np.quantile(y, 0.95)"
   ]
  },
  {
   "cell_type": "code",
   "execution_count": 61,
   "id": "1fc81eaf",
   "metadata": {},
   "outputs": [
    {
     "data": {
      "text/plain": [
       "array([ 0.1,  8. , 21. ])"
      ]
     },
     "execution_count": 61,
     "metadata": {},
     "output_type": "execute_result"
    }
   ],
   "source": [
    "np.quantile(y, [0.25, 0.5, 0.75])"
   ]
  },
  {
   "cell_type": "code",
   "execution_count": 62,
   "id": "85bc98d3",
   "metadata": {},
   "outputs": [
    {
     "data": {
      "text/plain": [
       "array([ 0.1,  8. , 21. ])"
      ]
     },
     "execution_count": 62,
     "metadata": {},
     "output_type": "execute_result"
    }
   ],
   "source": [
    "np.nanquantile(y_with_nan, [0.25, 0.5, 0.75])"
   ]
  },
  {
   "cell_type": "markdown",
   "id": "0c2622b0",
   "metadata": {},
   "source": [
    "Hasilnya sama seperti pada contoh sebelumnya, tetapi di sini argumen kita antara 0 dan 1. Dengan kata lain, kita memberikan 0.05 daripada 5 dan 0.95 dari pada 95.\n",
    "\n",
    "pd.Series objek memiliki method `.quantile()`"
   ]
  },
  {
   "cell_type": "code",
   "execution_count": 63,
   "id": "2d664f23",
   "metadata": {},
   "outputs": [
    {
     "data": {
      "text/plain": [
       "-3.44"
      ]
     },
     "execution_count": 63,
     "metadata": {},
     "output_type": "execute_result"
    }
   ],
   "source": [
    "z, z_with_nan = pd.Series(y), pd.Series(y_with_nan)\n",
    "z.quantile(0.05)"
   ]
  },
  {
   "cell_type": "code",
   "execution_count": 64,
   "id": "a92dc405",
   "metadata": {},
   "outputs": [
    {
     "data": {
      "text/plain": [
       "34.919999999999995"
      ]
     },
     "execution_count": 64,
     "metadata": {},
     "output_type": "execute_result"
    }
   ],
   "source": [
    "z.quantile(0.95)"
   ]
  },
  {
   "cell_type": "code",
   "execution_count": 65,
   "id": "8c3067eb",
   "metadata": {},
   "outputs": [
    {
     "data": {
      "text/plain": [
       "0.25     0.1\n",
       "0.50     8.0\n",
       "0.75    21.0\n",
       "dtype: float64"
      ]
     },
     "execution_count": 65,
     "metadata": {},
     "output_type": "execute_result"
    }
   ],
   "source": [
    "z.quantile([0.25, 0.5, 0.75])"
   ]
  },
  {
   "cell_type": "code",
   "execution_count": 66,
   "id": "38284847",
   "metadata": {},
   "outputs": [
    {
     "data": {
      "text/plain": [
       "0.25     0.1\n",
       "0.50     8.0\n",
       "0.75    21.0\n",
       "dtype: float64"
      ]
     },
     "execution_count": 66,
     "metadata": {},
     "output_type": "execute_result"
    }
   ],
   "source": [
    "z_with_nan.quantile([0.25, 0.5, 0.75])"
   ]
  },
  {
   "cell_type": "markdown",
   "id": "4ee412ca",
   "metadata": {},
   "source": [
    "`.quantile()` juga membutuhkan kita untuk memberikan nilai quantile sebagai argumennya. Nilai ini bisa berupa angka antara 0 dan 1 urutan angka. Dalam kasus pertama, `.quantile()` mengembalikan skalar. Dalam kasus kedua, ia mengembalikan Series baru."
   ]
  },
  {
   "cell_type": "markdown",
   "id": "90a57a99",
   "metadata": {},
   "source": [
    "### Ranges\n",
    "\n",
    "Rentang data/range data adalah perbedaan antara elemen maksimum dan minimum dalam kumpulan data. Kita bisa mendapatkannya dengan fungsi `np.ptp()`:"
   ]
  },
  {
   "cell_type": "code",
   "execution_count": 67,
   "id": "f3b404d3",
   "metadata": {},
   "outputs": [
    {
     "data": {
      "text/plain": [
       "46.0"
      ]
     },
     "execution_count": 67,
     "metadata": {},
     "output_type": "execute_result"
    }
   ],
   "source": [
    "np.ptp(y)"
   ]
  },
  {
   "cell_type": "code",
   "execution_count": 68,
   "id": "0c3c6b9b",
   "metadata": {},
   "outputs": [
    {
     "data": {
      "text/plain": [
       "46.0"
      ]
     },
     "execution_count": 68,
     "metadata": {},
     "output_type": "execute_result"
    }
   ],
   "source": [
    "np.ptp(z)"
   ]
  },
  {
   "cell_type": "code",
   "execution_count": 69,
   "id": "4794707b",
   "metadata": {},
   "outputs": [
    {
     "data": {
      "text/plain": [
       "nan"
      ]
     },
     "execution_count": 69,
     "metadata": {},
     "output_type": "execute_result"
    }
   ],
   "source": [
    "np.ptp(y_with_nan)"
   ]
  },
  {
   "cell_type": "code",
   "execution_count": 70,
   "id": "169f1df1",
   "metadata": {},
   "outputs": [
    {
     "data": {
      "text/plain": [
       "nan"
      ]
     },
     "execution_count": 70,
     "metadata": {},
     "output_type": "execute_result"
    }
   ],
   "source": [
    "np.ptp(z_with_nan)"
   ]
  },
  {
   "cell_type": "markdown",
   "id": "fd774766",
   "metadata": {},
   "source": [
    "Fungsi ini mengembalikan NaN jika ada nilai NaN dalam array NumPy kita. Jika kita menggunakan objek Pandas Series, maka itu akan mengembalikan angka.\n",
    "\n",
    "Sebagai alternatif, kita dapat menggunakan fungsi dan method Python, NumPy, atau Pandas bawaan untuk menghitung maksimum dan minimum:\n",
    "\n",
    "- `max()` dan `min()` dari pustaka standar Python.\n",
    "- `amax()` dan `amin()` dari pustaka NumPy.\n",
    "- `nanmax()` dan `nanmin()` dari pustaka NumPy untuk tidak menghiraukan nilai `NaN`.\n",
    "- `.max()` dan `.min()` dari pustaka NumPy.\n",
    "- `max()` dan `min()` dari pustaka Pandas untuk tidak menghiraukan nilai `NaN` secara default."
   ]
  },
  {
   "cell_type": "code",
   "execution_count": 71,
   "id": "b42aac14",
   "metadata": {},
   "outputs": [
    {
     "data": {
      "text/plain": [
       "46.0"
      ]
     },
     "execution_count": 71,
     "metadata": {},
     "output_type": "execute_result"
    }
   ],
   "source": [
    "np.amax(y) - np.amin(y)"
   ]
  },
  {
   "cell_type": "code",
   "execution_count": 72,
   "id": "cee53534",
   "metadata": {},
   "outputs": [
    {
     "data": {
      "text/plain": [
       "46.0"
      ]
     },
     "execution_count": 72,
     "metadata": {},
     "output_type": "execute_result"
    }
   ],
   "source": [
    "np.nanmax(y_with_nan) - np.nanmin(y_with_nan)"
   ]
  },
  {
   "cell_type": "code",
   "execution_count": 73,
   "id": "d47b5fc2",
   "metadata": {},
   "outputs": [
    {
     "data": {
      "text/plain": [
       "46.0"
      ]
     },
     "execution_count": 73,
     "metadata": {},
     "output_type": "execute_result"
    }
   ],
   "source": [
    "y.max() - y.min()"
   ]
  },
  {
   "cell_type": "code",
   "execution_count": 74,
   "id": "93cbc025",
   "metadata": {},
   "outputs": [
    {
     "data": {
      "text/plain": [
       "46.0"
      ]
     },
     "execution_count": 74,
     "metadata": {},
     "output_type": "execute_result"
    }
   ],
   "source": [
    "z.max() - z.min()"
   ]
  },
  {
   "cell_type": "code",
   "execution_count": 75,
   "id": "a0d54027",
   "metadata": {},
   "outputs": [
    {
     "data": {
      "text/plain": [
       "46.0"
      ]
     },
     "execution_count": 75,
     "metadata": {},
     "output_type": "execute_result"
    }
   ],
   "source": [
    "z_with_nan.max() - z_with_nan.min()"
   ]
  },
  {
   "cell_type": "markdown",
   "id": "69be6ca0",
   "metadata": {},
   "source": [
    "**Interquartile range** adalah perbedaan antara kuartil pertama dan ketiga. Setelah kita menghitung kuartil, kita dapat mengambil selisihnya:"
   ]
  },
  {
   "cell_type": "code",
   "execution_count": 76,
   "id": "663cdf13",
   "metadata": {},
   "outputs": [
    {
     "data": {
      "text/plain": [
       "20.9"
      ]
     },
     "execution_count": 76,
     "metadata": {},
     "output_type": "execute_result"
    }
   ],
   "source": [
    "quartiles = np.quantile(y, [0.25, 0.75])\n",
    "quartiles[1] - quartiles[0]"
   ]
  },
  {
   "cell_type": "code",
   "execution_count": 77,
   "id": "19f6fdc3",
   "metadata": {},
   "outputs": [
    {
     "data": {
      "text/plain": [
       "20.9"
      ]
     },
     "execution_count": 77,
     "metadata": {},
     "output_type": "execute_result"
    }
   ],
   "source": [
    "quartiles = z.quantile([0.25, 0.75])\n",
    "quartiles[0.75] - quartiles[0.25]"
   ]
  },
  {
   "cell_type": "markdown",
   "id": "6ff8d32f",
   "metadata": {},
   "source": [
    "## Summary of Descriptive Statistics\n",
    "\n",
    "SciPy dan Pandas menawarkan function yang berguna untuk mendapatkan descriptive statistics dengan cepat dengan satu panggilan fungsi atau method. Kita dapat menggunakan scipy.stats.describe()"
   ]
  },
  {
   "cell_type": "code",
   "execution_count": 78,
   "id": "44017aa1",
   "metadata": {},
   "outputs": [
    {
     "data": {
      "text/plain": [
       "DescribeResult(nobs=9, minmax=(-5.0, 41.0), mean=11.622222222222222, variance=228.75194444444446, skewness=0.9249043136685094, kurtosis=0.14770623629658886)"
      ]
     },
     "execution_count": 78,
     "metadata": {},
     "output_type": "execute_result"
    }
   ],
   "source": [
    "result = scipy.stats.describe(y, ddof=1, bias=False)\n",
    "result"
   ]
  },
  {
   "cell_type": "markdown",
   "id": "8d2c2d48",
   "metadata": {},
   "source": [
    "Kita harus memberikan dataset sebagai argumen pertama. Argumennya bisa berupa array NumPy, list, tuple, atau struktur data serupa. Kita dapat menghilang `ddof=1` karena adalah default dan hanya penting saat kita menghitung varians. Kita bisa meneruskan `bias=False` untuk memaksa mengoreksi skewness dan kurtosis untuk statistical bias.\n",
    "\n",
    "`describe()` mengembalikan objek yang berupa descriptive statistics berikut:\n",
    "- `nobs`: The number of observations or elements in your dataset.\n",
    "- `minmax`: The tuple with the minimum and maximum values of your dataset.\n",
    "- `mean`: The mean of your dataset.\n",
    "- `variance`: The variance of your dataset.\n",
    "- `skewness`: The skewness of your dataset.\n",
    "- `kurtosis`: The kurtosis of your dataset.\n",
    "\n",
    "Kita dapat mengakses nilai tertentu dengan dot notation:"
   ]
  },
  {
   "cell_type": "code",
   "execution_count": 79,
   "id": "d933d10b",
   "metadata": {},
   "outputs": [
    {
     "data": {
      "text/plain": [
       "9"
      ]
     },
     "execution_count": 79,
     "metadata": {},
     "output_type": "execute_result"
    }
   ],
   "source": [
    "result.nobs"
   ]
  },
  {
   "cell_type": "code",
   "execution_count": 80,
   "id": "b8e708d0",
   "metadata": {},
   "outputs": [
    {
     "data": {
      "text/plain": [
       "-5.0"
      ]
     },
     "execution_count": 80,
     "metadata": {},
     "output_type": "execute_result"
    }
   ],
   "source": [
    "result.minmax[0] # Min"
   ]
  },
  {
   "cell_type": "code",
   "execution_count": 81,
   "id": "6ae43e9f",
   "metadata": {},
   "outputs": [
    {
     "data": {
      "text/plain": [
       "41.0"
      ]
     },
     "execution_count": 81,
     "metadata": {},
     "output_type": "execute_result"
    }
   ],
   "source": [
    "result.minmax[1] # Max"
   ]
  },
  {
   "cell_type": "code",
   "execution_count": 82,
   "id": "7ac6ec8a",
   "metadata": {},
   "outputs": [
    {
     "data": {
      "text/plain": [
       "11.622222222222222"
      ]
     },
     "execution_count": 82,
     "metadata": {},
     "output_type": "execute_result"
    }
   ],
   "source": [
    "result.mean"
   ]
  },
  {
   "cell_type": "code",
   "execution_count": 83,
   "id": "1ed498ad",
   "metadata": {},
   "outputs": [
    {
     "data": {
      "text/plain": [
       "228.75194444444446"
      ]
     },
     "execution_count": 83,
     "metadata": {},
     "output_type": "execute_result"
    }
   ],
   "source": [
    "result.variance"
   ]
  },
  {
   "cell_type": "code",
   "execution_count": 84,
   "id": "63af46b7",
   "metadata": {},
   "outputs": [
    {
     "data": {
      "text/plain": [
       "0.9249043136685094"
      ]
     },
     "execution_count": 84,
     "metadata": {},
     "output_type": "execute_result"
    }
   ],
   "source": [
    "result.skewness"
   ]
  },
  {
   "cell_type": "code",
   "execution_count": 85,
   "id": "18faa12a",
   "metadata": {},
   "outputs": [
    {
     "data": {
      "text/plain": [
       "0.14770623629658886"
      ]
     },
     "execution_count": 85,
     "metadata": {},
     "output_type": "execute_result"
    }
   ],
   "source": [
    "result.kurtosis"
   ]
  },
  {
   "cell_type": "code",
   "execution_count": 86,
   "id": "eacf2f3a",
   "metadata": {},
   "outputs": [
    {
     "data": {
      "text/plain": [
       "count     9.000000\n",
       "mean     11.622222\n",
       "std      15.124548\n",
       "min      -5.000000\n",
       "25%       0.100000\n",
       "50%       8.000000\n",
       "75%      21.000000\n",
       "max      41.000000\n",
       "dtype: float64"
      ]
     },
     "execution_count": 86,
     "metadata": {},
     "output_type": "execute_result"
    }
   ],
   "source": [
    "# Pandas memiliki fungsi yang serupa. Objek series memiliki metode .describe():\n",
    "\n",
    "result = z.describe()\n",
    "result"
   ]
  },
  {
   "cell_type": "markdown",
   "id": "691455f3",
   "metadata": {},
   "source": [
    "Mengembalikan Series baru yang menampung nilai berikut:\n",
    "- `count`: The number of elements in your dataset.\n",
    "- `mean`: The mean of your dataset\n",
    "- `std`: The standard deviation of your dataset\n",
    "- `min` and `max`: The minimum and maximum values of your dataset.\n",
    "- `25%`, `50%`, `75%`: The quartiles of your dataset.\n",
    "\n",
    "Jika kita ingin objek Series yang dihasilkan berisi persentil lain, kita harus menentukan nilai `percentiles` parameter opsional. Kita dapat mengakses setiap item `result` dengan labelnya:"
   ]
  },
  {
   "cell_type": "code",
   "execution_count": 87,
   "id": "b3c64fb5",
   "metadata": {},
   "outputs": [
    {
     "name": "stdout",
     "output_type": "stream",
     "text": [
      "11.622222222222222\n",
      "15.12454774346805\n",
      "-5.0\n",
      "41.0\n",
      "0.1\n",
      "8.0\n",
      "21.0\n"
     ]
    }
   ],
   "source": [
    "print(result['mean'])\n",
    "print(result['std'])\n",
    "print(result['min'])\n",
    "print(result['max'])\n",
    "print(result['25%'])\n",
    "print(result['50%'])\n",
    "print(result['75%'])"
   ]
  },
  {
   "cell_type": "markdown",
   "id": "8892faac",
   "metadata": {},
   "source": [
    "### Measures of Correlation Between Pairs of Data\n",
    "\n",
    "Kita sering kali perlu memeriksa hubungan/relation antara elemen yang sesuai dari dua variabel dalam kumpulan data. Katakanlah ada dua variabel, 𝑥 dan 𝑦, dengan jumlah elemen yang sama, 𝑛. Misalkan 𝑥₁ dari 𝑥 sesuai dengan 𝑦₁ dari 𝑦, 𝑥₂ dari 𝑥 ke 𝑦₂ dari 𝑦, dan seterusnya. Kita kemudian dapat mengatakan bahwa ada 𝑛 pasang elemen yang sesuai: (𝑥₁, 𝑦₁), (𝑥₂, 𝑦₂), dan seterusnya.\n",
    "\n",
    "Kita  akan melihat **measures of correlation** antara pasangan data berikut:\n",
    "\n",
    "- **Positive correlation** exists when larger values of 𝑥 correspond to larger values of 𝑦 and vice versa.\n",
    "- **Negative correlation** exists when larger values of 𝑥 correspond to smaller values of 𝑦 and vice versa.\n",
    "- **Weak or no correlation exists** if there is no such apparent relationship."
   ]
  },
  {
   "cell_type": "code",
   "execution_count": 88,
   "id": "1d108456",
   "metadata": {},
   "outputs": [],
   "source": [
    "x = list(range(-10, 11))\n",
    "y = [0, 2, 2, 2, 2, 3, 3, 6, 7, 4, 7, 6, 6, 9, 4, 5, 5, 10, 11, 12, 14]\n",
    "x_, y_ = np.array(x), np.array(y)\n",
    "x__, y__ = pd.Series(x_), pd.Series(y_)"
   ]
  },
  {
   "cell_type": "markdown",
   "id": "97f1ce92",
   "metadata": {},
   "source": [
    "### Covariance\n",
    "\n",
    "**Sample covariance** adalah ukuran yang mengukur kekuatan dan arah hubungan antara sepasang variabel:\n",
    "\n",
    "- **If the correlation is positive**, then the covariance is positive, as well. A stronger relationship corresponds to a higher value of the covariance.\n",
    "- **If the correlation is negative**, then the covariance is negative, as well. A stronger relationship corresponds to a lower (or higher absolute) value of the covariance.\n",
    "- **If the correlation is weak**, then the covariance is close to zero.\n",
    "\n",
    "Covariance variabel 𝑥 dan 𝑦 secara matematis didefinisikan sebagai 𝑠ˣʸ = Σᵢ (𝑥ᵢ − mean(𝑥)) (𝑦ᵢ − mean(𝑦)) / (𝑛 − 1), di mana 𝑖 = 1, 2,…, 𝑛, mean (𝑥) adalah sample mean dari 𝑥, dan mean (𝑦) adalah sample mean dari 𝑦. Oleh karena itu, covariance dua variabel identik sebenarnya adalah varians: 𝑠ˣˣ = Σᵢ (𝑥ᵢ - mean (𝑥)) ² / (𝑛 - 1) = (𝑠ˣ) ² dan 𝑠ʸʸ = Σᵢ (𝑦ᵢ - mean (𝑦)) ² / (𝑛 - 1) = (𝑠ʸ) ²."
   ]
  },
  {
   "cell_type": "code",
   "execution_count": 89,
   "id": "f7f20263",
   "metadata": {},
   "outputs": [
    {
     "data": {
      "text/plain": [
       "19.95"
      ]
     },
     "execution_count": 89,
     "metadata": {},
     "output_type": "execute_result"
    }
   ],
   "source": [
    "n = len(x)\n",
    "mean_x, mean_y = sum(x) / n, sum(y) / n\n",
    "cov_xy = (sum((x[k] - mean_x) * (y[k] - mean_y) for k in range(n))/ (n - 1))\n",
    "cov_xy"
   ]
  },
  {
   "cell_type": "markdown",
   "id": "3c9df1a2",
   "metadata": {},
   "source": [
    "Pertama, kita harus mencari nilai mean dari x dan y. Kemudian, kita menerapkan rumus matematika untuk covariance.\n",
    "\n",
    "NumPy memiliki fungsi cov() yang mengembalikan **covariance matrix**:"
   ]
  },
  {
   "cell_type": "code",
   "execution_count": 90,
   "id": "2c9aea33",
   "metadata": {},
   "outputs": [
    {
     "data": {
      "text/plain": [
       "array([[38.5       , 19.95      ],\n",
       "       [19.95      , 13.91428571]])"
      ]
     },
     "execution_count": 90,
     "metadata": {},
     "output_type": "execute_result"
    }
   ],
   "source": [
    "cov_matrix = np.cov(x_, y_)\n",
    "cov_matrix"
   ]
  },
  {
   "cell_type": "code",
   "execution_count": 91,
   "id": "b8376e59",
   "metadata": {},
   "outputs": [
    {
     "data": {
      "text/plain": [
       "38.5"
      ]
     },
     "execution_count": 91,
     "metadata": {},
     "output_type": "execute_result"
    }
   ],
   "source": [
    "x_.var(ddof=1)"
   ]
  },
  {
   "cell_type": "code",
   "execution_count": 92,
   "id": "ad153648",
   "metadata": {},
   "outputs": [
    {
     "data": {
      "text/plain": [
       "13.914285714285711"
      ]
     },
     "execution_count": 92,
     "metadata": {},
     "output_type": "execute_result"
    }
   ],
   "source": [
    "y_.var(ddof=1)"
   ]
  },
  {
   "cell_type": "markdown",
   "id": "3aa6044a",
   "metadata": {},
   "source": [
    "Seperti yang kita lihat, varians dari x dan y sama dengan `cov_matrix[0, 0]` dan `cov_matrix[1, 1]`\n",
    "\n",
    "Dua elemen lain dari covariance matrix adalah sama dan mewakili covariance aktual antara x dan y:"
   ]
  },
  {
   "cell_type": "code",
   "execution_count": 93,
   "id": "b7b15310",
   "metadata": {},
   "outputs": [
    {
     "data": {
      "text/plain": [
       "19.95"
      ]
     },
     "execution_count": 93,
     "metadata": {},
     "output_type": "execute_result"
    }
   ],
   "source": [
    "cov_xy = cov_matrix[0, 1]\n",
    "cov_xy"
   ]
  },
  {
   "cell_type": "code",
   "execution_count": 94,
   "id": "56d39e60",
   "metadata": {},
   "outputs": [
    {
     "data": {
      "text/plain": [
       "19.95"
      ]
     },
     "execution_count": 94,
     "metadata": {},
     "output_type": "execute_result"
    }
   ],
   "source": [
    "cov_xy = cov_matrix[1, 0]\n",
    "cov_xy"
   ]
  },
  {
   "cell_type": "code",
   "execution_count": 95,
   "id": "2c19389e",
   "metadata": {},
   "outputs": [
    {
     "data": {
      "text/plain": [
       "19.95"
      ]
     },
     "execution_count": 95,
     "metadata": {},
     "output_type": "execute_result"
    }
   ],
   "source": [
    "# Series Pandas memiliki metode .cov() yang dapat digunakan untuk menghitung kovarian\n",
    "\n",
    "cov_xy = x__.cov(y__)\n",
    "cov_xy"
   ]
  },
  {
   "cell_type": "code",
   "execution_count": 96,
   "id": "cade474c",
   "metadata": {},
   "outputs": [
    {
     "data": {
      "text/plain": [
       "19.95"
      ]
     },
     "execution_count": 96,
     "metadata": {},
     "output_type": "execute_result"
    }
   ],
   "source": [
    "cov_xy = y__.cov(x__)\n",
    "cov_xy"
   ]
  },
  {
   "cell_type": "markdown",
   "id": "bb47ce39",
   "metadata": {},
   "source": [
    "### Correlation Coefficient\n",
    "\n",
    "**Correlation coefficient**, atau **Pearson product-moment correlation coefficient**, dilambangkan dengan simbol _r_. Coefficient adalah ukuran lain dari korelasi antar data. Kita dapat menganggapnya sebagai standardized covariance. Berikut beberapa infonya:\n",
    "\n",
    "- **The value 𝑟 > 0** indicates positive correlation.\n",
    "- **The value 𝑟 < 0** indicates negative correlation.\n",
    "- **The value r = 1** is the maximum possible value of 𝑟. It corresponds to a perfect positive linear relationship between variables.\n",
    "- **The value r = −1** is the minimum possible value of 𝑟. It corresponds to a perfect negative linear relationship between variables.\n",
    "- **The value r ≈ 0**, or when 𝑟 is around zero, means that the correlation between variables is weak.\n",
    "\n",
    "\n",
    "Rumus matematika untuk correlation coefficient adalah 𝑟 = 𝑠ˣʸ / (𝑠ˣ𝑠ʸ) di mana 𝑠ˣ dan 𝑠ʸ masing-masing adalah standard deviations dari 𝑦 dan 𝑦. Jika kita memiliki mean (mean_x dan mean_y) dan standard deviations (std_x, std_y) untuk dataset x dan y, serta covariannya cov_xy, maka kita dapat menghitung correlation coefficient dengan Python pure:"
   ]
  },
  {
   "cell_type": "code",
   "execution_count": 97,
   "id": "a9b3beac",
   "metadata": {},
   "outputs": [
    {
     "data": {
      "text/plain": [
       "0.861950005631606"
      ]
     },
     "execution_count": 97,
     "metadata": {},
     "output_type": "execute_result"
    }
   ],
   "source": [
    "var_x = sum((item - mean_x)**2 for item in x) / (n - 1)\n",
    "var_y = sum((item - mean_y)**2 for item in y) / (n - 1)\n",
    "std_x, std_y = var_x ** 0.5, var_y ** 0.5\n",
    "r = cov_xy / (std_x * std_y)\n",
    "r"
   ]
  },
  {
   "cell_type": "markdown",
   "id": "506515ce",
   "metadata": {},
   "source": [
    "Kita mendapatkan variabel r yang mewakili coefficient.\n",
    "\n",
    "`scipy.stats` memiliki `pearsonr()` yang menghitung correlation coefficient dan the _p_-value:"
   ]
  },
  {
   "cell_type": "code",
   "execution_count": 98,
   "id": "636c0a2c",
   "metadata": {},
   "outputs": [
    {
     "data": {
      "text/plain": [
       "0.861950005631606"
      ]
     },
     "execution_count": 98,
     "metadata": {},
     "output_type": "execute_result"
    }
   ],
   "source": [
    "r, p = scipy.stats.pearsonr(x_, y_)\n",
    "r"
   ]
  },
  {
   "cell_type": "code",
   "execution_count": 99,
   "id": "eca4446b",
   "metadata": {},
   "outputs": [
    {
     "data": {
      "text/plain": [
       "5.122760847201171e-07"
      ]
     },
     "execution_count": 99,
     "metadata": {},
     "output_type": "execute_result"
    }
   ],
   "source": [
    "p"
   ]
  },
  {
   "cell_type": "markdown",
   "id": "b154cdf3",
   "metadata": {},
   "source": [
    "`pearsonr()` mengembalikan tuple dengan dua angka. Yang pertama adalah _r_ dan yang kedua adalah _p_-value.\n",
    "\n",
    "Mirip dengan kasus covariance matrix, kita dapat menerapkan np.corrcoef() dengan x_ dan y_ sebagai argumen dan mendapatkan **correlation coefficient matrix**:"
   ]
  },
  {
   "cell_type": "code",
   "execution_count": 100,
   "id": "a6debbfd",
   "metadata": {},
   "outputs": [
    {
     "data": {
      "text/plain": [
       "array([[1.        , 0.86195001],\n",
       "       [0.86195001, 1.        ]])"
      ]
     },
     "execution_count": 100,
     "metadata": {},
     "output_type": "execute_result"
    }
   ],
   "source": [
    "corr_matrix = np.corrcoef(x_, y_)\n",
    "corr_matrix"
   ]
  },
  {
   "cell_type": "markdown",
   "id": "693bd18c",
   "metadata": {},
   "source": [
    "Elemen kiri atas adalah correlation coefficient antara x_ dan x_. Elemen kanan bawah adalah correlation coefficient antara y_ dan y_. Nilainya sama dengan 1.0. Dua elemen lainnya sama dan mewakili koefisien korelasi aktual antara x_ dan y_:"
   ]
  },
  {
   "cell_type": "code",
   "execution_count": 101,
   "id": "337a034e",
   "metadata": {},
   "outputs": [
    {
     "data": {
      "text/plain": [
       "0.8619500056316061"
      ]
     },
     "execution_count": 101,
     "metadata": {},
     "output_type": "execute_result"
    }
   ],
   "source": [
    "r = corr_matrix[0, 1]\n",
    "r"
   ]
  },
  {
   "cell_type": "code",
   "execution_count": 102,
   "id": "5fab954a",
   "metadata": {},
   "outputs": [
    {
     "data": {
      "text/plain": [
       "0.861950005631606"
      ]
     },
     "execution_count": 102,
     "metadata": {},
     "output_type": "execute_result"
    }
   ],
   "source": [
    "r = corr_matrix[1, 0]\n",
    "r"
   ]
  },
  {
   "cell_type": "code",
   "execution_count": 103,
   "id": "8a1cc189",
   "metadata": {},
   "outputs": [
    {
     "data": {
      "text/plain": [
       "LinregressResult(slope=0.5181818181818181, intercept=5.714285714285714, rvalue=0.861950005631606, pvalue=5.122760847201164e-07, stderr=0.06992387660074979, intercept_stderr=0.4234100995002589)"
      ]
     },
     "execution_count": 103,
     "metadata": {},
     "output_type": "execute_result"
    }
   ],
   "source": [
    "# Mendapatkan correlation coefficient dengan scipy.stats.linregress()\n",
    "\n",
    "scipy.stats.linregress(x_, y_)"
   ]
  },
  {
   "cell_type": "markdown",
   "id": "f0e9d06c",
   "metadata": {},
   "source": [
    "`linregress()` mengambil d_ dan y_, melakukan regresi linier, dan mengembalikan hasilnya. `slope` dan `intercept` menentukan persamaan regression line, sedangkan rvalue adalah correlation coefficient. Untuk mengakses nilai tertentu dari hasil `linregress()`, termasuk correlation coefficient, gunakan dot notation:"
   ]
  },
  {
   "cell_type": "code",
   "execution_count": 104,
   "id": "618eb39d",
   "metadata": {},
   "outputs": [
    {
     "data": {
      "text/plain": [
       "0.861950005631606"
      ]
     },
     "execution_count": 104,
     "metadata": {},
     "output_type": "execute_result"
    }
   ],
   "source": [
    "result = scipy.stats.linregress(x_, y_)\n",
    "r = result.rvalue\n",
    "r"
   ]
  },
  {
   "cell_type": "code",
   "execution_count": 105,
   "id": "b20dee8b",
   "metadata": {},
   "outputs": [
    {
     "data": {
      "text/plain": [
       "0.8619500056316061"
      ]
     },
     "execution_count": 105,
     "metadata": {},
     "output_type": "execute_result"
    }
   ],
   "source": [
    "# Series Pandas memiliki method .corr() untuk menghitung correlation coefficient\n",
    "r = x__.corr(y__)\n",
    "r"
   ]
  },
  {
   "cell_type": "code",
   "execution_count": 106,
   "id": "d6f2b42d",
   "metadata": {},
   "outputs": [
    {
     "data": {
      "text/plain": [
       "0.861950005631606"
      ]
     },
     "execution_count": 106,
     "metadata": {},
     "output_type": "execute_result"
    }
   ],
   "source": [
    "r = y__.corr(x__)\n",
    "r"
   ]
  },
  {
   "cell_type": "markdown",
   "id": "56809f04",
   "metadata": {},
   "source": [
    "## Working With 2D Data\n",
    "\n",
    "Ahli Statistik sering bekerja dengan data 2D. Berikut beberapa contoh format data 2D:\n",
    "- Database tables\n",
    "- CSV files\n",
    "- Excel, Calc, dan Google Spreadsheets\n",
    "\n",
    "Numpy dan SciPy menyediakan cara yang komprehensif untuk bekerja dengan data 2D. Pandas memiliki kelas DataFrame khusus untuk menangani 2D labeled data.\n",
    "\n",
    "### Axes\n",
    "\n",
    "Mulai dengan membuat array NumPy 2D"
   ]
  },
  {
   "cell_type": "code",
   "execution_count": 107,
   "id": "7e393f77",
   "metadata": {},
   "outputs": [
    {
     "data": {
      "text/plain": [
       "array([[ 1,  1,  1],\n",
       "       [ 2,  3,  1],\n",
       "       [ 4,  9,  2],\n",
       "       [ 8, 27,  4],\n",
       "       [16,  1,  1]])"
      ]
     },
     "execution_count": 107,
     "metadata": {},
     "output_type": "execute_result"
    }
   ],
   "source": [
    "a = np.array([[1, 1, 1],\n",
    "              [2, 3, 1],\n",
    "              [4, 9, 2],\n",
    "              [8, 27, 4],\n",
    "              [16, 1, 1]])\n",
    "a"
   ]
  },
  {
   "cell_type": "markdown",
   "id": "6d8806c0",
   "metadata": {},
   "source": [
    "Sekarang kita memiliki kumpulan data 2D, yang akan kita gunakan di section ini. Kita dapat menerapkan fungsi dan metode statistik Python ke dalamnya seperti yang kita lakukan pada data 1D"
   ]
  },
  {
   "cell_type": "code",
   "execution_count": 108,
   "id": "0c12386d",
   "metadata": {},
   "outputs": [
    {
     "data": {
      "text/plain": [
       "5.4"
      ]
     },
     "execution_count": 108,
     "metadata": {},
     "output_type": "execute_result"
    }
   ],
   "source": [
    "np.mean(a)"
   ]
  },
  {
   "cell_type": "code",
   "execution_count": 109,
   "id": "ef576070",
   "metadata": {},
   "outputs": [
    {
     "data": {
      "text/plain": [
       "5.4"
      ]
     },
     "execution_count": 109,
     "metadata": {},
     "output_type": "execute_result"
    }
   ],
   "source": [
    "a.mean()"
   ]
  },
  {
   "cell_type": "code",
   "execution_count": 110,
   "id": "33ec802a",
   "metadata": {},
   "outputs": [
    {
     "data": {
      "text/plain": [
       "2.0"
      ]
     },
     "execution_count": 110,
     "metadata": {},
     "output_type": "execute_result"
    }
   ],
   "source": [
    "np.median(a)"
   ]
  },
  {
   "cell_type": "code",
   "execution_count": 111,
   "id": "beb39246",
   "metadata": {},
   "outputs": [
    {
     "data": {
      "text/plain": [
       "53.40000000000001"
      ]
     },
     "execution_count": 111,
     "metadata": {},
     "output_type": "execute_result"
    }
   ],
   "source": [
    "a.var(ddof=1)"
   ]
  },
  {
   "cell_type": "markdown",
   "id": "4d52b54c",
   "metadata": {},
   "source": [
    "Seperti yang kita lihat, kita mendapatkan statistik (seperti mean, median, atau varians) di semua data dalam array a. Terkadang, perilaku ini yang kita inginkan, tetapi dalam beberapa kasus, kita ingin jumlah ini dihitung untuk setiap baris atau kolom dari larik 2D kita.\n",
    "\n",
    "Fungsi dan metode yang kita gunakan sejauh ini memiliki satu parameter opsional yang disebut `axis`, yang penting untuk menangani data 2D. `axis` dapat mengambil salah satu dari nilai berikut:\n",
    "\n",
    "- `axis=None` says to calculate the statistics across all data in the array. The examples above work like this. This behavior is often the default in NumPy.\n",
    "- `axis=0` says to calculate the statistics across all rows, that is, for each column of the array. This behavior is often the default for SciPy statistical functions.\n",
    "- `axis=1` says to calculate the statistics across all columns, that is, for each row of the array.\n",
    "\n",
    "Let’s see `axis=0` in action with `np.mean()`:"
   ]
  },
  {
   "cell_type": "code",
   "execution_count": 112,
   "id": "425dee10",
   "metadata": {},
   "outputs": [
    {
     "data": {
      "text/plain": [
       "array([6.2, 8.2, 1.8])"
      ]
     },
     "execution_count": 112,
     "metadata": {},
     "output_type": "execute_result"
    }
   ],
   "source": [
    "np.mean(a, axis=0)"
   ]
  },
  {
   "cell_type": "code",
   "execution_count": 115,
   "id": "461f6342",
   "metadata": {},
   "outputs": [
    {
     "data": {
      "text/plain": [
       "array([6.2, 8.2, 1.8])"
      ]
     },
     "execution_count": 115,
     "metadata": {},
     "output_type": "execute_result"
    }
   ],
   "source": [
    "a.mean(axis=0)"
   ]
  },
  {
   "cell_type": "markdown",
   "id": "8b0bec59",
   "metadata": {},
   "source": [
    "Jika kita memberikan axis=1 pada `mean()`, kita akan mendapatkan hasil untuk setiap baris"
   ]
  },
  {
   "cell_type": "code",
   "execution_count": 116,
   "id": "07662733",
   "metadata": {},
   "outputs": [
    {
     "data": {
      "text/plain": [
       "array([ 1.,  2.,  5., 13.,  6.])"
      ]
     },
     "execution_count": 116,
     "metadata": {},
     "output_type": "execute_result"
    }
   ],
   "source": [
    "np.mean(a, axis=1)"
   ]
  },
  {
   "cell_type": "code",
   "execution_count": 117,
   "id": "c0eabed1",
   "metadata": {},
   "outputs": [
    {
     "data": {
      "text/plain": [
       "array([ 1.,  2.,  5., 13.,  6.])"
      ]
     },
     "execution_count": 117,
     "metadata": {},
     "output_type": "execute_result"
    }
   ],
   "source": [
    "a.mean(axis=1)"
   ]
  },
  {
   "cell_type": "markdown",
   "id": "3f0511ef",
   "metadata": {},
   "source": [
    "`axis` parameter bekerja dengan cara yang sama dengan fungsi dan metode NumPy lainnya"
   ]
  },
  {
   "cell_type": "code",
   "execution_count": 118,
   "id": "56e8dcf0",
   "metadata": {},
   "outputs": [
    {
     "data": {
      "text/plain": [
       "array([4., 3., 1.])"
      ]
     },
     "execution_count": 118,
     "metadata": {},
     "output_type": "execute_result"
    }
   ],
   "source": [
    "np.median(a, axis=0)"
   ]
  },
  {
   "cell_type": "code",
   "execution_count": 119,
   "id": "60303d8f",
   "metadata": {},
   "outputs": [
    {
     "data": {
      "text/plain": [
       "array([1., 2., 4., 8., 1.])"
      ]
     },
     "execution_count": 119,
     "metadata": {},
     "output_type": "execute_result"
    }
   ],
   "source": [
    "np.median(a, axis=1)"
   ]
  },
  {
   "cell_type": "code",
   "execution_count": 120,
   "id": "0876c553",
   "metadata": {},
   "outputs": [
    {
     "data": {
      "text/plain": [
       "array([ 37.2, 121.2,   1.7])"
      ]
     },
     "execution_count": 120,
     "metadata": {},
     "output_type": "execute_result"
    }
   ],
   "source": [
    "a.var(axis=0, ddof=1)"
   ]
  },
  {
   "cell_type": "code",
   "execution_count": 121,
   "id": "1074c63d",
   "metadata": {},
   "outputs": [
    {
     "data": {
      "text/plain": [
       "array([  0.,   1.,  13., 151.,  75.])"
      ]
     },
     "execution_count": 121,
     "metadata": {},
     "output_type": "execute_result"
    }
   ],
   "source": [
    "a.var(axis=1, ddof=1)"
   ]
  },
  {
   "cell_type": "markdown",
   "id": "aa5b02e4",
   "metadata": {},
   "source": [
    "Kita mendapatkan medians dan sample variations untuk semua kolom (`axis=0`)) dan baris (`axis=1`) dari array a.\n",
    "\n",
    "Ini sangat mirip saat kita bekerja dengan fungsi statistik SciPy. Tetapi ingat bahwa dalam kasus ini, nilai default untuk `axis` adalah `0`:"
   ]
  },
  {
   "cell_type": "code",
   "execution_count": 122,
   "id": "1b00f23e",
   "metadata": {},
   "outputs": [
    {
     "data": {
      "text/plain": [
       "array([4.        , 3.73719282, 1.51571657])"
      ]
     },
     "execution_count": 122,
     "metadata": {},
     "output_type": "execute_result"
    }
   ],
   "source": [
    "scipy.stats.gmean(a) # Default: axis=0"
   ]
  },
  {
   "cell_type": "code",
   "execution_count": 123,
   "id": "6979e94d",
   "metadata": {},
   "outputs": [
    {
     "data": {
      "text/plain": [
       "array([4.        , 3.73719282, 1.51571657])"
      ]
     },
     "execution_count": 123,
     "metadata": {},
     "output_type": "execute_result"
    }
   ],
   "source": [
    "scipy.stats.gmean(a, axis=0)"
   ]
  },
  {
   "cell_type": "markdown",
   "id": "a1615ba4",
   "metadata": {},
   "source": [
    "Jika kita menentukan `axis=1` kita akan mendapatkan penghitungan di semua kolom, untuk setiap baris:"
   ]
  },
  {
   "cell_type": "code",
   "execution_count": 124,
   "id": "2413821c",
   "metadata": {},
   "outputs": [
    {
     "data": {
      "text/plain": [
       "array([1.        , 1.81712059, 4.16016765, 9.52440631, 2.5198421 ])"
      ]
     },
     "execution_count": 124,
     "metadata": {},
     "output_type": "execute_result"
    }
   ],
   "source": [
    "scipy.stats.gmean(a, axis=1)"
   ]
  },
  {
   "cell_type": "markdown",
   "id": "74db1e2b",
   "metadata": {},
   "source": [
    "Dalam contoh ini, geometric mean dari baris pertama `a` adalah `1.0`. Untuk baris kedua, kira-kira `1.82`, dan seterusnya.\n",
    "\n",
    "Jika ingin statistik untuk seluruh dataset, maka harus menyediakan `axis=None`"
   ]
  },
  {
   "cell_type": "code",
   "execution_count": 125,
   "id": "6d0adcde",
   "metadata": {},
   "outputs": [
    {
     "data": {
      "text/plain": [
       "2.829705017016332"
      ]
     },
     "execution_count": 125,
     "metadata": {},
     "output_type": "execute_result"
    }
   ],
   "source": [
    "scipy.stats.gmean(a, axis=None)"
   ]
  },
  {
   "cell_type": "markdown",
   "id": "4f7404d6",
   "metadata": {},
   "source": [
    "Geometric mean dari semua item dalam array `a` adalah kira-kira `2.83`\n",
    "\n",
    "Kita bisa mendapatkan statistics summary dengan satu panggilan fungsi untuk data 2D dengan `scipy.stats.describe()`. Ini berfungsi mirip dengan array 1D, tetapi kita harus berhati-hati dengan `axis` parameter:"
   ]
  },
  {
   "cell_type": "code",
   "execution_count": 126,
   "id": "f9618bd3",
   "metadata": {},
   "outputs": [
    {
     "data": {
      "text/plain": [
       "DescribeResult(nobs=15, minmax=(1, 27), mean=5.4, variance=53.40000000000001, skewness=2.264965290423389, kurtosis=5.212690982795767)"
      ]
     },
     "execution_count": 126,
     "metadata": {},
     "output_type": "execute_result"
    }
   ],
   "source": [
    "scipy.stats.describe(a, axis=None, ddof=1, bias=False)"
   ]
  },
  {
   "cell_type": "code",
   "execution_count": 127,
   "id": "da9c245b",
   "metadata": {},
   "outputs": [
    {
     "data": {
      "text/plain": [
       "DescribeResult(nobs=5, minmax=(array([1, 1, 1]), array([16, 27,  4])), mean=array([6.2, 8.2, 1.8]), variance=array([ 37.2, 121.2,   1.7]), skewness=array([1.32531471, 1.79809454, 1.71439233]), kurtosis=array([1.30376344, 3.14969121, 2.66435986]))"
      ]
     },
     "execution_count": 127,
     "metadata": {},
     "output_type": "execute_result"
    }
   ],
   "source": [
    "scipy.stats.describe(a, ddof=1, bias=False) # Default: axis=0"
   ]
  },
  {
   "cell_type": "code",
   "execution_count": 128,
   "id": "bdb4c347",
   "metadata": {},
   "outputs": [
    {
     "data": {
      "text/plain": [
       "DescribeResult(nobs=3, minmax=(array([1, 1, 2, 4, 1]), array([ 1,  3,  9, 27, 16])), mean=array([ 1.,  2.,  5., 13.,  6.]), variance=array([  0.,   1.,  13., 151.,  75.]), skewness=array([0.        , 0.        , 1.15206964, 1.52787436, 1.73205081]), kurtosis=array([-3. , -1.5, -1.5, -1.5, -1.5]))"
      ]
     },
     "execution_count": 128,
     "metadata": {},
     "output_type": "execute_result"
    }
   ],
   "source": [
    "scipy.stats.describe(a, axis=1, ddof=1, bias=False)"
   ]
  },
  {
   "cell_type": "markdown",
   "id": "66caa249",
   "metadata": {},
   "source": [
    "Saat kita memberikan `axis=None`, kita mendapatkan summary di semua data. Sebagian besar hasil adalah skalar. Jika kita mengatur `axis=0` atau menghilangkannya, maka nilai yang dikembalikan adalah summary untuk setiap kolom. Jadi, sebagian besar hasil adalah array dengan jumlah item yang sama dengan jumlah kolom. Jika kita menyetel `axis=1`, maka `describe()` mengembalikan summary untuk semua baris.\n",
    "\n",
    "Kita bisa mendapatkan nilai tertentu dari ringkasan dengan dot notation:"
   ]
  },
  {
   "cell_type": "code",
   "execution_count": 129,
   "id": "7bbc06f9",
   "metadata": {},
   "outputs": [
    {
     "data": {
      "text/plain": [
       "array([ 1.,  2.,  5., 13.,  6.])"
      ]
     },
     "execution_count": 129,
     "metadata": {},
     "output_type": "execute_result"
    }
   ],
   "source": [
    "result = scipy.stats.describe(a, axis=1, ddof=1, bias=False)\n",
    "result.mean"
   ]
  },
  {
   "cell_type": "markdown",
   "id": "8adcbd13",
   "metadata": {},
   "source": [
    "### DataFrames\n",
    "\n",
    "Kelas `DataFrame` adalah salah satu tipe data fundamental Pandas. `DataFrame` sangat nyaman digunakan karena memiliki label untuk baris dan kolom. Gunakan array `a` dan buat `DataFrame`:"
   ]
  },
  {
   "cell_type": "code",
   "execution_count": 130,
   "id": "0258eff3",
   "metadata": {},
   "outputs": [
    {
     "data": {
      "text/html": [
       "<div>\n",
       "<style scoped>\n",
       "    .dataframe tbody tr th:only-of-type {\n",
       "        vertical-align: middle;\n",
       "    }\n",
       "\n",
       "    .dataframe tbody tr th {\n",
       "        vertical-align: top;\n",
       "    }\n",
       "\n",
       "    .dataframe thead th {\n",
       "        text-align: right;\n",
       "    }\n",
       "</style>\n",
       "<table border=\"1\" class=\"dataframe\">\n",
       "  <thead>\n",
       "    <tr style=\"text-align: right;\">\n",
       "      <th></th>\n",
       "      <th>A</th>\n",
       "      <th>B</th>\n",
       "      <th>C</th>\n",
       "    </tr>\n",
       "  </thead>\n",
       "  <tbody>\n",
       "    <tr>\n",
       "      <th>first</th>\n",
       "      <td>1</td>\n",
       "      <td>1</td>\n",
       "      <td>1</td>\n",
       "    </tr>\n",
       "    <tr>\n",
       "      <th>second</th>\n",
       "      <td>2</td>\n",
       "      <td>3</td>\n",
       "      <td>1</td>\n",
       "    </tr>\n",
       "    <tr>\n",
       "      <th>third</th>\n",
       "      <td>4</td>\n",
       "      <td>9</td>\n",
       "      <td>2</td>\n",
       "    </tr>\n",
       "    <tr>\n",
       "      <th>fourth</th>\n",
       "      <td>8</td>\n",
       "      <td>27</td>\n",
       "      <td>4</td>\n",
       "    </tr>\n",
       "    <tr>\n",
       "      <th>fifth</th>\n",
       "      <td>16</td>\n",
       "      <td>1</td>\n",
       "      <td>1</td>\n",
       "    </tr>\n",
       "  </tbody>\n",
       "</table>\n",
       "</div>"
      ],
      "text/plain": [
       "         A   B  C\n",
       "first    1   1  1\n",
       "second   2   3  1\n",
       "third    4   9  2\n",
       "fourth   8  27  4\n",
       "fifth   16   1  1"
      ]
     },
     "execution_count": 130,
     "metadata": {},
     "output_type": "execute_result"
    }
   ],
   "source": [
    "row_names = ['first', 'second', 'third', 'fourth', 'fifth']\n",
    "col_names = ['A', 'B', 'C']\n",
    "df = pd.DataFrame(a, index=row_names, columns=col_names)\n",
    "df"
   ]
  },
  {
   "cell_type": "markdown",
   "id": "7fe9ae5f",
   "metadata": {},
   "source": [
    "Dalam praktiknya, nama kolom penting dan harus deskriptif. Nama baris terkadang ditentukan secara otomatis sebagai `0`, `1`, dan seterusnya. Kita dapat menentukannya secara eksplisit dengan index parameter, meskipun kita bebas untuk menghilangkan `index` jika kita mau.\n",
    "\n",
    "Metode `DataFrame` sangat mirip dengan metode `Series`, meskipun perilakunya berbeda. Jika kita memanggil metode statistics Python tanpa argumen, maka DataFrame akan mengembalikan hasil untuk setiap kolom:"
   ]
  },
  {
   "cell_type": "code",
   "execution_count": 131,
   "id": "953de94f",
   "metadata": {},
   "outputs": [
    {
     "data": {
      "text/plain": [
       "A    6.2\n",
       "B    8.2\n",
       "C    1.8\n",
       "dtype: float64"
      ]
     },
     "execution_count": 131,
     "metadata": {},
     "output_type": "execute_result"
    }
   ],
   "source": [
    "df.mean()"
   ]
  },
  {
   "cell_type": "code",
   "execution_count": 132,
   "id": "8d7f10b9",
   "metadata": {},
   "outputs": [
    {
     "data": {
      "text/plain": [
       "A     37.2\n",
       "B    121.2\n",
       "C      1.7\n",
       "dtype: float64"
      ]
     },
     "execution_count": 132,
     "metadata": {},
     "output_type": "execute_result"
    }
   ],
   "source": [
    "df.var()"
   ]
  },
  {
   "cell_type": "markdown",
   "id": "f0a0e94a",
   "metadata": {},
   "source": [
    "Apa yang kita dapatkan adalah Series baru yang menyimpan hasil. Dalam hal ini, Series menyimpan mean dan variance untuk setiap kolom. Jika kita menginginkan hasil untuk setiap baris, maka tentukan parameter `axis=1`:"
   ]
  },
  {
   "cell_type": "code",
   "execution_count": 134,
   "id": "19fedf4b",
   "metadata": {},
   "outputs": [
    {
     "data": {
      "text/plain": [
       "first      1.0\n",
       "second     2.0\n",
       "third      5.0\n",
       "fourth    13.0\n",
       "fifth      6.0\n",
       "dtype: float64"
      ]
     },
     "execution_count": 134,
     "metadata": {},
     "output_type": "execute_result"
    }
   ],
   "source": [
    "df.mean(axis=1)"
   ]
  },
  {
   "cell_type": "code",
   "execution_count": 135,
   "id": "4da52066",
   "metadata": {},
   "outputs": [
    {
     "data": {
      "text/plain": [
       "first       0.0\n",
       "second      1.0\n",
       "third      13.0\n",
       "fourth    151.0\n",
       "fifth      75.0\n",
       "dtype: float64"
      ]
     },
     "execution_count": 135,
     "metadata": {},
     "output_type": "execute_result"
    }
   ],
   "source": [
    "df.var(axis=1)"
   ]
  },
  {
   "cell_type": "markdown",
   "id": "9d0683ca",
   "metadata": {},
   "source": [
    "Hasilnya adalah Series dengan kuantitas yang diinginkan untuk setiap baris. Label `first`, `second`, dan seterusnya mengacu pada baris yang berbeda.\n",
    "\n",
    "Kita dapat mengisolasi setiap kolom DataFrame seperti ini:"
   ]
  },
  {
   "cell_type": "code",
   "execution_count": 136,
   "id": "8b3804d2",
   "metadata": {},
   "outputs": [
    {
     "data": {
      "text/plain": [
       "first      1\n",
       "second     2\n",
       "third      4\n",
       "fourth     8\n",
       "fifth     16\n",
       "Name: A, dtype: int32"
      ]
     },
     "execution_count": 136,
     "metadata": {},
     "output_type": "execute_result"
    }
   ],
   "source": [
    "df['A']"
   ]
  },
  {
   "cell_type": "code",
   "execution_count": 137,
   "id": "818f325a",
   "metadata": {},
   "outputs": [
    {
     "data": {
      "text/plain": [
       "6.2"
      ]
     },
     "execution_count": 137,
     "metadata": {},
     "output_type": "execute_result"
    }
   ],
   "source": [
    "df['A'].mean()"
   ]
  },
  {
   "cell_type": "code",
   "execution_count": 138,
   "id": "42f3b8b5",
   "metadata": {},
   "outputs": [
    {
     "data": {
      "text/plain": [
       "37.20000000000001"
      ]
     },
     "execution_count": 138,
     "metadata": {},
     "output_type": "execute_result"
    }
   ],
   "source": [
    "df['A'].var()"
   ]
  },
  {
   "cell_type": "markdown",
   "id": "b804ec06",
   "metadata": {},
   "source": [
    "Terkadang, kita mungkin ingin menggunakan DataFrame sebagai array NumPy dan menerapkan beberapa fungsi padanya. DImungkinkan untuk mendapatkan semua data dari DataFrame dengan `.values` atau `.to_numpy()`:"
   ]
  },
  {
   "cell_type": "code",
   "execution_count": 139,
   "id": "a17f2213",
   "metadata": {},
   "outputs": [
    {
     "data": {
      "text/plain": [
       "array([[ 1,  1,  1],\n",
       "       [ 2,  3,  1],\n",
       "       [ 4,  9,  2],\n",
       "       [ 8, 27,  4],\n",
       "       [16,  1,  1]])"
      ]
     },
     "execution_count": 139,
     "metadata": {},
     "output_type": "execute_result"
    }
   ],
   "source": [
    "df.values"
   ]
  },
  {
   "cell_type": "code",
   "execution_count": 140,
   "id": "823a10b9",
   "metadata": {},
   "outputs": [
    {
     "data": {
      "text/plain": [
       "array([[ 1,  1,  1],\n",
       "       [ 2,  3,  1],\n",
       "       [ 4,  9,  2],\n",
       "       [ 8, 27,  4],\n",
       "       [16,  1,  1]])"
      ]
     },
     "execution_count": 140,
     "metadata": {},
     "output_type": "execute_result"
    }
   ],
   "source": [
    "df.to_numpy()"
   ]
  },
  {
   "cell_type": "markdown",
   "id": "f341dc46",
   "metadata": {},
   "source": [
    "`df.values` dan `df.to_numpy()` memberi kita array NumPy dengan semua item dari DataFrame tanpa label baris dan kolom. Perhatikan bahwa `df.to_numpy()` lebih fleksibel karena kita bisa menentukan tipe data item dan apakah kita ingin menggunakan data yang ada atau menyalinnya.\n",
    "\n",
    "Seperti Series, objek DataFrame memiliki metode `.describe()` yang mengembalikan DataFrame lain dengan statistics summary untuk semua kolom:"
   ]
  },
  {
   "cell_type": "code",
   "execution_count": 141,
   "id": "5f8e4031",
   "metadata": {},
   "outputs": [
    {
     "data": {
      "text/html": [
       "<div>\n",
       "<style scoped>\n",
       "    .dataframe tbody tr th:only-of-type {\n",
       "        vertical-align: middle;\n",
       "    }\n",
       "\n",
       "    .dataframe tbody tr th {\n",
       "        vertical-align: top;\n",
       "    }\n",
       "\n",
       "    .dataframe thead th {\n",
       "        text-align: right;\n",
       "    }\n",
       "</style>\n",
       "<table border=\"1\" class=\"dataframe\">\n",
       "  <thead>\n",
       "    <tr style=\"text-align: right;\">\n",
       "      <th></th>\n",
       "      <th>A</th>\n",
       "      <th>B</th>\n",
       "      <th>C</th>\n",
       "    </tr>\n",
       "  </thead>\n",
       "  <tbody>\n",
       "    <tr>\n",
       "      <th>count</th>\n",
       "      <td>5.00000</td>\n",
       "      <td>5.000000</td>\n",
       "      <td>5.00000</td>\n",
       "    </tr>\n",
       "    <tr>\n",
       "      <th>mean</th>\n",
       "      <td>6.20000</td>\n",
       "      <td>8.200000</td>\n",
       "      <td>1.80000</td>\n",
       "    </tr>\n",
       "    <tr>\n",
       "      <th>std</th>\n",
       "      <td>6.09918</td>\n",
       "      <td>11.009087</td>\n",
       "      <td>1.30384</td>\n",
       "    </tr>\n",
       "    <tr>\n",
       "      <th>min</th>\n",
       "      <td>1.00000</td>\n",
       "      <td>1.000000</td>\n",
       "      <td>1.00000</td>\n",
       "    </tr>\n",
       "    <tr>\n",
       "      <th>25%</th>\n",
       "      <td>2.00000</td>\n",
       "      <td>1.000000</td>\n",
       "      <td>1.00000</td>\n",
       "    </tr>\n",
       "    <tr>\n",
       "      <th>50%</th>\n",
       "      <td>4.00000</td>\n",
       "      <td>3.000000</td>\n",
       "      <td>1.00000</td>\n",
       "    </tr>\n",
       "    <tr>\n",
       "      <th>75%</th>\n",
       "      <td>8.00000</td>\n",
       "      <td>9.000000</td>\n",
       "      <td>2.00000</td>\n",
       "    </tr>\n",
       "    <tr>\n",
       "      <th>max</th>\n",
       "      <td>16.00000</td>\n",
       "      <td>27.000000</td>\n",
       "      <td>4.00000</td>\n",
       "    </tr>\n",
       "  </tbody>\n",
       "</table>\n",
       "</div>"
      ],
      "text/plain": [
       "              A          B        C\n",
       "count   5.00000   5.000000  5.00000\n",
       "mean    6.20000   8.200000  1.80000\n",
       "std     6.09918  11.009087  1.30384\n",
       "min     1.00000   1.000000  1.00000\n",
       "25%     2.00000   1.000000  1.00000\n",
       "50%     4.00000   3.000000  1.00000\n",
       "75%     8.00000   9.000000  2.00000\n",
       "max    16.00000  27.000000  4.00000"
      ]
     },
     "execution_count": 141,
     "metadata": {},
     "output_type": "execute_result"
    }
   ],
   "source": [
    "df.describe()"
   ]
  },
  {
   "cell_type": "markdown",
   "id": "f08f7e90",
   "metadata": {},
   "source": [
    "Ringkasan tersebut berisi hasil sebagai berikut:\n",
    "- **`count`**: The number of items in each column\n",
    "- **`mean`**: The mean of each column\n",
    "- **`std`**: The standard deviation\n",
    "- **`min` and `max`**: The minimum and maximum values\n",
    "- **`25%`, `50%`, `75%`**: The percentiles\n",
    "\n",
    "Jika kita ingin objek DataFrame yang dihasilkan berisi persentil lain, kita harus menentukan nilai parameter opsional `percentiles`.\n",
    "\n",
    "Kita dapat mengakses setiap item summary seperti ini:"
   ]
  },
  {
   "cell_type": "code",
   "execution_count": 142,
   "id": "b2be5050",
   "metadata": {},
   "outputs": [
    {
     "data": {
      "text/plain": [
       "6.2"
      ]
     },
     "execution_count": 142,
     "metadata": {},
     "output_type": "execute_result"
    }
   ],
   "source": [
    "df.describe().at['mean', 'A']"
   ]
  },
  {
   "cell_type": "code",
   "execution_count": 143,
   "id": "827c2e38",
   "metadata": {},
   "outputs": [
    {
     "data": {
      "text/plain": [
       "3.0"
      ]
     },
     "execution_count": 143,
     "metadata": {},
     "output_type": "execute_result"
    }
   ],
   "source": [
    "df.describe().at['50%', 'B']"
   ]
  },
  {
   "cell_type": "markdown",
   "id": "7963cc55",
   "metadata": {},
   "source": [
    "### Visualizing Data (Optional)\n",
    "\n",
    "In addition to calculating the numerical quantities like mean, median, or variance, you can use visual methods to present, describe, and summarize data. In this section, you'll learn how to present your data visually using the following graphs:\n",
    "- Box plots\n",
    "- Histograms\n",
    "- Pie charts\n",
    "- Bar charts\n",
    "- X-Y plots\n",
    "- Heatmaps\n",
    "\n",
    "`matplotlib.pyplot` is a very convenient and widely-used library, though it's not the only Python library available for this purpose. You can import it like this:"
   ]
  },
  {
   "cell_type": "code",
   "execution_count": 144,
   "id": "046a9458",
   "metadata": {},
   "outputs": [],
   "source": [
    "import matplotlib.pyplot as plt\n",
    "plt.style.use('ggplot')"
   ]
  },
  {
   "cell_type": "markdown",
   "id": "1f666076",
   "metadata": {},
   "source": [
    "Now you have `matplotlib.pyplot` imported and ready for use. The second statement sets the style for your plots by choosing colors, line widths, and other stylistic elements. You're free to omit these if you're satisfied with the default style settings.\n",
    "\n",
    "You'll use pseudo-random numbers to get data to work with. You don't need some arbitrary numbers, and pseudo-random generators are a convenient tool to get them. The module `np.random` generates arrays of pseudo-random numbers:\n",
    "- Normally distributed numbers are generated with `np.random.randn()`\n",
    "- Uniformly distributed integers are generated with `np.random.randint()`"
   ]
  },
  {
   "cell_type": "markdown",
   "id": "32301fdc",
   "metadata": {},
   "source": [
    "#### Box Plots\n",
    "\n",
    "The **box plot** is an excellent tool to visually represent descriptive statistics of a given dataset. It can show the range, interquartile range, median, mode, outliers, and all quartiles. First, create some data to represent with a box plot:"
   ]
  },
  {
   "cell_type": "code",
   "execution_count": 145,
   "id": "efd1a99f",
   "metadata": {},
   "outputs": [],
   "source": [
    "np.random.seed(seed=0)\n",
    "x = np.random.randn(1000)\n",
    "y = np.random.randn(100)\n",
    "z = np.random.randn(10)"
   ]
  },
  {
   "cell_type": "markdown",
   "id": "1d11d648",
   "metadata": {},
   "source": [
    "The parameters of .boxplot() define the following:\n",
    "- `x` is your data\n",
    "- `vert` sets the plot orientation to horizontal when False. The default orientation is vertical.\n",
    "- `showmeans` shows the mean of your data when `True`.\n",
    "- `meanline` represents the mean as a line when True. The default representation is a point.\n",
    "- `labels`: The labels of your data\n",
    "- `patch_artist` determines how to draw the graph.\n",
    "- `medianprops` denotes the properties of the line representing the median.\n",
    "- `meanprops` indicates the properties of the line or dot representing the mean."
   ]
  },
  {
   "cell_type": "code",
   "execution_count": 147,
   "id": "d0db0ecd",
   "metadata": {},
   "outputs": [
    {
     "data": {
      "image/png": "[encoded data removed]",
      "text/plain": [
       "<Figure size 432x288 with 1 Axes>"
      ]
     },
     "metadata": {},
     "output_type": "display_data"
    }
   ],
   "source": [
    "fig, ax = plt.subplots()\n",
    "ax.boxplot((x, y, z), \n",
    "           vert=False, \n",
    "           showmeans=True, \n",
    "           meanline=True, \n",
    "           labels=('x', 'y', 'z'), \n",
    "           patch_artist=True, \n",
    "           medianprops={'linewidth': 2, 'color': 'purple'}, \n",
    "           meanprops={'linewidth': 2, 'color': 'red'})\n",
    "\n",
    "plt.show()"
   ]
  },
  {
   "cell_type": "markdown",
   "id": "84e1120d",
   "metadata": {},
   "source": [
    "You can see three box plots. Each of them corresponds to a single dataset (`x`, `y`, or `z`) and show the following:\n",
    "- **The mean** is the red dashed line.\n",
    "- **The median** is the purple line.\n",
    "- **The first quartile** is the left edge of the blue rectangle.\n",
    "- **The third quartile** is the right edge of the blue rectangle\n",
    "- **The interquartile range** is the length of the blue rectangle.\n",
    "- **The range** contains everything from left to right.\n",
    "- **The outliers** are the dots to the left and right."
   ]
  },
  {
   "cell_type": "markdown",
   "id": "3d96eecf",
   "metadata": {},
   "source": [
    "#### Histograms\n",
    "\n",
    "Histograms are particularly useful when there are a large number of unique values in a dataset. The histogram divides the values from a sorted dataset into intervals, also called **bins**. Often, all bins are of equal width, though this doesn't have to be the case. The values of the lower and upper bounds of a bin are called the bin **edges**.\n",
    "\n",
    "The **frequency** is a single value that corresponds to each bin. It's the number of elements of the dataset with the values between the edges of the bin. By convention all bins but the rightmost one are half-open. They include the values equal to the lower bounds, but exclude the values equal to the upper bounds. The rightmost bin is closed because it includes both bounds. If you divide a dataset with the bin edges 0, 5, 10, and 15, then there are three bins:\n",
    "1. **The first and leftmost bin** contains the values greater than or equal to 0 and less than 5.\n",
    "2. **The second bin** contains the values greater than or equal to 5 and less than 10.\n",
    "3. **The third and rightmost bin** contains the values greater than or equal to 10 and less than or equal to 15.\n",
    "\n",
    "The function `np.histogram()` is a convenient way to get data for histograms:"
   ]
  },
  {
   "cell_type": "code",
   "execution_count": 148,
   "id": "ea9ab71f",
   "metadata": {},
   "outputs": [
    {
     "data": {
      "text/plain": [
       "array([  9,  20,  70, 146, 217, 239, 160,  86,  38,  15], dtype=int64)"
      ]
     },
     "execution_count": 148,
     "metadata": {},
     "output_type": "execute_result"
    }
   ],
   "source": [
    "hist, bin_edges = np.histogram(x, bins=10)\n",
    "hist"
   ]
  },
  {
   "cell_type": "code",
   "execution_count": 149,
   "id": "258f4f4a",
   "metadata": {},
   "outputs": [
    {
     "data": {
      "text/plain": [
       "array([-3.04614305, -2.46559324, -1.88504342, -1.3044936 , -0.72394379,\n",
       "       -0.14339397,  0.43715585,  1.01770566,  1.59825548,  2.1788053 ,\n",
       "        2.75935511])"
      ]
     },
     "execution_count": 149,
     "metadata": {},
     "output_type": "execute_result"
    }
   ],
   "source": [
    "bin_edges"
   ]
  },
  {
   "cell_type": "markdown",
   "id": "882cc6ac",
   "metadata": {},
   "source": [
    "It takes the array with your data and the number (or edges) of bins and returns two NumPy arrays:\n",
    "1. `hist` contains the frequency or the number of items corresponding to each bin.\n",
    "2. `bin_edges` contains the edges or bounds of the bin.\n",
    "\n",
    "What `histogram()` calculates `.hist()` can show graphically:"
   ]
  },
  {
   "cell_type": "code",
   "execution_count": 150,
   "id": "4025c195",
   "metadata": {},
   "outputs": [
    {
     "data": {
      "image/png": "[encoded data removed]",
      "text/plain": [
       "<Figure size 432x288 with 1 Axes>"
      ]
     },
     "metadata": {},
     "output_type": "display_data"
    }
   ],
   "source": [
    "fig, ax = plt.subplots()\n",
    "ax.hist(x, bin_edges, cumulative=False)\n",
    "ax.set_xlabel('x')\n",
    "ax.set_ylabel('Frequency')\n",
    "plt.show()"
   ]
  },
  {
   "cell_type": "markdown",
   "id": "a706bdf2",
   "metadata": {},
   "source": [
    "You can see the bin edges on the horizontal axis and the frequencies on the vertical axis.\n",
    "\n",
    "It's possible to get the histogram with the cumulative numbers of items if you provide the argument `cumulative=True` to `.hist()`:"
   ]
  },
  {
   "cell_type": "code",
   "execution_count": 151,
   "id": "62968b60",
   "metadata": {},
   "outputs": [
    {
     "data": {
      "image/png": "[encoded data removed]",
      "text/plain": [
       "<Figure size 432x288 with 1 Axes>"
      ]
     },
     "metadata": {},
     "output_type": "display_data"
    }
   ],
   "source": [
    "fig, ax = plt.subplots()\n",
    "ax.hist(x, bin_edges, cumulative=True)\n",
    "ax.set_xlabel('x')\n",
    "ax.set_ylabel('Frequency')\n",
    "plt.show()"
   ]
  },
  {
   "cell_type": "markdown",
   "id": "72b2aa82",
   "metadata": {},
   "source": [
    "#### Pie Charts\n",
    "\n",
    "**Pie charts** represent data with a small number of labels and given relative frequencies. They work well even with the labels that can't be ordered (like nominal data). A pie chart is a circle divided into multiple slices. Each slice corresponds to a single distinct label from the dataset and has an area proportional to the relative frequency associated with that label."
   ]
  },
  {
   "cell_type": "code",
   "execution_count": 152,
   "id": "70397149",
   "metadata": {},
   "outputs": [],
   "source": [
    "x, y, z = 128, 256, 1024"
   ]
  },
  {
   "cell_type": "code",
   "execution_count": 153,
   "id": "1015d674",
   "metadata": {},
   "outputs": [
    {
     "data": {
      "image/png": "[encoded data removed]",
      "text/plain": [
       "<Figure size 432x288 with 1 Axes>"
      ]
     },
     "metadata": {},
     "output_type": "display_data"
    }
   ],
   "source": [
    "# Create a pie chart with .pie()\n",
    "\n",
    "fig, ax = plt.subplots()\n",
    "ax.pie((x, y, z), labels=('x', 'y', 'z'), autopct='%1.1f%%')\n",
    "plt.show()"
   ]
  },
  {
   "cell_type": "markdown",
   "id": "92229b55",
   "metadata": {},
   "source": [
    "#### Bar Charts\n",
    "\n",
    "**Bar charts** also illustrate data that corresponds to given labels or discrete numeric values. They can show the pairs of data from two dataset. Items of one set are the labels, while the corresponding items of the other are their **frequencies**. Optionally, they can show the errors related to the frequencies, as well.\n",
    "\n",
    "The bar chart shows parallel rectangles called **bars**. Each bar corresponds to a single label and has a height proportional to the frequency or relative frequency of its label. Let's generate three datasets, each with 21 items:"
   ]
  },
  {
   "cell_type": "code",
   "execution_count": 154,
   "id": "59dd7833",
   "metadata": {},
   "outputs": [],
   "source": [
    "x = np.arange(21)\n",
    "y = np.random.randint(21, size=21)\n",
    "err = np.random.randn(21)"
   ]
  },
  {
   "cell_type": "code",
   "execution_count": 155,
   "id": "b89d1795",
   "metadata": {},
   "outputs": [
    {
     "data": {
      "image/png": "[encoded data removed]",
      "text/plain": [
       "<Figure size 432x288 with 1 Axes>"
      ]
     },
     "metadata": {},
     "output_type": "display_data"
    }
   ],
   "source": [
    "fig, ax = plt.subplots()\n",
    "ax.bar(x, y, yerr=err)\n",
    "ax.set_xlabel('x')\n",
    "ax.set_ylabel('y')\n",
    "plt.show()"
   ]
  },
  {
   "cell_type": "markdown",
   "id": "8fdd9888",
   "metadata": {},
   "source": [
    "#### X-Y Plots\n",
    "\n",
    "The **x-y plot** or **scatter plot** represents the pairs of data from two datasets. The horizontal x-axis shows the values from the set x, while the vertical y-axis shows the corresponding values from the set y. You can optionally include the regression line and the correlation coefficient. Let's generate two datasets and perform linear regression with scipy.stats.linregress():"
   ]
  },
  {
   "cell_type": "code",
   "execution_count": 157,
   "id": "3aa34c86",
   "metadata": {},
   "outputs": [],
   "source": [
    "x = np.arange(21)\n",
    "y = 5 + 2 * x + 2 * np.random.randn(21)\n",
    "slope, intercept, r, *__ = scipy.stats.linregress(x, y)\n",
    "line = f'Regression line: y={intercept:.2f}+{slope:.2f}x, r={r:.2f}'"
   ]
  },
  {
   "cell_type": "markdown",
   "id": "7431cc6b",
   "metadata": {},
   "source": [
    "The dataset `x` is again the array with the integers from 0 to 20. `y` is calculated as a linear function of `x` distorted with some random noise.\n",
    "\n",
    "`linregress` returns several values. You'll need the `slope` and `intercept` of the regression line, as well as the correlation coefficient `r`. Then you can apply `.plot()` to get the x-y plot:"
   ]
  },
  {
   "cell_type": "code",
   "execution_count": 158,
   "id": "c50464a8",
   "metadata": {},
   "outputs": [
    {
     "data": {
      "image/png": "[encoded data removed]",
      "text/plain": [
       "<Figure size 432x288 with 1 Axes>"
      ]
     },
     "metadata": {},
     "output_type": "display_data"
    }
   ],
   "source": [
    "fig, ax = plt.subplots()\n",
    "ax.plot(x, y, linewidth=0, marker='s', label='Data points')\n",
    "ax.plot(x, intercept + slope * x, label=line)\n",
    "ax.set_xlabel('x')\n",
    "ax.set_ylabel('y')\n",
    "ax.legend(facecolor='white')\n",
    "plt.show()"
   ]
  },
  {
   "cell_type": "markdown",
   "id": "bf4d5c1a",
   "metadata": {},
   "source": [
    "#### Heatmaps\n",
    "\n",
    "A **heatmap** can be used to visually show a matrix. The colors represent the number of elements of the matrix. Heatmaps are particularly useful for illustrating the covariance and correlation matrices. You can create the heatmap for a covariance matrix with `.imshow()`"
   ]
  },
  {
   "cell_type": "code",
   "execution_count": 161,
   "id": "fe10eff6",
   "metadata": {},
   "outputs": [
    {
     "data": {
      "image/png": "[encoded data removed]",
      "text/plain": [
       "<Figure size 432x288 with 1 Axes>"
      ]
     },
     "metadata": {},
     "output_type": "display_data"
    }
   ],
   "source": [
    "matrix = np.cov(x, y).round(decimals=2)\n",
    "fig, ax = plt.subplots()\n",
    "ax.imshow(matrix)\n",
    "ax.grid(False)\n",
    "ax.xaxis.set(ticks=(0, 1), ticklabels=('x', 'y'))\n",
    "ax.yaxis.set(ticks=(0, 1), ticklabels=('x', 'y'))\n",
    "ax.set_ylim(1.5, -0.5)\n",
    "for i in range(2):\n",
    "    for j in range(2):\n",
    "        ax.text(j, i, matrix[i, j], ha='center', va='center', color='w')\n",
    "    \n",
    "plt.show()"
   ]
  },
  {
   "cell_type": "markdown",
   "id": "d440ce91",
   "metadata": {},
   "source": [
    "The yellow field represents the largest element from the matrix `130.34`, while the purple one corresponds to the smallest element `38.5`. The blue squares in between are associated with the value `69.9`.\n",
    "\n",
    "You can obtain the heatmap for the correlation coefficient matrix following the same logic:"
   ]
  },
  {
   "cell_type": "code",
   "execution_count": 162,
   "id": "47bd9bb4",
   "metadata": {},
   "outputs": [
    {
     "data": {
      "image/png": "[encoded data removed]",
      "text/plain": [
       "<Figure size 432x288 with 1 Axes>"
      ]
     },
     "metadata": {},
     "output_type": "display_data"
    }
   ],
   "source": [
    "matrix = np.corrcoef(x, y).round(decimals=2)\n",
    "fig, ax = plt.subplots()\n",
    "ax.imshow(matrix)\n",
    "ax.grid(False)\n",
    "ax.xaxis.set(ticks=(0, 1), ticklabels=('x', 'y'))\n",
    "ax.yaxis.set(ticks=(0, 1), ticklabels=('x', 'y'))\n",
    "ax.set_ylim(1.5, -0.5)\n",
    "for i in range(2):\n",
    "    for j in range(2):\n",
    "        ax.text(j, i, matrix[i, j], ha='center', va='center', color='w')\n",
    "    \n",
    "plt.show()"
   ]
  },
  {
   "cell_type": "code",
   "execution_count": null,
   "id": "b2f1336f",
   "metadata": {},
   "outputs": [],
   "source": []
  }
 ],
 "metadata": {
  "kernelspec": {
   "display_name": "Python 3 (ipykernel)",
   "language": "python",
   "name": "python3"
  },
  "language_info": {
   "codemirror_mode": {
    "name": "ipython",
    "version": 3
   },
   "file_extension": ".py",
   "mimetype": "text/x-python",
   "name": "python",
   "nbconvert_exporter": "python",
   "pygments_lexer": "ipython3",
   "version": "3.9.7"
  },
  "toc": {
   "base_numbering": 1,
   "nav_menu": {},
   "number_sections": true,
   "sideBar": true,
   "skip_h1_title": false,
   "title_cell": "Table of Contents",
   "title_sidebar": "Contents",
   "toc_cell": false,
   "toc_position": {},
   "toc_section_display": true,
   "toc_window_display": true
  }
 },
 "nbformat": 4,
 "nbformat_minor": 5
}
