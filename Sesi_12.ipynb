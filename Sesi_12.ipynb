{
 "cells": [
  {
   "cell_type": "markdown",
   "id": "24e07547",
   "metadata": {},
   "source": [
    "# Sesi 12 - Classification I\n",
    "\n",
    "## Classification\n",
    "\n",
    "Classification adalah area yang sangat penting dalam supervised machine learning. Sejumlah besar masalah supervised machine learning yang penting termasuk dalam area ini. Ada banyak metode classification, **Logistic Regression** dan **K-NN** adalah salah satunya.\n",
    "\n",
    "### What Is Classification?\n",
    "\n",
    "Classification dapat di jelaskan sebagai suatu metode nya dapat mengindentifikasikan suatu kategori atau mengekelompokan  sesuatu data set pada kategori tertentu. \n",
    "\n",
    "Klasifikasi adalah proses mempelajari suatu model yang menjelaskan berbagai kelas data yang telah ditentukan sebelumnya. Ini adalah proses dua langkah, terdiri dari langkah pembelajaran dan langkah klasifikasi . Dalam langkah pembelajaran, model klasifikasi dibangun dan langkah klasifikasi model yang dibangun digunakan untuk menggambarkan  label kelas untuk data yang diberikan.\n",
    "\n",
    "Supervised machine learning algorithms menentukan model yang menangkap hubungan di antara data. Classification adalah area supervised machine learning yang mencoba memprediksi kelas atau kategori mana dari suatu entitas, berdasarkan fitur-fiturnya.\n",
    "\n",
    "Misalnya, kita mungkin menganalisis karyawan beberapa perusahaan dan mencoba membangun ketergantungan pada fitur atau variabel, seperti tingkat pendidikan, jumlah tahun bekerja di posisi saat ini, usia, gaji, peluang untuk dipromosikan, dan sebagainya. Kumpulan data yang terkait dengan satu karyawan adalah satu observasi. Fitur atau variabel dapat berupa salah satu dari dua bentuk:\n",
    "\n",
    "- Independent variables, also called inputs or predictors, don't depend on other features of interest (or at least you assume so for the purpose of the analysis).\n",
    "- Dependent variables, also called outputs or responses, depend on the independent variables.\n",
    "\n",
    "Dalam contoh di atas, saat kita menganalisis karyawan, kita mungkin menganggap tingkat pendidikan, waktu di posisi saat ini, dan usia sebagai saling independen, dan menganggap mereka sebagai inputs. Gaji dan peluang promosi bisa menjadi hasil yang bergantung pada masukan. \n",
    "\n",
    "Sifat dependent variables membedakan masalah regression dan classification. Masalah regression memiliki keluaran yang berkelanjutan dan biasanya tidak terbatas. Contohnya adalah saat kita memperkirakan gaji sebagai fungsi dari pengalaman dan tingkat pendidikan. Di sisi lain, masalah classification memiliki keluaran diskrit dan terbatas yang disebut kelas atau kategori. Misalnya, memprediksi apakah seorang karyawan akan dipromosikan atau tidak (benar atau salah) adalah masalah klasifikasi."
   ]
  },
  {
   "cell_type": "markdown",
   "id": "cc3415bf",
   "metadata": {},
   "source": [
    "## Logistic Regression Overview\n",
    "Linear Regression dapat sangat berguna saat kita mencoba memprediksi nilai keluaran continuous dari linear relationship. Tetapi nilai keluaran Logistic Regression berada di antara 0 dan 1. Karenanya, output continuous value yang tidak berada dalam kisaran antara 0 dan 1 tidak berfungsi dengan Logistic Regression.\n",
    "\n",
    "Lihat gambar di atas untuk contoh model regresi linier. Titik biru adalah titik data kita dan garis merah adalah model kita.\n",
    "\n",
    "Linear Regression menggunakan pengukuran statistik seperti **R²** dan **p-value** untuk memahami kinerja model dan variabel yang melatih model.\n",
    "\n",
    "- **R²** is used to indicate if there is a correlation between the dependent variable and a particular independent variable. In other words, does the independent variable help determine the dependent variable.\n",
    "- **p-value** is used to determine if R² is statistically significance.\n",
    "- Lastly you should know that the cost **cost function** of linear regression is **Mean Squared Error**"
   ]
  },
  {
   "cell_type": "markdown",
   "id": "23d79a20",
   "metadata": {},
   "source": [
    "### Logistic Regression in Python\n",
    "\n",
    "#### Logistic Regression in Python with scikit-learn: Example 1\n",
    "\n",
    "Contoh pertama terkait dengan single-variate binary classification problem. Ini adalah jenis masalah klasifikasi yang paling jelas. Ada beberapa langkah umum yang harus kita ambil saat menyiapkan model klasifikasi:\n",
    "\n",
    "- Import packages, functions, and classes.\n",
    "- Get data to work with and, if appropriate, transform it.\n",
    "- Create a classification model and train (or fit) it with your existing data.\n",
    "- Evaluate your model to see if its performance is satisfactory.\n",
    "\n",
    "Model yang cukup baik yang kita tentukan dapat digunakan untuk membuat prediksi lebih lanjut terkait dengan data baru yang tidak terlihat. Prosedur di atas sama untuk klasifikasi dan regresi.\n",
    "\n",
    "**Step 1: Import Packages, Functions, and Classes**\n",
    "\n",
    "Pertama, kita harus mengimport Matplotlib untuk visualisasi dan NumPy untuk operasi array. Kita juga akan memerlukan `LogisticRegression`, `classification_report()`, dan `confusion_matrix()` dari scikit-learn:"
   ]
  },
  {
   "cell_type": "code",
   "execution_count": 1,
   "id": "03e37c42",
   "metadata": {},
   "outputs": [],
   "source": [
    "import matplotlib.pyplot as plt\n",
    "import numpy as np\n",
    "\n",
    "from sklearn.linear_model import LogisticRegression\n",
    "from sklearn.metrics import classification_report, confusion_matrix"
   ]
  },
  {
   "cell_type": "markdown",
   "id": "fc290f49",
   "metadata": {},
   "source": [
    "**Step 2: Get Data in Practice**, you'll usually have some data to work with. For the purpose of this example, let's just create arrays for the input (x) and output (y) values:"
   ]
  },
  {
   "cell_type": "code",
   "execution_count": 2,
   "id": "af596878",
   "metadata": {},
   "outputs": [],
   "source": [
    "x = np.arange(10).reshape(-1, 1)\n",
    "y = np.array([0, 0, 0, 0, 1, 1, 1, 1, 1, 1])"
   ]
  },
  {
   "cell_type": "markdown",
   "id": "fd15b45d",
   "metadata": {},
   "source": [
    "Input dan output harus berupa array NumPy (instance kelas numpy.ndarray) atau objek serupa. numpy.arange() membuat array nilai yang berurutan dan berjarak sama dalam rentang tertentu.\n",
    "\n",
    "Array x harus dua dimensi. Array x harus memiliki satu kolom untuk setiap masukan, dan jumlah baris harus sama dengan jumlah observations. Untuk membuat x dua dimensi, kita menerapkan .reshape() dengan argumen -1 untuk mendapatkan baris sebanyak yang diperlukan dan 1 untuk mendapatkan satu kolom. Beginilah tampilan x dan y sekarang:"
   ]
  },
  {
   "cell_type": "code",
   "execution_count": 3,
   "id": "35136f28",
   "metadata": {},
   "outputs": [
    {
     "name": "stdout",
     "output_type": "stream",
     "text": [
      "[[0]\n",
      " [1]\n",
      " [2]\n",
      " [3]\n",
      " [4]\n",
      " [5]\n",
      " [6]\n",
      " [7]\n",
      " [8]\n",
      " [9]] [0 0 0 0 1 1 1 1 1 1]\n"
     ]
    }
   ],
   "source": [
    "print(x, y)"
   ]
  },
  {
   "cell_type": "markdown",
   "id": "c2f4424f",
   "metadata": {},
   "source": [
    "`x` memiliki dua dimensi:\n",
    "\n",
    "1. **Satu kolom**, untuk satu masukan\n",
    "2. **Sepuluh baris**, masing-masing sesuai dengan satu pengamatan\n",
    "\n",
    "`y` adalah satu dimensi dengan sepuluh item. Sekali lagi, setiap item berhubungan dengan satu observasi. Ini hanya berisi nol dan satu karena ini adalah masalah klasifikasi biner.\n",
    "\n",
    "**Step 3: Create a Model and Train it**\n",
    "\n",
    "Setelah kita menyiapkan input dan output, kita dapat membuat dan menentukan model klasifikasi. Kita akan membuatnya dengan instance kelas `LogisticRegression`:"
   ]
  },
  {
   "cell_type": "code",
   "execution_count": 5,
   "id": "34b3c7be",
   "metadata": {},
   "outputs": [],
   "source": [
    "model = LogisticRegression(solver='liblinear', random_state=0)"
   ]
  },
  {
   "cell_type": "markdown",
   "id": "b367fdac",
   "metadata": {},
   "source": [
    "Pernyataan di atas membuat instance LogisticRegression dan mengikat referensinya ke variabel model. LogisticRegression memiliki beberapa parameter opsional yang menentukan perilaku dan pendekatan model:\n",
    "\n",
    "- penalti adalah string ('l2' secara default) yang memutuskan apakah ada regularisasi dan pendekatan mana yang digunakan. Pilihan lainnya adalah 'l1', 'elasticnet', dan 'none'.\n",
    "\n",
    "- dual adalah Boolean (False secara default) yang memutuskan apakah akan menggunakan formulasi primal (bila False) atau ganda (bila True).\n",
    "\n",
    "- tol adalah angka floating-point (0,0001 secara default) yang mendefinisikan toleransi untuk menghentikan prosedur.\n",
    "\n",
    "- C adalah angka floating-point positif (1.0 secara default) yang mendefinisikan kekuatan relatif dari regularisasi. Nilai yang lebih kecil menunjukkan regularisasi yang lebih kuat.\n",
    "\n",
    "- fit_intercept adalah Boolean (Benar secara default) yang memutuskan apakah akan menghitung intersep (bila Benar) atau menganggapnya sama dengan nol (bila Salah).\n",
    "\n",
    "- intersep_scaling adalah angka floating-point (1.0 secara default) yang mendefinisikan skala intersep .\n",
    "\n",
    "- class_weight adalah kamus, 'balanced', atau None (default) yang mendefinisikan bobot yang terkait dengan setiap kelas. Bila Tidak Ada, semua kelas memiliki bobot satu.\n",
    "\n",
    "- random_state adalah bilangan bulat, turunan dari numpy.RandomState, atau None (default) yang menentukan generator nomor pseudo-acak yang akan digunakan.\n",
    "\n",
    "- solver adalah string ('liblinear' secara default) yang memutuskan solver apa yang akan digunakan untuk menyesuaikan model. Pilihan lainnya adalah 'newton-cg', 'lbfgs', 'sag', dan 'saga'.\n",
    "\n",
    "- max_iter adalah bilangan bulat (100 secara default) yang menentukan jumlah maksimum iterasi oleh solver selama pemasangan model.\n",
    "\n",
    "- multi_class adalah string ('ovr' secara default) yang memutuskan pendekatan yang digunakan untuk menangani beberapa kelas. Pilihan lainnya adalah 'multinomial' dan 'auto'.\n",
    "\n",
    "- verbose adalah bilangan bulat non-negatif (0 secara default) yang mendefinisikan verbositas untuk pemecah 'liblinear' dan 'lbfgs'.\n",
    "\n",
    "- warm_start adalah Boolean (False secara default) yang memutuskan apakah akan menggunakan kembali solusi yang diperoleh sebelumnya.\n",
    "\n",
    "- n_jobs adalah integer atau None (default) yang menentukan jumlah proses paralel yang akan digunakan. None biasanya berarti menggunakan satu inti, sedangkan -1 berarti menggunakan semua inti yang tersedia.\n",
    "\n",
    "- l1_ratio adalah angka floating-point antara nol dan satu atau None (default). Ini mendefinisikan kepentingan relatif dari bagian L1 dalam regularisasi jaring elastis.\n",
    "\n",
    "\n",
    "Kita harus mencocokkan solver dan regularization dengan hati-hati karena beberapa alasan:\n",
    "\n",
    "- 'liblinear' solver doesn’t work without regularization.\n",
    "- 'newton-cg', 'sag', 'saga', and 'lbfgs' don’t support L1 regularization.\n",
    "- 'saga' is the only solver that supports elastic-net regularization.\n",
    "\n",
    "Setelah model dibuat, kita perlu menyesuaikan (atau melatih) model tersebut. Model fitting adalah proses menentukan koefisien 𝑏₀, 𝑏₁,…, 𝑏ᵣ yang sesuai dengan best value of the cost function. Kita melatih model dengan .fit():"
   ]
  },
  {
   "cell_type": "code",
   "execution_count": 6,
   "id": "65a274d4",
   "metadata": {},
   "outputs": [
    {
     "data": {
      "text/plain": [
       "LogisticRegression(random_state=0, solver='liblinear')"
      ]
     },
     "execution_count": 6,
     "metadata": {},
     "output_type": "execute_result"
    }
   ],
   "source": [
    "model.fit(x, y)"
   ]
  },
  {
   "cell_type": "code",
   "execution_count": 8,
   "id": "e5df811d",
   "metadata": {},
   "outputs": [
    {
     "data": {
      "text/plain": [
       "LogisticRegression(random_state=0, solver='liblinear')"
      ]
     },
     "execution_count": 8,
     "metadata": {},
     "output_type": "execute_result"
    }
   ],
   "source": [
    "LogisticRegression(C=1.0, \n",
    "                   class_weight=None, \n",
    "                   dual=False, \n",
    "                   fit_intercept=True,\n",
    "                   intercept_scaling=1,\n",
    "                   l1_ratio=None,\n",
    "                   max_iter=100, \n",
    "                   multi_class='auto',\n",
    "                   n_jobs=None,\n",
    "                   penalty='l2',\n",
    "                   random_state=0,\n",
    "                   solver='liblinear', \n",
    "                   tol=0.0001,\n",
    "                   verbose=0,\n",
    "                   warm_start=False)"
   ]
  },
  {
   "cell_type": "markdown",
   "id": "62291439",
   "metadata": {},
   "source": [
    "Pernyataan di atas sama dengan di bawah ini"
   ]
  },
  {
   "cell_type": "code",
   "execution_count": 9,
   "id": "e257d147",
   "metadata": {},
   "outputs": [],
   "source": [
    "model = LogisticRegression(solver='liblinear', random_state=0).fit(x, y)"
   ]
  },
  {
   "cell_type": "markdown",
   "id": "f7884998",
   "metadata": {},
   "source": [
    "Pada titik ini, kita telah membuat model klasifikasi.\n",
    "\n",
    "Kita bisa dengan cepat mendapatkan atribut model kita. Misalnya, atribut `.classes_` mewakili array nilai berbeda yang diambil y:"
   ]
  },
  {
   "cell_type": "code",
   "execution_count": 10,
   "id": "84d4365a",
   "metadata": {},
   "outputs": [
    {
     "data": {
      "text/plain": [
       "array([0, 1])"
      ]
     },
     "execution_count": 10,
     "metadata": {},
     "output_type": "execute_result"
    }
   ],
   "source": [
    "model.classes_"
   ]
  },
  {
   "cell_type": "code",
   "execution_count": 11,
   "id": "4ca53bcd",
   "metadata": {},
   "outputs": [
    {
     "name": "stdout",
     "output_type": "stream",
     "text": [
      "[-1.04608067] [[0.51491375]]\n"
     ]
    }
   ],
   "source": [
    "print(model.intercept_, model.coef_)"
   ]
  },
  {
   "cell_type": "markdown",
   "id": "bd701623",
   "metadata": {},
   "source": [
    "Seperti yang kita lihat, 𝑏₀ diberikan di dalam array satu dimensi, sedangkan 𝑏₁ ada di dalam array dua dimensi. Kita menggunakan atribut .intercept_ dan .coef_ untuk mendapatkan hasil ini.\n",
    "\n",
    "**Step 4: Evaluate the Model**\n",
    "\n",
    "Setelah model ditentukan, kita dapat memeriksa performanya dengan `.predict_proba()`, yang mengembalikan matriks probabilitas bahwa keluaran yang diprediksi sama dengan nol atau satu:"
   ]
  },
  {
   "cell_type": "code",
   "execution_count": 12,
   "id": "6ee6d4d8",
   "metadata": {},
   "outputs": [
    {
     "data": {
      "text/plain": [
       "array([[0.74002157, 0.25997843],\n",
       "       [0.62975524, 0.37024476],\n",
       "       [0.5040632 , 0.4959368 ],\n",
       "       [0.37785549, 0.62214451],\n",
       "       [0.26628093, 0.73371907],\n",
       "       [0.17821501, 0.82178499],\n",
       "       [0.11472079, 0.88527921],\n",
       "       [0.07186982, 0.92813018],\n",
       "       [0.04422513, 0.95577487],\n",
       "       [0.02690569, 0.97309431]])"
      ]
     },
     "execution_count": 12,
     "metadata": {},
     "output_type": "execute_result"
    }
   ],
   "source": [
    "model.predict_proba(x)"
   ]
  },
  {
   "cell_type": "markdown",
   "id": "f50d446d",
   "metadata": {},
   "source": [
    "Dalam matriks di atas, setiap baris sesuai dengan satu observasi. Kolom pertama adalah probabilitas keluaran yang diprediksi menjadi nol, yaitu 1 - p(x). Kolom kedua adalah probabilitas yang outputnya satu, atau p(x).\n",
    "\n",
    "Kita bisa mendapatkan prediksi aktual, berdasarkan matriks probabilitas dan nilai p(x), dengan `.predict()`:"
   ]
  },
  {
   "cell_type": "code",
   "execution_count": 13,
   "id": "97edbb6d",
   "metadata": {},
   "outputs": [
    {
     "data": {
      "text/plain": [
       "array([0, 0, 0, 1, 1, 1, 1, 1, 1, 1])"
      ]
     },
     "execution_count": 13,
     "metadata": {},
     "output_type": "execute_result"
    }
   ],
   "source": [
    "model.predict(x)"
   ]
  },
  {
   "cell_type": "markdown",
   "id": "ba7a92b3",
   "metadata": {},
   "source": [
    "Jika kita memiliki sembilan dari sepuluh observasi yang diklasifikasikan dengan benar, akurasi model kita sama dengan 9/10 = 0.9, yang dapat kita peroleh dengan `.score()`:"
   ]
  },
  {
   "cell_type": "code",
   "execution_count": 14,
   "id": "f0448a58",
   "metadata": {},
   "outputs": [
    {
     "data": {
      "text/plain": [
       "0.9"
      ]
     },
     "execution_count": 14,
     "metadata": {},
     "output_type": "execute_result"
    }
   ],
   "source": [
    "model.score(x, y)"
   ]
  },
  {
   "cell_type": "markdown",
   "id": "345f02d4",
   "metadata": {},
   "source": [
    "`.score()` mengambil input dan output sebagai argumen dan mengembalikan rasio jumlah prediksi yang benar dengan jumlah observasi.\n",
    "\n",
    "Kita bisa mendapatkan lebih banyak informasi tentang keakuratan model dengan **confusion matrix**. Dalam kasus klasifikasi biner, **confusion matrix** menunjukkan angka-angka berikut ini:\n",
    "\n",
    "- **True negatives** in the upper-left position.\n",
    "- **False negatives** in the lower-left position.\n",
    "- **False positives** in the upper-right position.\n",
    "- **True positives** in the lower-right position.\n",
    "\n",
    "Untuk membuat confusion matrix, kita bisa menggunakan `confusion_matrix()` dan memberikan actual dan predicted outputs sebagai argumen:"
   ]
  },
  {
   "cell_type": "code",
   "execution_count": 15,
   "id": "6007726c",
   "metadata": {},
   "outputs": [
    {
     "data": {
      "text/plain": [
       "array([[3, 1],\n",
       "       [0, 6]], dtype=int64)"
      ]
     },
     "execution_count": 15,
     "metadata": {},
     "output_type": "execute_result"
    }
   ],
   "source": [
    "confusion_matrix(y, model.predict(x))"
   ]
  },
  {
   "cell_type": "markdown",
   "id": "5dacbaaa",
   "metadata": {},
   "source": [
    "Matriks yang diperoleh menunjukkan hasil sebagai berikut:\n",
    "\n",
    "- Three true negative predictions: The first three observations are zeros predicted correctly.\n",
    "- No false negative predictions: These are the ones wrongly predicted as zeros.\n",
    "- One false positive prediction: The fourth observation is a zero that was wrongly predicted as one.\n",
    "- Six true positive predictions: The last six observations are ones predicted correctly.\n",
    "\n",
    "Seringkali berguna untuk memvisualisasikan confusion matrix, kita dapat melakukannya dengan `.imshow()` dari Matplotlib, yang menerima confusion matrix sebagai argumen:"
   ]
  },
  {
   "cell_type": "code",
   "execution_count": 16,
   "id": "79b0804c",
   "metadata": {},
   "outputs": [
    {
     "data": {
      "image/png": "[encoded data removed]",
      "text/plain": [
       "<Figure size 576x576 with 1 Axes>"
      ]
     },
     "metadata": {
      "needs_background": "light"
     },
     "output_type": "display_data"
    }
   ],
   "source": [
    "cm = confusion_matrix(y, model.predict(x))\n",
    "\n",
    "fig, ax = plt.subplots(figsize=(8, 8))\n",
    "ax.imshow(cm)\n",
    "ax.grid(False)\n",
    "ax.xaxis.set(ticks=(0, 1), ticklabels=('Predicted 0s', 'Predicted 1s'))\n",
    "ax.yaxis.set(ticks=(0, 1), ticklabels=('Actual 0s', 'Actual 1s'))\n",
    "ax.set_ylim(1.5, -0.5)\n",
    "\n",
    "for i in range(2):\n",
    "    for j in range(2):\n",
    "        ax.text(j, i, cm[i, j], ha='center', va='center', color='red')\n",
    "    \n",
    "plt.show()"
   ]
  },
  {
   "cell_type": "markdown",
   "id": "975b148f",
   "metadata": {},
   "source": [
    "Pada gambar ini, warna berbeda mewakili angka berbeda dan warna serupa mewakili angka serupa. Heatmaps adalah cara yang bagus untuk merepresentasikan matriks.\n",
    "\n",
    "Kita bisa mendapatkan laporan yang lebih komprehensif tentang klasifikasi dengan `classification_report()`:"
   ]
  },
  {
   "cell_type": "code",
   "execution_count": 17,
   "id": "86dbf0cf",
   "metadata": {},
   "outputs": [
    {
     "name": "stdout",
     "output_type": "stream",
     "text": [
      "              precision    recall  f1-score   support\n",
      "\n",
      "           0       1.00      0.75      0.86         4\n",
      "           1       0.86      1.00      0.92         6\n",
      "\n",
      "    accuracy                           0.90        10\n",
      "   macro avg       0.93      0.88      0.89        10\n",
      "weighted avg       0.91      0.90      0.90        10\n",
      "\n"
     ]
    }
   ],
   "source": [
    "print(classification_report(y, model.predict(x)))"
   ]
  },
  {
   "cell_type": "markdown",
   "id": "f12c007f",
   "metadata": {},
   "source": [
    "**Improve the Model**\n",
    "\n",
    "Kita dapat meningkatkan model dengan mengatur parameter yang berbeda. Misalnya, mari bekerja dengan regularization strength C sama dengan 10.0, daripada nilai default 1.0:"
   ]
  },
  {
   "cell_type": "code",
   "execution_count": 18,
   "id": "1e07cf5b",
   "metadata": {},
   "outputs": [
    {
     "data": {
      "text/plain": [
       "LogisticRegression(C=10.0, random_state=0, solver='liblinear')"
      ]
     },
     "execution_count": 18,
     "metadata": {},
     "output_type": "execute_result"
    }
   ],
   "source": [
    "model = LogisticRegression(solver='liblinear', C=10.0, random_state=0)\n",
    "model.fit(x, y)"
   ]
  },
  {
   "cell_type": "code",
   "execution_count": 19,
   "id": "9e534336",
   "metadata": {},
   "outputs": [
    {
     "data": {
      "text/plain": [
       "LogisticRegression(C=10.0, random_state=0, solver='liblinear')"
      ]
     },
     "execution_count": 19,
     "metadata": {},
     "output_type": "execute_result"
    }
   ],
   "source": [
    "LogisticRegression(C=10.0, \n",
    "                   class_weight=None, \n",
    "                   dual=False, \n",
    "                   fit_intercept=True,\n",
    "                   intercept_scaling=1,\n",
    "                   l1_ratio=None,\n",
    "                   max_iter=100, \n",
    "                   multi_class='auto',\n",
    "                   n_jobs=None,\n",
    "                   penalty='l2',\n",
    "                   random_state=0,\n",
    "                   solver='liblinear', \n",
    "                   tol=0.0001,\n",
    "                   verbose=0,\n",
    "                   warm_start=False)"
   ]
  },
  {
   "cell_type": "code",
   "execution_count": 20,
   "id": "5aa31155",
   "metadata": {},
   "outputs": [
    {
     "name": "stdout",
     "output_type": "stream",
     "text": [
      "[-3.51335372] [[1.12066084]]\n"
     ]
    }
   ],
   "source": [
    "print(model.intercept_, model.coef_)"
   ]
  },
  {
   "cell_type": "code",
   "execution_count": 21,
   "id": "c20e27e0",
   "metadata": {},
   "outputs": [
    {
     "name": "stdout",
     "output_type": "stream",
     "text": [
      "[[0.97106534 0.02893466]\n",
      " [0.9162684  0.0837316 ]\n",
      " [0.7810904  0.2189096 ]\n",
      " [0.53777071 0.46222929]\n",
      " [0.27502212 0.72497788]\n",
      " [0.11007743 0.88992257]\n",
      " [0.03876835 0.96123165]\n",
      " [0.01298011 0.98701989]\n",
      " [0.0042697  0.9957303 ]\n",
      " [0.00139621 0.99860379]]\n"
     ]
    }
   ],
   "source": [
    "print(model.predict_proba(x))"
   ]
  },
  {
   "cell_type": "code",
   "execution_count": 22,
   "id": "5e252f9a",
   "metadata": {},
   "outputs": [
    {
     "name": "stdout",
     "output_type": "stream",
     "text": [
      "[0 0 0 0 1 1 1 1 1 1]\n"
     ]
    }
   ],
   "source": [
    "print(model.predict(x))"
   ]
  },
  {
   "cell_type": "markdown",
   "id": "7074577b",
   "metadata": {},
   "source": [
    "Seperti yang kita lihat, absolute values dari intercept  𝑏₀ dan coefficient 𝑏₁ lebih besar. Ini terjadi karena nilai C yang lebih besar berarti regularisasi yang lebih lemah, atau penalti yang lebih lemah terkait dengan nilai 𝑏₀ dan 𝑏₁ yang tinggi.\n",
    "\n",
    "Nilai 𝑏₀ dan 𝑏₁ yang berbeda menyiratkan perubahan logit 𝑓(𝑥), nilai probabilitas 𝑝 (𝑥) yang berbeda, bentuk garis regresi yang berbeda, dan kemungkinan perubahan dalam hasil prediksi dan kinerja klasifikasi lainnya. Nilai batas 𝑥 yang mana 𝑝 (𝑥) = 0,5 dan 𝑓 (𝑥) = 0 sekarang lebih tinggi, di atas 3. Dalam hal ini, kita mendapatkan semua prediksi yang benar, seperti yang ditunjukkan oleh akurasi, confusion matrix, dan classification report:"
   ]
  },
  {
   "cell_type": "code",
   "execution_count": 23,
   "id": "972633b2",
   "metadata": {},
   "outputs": [
    {
     "data": {
      "text/plain": [
       "1.0"
      ]
     },
     "execution_count": 23,
     "metadata": {},
     "output_type": "execute_result"
    }
   ],
   "source": [
    "model.score(x, y)"
   ]
  },
  {
   "cell_type": "code",
   "execution_count": 24,
   "id": "9847f79d",
   "metadata": {},
   "outputs": [
    {
     "data": {
      "text/plain": [
       "array([[4, 0],\n",
       "       [0, 6]], dtype=int64)"
      ]
     },
     "execution_count": 24,
     "metadata": {},
     "output_type": "execute_result"
    }
   ],
   "source": [
    "confusion_matrix(y, model.predict(x))"
   ]
  },
  {
   "cell_type": "code",
   "execution_count": 25,
   "id": "bc31e779",
   "metadata": {},
   "outputs": [
    {
     "name": "stdout",
     "output_type": "stream",
     "text": [
      "              precision    recall  f1-score   support\n",
      "\n",
      "           0       1.00      1.00      1.00         4\n",
      "           1       1.00      1.00      1.00         6\n",
      "\n",
      "    accuracy                           1.00        10\n",
      "   macro avg       1.00      1.00      1.00        10\n",
      "weighted avg       1.00      1.00      1.00        10\n",
      "\n"
     ]
    }
   ],
   "source": [
    "print(classification_report(y, model.predict(x)))"
   ]
  },
  {
   "cell_type": "markdown",
   "id": "250321bb",
   "metadata": {},
   "source": [
    "Score (atau accuracy) 1 dan angka nol di kolom kiri bawah dan kanan atas dari confusion matrix menunjukkan bahwa actual dan predicted outputs sama."
   ]
  },
  {
   "cell_type": "markdown",
   "id": "bd43ee40",
   "metadata": {},
   "source": [
    "#### Logistic Regression in Python: Handwriting Recognition\n",
    "\n",
    "Contoh sebelumnya mengilustrasikan implementasi logistic regression dengan Python, serta beberapa detail terkait metode ini. Contoh berikutnya akan menunjukkan cara menggunakan logistic regression untuk memecahkan real-world classification problem. Pendekatannya sangat mirip dengan yang kita lihat, tetapi dengan kumpulan data yang lebih besar dan beberapa masalah tambahan.\n",
    "\n",
    "Contoh ini adalah tentang image recognition. Untuk lebih tepatnya, kita akan bekerja pada recognition atas handwritten digits. Kita akan menggunakan kumpulan data dengan 1797 observasi, yang masing-masing berupa gambar dari satu digit tulisan tangan. Setiap gambar memiliki 64 px, dengan lebar 8 px dan tinggi 8 px.\n",
    "\n",
    "Input (𝐱) adalah vektor dengan 64 dimensi atau nilai. Setiap vektor input menggambarkan satu gambar. Masing-masing dari 64 nilai mewakili satu piksel gambar. Nilai input adalah bilangan bulat antara 0 dan 16, bergantung pada shade of gray untuk piksel yang sesuai. Output (𝑦) untuk setiap observasi adalah bilangan bulat antara 0 dan 9, konsisten dengan digit pada gambar. Ada total sepuluh kelas, masing-masing sesuai dengan satu gambar.\n",
    "\n",
    "**Step 1: Import Packages**\n",
    "\n",
    "Kita perlu mengimpor Matplotlib, NumPy, dan beberapa fungsi dan kelas dari scikit-learn:"
   ]
  },
  {
   "cell_type": "code",
   "execution_count": 27,
   "id": "6ea929aa",
   "metadata": {},
   "outputs": [],
   "source": [
    "import matplotlib.pyplot as plt\n",
    "import numpy as np\n",
    "\n",
    "from sklearn.datasets import load_digits\n",
    "from sklearn.linear_model import LogisticRegression\n",
    "from sklearn.metrics import classification_report, confusion_matrix\n",
    "from sklearn.model_selection import train_test_split\n",
    "from sklearn.preprocessing import StandardScaler"
   ]
  },
  {
   "cell_type": "markdown",
   "id": "480127cd",
   "metadata": {},
   "source": [
    "**Step 2a: Get Data**\n",
    "\n",
    "Kita bisa mengambil dataset langsung dari scikit-learn dengan `load_digits()`. Ini mengembalikan tuple input dan output:"
   ]
  },
  {
   "cell_type": "code",
   "execution_count": 28,
   "id": "f0b93018",
   "metadata": {},
   "outputs": [],
   "source": [
    "x, y = load_digits(return_X_y=True)"
   ]
  },
  {
   "cell_type": "code",
   "execution_count": 29,
   "id": "f86a3083",
   "metadata": {},
   "outputs": [
    {
     "name": "stdout",
     "output_type": "stream",
     "text": [
      "[[ 0.  0.  5. ...  0.  0.  0.]\n",
      " [ 0.  0.  0. ... 10.  0.  0.]\n",
      " [ 0.  0.  0. ... 16.  9.  0.]\n",
      " ...\n",
      " [ 0.  0.  1. ...  6.  0.  0.]\n",
      " [ 0.  0.  2. ... 12.  0.  0.]\n",
      " [ 0.  0. 10. ... 12.  1.  0.]]\n",
      "[0 1 2 ... 8 9 8]\n"
     ]
    }
   ],
   "source": [
    "print(x)\n",
    "print(y)"
   ]
  },
  {
   "cell_type": "markdown",
   "id": "281b6c64",
   "metadata": {},
   "source": [
    "Itu adalah data yang kita dapatkan untuk dikerjakan. x adalah multi-dimensional array dengan 1797 baris dan 64 kolom. x berisi bilangan bulat dari 0 hingga 16. y adalah one-dimensional array dengan 1797 bilangan bulat antara 0 dan 9.\n",
    "\n",
    "**Step 2b: Split Data**\n",
    "\n",
    "Merupakan praktik yang baik dan diterapkan secara luas untuk membagi kumpulan data yang kita kerjakan menjadi dua subkumpulan. Subkumpulan tersebut adalah **training set** dan **test set**. Pembagian ini biasanya dilakukan secara acak. Kita harus menggunakan training set untuk melatih model kita . Setelah model dilatih, kita mengevaluasi kinerjanya dengan test set. Penting untuk tidak menggunakan test set dalam proses training model. Pendekatan ini memungkinkan evaluasi model yang tidak bias.\n",
    "\n",
    "Salah satu cara untuk membagi set data kita menjadi **training set** dan **test set** adalah dengan menerapkan `train_test_split()`:"
   ]
  },
  {
   "cell_type": "code",
   "execution_count": 30,
   "id": "d9f8a1ce",
   "metadata": {},
   "outputs": [],
   "source": [
    "x_train, x_test, y_train, y_test = train_test_split(x, y, test_size=0.2, random_state=0)"
   ]
  },
  {
   "cell_type": "markdown",
   "id": "b56ca285",
   "metadata": {},
   "source": [
    "`train_test_split()` menerima x dan y. `train_test_split()` juga membutuhkan `test_size`, yang menentukan ukuran test set, dan `random_state` untuk menentukan status pseudo-random number generator, serta argumen opsional lainnya. Fungsi ini mengembalikan list dengan empat array:\n",
    "\n",
    "\n",
    "1. `x_train`: the part of `x` used to fit the model\n",
    "2. `x_test`: the part of `x` used to evaluate the model\n",
    "3. `y_train`: the part of `y` used to fit the model\n",
    "4. `y_test`: the part of `y` used to evaluate the model\n",
    "\n",
    "Setelah data kita terbagi, kita bisa menghiraukan `x_test` dan `y_test` sampai kita membuat model.\n",
    "\n",
    "**Step 2c: Scale Data**\n",
    "\n",
    "**Standardization** adalah proses mengubah data sedemikian rupa sehingga mean tiap kolom menjadi sama dengan nol, dan standard deviation tiap kolom adalah satu. Dengan cara ini, kita mendapatkan skala yang sama untuk semua kolom. Lakukan langkah-langkah berikut untuk menstandarkan data:\n",
    "\n",
    "- **Calculate** the mean and standard deviation for each column.\n",
    "- **Subtract** the corresponding mean from each element.\n",
    "- **Divide** the obtained difference by the corresponding standard deviation.\n",
    "\n",
    "Merupakan praktik yang baik untuk standardize data input yang kita gunakan untuk logistic regression, meskipun dalam banyak kasus hal itu tdak diperlukan. **Standardization** dapat meningkatkan kinerja algoritma kita. Ini membantu jika kita perlu compare dan interpret weights.\n",
    "\n",
    "Kita bisa standardize input dengan membuat instance `StandardScaler` dan memanggil `.fit_transform()` di atasnya:"
   ]
  },
  {
   "cell_type": "code",
   "execution_count": 31,
   "id": "263ccc97",
   "metadata": {},
   "outputs": [],
   "source": [
    "scaler = StandardScaler()\n",
    "x_train = scaler.fit_transform(x_train)"
   ]
  },
  {
   "cell_type": "markdown",
   "id": "c6b663d1",
   "metadata": {},
   "source": [
    "`.fit_transform()` menyesuaikan instance `StandardScaler` ke array yang diteruskan sebagai argumen, mengubah array ini, dan mengembalikan array standar yang baru. Sekarang, `x_train` adalah array input standardized.\n",
    "\n",
    "**Step 3: Create a Model and Train It**\n",
    "\n",
    "Langkah ini sangat mirip dengan contoh sebelumnya. Satu-satunya perbedaan adalah kita  menggunakan subset x_train dan y_train agar sesuai dengan model. Sekali lagi, kita harus membuat instance LogisticRegression dan memanggil .fit() di atasnya:"
   ]
  },
  {
   "cell_type": "code",
   "execution_count": 32,
   "id": "9485e116",
   "metadata": {},
   "outputs": [
    {
     "data": {
      "text/plain": [
       "LogisticRegression(C=0.05, multi_class='ovr', random_state=0,\n",
       "                   solver='liblinear')"
      ]
     },
     "execution_count": 32,
     "metadata": {},
     "output_type": "execute_result"
    }
   ],
   "source": [
    "model = LogisticRegression(solver='liblinear', \n",
    "                           C=0.05, \n",
    "                           multi_class='ovr',\n",
    "                           random_state=0\n",
    "                          )\n",
    "\n",
    "model.fit(x_train, y_train)"
   ]
  },
  {
   "cell_type": "code",
   "execution_count": 33,
   "id": "3b662e2d",
   "metadata": {},
   "outputs": [
    {
     "data": {
      "text/plain": [
       "LogisticRegression(C=0.05, multi_class='ovr', random_state=0,\n",
       "                   solver='liblinear')"
      ]
     },
     "execution_count": 33,
     "metadata": {},
     "output_type": "execute_result"
    }
   ],
   "source": [
    "LogisticRegression(C=0.05, \n",
    "                   class_weight=None, \n",
    "                   dual=False, \n",
    "                   fit_intercept=True,\n",
    "                   intercept_scaling=1,\n",
    "                   l1_ratio=None,\n",
    "                   max_iter=100, \n",
    "                   multi_class='ovr',\n",
    "                   n_jobs=None,\n",
    "                   penalty='l2',\n",
    "                   random_state=0,\n",
    "                   solver='liblinear', \n",
    "                   tol=0.0001,\n",
    "                   verbose=0,\n",
    "                   warm_start=False)"
   ]
  },
  {
   "cell_type": "markdown",
   "id": "b68cc341",
   "metadata": {},
   "source": [
    "**Step 4: Evaluate the Model**\n",
    "\n",
    "Kita harus mengevaluasi model seperti yang kita lakukan pada contoh sebelumnya, dengan perbedaan bahwa kita sebagian besar akan menggunakan x_test dan y_test, yang merupakan subkumpulan yang tidak diterapkan untuk training. Jika kita telah memutuskan untuk menstandarkan x_train, maka model yang diperoleh bergantung pada scaled data, jadi x_test harus diskalakan juga dengan instance StandardScaler yang sama:"
   ]
  },
  {
   "cell_type": "code",
   "execution_count": 34,
   "id": "f610d2a4",
   "metadata": {},
   "outputs": [],
   "source": [
    "x_test = scaler.transform(x_test)"
   ]
  },
  {
   "cell_type": "markdown",
   "id": "3aa5e721",
   "metadata": {},
   "source": [
    "Begitulah cara kita mendapatkan x_test baru dengan skala yang tepat. Dalam kasus ini, kita menggunakan `.transform()` yang hanya mengubah argumen tanpa menyesuaikan scaler.\n",
    "\n",
    "Kita bisa mendapatkan predicted outputs dengan `.predict()`:"
   ]
  },
  {
   "cell_type": "code",
   "execution_count": 35,
   "id": "d4b004dd",
   "metadata": {},
   "outputs": [],
   "source": [
    "y_pred = model.predict(x_test)"
   ]
  },
  {
   "cell_type": "markdown",
   "id": "3776a8b2",
   "metadata": {},
   "source": [
    "Variabel `y_pred` sekarang terikat ke array predicted outputs. Perhatikan bahwa kita menggunakan `x_test` sebagai argumen di sini.\n",
    "\n",
    "Kita bisa mendapatkan akurasi dengan `.score()`:"
   ]
  },
  {
   "cell_type": "code",
   "execution_count": 36,
   "id": "95c8a0a0",
   "metadata": {},
   "outputs": [
    {
     "data": {
      "text/plain": [
       "0.964509394572025"
      ]
     },
     "execution_count": 36,
     "metadata": {},
     "output_type": "execute_result"
    }
   ],
   "source": [
    "model.score(x_train, y_train)"
   ]
  },
  {
   "cell_type": "code",
   "execution_count": 37,
   "id": "2f31ce45",
   "metadata": {},
   "outputs": [
    {
     "data": {
      "text/plain": [
       "0.9416666666666667"
      ]
     },
     "execution_count": 37,
     "metadata": {},
     "output_type": "execute_result"
    }
   ],
   "source": [
    "model.score(x_test, y_test)"
   ]
  },
  {
   "cell_type": "markdown",
   "id": "3ed18d2f",
   "metadata": {},
   "source": [
    "Sebenarnya, kita bisa mendapatkan dua nilai akurasi, satu diperoleh dengan training set dan lainnya dengan test set. Sebaiknya membandingkan keduanya, karena situasi di mana akurasi set pelatihan jauh lebih tinggi mungkin mengindikasikan **overfitting**. Akurasi set pengujian lebih relevan untuk mengevaluasi performa pada data yang tidak terlihat karena tidak bias.\n",
    "\n",
    "Kita bisa mendapatkan confusion matrix dengan `confusion_matrix()`:"
   ]
  },
  {
   "cell_type": "code",
   "execution_count": 38,
   "id": "bec01663",
   "metadata": {},
   "outputs": [
    {
     "data": {
      "text/plain": [
       "array([[27,  0,  0,  0,  0,  0,  0,  0,  0,  0],\n",
       "       [ 0, 32,  0,  0,  0,  0,  1,  0,  1,  1],\n",
       "       [ 1,  1, 33,  1,  0,  0,  0,  0,  0,  0],\n",
       "       [ 0,  0,  1, 28,  0,  0,  0,  0,  0,  0],\n",
       "       [ 0,  0,  0,  0, 29,  0,  0,  1,  0,  0],\n",
       "       [ 0,  0,  0,  0,  0, 39,  0,  0,  0,  1],\n",
       "       [ 0,  1,  0,  0,  0,  0, 43,  0,  0,  0],\n",
       "       [ 0,  0,  0,  0,  0,  0,  0, 39,  0,  0],\n",
       "       [ 0,  2,  1,  2,  0,  0,  0,  1, 33,  0],\n",
       "       [ 0,  0,  0,  1,  0,  1,  0,  2,  1, 36]], dtype=int64)"
      ]
     },
     "execution_count": 38,
     "metadata": {},
     "output_type": "execute_result"
    }
   ],
   "source": [
    "confusion_matrix(y_test, y_pred)"
   ]
  },
  {
   "cell_type": "code",
   "execution_count": 39,
   "id": "8eb6d4bd",
   "metadata": {},
   "outputs": [
    {
     "data": {
      "image/png": "[encoded data removed]",
      "text/plain": [
       "<Figure size 576x576 with 1 Axes>"
      ]
     },
     "metadata": {
      "needs_background": "light"
     },
     "output_type": "display_data"
    }
   ],
   "source": [
    "cm = confusion_matrix(y_test, y_pred)\n",
    "\n",
    "fig, ax = plt.subplots(figsize=(8, 8))\n",
    "ax.imshow(cm)\n",
    "ax.grid(False)\n",
    "ax.set_xlabel('Predicted outputs', color='black')\n",
    "ax.set_ylabel('Actual outputs', color='black')\n",
    "ax.xaxis.set(ticks=range(10))\n",
    "ax.yaxis.set(ticks=range(10))\n",
    "ax.set_ylim(9.5, -0.5)\n",
    "\n",
    "for i in range(10):\n",
    "    for j in range(10):\n",
    "        ax.text(j, i, cm[i, j], ha='center', va='center', color='white')\n",
    "\n",
    "plt.show()"
   ]
  },
  {
   "cell_type": "markdown",
   "id": "5374edf4",
   "metadata": {},
   "source": [
    "Ini adalah heatmap  yang menggambarkan confusion matrix dengan angka dan warna. Kita dapat melihat bahwa shades of purple menunjukkan angka kecil (seperti 0, 1, atau 2), sedangkan hijau dan kuning menunjukkan angka yang jauh lebih besar (27 ke atas).\n",
    "\n",
    "Angka-angka pada diagonal utama (27, 32,…, 36) menunjukkan jumlah prediksi yang benar dari test set. Misalnya, ada 27 gambar dengan nol, 32 gambar satu, dan seterusnya yang diklasifikasikan dengan benar. Angka lain sesuai dengan prediksi yang salah. Misalnya, angka 1 di baris ketiga dan kolom pertama menunjukkan bahwa ada satu gambar dengan angka 2 yang salah diklasifikasikan sebagai 0.\n",
    "\n",
    "Terakhir, kita bisa mendapatkan laporan klasifikasi sebagai string atau dictionary dengan `classification_report()`:"
   ]
  },
  {
   "cell_type": "code",
   "execution_count": 40,
   "id": "c391f8e6",
   "metadata": {},
   "outputs": [
    {
     "name": "stdout",
     "output_type": "stream",
     "text": [
      "              precision    recall  f1-score   support\n",
      "\n",
      "           0       0.96      1.00      0.98        27\n",
      "           1       0.89      0.91      0.90        35\n",
      "           2       0.94      0.92      0.93        36\n",
      "           3       0.88      0.97      0.92        29\n",
      "           4       1.00      0.97      0.98        30\n",
      "           5       0.97      0.97      0.97        40\n",
      "           6       0.98      0.98      0.98        44\n",
      "           7       0.91      1.00      0.95        39\n",
      "           8       0.94      0.85      0.89        39\n",
      "           9       0.95      0.88      0.91        41\n",
      "\n",
      "    accuracy                           0.94       360\n",
      "   macro avg       0.94      0.94      0.94       360\n",
      "weighted avg       0.94      0.94      0.94       360\n",
      "\n"
     ]
    }
   ],
   "source": [
    "print(classification_report(y_test, y_pred))"
   ]
  },
  {
   "cell_type": "markdown",
   "id": "ca191d1b",
   "metadata": {},
   "source": [
    "## K-Nearest Neighbor (K-NN)\n",
    "\n",
    "KNN adalah algoritma non-parametric dan lazy learning algorithm. Non-parametric berarti tidak ada asumsi untuk distribusi data yang mendasarinya. Dengan kata lain, struktur model ditentukan dari dataset. Ini akan sangat membantu dalam praktik di mana sebagian besar kumpulan data dunia nyata tidak mengikuti asumsi teoretis matematis. Lazy algorithm berarti tidak memerlukan training data points untuk pembuatan model. Semua data pelatihan digunakan dalam tahap pengujian. Ini membuat pelatihan lebih cepat dan fase pengujian lebih lambat dan lebih mahal. Fase pengujian yang mahal artinya berdampak pada waktu dan memori. Dalam kasus terburuk, KNN membutuhkan lebih banyak waktu untuk memindai semua titik data dan memindai semua titik data akan membutuhkan lebih banyak memori untuk menyimpan data pelatihan.\n",
    "\n",
    "### K-NN in Python with scikit-learn: Example 1\n",
    "\n",
    "**Defining dataset**\n",
    "\n",
    "Mari pertama-tama buat dataset kita sendiri. Di sini, kita membutuhkan dua jenis atribut atau kolom dalam data Anda: Feature dan label."
   ]
  },
  {
   "cell_type": "code",
   "execution_count": 41,
   "id": "7180e707",
   "metadata": {},
   "outputs": [],
   "source": [
    "# Assigning features and label variables\n",
    "\n",
    "# First Feature\n",
    "weather = ['Sunny','Sunny','Overcast','Rainy','Rainy','Rainy','Overcast','Sunny','Sunny',\n",
    "'Rainy','Sunny','Overcast','Overcast','Rainy']\n",
    "\n",
    "# Second Feature\n",
    "temp = ['Hot','Hot','Hot','Mild','Cool','Cool','Cool','Mild','Cool','Mild','Mild','Mild','Hot','Mild']\n",
    "\n",
    "# Label or target varible\n",
    "play = ['No','No','Yes','Yes','Yes','No','Yes','No','Yes','Yes','Yes','Yes','Yes','No']"
   ]
  },
  {
   "cell_type": "markdown",
   "id": "8f642a83",
   "metadata": {},
   "source": [
    "**Encoding data columns**\n",
    "\n",
    "Berbagai machine learning algorithms memerlukan data input numerik, jadi kita perlu merepresentasikan kolom kategorikal dalam kolom numerik.\n",
    "\n",
    "Untuk encode data ini, kita dapat memetakan setiap nilai menjadi sebuah angka, misalnya Overcast:0, Rainy:1, dan Sunny:2.\n",
    "\n",
    "Proses ini dikenal sebagai label encoding, dan sklearn dengan mudah akn melakukannya untuk kita menggunakan Label Encoder."
   ]
  },
  {
   "cell_type": "code",
   "execution_count": 42,
   "id": "69cee95c",
   "metadata": {},
   "outputs": [
    {
     "name": "stdout",
     "output_type": "stream",
     "text": [
      "[2 2 0 1 1 1 0 2 2 1 2 0 0 1]\n"
     ]
    }
   ],
   "source": [
    "# Import LabelEncoder\n",
    "from sklearn import preprocessing\n",
    "\n",
    "# Creating LabelEncoder\n",
    "le = preprocessing.LabelEncoder()\n",
    "\n",
    "# Converting String Labels into Numbers\n",
    "weather_encoded=le.fit_transform(weather)\n",
    "print(weather_encoded)"
   ]
  },
  {
   "cell_type": "markdown",
   "id": "c96c2961",
   "metadata": {},
   "source": [
    "Di sini, kita mengimport modul preprocessing dan membuat objek LabelEncoder. Dengan menggunakan objek LabelEncoder ini, kita dapat menyesuaikan dan mengubah kolom `weather` menjadi kolom numerik.\n",
    "\n",
    "Demikian pula, kita dapat menyandikan temperature dan label ke dalam kolom numerik."
   ]
  },
  {
   "cell_type": "code",
   "execution_count": 43,
   "id": "ad29c49d",
   "metadata": {},
   "outputs": [
    {
     "name": "stdout",
     "output_type": "stream",
     "text": [
      "[2 2 0 1 1 1 0 2 2 1 2 0 0 1]\n"
     ]
    }
   ],
   "source": [
    "# Converting String Labels into Numbers\n",
    "temp_encoded=le.fit_transform(temp)\n",
    "\n",
    "label=le.fit_transform(play)\n",
    "print(weather_encoded)"
   ]
  },
  {
   "cell_type": "markdown",
   "id": "0890abe1",
   "metadata": {},
   "source": [
    "**Combining Features**\n",
    "\n",
    "Di sini, kita akan menggabungkan beberapa kolom atau fitur menjadi satu set data menggunakan fungsi \"zip\""
   ]
  },
  {
   "cell_type": "code",
   "execution_count": 44,
   "id": "a48b7cd1",
   "metadata": {},
   "outputs": [
    {
     "name": "stdout",
     "output_type": "stream",
     "text": [
      "[(2, 1), (2, 1), (0, 1), (1, 2), (1, 0), (1, 0), (0, 0), (2, 2), (2, 0), (1, 2), (2, 2), (0, 2), (0, 1), (1, 2)]\n"
     ]
    }
   ],
   "source": [
    "# Combining weather and temp into single list of tuples\n",
    "features = list(zip(weather_encoded, temp_encoded))\n",
    "\n",
    "print(features)"
   ]
  },
  {
   "cell_type": "markdown",
   "id": "35cd7ff3",
   "metadata": {},
   "source": [
    "**Generating Model**\n",
    "\n",
    "Mari membangun classifier model K-NN.\n",
    "\n",
    "Pertama, import modul `KNeighboursClassifier` dan buat classifier object K-NN dengan meneruskan argumen jumlah tetangga dalam fungsi `KNeighboursClassifier()`.\n",
    "\n",
    "Kemudian, latih model kita dengan train set menggunakan `fit()` dan lakukan prediksi pada test set menggunakan `predict()`."
   ]
  },
  {
   "cell_type": "code",
   "execution_count": 46,
   "id": "bcb5e234",
   "metadata": {},
   "outputs": [
    {
     "name": "stdout",
     "output_type": "stream",
     "text": [
      "[1]\n"
     ]
    }
   ],
   "source": [
    "from sklearn.neighbors import KNeighborsClassifier\n",
    "\n",
    "model = KNeighborsClassifier(n_neighbors=3)\n",
    "\n",
    "# Train the model using the training sets\n",
    "model.fit(features, label)\n",
    "\n",
    "# Predict Output\n",
    "predicted = model.predict([[0, 2]]) # 0: Overcast, 2:Mild\n",
    "\n",
    "print(predicted)"
   ]
  },
  {
   "cell_type": "markdown",
   "id": "876d6ae9",
   "metadata": {},
   "source": [
    "Pada contoh di atas, kita memberikan input `[0, 2]`, di mana 0 berarti cuaca mendung/Overcast dan 2 berarti suhu sedang/Mild. Model memprediksi `[1]`, yang artinya play.\n",
    "\n",
    "### K-NN in Python with scikit-learn: K-NN with Multiple Labels\n",
    "\n",
    "Hingga saat ini, kita telah mempelajari cara membuat pengklasifikasi KNN untuk dua kelas di python menggunakan scikit-learn. Sekarang kita akan belajar tentang KNN dengan banyak kelas.\n",
    "\n",
    "Dalam model, kita dapat menggunakan wine dataset, yang merupakan masalah multi-class classification problem yang sangat terkenal. Data ini merupakan hasil analisis kimiawi wines yang ditanam di wilayah yang sama di Italia menggunakan tiga kultivar berbeda. Analisis menentukan jumlah 13 unsur yang ditemukan di masing-masing dari tiga jenis anggur.\n",
    "\n",
    "Dataset terdiri dari 13 fitur ('alcohol', 'malic_acid', 'ash', 'alcalinity_of_ash', 'magnesium', 'total_phenols', 'flavanoids', 'nonflavanoid_phenols', 'proanthocyanins', 'color_intensity', 'hue', 'od280/od315_of_diluted_wines', 'proline') dan target (jenis kultivar).\n",
    "\n",
    "Data ini memiliki tiga jenis kelas kultivar: 'class_0', 'class_1', dan 'class_2'. Di sini, kita dapat membuat model untuk mengklasifikasikan jenis kultivar. Dataset tersedia di pustaka scikit-learn, atau kita juga dapat mengunduhnya dari UCI Machine Learning Library.\n",
    "\n",
    "**Loading Data**\n",
    "\n",
    "Let's first load the required wine dataset from scikit-learn datasets."
   ]
  },
  {
   "cell_type": "code",
   "execution_count": 47,
   "id": "b3bff465",
   "metadata": {},
   "outputs": [],
   "source": [
    "# Import scikit-learn dataset library\n",
    "from sklearn import datasets\n",
    "\n",
    "# Load dataset\n",
    "wine = datasets.load_wine()"
   ]
  },
  {
   "cell_type": "markdown",
   "id": "2ce3521e",
   "metadata": {},
   "source": [
    "**Exploring Data**\n",
    "\n",
    "Setelah kita memuat set data, kita mungkin ingin tahu lebih banyak tentangnya. Kita dapat memeriksa fitur dan nama target."
   ]
  },
  {
   "cell_type": "code",
   "execution_count": 48,
   "id": "c5790a6e",
   "metadata": {},
   "outputs": [
    {
     "name": "stdout",
     "output_type": "stream",
     "text": [
      "['alcohol', 'malic_acid', 'ash', 'alcalinity_of_ash', 'magnesium', 'total_phenols', 'flavanoids', 'nonflavanoid_phenols', 'proanthocyanins', 'color_intensity', 'hue', 'od280/od315_of_diluted_wines', 'proline']\n"
     ]
    }
   ],
   "source": [
    "# Print the names of the features\n",
    "\n",
    "print(wine.feature_names)"
   ]
  },
  {
   "cell_type": "code",
   "execution_count": 49,
   "id": "6d881002",
   "metadata": {},
   "outputs": [
    {
     "name": "stdout",
     "output_type": "stream",
     "text": [
      "['class_0' 'class_1' 'class_2']\n"
     ]
    }
   ],
   "source": [
    "# Print the label species(class_0, class_1, class_2)\n",
    "print(wine.target_names)"
   ]
  },
  {
   "cell_type": "markdown",
   "id": "fdaed11a",
   "metadata": {},
   "source": [
    "Mari kita periksa 5 record teratas dari set feature."
   ]
  },
  {
   "cell_type": "code",
   "execution_count": 50,
   "id": "97c9e576",
   "metadata": {},
   "outputs": [
    {
     "name": "stdout",
     "output_type": "stream",
     "text": [
      "[[1.423e+01 1.710e+00 2.430e+00 1.560e+01 1.270e+02 2.800e+00 3.060e+00\n",
      "  2.800e-01 2.290e+00 5.640e+00 1.040e+00 3.920e+00 1.065e+03]\n",
      " [1.320e+01 1.780e+00 2.140e+00 1.120e+01 1.000e+02 2.650e+00 2.760e+00\n",
      "  2.600e-01 1.280e+00 4.380e+00 1.050e+00 3.400e+00 1.050e+03]\n",
      " [1.316e+01 2.360e+00 2.670e+00 1.860e+01 1.010e+02 2.800e+00 3.240e+00\n",
      "  3.000e-01 2.810e+00 5.680e+00 1.030e+00 3.170e+00 1.185e+03]\n",
      " [1.437e+01 1.950e+00 2.500e+00 1.680e+01 1.130e+02 3.850e+00 3.490e+00\n",
      "  2.400e-01 2.180e+00 7.800e+00 8.600e-01 3.450e+00 1.480e+03]\n",
      " [1.324e+01 2.590e+00 2.870e+00 2.100e+01 1.180e+02 2.800e+00 2.690e+00\n",
      "  3.900e-01 1.820e+00 4.320e+00 1.040e+00 2.930e+00 7.350e+02]]\n"
     ]
    }
   ],
   "source": [
    "print(wine.data[0:5])"
   ]
  },
  {
   "cell_type": "markdown",
   "id": "e03125ce",
   "metadata": {},
   "source": [
    "Mari kita periksa record set target"
   ]
  },
  {
   "cell_type": "code",
   "execution_count": 51,
   "id": "3d0a42c6",
   "metadata": {},
   "outputs": [
    {
     "name": "stdout",
     "output_type": "stream",
     "text": [
      "[0 0 0 0 0 0 0 0 0 0 0 0 0 0 0 0 0 0 0 0 0 0 0 0 0 0 0 0 0 0 0 0 0 0 0 0 0\n",
      " 0 0 0 0 0 0 0 0 0 0 0 0 0 0 0 0 0 0 0 0 0 0 1 1 1 1 1 1 1 1 1 1 1 1 1 1 1\n",
      " 1 1 1 1 1 1 1 1 1 1 1 1 1 1 1 1 1 1 1 1 1 1 1 1 1 1 1 1 1 1 1 1 1 1 1 1 1\n",
      " 1 1 1 1 1 1 1 1 1 1 1 1 1 1 1 1 1 1 1 2 2 2 2 2 2 2 2 2 2 2 2 2 2 2 2 2 2\n",
      " 2 2 2 2 2 2 2 2 2 2 2 2 2 2 2 2 2 2 2 2 2 2 2 2 2 2 2 2 2 2]\n"
     ]
    }
   ],
   "source": [
    "print(wine.target)"
   ]
  },
  {
   "cell_type": "markdown",
   "id": "b3eb5a3c",
   "metadata": {},
   "source": [
    "Mari kita jelajahi lebih banyak lagi. Kita juga dapat memeriksa bentuk kumpulan data menggunakan shape."
   ]
  },
  {
   "cell_type": "code",
   "execution_count": 52,
   "id": "7546b6bd",
   "metadata": {},
   "outputs": [
    {
     "name": "stdout",
     "output_type": "stream",
     "text": [
      "(178, 13)\n"
     ]
    }
   ],
   "source": [
    "# Print data(feature)shape\n",
    "print(wine.data.shape)"
   ]
  },
  {
   "cell_type": "code",
   "execution_count": 53,
   "id": "91a82ed4",
   "metadata": {},
   "outputs": [
    {
     "name": "stdout",
     "output_type": "stream",
     "text": [
      "(178,)\n"
     ]
    }
   ],
   "source": [
    "# Print target(or label)shape\n",
    "print(wine.target.shape)"
   ]
  },
  {
   "cell_type": "markdown",
   "id": "d1e55465",
   "metadata": {},
   "source": [
    "**Splitting Data**\n",
    "\n",
    "Untuk memahami performa model, membagi set data menjadi training set dan a test adalah strategi yang baik.\n",
    "\n",
    "Mari kita pisahkan dataset dengan menggunakan function `train_test_split()`. Kita harus meneruskan 3 parameter yaitu `features`, `target`, dan `test_set size`. Selain itu, kita dapat menggunakan `random_state` untuk memilih record secara acak."
   ]
  },
  {
   "cell_type": "code",
   "execution_count": 54,
   "id": "13f8f3ed",
   "metadata": {},
   "outputs": [],
   "source": [
    "# Import train_test_split function\n",
    "from sklearn.model_selection import train_test_split\n",
    "\n",
    "# Split dataset into training set and test set\n",
    "X_train, X_test, y_train, y_test = train_test_split(wine.data, wine.target, test_size=0.3) # 70% training, 30% test"
   ]
  },
  {
   "cell_type": "markdown",
   "id": "a19a0cd2",
   "metadata": {},
   "source": [
    "**Generating Model for k=5**\n",
    "\n",
    "Mari kita buat model pengklasifikasi K-NN untuk k = 5"
   ]
  },
  {
   "cell_type": "code",
   "execution_count": 55,
   "id": "9dd02ebd",
   "metadata": {},
   "outputs": [],
   "source": [
    "# Import k-nearest neighbors classifier model\n",
    "from sklearn.neighbors import KNeighborsClassifier\n",
    "\n",
    "# Create K-NN Classifier\n",
    "knn = KNeighborsClassifier(n_neighbors=5)\n",
    "\n",
    "# Train the model using the training sets\n",
    "knn.fit(X_train, y_train)\n",
    "\n",
    "# Predict the response for test dataset\n",
    "y_pred = knn.predict(X_test)"
   ]
  },
  {
   "cell_type": "markdown",
   "id": "eacd4755",
   "metadata": {},
   "source": [
    "**Model Evaluation for k=5**\n",
    "\n",
    "Mari kita perkirakan, seberapa akurat pengklasifikasi atau model dapat memprediksi jenis kultivar.\n",
    "\n",
    "Akurasi dapat dihitung dengan membandingkan actual test set values dan predicted values."
   ]
  },
  {
   "cell_type": "code",
   "execution_count": 56,
   "id": "aa8b8dad",
   "metadata": {},
   "outputs": [
    {
     "name": "stdout",
     "output_type": "stream",
     "text": [
      "Accuracy:  0.6296296296296297\n"
     ]
    }
   ],
   "source": [
    "# Import scikit-learn metrics module for accuracy calculation\n",
    "from sklearn import metrics\n",
    "\n",
    "# Model Accuracy, how often is the classifier correct?\n",
    "print('Accuracy: ', metrics.accuracy_score(y_test, y_pred))"
   ]
  },
  {
   "cell_type": "markdown",
   "id": "d06bedbc",
   "metadata": {},
   "source": [
    "Kita mendapatkan tingkat klasifikasi 62.96%\n",
    "\n",
    "Untuk evaluasi lebih lanjut, kita juga dapat membuat model untuk jumlah K tetangga yang berbeda.\n",
    "\n",
    "\n",
    "**Re-Generating Model for k=7**\n",
    "\n",
    "Mari kita buat model pengklasifikasi K-NN untuk k=7."
   ]
  },
  {
   "cell_type": "code",
   "execution_count": 58,
   "id": "6b2399c4",
   "metadata": {},
   "outputs": [],
   "source": [
    "# Import K-Nearest Neighbors Classifier Model\n",
    "from sklearn.neighbors import KNeighborsClassifier\n",
    "\n",
    "# Create K-NN Classifier\n",
    "knn = KNeighborsClassifier(n_neighbors=7)\n",
    "\n",
    "# Train the model using the training sets\n",
    "knn.fit(X_train, y_train)\n",
    "\n",
    "# Predict the response for test dataset\n",
    "y_pred = knn.predict(X_test)"
   ]
  },
  {
   "cell_type": "markdown",
   "id": "48eea741",
   "metadata": {},
   "source": [
    "Mari kita estimasi lagi, seberapa akurat pengklasifikasi atau model dapat memprediksi jenis kultivar untuk k=7."
   ]
  },
  {
   "cell_type": "code",
   "execution_count": 59,
   "id": "03cd1505",
   "metadata": {},
   "outputs": [
    {
     "name": "stdout",
     "output_type": "stream",
     "text": [
      "Accuracy:  0.6666666666666666\n"
     ]
    }
   ],
   "source": [
    "# Import scikit-learn metrics module for accuracy calculation\n",
    "from sklearn import metrics\n",
    "\n",
    "# Model Accuracy, how often is the classifier correct?\n",
    "print(\"Accuracy: \", metrics.accuracy_score(y_test, y_pred))"
   ]
  },
  {
   "cell_type": "markdown",
   "id": "25caddc9",
   "metadata": {},
   "source": [
    "Kita mendapatkan tingkat klasifikasi 66.66%\n",
    "\n",
    "Sekarang saatnya improve model dan mencari tahu nilai k yang optimal."
   ]
  },
  {
   "cell_type": "code",
   "execution_count": 60,
   "id": "baa44d7c",
   "metadata": {},
   "outputs": [],
   "source": [
    "error = []\n",
    "\n",
    "# Calculating error for K values between 1 and 40\n",
    "\n",
    "for i in range(1, 40):\n",
    "    knn = KNeighborsClassifier(n_neighbors=i)\n",
    "    knn.fit(X_train, y_train)\n",
    "    pred_i = knn.predict(X_test)\n",
    "    error.append(np.mean(pred_i != y_test))"
   ]
  },
  {
   "cell_type": "code",
   "execution_count": 62,
   "id": "b0ba0fe6",
   "metadata": {},
   "outputs": [
    {
     "data": {
      "text/plain": [
       "Text(0, 0.5, 'Error Mean')"
      ]
     },
     "execution_count": 62,
     "metadata": {},
     "output_type": "execute_result"
    },
    {
     "data": {
      "image/png": "[encoded data removed]",
      "text/plain": [
       "<Figure size 864x432 with 1 Axes>"
      ]
     },
     "metadata": {
      "needs_background": "light"
     },
     "output_type": "display_data"
    }
   ],
   "source": [
    "plt.figure(figsize=(12, 6))\n",
    "plt.plot(range(1, 40), \n",
    "         error, \n",
    "         color='red', \n",
    "         linestyle='dashed', \n",
    "         marker='o', \n",
    "         markerfacecolor='blue', \n",
    "         markersize=10\n",
    "        )\n",
    "plt.title('Error Rate K')\n",
    "plt.xlabel('K')\n",
    "plt.ylabel('Error Mean')"
   ]
  },
  {
   "cell_type": "markdown",
   "id": "d1e9ca6a",
   "metadata": {},
   "source": [
    "Dari plot tersebut terlihat bahwa error terkecil yang kita dapatkan adalah 0.26 pada k = 1."
   ]
  },
  {
   "cell_type": "code",
   "execution_count": 67,
   "id": "c5fb96b2",
   "metadata": {},
   "outputs": [
    {
     "name": "stdout",
     "output_type": "stream",
     "text": [
      "Accuracy:  0.7407407407407407\n"
     ]
    }
   ],
   "source": [
    "# Import K-Nearest Neighbors Classifier Model\n",
    "from sklearn.neighbors import KNeighborsClassifier\n",
    "\n",
    "# Create K-NN Classifier\n",
    "knn = KNeighborsClassifier(n_neighbors=1)\n",
    "\n",
    "# Train the model using the training sets\n",
    "knn.fit(X_train, y_train)\n",
    "\n",
    "# Predict the response for test dataset\n",
    "y_pred = knn.predict(X_test)\n",
    "\n",
    "# Import scikit-learn metrics module for accuracy calculation\n",
    "from sklearn import metrics\n",
    "\n",
    "# Model Accuracy, how often is the classifier correct?\n",
    "print(\"Accuracy: \", metrics.accuracy_score(y_test, y_pred))"
   ]
  },
  {
   "cell_type": "code",
   "execution_count": null,
   "id": "06ec01bf",
   "metadata": {},
   "outputs": [],
   "source": []
  }
 ],
 "metadata": {
  "kernelspec": {
   "display_name": "Python 3 (ipykernel)",
   "language": "python",
   "name": "python3"
  },
  "language_info": {
   "codemirror_mode": {
    "name": "ipython",
    "version": 3
   },
   "file_extension": ".py",
   "mimetype": "text/x-python",
   "name": "python",
   "nbconvert_exporter": "python",
   "pygments_lexer": "ipython3",
   "version": "3.9.7"
  },
  "toc": {
   "base_numbering": 1,
   "nav_menu": {},
   "number_sections": true,
   "sideBar": true,
   "skip_h1_title": false,
   "title_cell": "Table of Contents",
   "title_sidebar": "Contents",
   "toc_cell": false,
   "toc_position": {},
   "toc_section_display": true,
   "toc_window_display": false
  }
 },
 "nbformat": 4,
 "nbformat_minor": 5
}
